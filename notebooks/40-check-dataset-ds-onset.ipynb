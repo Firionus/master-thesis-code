{
 "cells": [
  {
   "cell_type": "code",
   "execution_count": 3,
   "id": "bc08a4a8-4e56-43dd-bfc9-c9534815c892",
   "metadata": {
    "execution": {
     "iopub.execute_input": "2024-08-22T07:37:59.433387Z",
     "iopub.status.busy": "2024-08-22T07:37:59.431119Z",
     "iopub.status.idle": "2024-08-22T07:37:59.462951Z",
     "shell.execute_reply": "2024-08-22T07:37:59.460707Z",
     "shell.execute_reply.started": "2024-08-22T07:37:59.433387Z"
    }
   },
   "outputs": [
    {
     "name": "stdout",
     "output_type": "stream",
     "text": [
      "The autoreload extension is already loaded. To reload it, use:\n",
      "  %reload_ext autoreload\n"
     ]
    }
   ],
   "source": [
    "%load_ext autoreload\n",
    "%autoreload 1\n",
    "%aimport src\n",
    "%aimport src.utils\n",
    "%aimport src.SdmIsmAnalysis\n",
    "%aimport src.SimpleSynthesis\n",
    "\n",
    "# display last assigned variable automatically\n",
    "from IPython.core.interactiveshell import InteractiveShell\n",
    "InteractiveShell.ast_node_interactivity = \"last_expr_or_assign\"\n",
    "\n",
    "%matplotlib inline\n",
    "from matplotlib.pyplot import *\n",
    "\n",
    "from src.utils import mygrid\n",
    "\n",
    "import seaborn as sns\n",
    "import polars as pl\n",
    "import numpy as np\n",
    "import scipy\n",
    "from pathlib import Path\n",
    "import os\n",
    "\n",
    "from src.SimpleSynthesis import SimpleSynthesis\n",
    "\n",
    "import pyfar as pf\n",
    "import sofar"
   ]
  },
  {
   "cell_type": "code",
   "execution_count": 2,
   "id": "747ec22a-1bca-422d-a970-b5481bda9ad6",
   "metadata": {
    "execution": {
     "iopub.execute_input": "2024-08-22T07:36:49.519463Z",
     "iopub.status.busy": "2024-08-22T07:36:49.518465Z",
     "iopub.status.idle": "2024-08-22T07:36:49.537874Z",
     "shell.execute_reply": "2024-08-22T07:36:49.535853Z",
     "shell.execute_reply.started": "2024-08-22T07:36:49.519463Z"
    }
   },
   "outputs": [
    {
     "data": {
      "text/plain": [
       "range(0, 5)"
      ]
     },
     "execution_count": 2,
     "metadata": {},
     "output_type": "execute_result"
    }
   ],
   "source": [
    "rooms = [\"HL05W\", \"HL06W\"]\n",
    "\n",
    "listeners = [\n",
    "    \"0.0X_0.0Y\",\n",
    "    \"3.0X_2.0Y\",\n",
    "    \"1.75X_-2.0Y\",\n",
    "    \"-1.75X_-3.0Y\",  # lower right corner in floor plan\n",
    "    \"-1.25X_0.0Y\",\n",
    "]\n",
    "\n",
    "sources = range(5)"
   ]
  },
  {
   "cell_type": "code",
   "execution_count": 4,
   "id": "0ae55db9-549c-43c1-9576-8efd6ae231ca",
   "metadata": {
    "execution": {
     "iopub.execute_input": "2024-08-22T07:38:40.821098Z",
     "iopub.status.busy": "2024-08-22T07:38:40.820064Z",
     "iopub.status.idle": "2024-08-22T07:38:40.835799Z",
     "shell.execute_reply": "2024-08-22T07:38:40.834775Z",
     "shell.execute_reply.started": "2024-08-22T07:38:40.821098Z"
    }
   },
   "outputs": [
    {
     "data": {
      "text/plain": [
       "WindowsPath('../data/external/zenodo.10450779')"
      ]
     },
     "execution_count": 4,
     "metadata": {},
     "output_type": "execute_result"
    }
   ],
   "source": [
    "main_path = Path(\"../data/external/zenodo.10450779\")"
   ]
  },
  {
   "cell_type": "code",
   "execution_count": 31,
   "id": "feffbdca-4277-4a6b-93f1-ecaf23898bbd",
   "metadata": {
    "execution": {
     "iopub.execute_input": "2024-08-22T10:05:09.142254Z",
     "iopub.status.busy": "2024-08-22T10:05:09.141255Z",
     "iopub.status.idle": "2024-08-22T10:05:12.379648Z",
     "shell.execute_reply": "2024-08-22T10:05:12.378637Z",
     "shell.execute_reply.started": "2024-08-22T10:05:09.142254Z"
    }
   },
   "outputs": [
    {
     "name": "stdout",
     "output_type": "stream",
     "text": [
      "..\\data\\external\\zenodo.10450779\\HL05W\\HL05W_0.0X_0.0Y.sofa\n",
      "..\\data\\external\\zenodo.10450779\\HL05W\\HL05W_3.0X_2.0Y.sofa\n",
      "..\\data\\external\\zenodo.10450779\\HL05W\\HL05W_1.75X_-2.0Y.sofa\n",
      "..\\data\\external\\zenodo.10450779\\HL05W\\HL05W_-1.75X_-3.0Y.sofa\n",
      "..\\data\\external\\zenodo.10450779\\HL05W\\HL05W_-1.25X_0.0Y.sofa\n",
      "..\\data\\external\\zenodo.10450779\\HL06W\\HL06W_0.0X_0.0Y.sofa\n",
      "..\\data\\external\\zenodo.10450779\\HL06W\\HL06W_3.0X_2.0Y.sofa\n",
      "..\\data\\external\\zenodo.10450779\\HL06W\\HL06W_1.75X_-2.0Y.sofa\n",
      "..\\data\\external\\zenodo.10450779\\HL06W\\HL06W_-1.75X_-3.0Y.sofa\n",
      "..\\data\\external\\zenodo.10450779\\HL06W\\HL06W_-1.25X_0.0Y.sofa\n"
     ]
    }
   ],
   "source": [
    "arr = []\n",
    "for room in rooms:\n",
    "    for listener in listeners:\n",
    "        filepath = main_path / room / f\"{room}_{listener}.sofa\"\n",
    "        print(filepath)\n",
    "        sofa = sofar.read_sofa_as_netcdf(filepath)\n",
    "        starts = np.abs(sofa.Data_IR[:, -1, 999])\n",
    "        maxs = np.max(np.abs(sofa.Data_IR[:, -1, :]), axis=-1)\n",
    "        for source in range(5):\n",
    "            arr.append({\n",
    "                \"room\": room,\n",
    "                \"listener\": listener,\n",
    "                \"start_level\": 20*np.log10(starts/maxs)[source],\n",
    "                \"prev_level\": 20*np.log10(np.abs(sofa.Data_IR[:, -1, 998])/maxs)[source],\n",
    "                \"post_level\": 20*np.log10(np.abs(sofa.Data_IR[:, -1, 1000])/maxs)[source],\n",
    "                \"source\": source,\n",
    "                \"naive_onset\": np.argmax(np.abs(sofa.Data_IR[source, -1, :]) > 0.1*maxs[source])\n",
    "            })"
   ]
  },
  {
   "cell_type": "code",
   "execution_count": 32,
   "id": "b4e462f7-d62b-4329-8b76-6657bc601d0d",
   "metadata": {
    "execution": {
     "iopub.execute_input": "2024-08-22T10:05:12.396034Z",
     "iopub.status.busy": "2024-08-22T10:05:12.396034Z",
     "iopub.status.idle": "2024-08-22T10:05:12.421797Z",
     "shell.execute_reply": "2024-08-22T10:05:12.420783Z",
     "shell.execute_reply.started": "2024-08-22T10:05:12.396034Z"
    }
   },
   "outputs": [
    {
     "data": {
      "text/html": [
       "<div><style>\n",
       ".dataframe > thead > tr,\n",
       ".dataframe > tbody > tr {\n",
       "  text-align: right;\n",
       "  white-space: pre-wrap;\n",
       "}\n",
       "</style>\n",
       "<small>shape: (50, 7)</small><table border=\"1\" class=\"dataframe\"><thead><tr><th>room</th><th>listener</th><th>start_level</th><th>prev_level</th><th>post_level</th><th>source</th><th>naive_onset</th></tr><tr><td>str</td><td>str</td><td>f64</td><td>f64</td><td>f64</td><td>i64</td><td>i64</td></tr></thead><tbody><tr><td>&quot;HL05W&quot;</td><td>&quot;0.0X_0.0Y&quot;</td><td>-18.162746</td><td>-33.432701</td><td>-16.839726</td><td>0</td><td>999</td></tr><tr><td>&quot;HL05W&quot;</td><td>&quot;0.0X_0.0Y&quot;</td><td>-19.730728</td><td>-21.540117</td><td>-18.083269</td><td>1</td><td>999</td></tr><tr><td>&quot;HL05W&quot;</td><td>&quot;0.0X_0.0Y&quot;</td><td>-14.008221</td><td>-34.838652</td><td>-1.578823</td><td>2</td><td>999</td></tr><tr><td>&quot;HL05W&quot;</td><td>&quot;0.0X_0.0Y&quot;</td><td>-19.860269</td><td>-20.489427</td><td>-18.652082</td><td>3</td><td>999</td></tr><tr><td>&quot;HL05W&quot;</td><td>&quot;0.0X_0.0Y&quot;</td><td>-18.864267</td><td>-46.626039</td><td>-24.747879</td><td>4</td><td>999</td></tr><tr><td>&hellip;</td><td>&hellip;</td><td>&hellip;</td><td>&hellip;</td><td>&hellip;</td><td>&hellip;</td><td>&hellip;</td></tr><tr><td>&quot;HL06W&quot;</td><td>&quot;-1.25X_0.0Y&quot;</td><td>-19.261009</td><td>-21.138386</td><td>-17.832395</td><td>0</td><td>999</td></tr><tr><td>&quot;HL06W&quot;</td><td>&quot;-1.25X_0.0Y&quot;</td><td>-17.167181</td><td>-21.218368</td><td>-14.199642</td><td>1</td><td>999</td></tr><tr><td>&quot;HL06W&quot;</td><td>&quot;-1.25X_0.0Y&quot;</td><td>-12.354103</td><td>-23.097341</td><td>-3.288207</td><td>2</td><td>999</td></tr><tr><td>&quot;HL06W&quot;</td><td>&quot;-1.25X_0.0Y&quot;</td><td>-0.575829</td><td>-23.793462</td><td>-5.021137</td><td>3</td><td>999</td></tr><tr><td>&quot;HL06W&quot;</td><td>&quot;-1.25X_0.0Y&quot;</td><td>-19.523682</td><td>-24.561253</td><td>-19.490722</td><td>4</td><td>999</td></tr></tbody></table></div>"
      ],
      "text/plain": [
       "shape: (50, 7)\n",
       "┌───────┬─────────────┬─────────────┬────────────┬────────────┬────────┬─────────────┐\n",
       "│ room  ┆ listener    ┆ start_level ┆ prev_level ┆ post_level ┆ source ┆ naive_onset │\n",
       "│ ---   ┆ ---         ┆ ---         ┆ ---        ┆ ---        ┆ ---    ┆ ---         │\n",
       "│ str   ┆ str         ┆ f64         ┆ f64        ┆ f64        ┆ i64    ┆ i64         │\n",
       "╞═══════╪═════════════╪═════════════╪════════════╪════════════╪════════╪═════════════╡\n",
       "│ HL05W ┆ 0.0X_0.0Y   ┆ -18.162746  ┆ -33.432701 ┆ -16.839726 ┆ 0      ┆ 999         │\n",
       "│ HL05W ┆ 0.0X_0.0Y   ┆ -19.730728  ┆ -21.540117 ┆ -18.083269 ┆ 1      ┆ 999         │\n",
       "│ HL05W ┆ 0.0X_0.0Y   ┆ -14.008221  ┆ -34.838652 ┆ -1.578823  ┆ 2      ┆ 999         │\n",
       "│ HL05W ┆ 0.0X_0.0Y   ┆ -19.860269  ┆ -20.489427 ┆ -18.652082 ┆ 3      ┆ 999         │\n",
       "│ HL05W ┆ 0.0X_0.0Y   ┆ -18.864267  ┆ -46.626039 ┆ -24.747879 ┆ 4      ┆ 999         │\n",
       "│ …     ┆ …           ┆ …           ┆ …          ┆ …          ┆ …      ┆ …           │\n",
       "│ HL06W ┆ -1.25X_0.0Y ┆ -19.261009  ┆ -21.138386 ┆ -17.832395 ┆ 0      ┆ 999         │\n",
       "│ HL06W ┆ -1.25X_0.0Y ┆ -17.167181  ┆ -21.218368 ┆ -14.199642 ┆ 1      ┆ 999         │\n",
       "│ HL06W ┆ -1.25X_0.0Y ┆ -12.354103  ┆ -23.097341 ┆ -3.288207  ┆ 2      ┆ 999         │\n",
       "│ HL06W ┆ -1.25X_0.0Y ┆ -0.575829   ┆ -23.793462 ┆ -5.021137  ┆ 3      ┆ 999         │\n",
       "│ HL06W ┆ -1.25X_0.0Y ┆ -19.523682  ┆ -24.561253 ┆ -19.490722 ┆ 4      ┆ 999         │\n",
       "└───────┴─────────────┴─────────────┴────────────┴────────────┴────────┴─────────────┘"
      ]
     },
     "execution_count": 32,
     "metadata": {},
     "output_type": "execute_result"
    }
   ],
   "source": [
    "df = pl.DataFrame(arr)"
   ]
  },
  {
   "cell_type": "code",
   "execution_count": 33,
   "id": "6eb33b5b-1441-44a3-8b5b-842b2d86bed3",
   "metadata": {
    "execution": {
     "iopub.execute_input": "2024-08-22T10:05:12.493577Z",
     "iopub.status.busy": "2024-08-22T10:05:12.492579Z",
     "iopub.status.idle": "2024-08-22T10:05:12.521317Z",
     "shell.execute_reply": "2024-08-22T10:05:12.520018Z",
     "shell.execute_reply.started": "2024-08-22T10:05:12.493577Z"
    }
   },
   "outputs": [
    {
     "data": {
      "text/html": [
       "<div><style>\n",
       ".dataframe > thead > tr,\n",
       ".dataframe > tbody > tr {\n",
       "  text-align: right;\n",
       "  white-space: pre-wrap;\n",
       "}\n",
       "</style>\n",
       "<small>shape: (9, 8)</small><table border=\"1\" class=\"dataframe\"><thead><tr><th>statistic</th><th>room</th><th>listener</th><th>start_level</th><th>prev_level</th><th>post_level</th><th>source</th><th>naive_onset</th></tr><tr><td>str</td><td>str</td><td>str</td><td>f64</td><td>f64</td><td>f64</td><td>f64</td><td>f64</td></tr></thead><tbody><tr><td>&quot;count&quot;</td><td>&quot;50&quot;</td><td>&quot;50&quot;</td><td>50.0</td><td>50.0</td><td>50.0</td><td>50.0</td><td>50.0</td></tr><tr><td>&quot;null_count&quot;</td><td>&quot;0&quot;</td><td>&quot;0&quot;</td><td>0.0</td><td>0.0</td><td>0.0</td><td>0.0</td><td>0.0</td></tr><tr><td>&quot;mean&quot;</td><td>null</td><td>null</td><td>-14.157708</td><td>-26.375929</td><td>-14.112988</td><td>2.0</td><td>999.0</td></tr><tr><td>&quot;std&quot;</td><td>null</td><td>null</td><td>6.446042</td><td>7.288226</td><td>9.364261</td><td>1.428571</td><td>0.0</td></tr><tr><td>&quot;min&quot;</td><td>&quot;HL05W&quot;</td><td>&quot;-1.25X_0.0Y&quot;</td><td>-19.949325</td><td>-47.765506</td><td>-39.57227</td><td>0.0</td><td>999.0</td></tr><tr><td>&quot;25%&quot;</td><td>null</td><td>null</td><td>-19.36311</td><td>-28.133139</td><td>-18.262627</td><td>1.0</td><td>999.0</td></tr><tr><td>&quot;50%&quot;</td><td>null</td><td>null</td><td>-17.167181</td><td>-24.153493</td><td>-14.363874</td><td>2.0</td><td>999.0</td></tr><tr><td>&quot;75%&quot;</td><td>null</td><td>null</td><td>-11.705689</td><td>-21.335636</td><td>-5.43016</td><td>3.0</td><td>999.0</td></tr><tr><td>&quot;max&quot;</td><td>&quot;HL06W&quot;</td><td>&quot;3.0X_2.0Y&quot;</td><td>0.0</td><td>-20.15392</td><td>0.0</td><td>4.0</td><td>999.0</td></tr></tbody></table></div>"
      ],
      "text/plain": [
       "shape: (9, 8)\n",
       "┌────────────┬───────┬─────────────┬─────────────┬────────────┬────────────┬──────────┬─────────────┐\n",
       "│ statistic  ┆ room  ┆ listener    ┆ start_level ┆ prev_level ┆ post_level ┆ source   ┆ naive_onset │\n",
       "│ ---        ┆ ---   ┆ ---         ┆ ---         ┆ ---        ┆ ---        ┆ ---      ┆ ---         │\n",
       "│ str        ┆ str   ┆ str         ┆ f64         ┆ f64        ┆ f64        ┆ f64      ┆ f64         │\n",
       "╞════════════╪═══════╪═════════════╪═════════════╪════════════╪════════════╪══════════╪═════════════╡\n",
       "│ count      ┆ 50    ┆ 50          ┆ 50.0        ┆ 50.0       ┆ 50.0       ┆ 50.0     ┆ 50.0        │\n",
       "│ null_count ┆ 0     ┆ 0           ┆ 0.0         ┆ 0.0        ┆ 0.0        ┆ 0.0      ┆ 0.0         │\n",
       "│ mean       ┆ null  ┆ null        ┆ -14.157708  ┆ -26.375929 ┆ -14.112988 ┆ 2.0      ┆ 999.0       │\n",
       "│ std        ┆ null  ┆ null        ┆ 6.446042    ┆ 7.288226   ┆ 9.364261   ┆ 1.428571 ┆ 0.0         │\n",
       "│ min        ┆ HL05W ┆ -1.25X_0.0Y ┆ -19.949325  ┆ -47.765506 ┆ -39.57227  ┆ 0.0      ┆ 999.0       │\n",
       "│ 25%        ┆ null  ┆ null        ┆ -19.36311   ┆ -28.133139 ┆ -18.262627 ┆ 1.0      ┆ 999.0       │\n",
       "│ 50%        ┆ null  ┆ null        ┆ -17.167181  ┆ -24.153493 ┆ -14.363874 ┆ 2.0      ┆ 999.0       │\n",
       "│ 75%        ┆ null  ┆ null        ┆ -11.705689  ┆ -21.335636 ┆ -5.43016   ┆ 3.0      ┆ 999.0       │\n",
       "│ max        ┆ HL06W ┆ 3.0X_2.0Y   ┆ 0.0         ┆ -20.15392  ┆ 0.0        ┆ 4.0      ┆ 999.0       │\n",
       "└────────────┴───────┴─────────────┴─────────────┴────────────┴────────────┴──────────┴─────────────┘"
      ]
     },
     "execution_count": 33,
     "metadata": {},
     "output_type": "execute_result"
    }
   ],
   "source": [
    "df.describe()"
   ]
  },
  {
   "cell_type": "markdown",
   "id": "f4ac713c-214c-41d5-8083-27fb00a1bc7e",
   "metadata": {},
   "source": [
    "Since naive onset is always 999, I think we confirm how this was time aligned: The first sample above the threshold of -20 dB rel abs max at index 999 (MATLAB 1000)."
   ]
  },
  {
   "cell_type": "code",
   "execution_count": null,
   "id": "d3d1c733-f2cd-4f05-b510-25fae2cd56f1",
   "metadata": {},
   "outputs": [],
   "source": []
  }
 ],
 "metadata": {
  "kernelspec": {
   "display_name": "Python (local .venv)",
   "language": "python",
   "name": "python-localvenv"
  },
  "language_info": {
   "codemirror_mode": {
    "name": "ipython",
    "version": 3
   },
   "file_extension": ".py",
   "mimetype": "text/x-python",
   "name": "python",
   "nbconvert_exporter": "python",
   "pygments_lexer": "ipython3",
   "version": "3.11.8"
  }
 },
 "nbformat": 4,
 "nbformat_minor": 5
}
