{
 "cells": [
  {
   "cell_type": "code",
   "execution_count": 2,
   "id": "8bf3f0f1-ad86-4e5f-af39-16e754b96e5d",
   "metadata": {
    "execution": {
     "iopub.execute_input": "2024-08-19T13:46:40.917639Z",
     "iopub.status.busy": "2024-08-19T13:46:40.916571Z",
     "iopub.status.idle": "2024-08-19T13:46:40.932116Z",
     "shell.execute_reply": "2024-08-19T13:46:40.930578Z",
     "shell.execute_reply.started": "2024-08-19T13:46:40.917639Z"
    }
   },
   "outputs": [],
   "source": [
    "import pyperclip"
   ]
  },
  {
   "cell_type": "markdown",
   "id": "6eee3432-b65d-404a-93c5-670cc896bd63",
   "metadata": {},
   "source": [
    "# MUSHRA v1"
   ]
  },
  {
   "cell_type": "code",
   "execution_count": 3,
   "id": "6cdc7812-6006-4227-9b9e-0b4bb93bea34",
   "metadata": {
    "execution": {
     "iopub.execute_input": "2024-08-19T13:46:43.405564Z",
     "iopub.status.busy": "2024-08-19T13:46:43.404566Z",
     "iopub.status.idle": "2024-08-19T13:46:43.415550Z",
     "shell.execute_reply": "2024-08-19T13:46:43.414517Z",
     "shell.execute_reply.started": "2024-08-19T13:46:43.405564Z"
    }
   },
   "outputs": [],
   "source": [
    "arr = [f\"\"\"\n",
    "    - type: mushra\n",
    "      id: test{i+1}\n",
    "      name: Test {i+1}\n",
    "      content: This training shows how to use our user interface. Please perform the underlined instructions to proceed with the training session. Reminder: In a MUSHRA listening test you are asked to rate the Basic Audio Quality (BAQ) of each condition.<br/>Basic Audio Quality is a single and global attribute that is used to judge any and all detected differences between the reference and the condition.\n",
    "      showWaveform: true\n",
    "      enableLooping: false\n",
    "      reference: audio/{i+2:02}-reference.wav\n",
    "      createAnchor35: false\n",
    "      createAnchor70: false\n",
    "      randomize: true\n",
    "      showConditionNames: true # TODO change before test\n",
    "      stimuli:\n",
    "          bad: audio/{i+2:02}-bad.wav\n",
    "          bad_filtered: audio/{i+2:02}-bad_filtered.wav\n",
    "          good: audio/{i+2:02}-good.wav\n",
    "          good_filtered: audio/{i+2:02}-good_filtered.wav\n",
    "          lower_anchor: audio/{i+2:02}-lower_anchor.wav\n",
    "          mid_anchor: audio/{i+2:02}-mid_anchor.wav\n",
    "          nonextrapolating: audio/{i+2:02}-nonextrapolating.wav\n",
    "\"\"\" for i in range(0,18)]"
   ]
  },
  {
   "cell_type": "code",
   "execution_count": 4,
   "id": "7f983535-f8c2-43f5-bb0f-a64932df326e",
   "metadata": {
    "execution": {
     "iopub.execute_input": "2024-08-19T13:46:56.265703Z",
     "iopub.status.busy": "2024-08-19T13:46:56.265703Z",
     "iopub.status.idle": "2024-08-19T13:46:56.283977Z",
     "shell.execute_reply": "2024-08-19T13:46:56.282964Z",
     "shell.execute_reply.started": "2024-08-19T13:46:56.265703Z"
    }
   },
   "outputs": [],
   "source": [
    "pyperclip.copy(\"\".join(arr))"
   ]
  },
  {
   "cell_type": "markdown",
   "id": "9e5d8034-7dd3-4305-8507-5568279b05dd",
   "metadata": {},
   "source": [
    "# BS.1116"
   ]
  },
  {
   "cell_type": "code",
   "execution_count": 13,
   "id": "93205e04-f24b-4e7c-b462-59342040c053",
   "metadata": {
    "execution": {
     "iopub.execute_input": "2024-08-19T10:40:36.923325Z",
     "iopub.status.busy": "2024-08-19T10:40:36.923325Z",
     "iopub.status.idle": "2024-08-19T10:40:36.929655Z",
     "shell.execute_reply": "2024-08-19T10:40:36.928644Z",
     "shell.execute_reply.started": "2024-08-19T10:40:36.923325Z"
    }
   },
   "outputs": [],
   "source": [
    "arr = [f\"\"\"\n",
    "    - type: bs1116\n",
    "      id: trial{i}\n",
    "      name: Nonextrapolating AB {i}/19\n",
    "      content: test description\n",
    "      showWaveform: true\n",
    "      enableLooping: false \n",
    "      reference: audio/{i:02}-reference.wav\n",
    "      createAnchor35: false\n",
    "      createAnchor70: false\n",
    "      stimuli:\n",
    "          C1: audio/{i:02}-nonextrapolating.wav\n",
    "\"\"\" for i in range(20)]"
   ]
  },
  {
   "cell_type": "code",
   "execution_count": 4,
   "id": "7644b9ea-0086-4bd8-b7f5-5fd830247f3f",
   "metadata": {
    "execution": {
     "iopub.execute_input": "2024-08-19T13:46:56.265703Z",
     "iopub.status.busy": "2024-08-19T13:46:56.265703Z",
     "iopub.status.idle": "2024-08-19T13:46:56.283977Z",
     "shell.execute_reply": "2024-08-19T13:46:56.282964Z",
     "shell.execute_reply.started": "2024-08-19T13:46:56.265703Z"
    }
   },
   "outputs": [],
   "source": [
    "pyperclip.copy(\"\".join(arr))"
   ]
  },
  {
   "cell_type": "markdown",
   "id": "a620b393-c73b-4edf-b103-fbdeb90e2729",
   "metadata": {},
   "source": [
    "# MUSHRA v2"
   ]
  },
  {
   "cell_type": "code",
   "execution_count": 71,
   "id": "dd78b53b-2229-4680-b2cb-92e5e86a68cf",
   "metadata": {
    "execution": {
     "iopub.execute_input": "2024-08-20T13:17:02.794649Z",
     "iopub.status.busy": "2024-08-20T13:17:02.794649Z",
     "iopub.status.idle": "2024-08-20T13:17:02.810214Z",
     "shell.execute_reply": "2024-08-20T13:17:02.809207Z",
     "shell.execute_reply.started": "2024-08-20T13:17:02.794649Z"
    }
   },
   "outputs": [],
   "source": [
    "task = \"\"\"1. Halte deinen Kopf während dem Hören ruhig. \n",
    "\n",
    "2. Bewerte die Ähnlichkeit der Signale zur Referenz: \n",
    "- Excellent - Exzellente Ähnlichkeit zur Referenz\n",
    "- Good - Gute Ähnlichkeit zur Referenz\n",
    "- Fair - einigermaßen gute Ähnlichkeit zur Referenz\n",
    "- Poor - bescheidene Ähnlichkeit zur Referenz\n",
    "- Bad - Schlechte Ähnlichkeit zur Referenz\n",
    "\n",
    "Die Reihenfolge der Signale ist zufällig, eines davon ist identisch zur Referenz. \n",
    "\n",
    "Bewerte immer so, wie du es hörst - du kannst nichts falsch machen!\n",
    "\n",
    "3. Berücksichtige alle drei Kriterien in deiner Wertung:\n",
    "- Klangfarbe und Dynamik\n",
    "- Raum und Zeitverhalten\n",
    "- Geometrie\"\"\".replace(\"\\n\", \"<br>\")\n",
    "\n",
    "arr = [f'''\n",
    "  - type: mushra\n",
    "    id: trial{i}\n",
    "    name: Test {idx-1}\n",
    "    content: {task}\n",
    "    showWaveform: true\n",
    "    enableLooping: false\n",
    "    reference: audio2/{i:02}-reference.wav\n",
    "    createAnchor35: false\n",
    "    createAnchor70: false\n",
    "    randomize: true\n",
    "    showConditionNames: false\n",
    "    stimuli:\n",
    "      bad: audio2/{i:02}-bad.wav\n",
    "      bad_filtered: audio2/{i:02}-bad_filtered.wav\n",
    "      lower_anchor: audio2/{i:02}-lower_anchor.wav\n",
    "      mid_anchor: audio2/{i:02}-mid_anchor.wav\n",
    "  - type: generic\n",
    "    id: questionnaire{i}\n",
    "    name: Fragebogen Test {idx-1}\n",
    "    content: Wechsle zum Fragebogen für Test {idx-1}. \n",
    "''' for (idx, i) in enumerate([14, 11, 0, 1, 2, 3, 4, 5, 6, 7, 8, 9, 10, 13, 12, 15, 16, 17, 18, 19])\n",
    "]\n",
    "arr.insert(11, f'''\n",
    "  - type: generic\n",
    "    id: pause\n",
    "    name: Pause\n",
    "    content: Die Hälfte ist geschafft, Zeit für eine kurze Pause! Wenn du möchtest, stehe kurz auf, strecke dich oder bewege deinen Hals ein wenig. Dann geht's weiter. \n",
    "''')\n",
    "s = \"\".join(arr).replace(\"Test -1\", \"Training 1\").replace(\"Test 0\", \"Training 2\")\n",
    "pyperclip.copy(s)"
   ]
  },
  {
   "cell_type": "code",
   "execution_count": null,
   "id": "b7b7a9b9-51a7-4de2-9540-97b10c820320",
   "metadata": {},
   "outputs": [],
   "source": []
  }
 ],
 "metadata": {
  "kernelspec": {
   "display_name": "Python (local .venv)",
   "language": "python",
   "name": "python-localvenv"
  },
  "language_info": {
   "codemirror_mode": {
    "name": "ipython",
    "version": 3
   },
   "file_extension": ".py",
   "mimetype": "text/x-python",
   "name": "python",
   "nbconvert_exporter": "python",
   "pygments_lexer": "ipython3",
   "version": "3.11.8"
  }
 },
 "nbformat": 4,
 "nbformat_minor": 5
}
