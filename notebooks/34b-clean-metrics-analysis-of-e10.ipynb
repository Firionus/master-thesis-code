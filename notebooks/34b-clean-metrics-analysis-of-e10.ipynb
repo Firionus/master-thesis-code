{
 "cells": [
  {
   "cell_type": "code",
   "execution_count": 315,
   "id": "350e8376-b700-4860-ab58-6e5b04cd491a",
   "metadata": {
    "execution": {
     "iopub.execute_input": "2024-08-29T07:51:47.220257Z",
     "iopub.status.busy": "2024-08-29T07:51:47.219751Z",
     "iopub.status.idle": "2024-08-29T07:51:47.240547Z",
     "shell.execute_reply": "2024-08-29T07:51:47.239536Z",
     "shell.execute_reply.started": "2024-08-29T07:51:47.220257Z"
    }
   },
   "outputs": [
    {
     "name": "stdout",
     "output_type": "stream",
     "text": [
      "The autoreload extension is already loaded. To reload it, use:\n",
      "  %reload_ext autoreload\n"
     ]
    }
   ],
   "source": [
    "%load_ext autoreload\n",
    "%autoreload 1\n",
    "%aimport src\n",
    "%aimport src.utils\n",
    "%aimport src.SdmIsmAnalysis\n",
    "%aimport src.SimpleSynthesis\n",
    "\n",
    "# display last assigned variable automatically\n",
    "from IPython.core.interactiveshell import InteractiveShell\n",
    "InteractiveShell.ast_node_interactivity = \"last_expr_or_assign\"\n",
    "\n",
    "%matplotlib inline\n",
    "from matplotlib.pyplot import *\n",
    "\n",
    "from src.utils import mygrid\n",
    "\n",
    "import seaborn as sns\n",
    "import polars as pl\n",
    "import numpy as np\n",
    "import scipy\n",
    "from pathlib import Path\n",
    "\n",
    "from unittest.mock import Mock\n",
    "import pyperclip\n",
    "import functools"
   ]
  },
  {
   "cell_type": "code",
   "execution_count": 21,
   "id": "9b9d89dd-68f9-4127-9a3b-1da20c203057",
   "metadata": {
    "execution": {
     "iopub.execute_input": "2024-08-27T18:04:46.186949Z",
     "iopub.status.busy": "2024-08-27T18:04:46.186949Z",
     "iopub.status.idle": "2024-08-27T18:04:46.195037Z",
     "shell.execute_reply": "2024-08-27T18:04:46.195037Z",
     "shell.execute_reply.started": "2024-08-27T18:04:46.186949Z"
    }
   },
   "outputs": [
    {
     "data": {
      "text/plain": [
       "range(0, 5)"
      ]
     },
     "execution_count": 21,
     "metadata": {},
     "output_type": "execute_result"
    }
   ],
   "source": [
    "rooms = [\"HL05W\", \"HL06W\"]\n",
    "\n",
    "listeners = [\n",
    "    \"0.0X_0.0Y\",\n",
    "    \"3.0X_2.0Y\",\n",
    "    \"1.75X_-2.0Y\",\n",
    "    \"-1.75X_-3.0Y\",  # lower right corner in floor plan\n",
    "    \"-1.25X_0.0Y\",\n",
    "]\n",
    "\n",
    "sources = range(5)"
   ]
  },
  {
   "cell_type": "code",
   "execution_count": 22,
   "id": "3655522b-dd1e-4792-8def-39ed5219234e",
   "metadata": {
    "execution": {
     "iopub.execute_input": "2024-08-27T18:04:46.698902Z",
     "iopub.status.busy": "2024-08-27T18:04:46.697396Z",
     "iopub.status.idle": "2024-08-27T18:04:46.705270Z",
     "shell.execute_reply": "2024-08-27T18:04:46.705170Z",
     "shell.execute_reply.started": "2024-08-27T18:04:46.698902Z"
    }
   },
   "outputs": [
    {
     "data": {
      "text/plain": [
       "WindowsPath('../data/processed/analysis_e10_full_run2')"
      ]
     },
     "execution_count": 22,
     "metadata": {},
     "output_type": "execute_result"
    }
   ],
   "source": [
    "main_path = Path(\"../data/processed/analysis_e10_full_run2\")"
   ]
  },
  {
   "cell_type": "code",
   "execution_count": 32,
   "id": "d7bef275-66d3-483d-8c7e-ed67595b1134",
   "metadata": {
    "execution": {
     "iopub.execute_input": "2024-08-27T18:07:18.097545Z",
     "iopub.status.busy": "2024-08-27T18:07:18.096545Z",
     "iopub.status.idle": "2024-08-27T18:07:19.591226Z",
     "shell.execute_reply": "2024-08-27T18:07:19.590211Z",
     "shell.execute_reply.started": "2024-08-27T18:07:18.097545Z"
    }
   },
   "outputs": [
    {
     "name": "stdout",
     "output_type": "stream",
     "text": [
      "..\\data\\processed\\analysis_e10_full_run2\\HL05W_0.0X_0.0Y_0SRC\n",
      "..\\data\\processed\\analysis_e10_full_run2\\HL05W_0.0X_0.0Y_1SRC\n",
      "..\\data\\processed\\analysis_e10_full_run2\\HL05W_0.0X_0.0Y_2SRC\n",
      "..\\data\\processed\\analysis_e10_full_run2\\HL05W_0.0X_0.0Y_3SRC\n",
      "..\\data\\processed\\analysis_e10_full_run2\\HL05W_0.0X_0.0Y_4SRC\n",
      "..\\data\\processed\\analysis_e10_full_run2\\HL05W_3.0X_2.0Y_0SRC\n",
      "..\\data\\processed\\analysis_e10_full_run2\\HL05W_3.0X_2.0Y_1SRC\n",
      "..\\data\\processed\\analysis_e10_full_run2\\HL05W_3.0X_2.0Y_2SRC\n",
      "..\\data\\processed\\analysis_e10_full_run2\\HL05W_3.0X_2.0Y_3SRC\n",
      "..\\data\\processed\\analysis_e10_full_run2\\HL05W_3.0X_2.0Y_4SRC\n",
      "..\\data\\processed\\analysis_e10_full_run2\\HL05W_1.75X_-2.0Y_0SRC\n",
      "..\\data\\processed\\analysis_e10_full_run2\\HL05W_1.75X_-2.0Y_1SRC\n",
      "..\\data\\processed\\analysis_e10_full_run2\\HL05W_1.75X_-2.0Y_2SRC\n",
      "..\\data\\processed\\analysis_e10_full_run2\\HL05W_1.75X_-2.0Y_3SRC\n",
      "..\\data\\processed\\analysis_e10_full_run2\\HL05W_1.75X_-2.0Y_4SRC\n",
      "..\\data\\processed\\analysis_e10_full_run2\\HL05W_-1.75X_-3.0Y_0SRC\n",
      "..\\data\\processed\\analysis_e10_full_run2\\HL05W_-1.75X_-3.0Y_1SRC\n",
      "..\\data\\processed\\analysis_e10_full_run2\\HL05W_-1.75X_-3.0Y_2SRC\n",
      "..\\data\\processed\\analysis_e10_full_run2\\HL05W_-1.75X_-3.0Y_3SRC\n",
      "..\\data\\processed\\analysis_e10_full_run2\\HL05W_-1.75X_-3.0Y_4SRC\n",
      "..\\data\\processed\\analysis_e10_full_run2\\HL05W_-1.25X_0.0Y_0SRC\n",
      "..\\data\\processed\\analysis_e10_full_run2\\HL05W_-1.25X_0.0Y_1SRC\n",
      "..\\data\\processed\\analysis_e10_full_run2\\HL05W_-1.25X_0.0Y_2SRC\n",
      "..\\data\\processed\\analysis_e10_full_run2\\HL05W_-1.25X_0.0Y_3SRC\n",
      "..\\data\\processed\\analysis_e10_full_run2\\HL05W_-1.25X_0.0Y_4SRC\n",
      "..\\data\\processed\\analysis_e10_full_run2\\HL06W_0.0X_0.0Y_0SRC\n",
      "..\\data\\processed\\analysis_e10_full_run2\\HL06W_0.0X_0.0Y_1SRC\n",
      "..\\data\\processed\\analysis_e10_full_run2\\HL06W_0.0X_0.0Y_2SRC\n",
      "..\\data\\processed\\analysis_e10_full_run2\\HL06W_0.0X_0.0Y_3SRC\n",
      "..\\data\\processed\\analysis_e10_full_run2\\HL06W_0.0X_0.0Y_4SRC\n",
      "..\\data\\processed\\analysis_e10_full_run2\\HL06W_3.0X_2.0Y_0SRC\n",
      "..\\data\\processed\\analysis_e10_full_run2\\HL06W_3.0X_2.0Y_1SRC\n",
      "..\\data\\processed\\analysis_e10_full_run2\\HL06W_3.0X_2.0Y_2SRC\n",
      "..\\data\\processed\\analysis_e10_full_run2\\HL06W_3.0X_2.0Y_3SRC\n",
      "..\\data\\processed\\analysis_e10_full_run2\\HL06W_3.0X_2.0Y_4SRC\n",
      "..\\data\\processed\\analysis_e10_full_run2\\HL06W_1.75X_-2.0Y_0SRC\n",
      "..\\data\\processed\\analysis_e10_full_run2\\HL06W_1.75X_-2.0Y_1SRC\n",
      "..\\data\\processed\\analysis_e10_full_run2\\HL06W_1.75X_-2.0Y_2SRC\n",
      "..\\data\\processed\\analysis_e10_full_run2\\HL06W_1.75X_-2.0Y_3SRC\n",
      "..\\data\\processed\\analysis_e10_full_run2\\HL06W_1.75X_-2.0Y_4SRC\n",
      "..\\data\\processed\\analysis_e10_full_run2\\HL06W_-1.75X_-3.0Y_0SRC\n",
      "..\\data\\processed\\analysis_e10_full_run2\\HL06W_-1.75X_-3.0Y_1SRC\n",
      "..\\data\\processed\\analysis_e10_full_run2\\HL06W_-1.75X_-3.0Y_2SRC\n",
      "..\\data\\processed\\analysis_e10_full_run2\\HL06W_-1.75X_-3.0Y_3SRC\n",
      "..\\data\\processed\\analysis_e10_full_run2\\HL06W_-1.75X_-3.0Y_4SRC\n",
      "..\\data\\processed\\analysis_e10_full_run2\\HL06W_-1.25X_0.0Y_0SRC\n",
      "..\\data\\processed\\analysis_e10_full_run2\\HL06W_-1.25X_0.0Y_1SRC\n",
      "..\\data\\processed\\analysis_e10_full_run2\\HL06W_-1.25X_0.0Y_2SRC\n",
      "..\\data\\processed\\analysis_e10_full_run2\\HL06W_-1.25X_0.0Y_3SRC\n",
      "..\\data\\processed\\analysis_e10_full_run2\\HL06W_-1.25X_0.0Y_4SRC\n",
      "1250\n"
     ]
    }
   ],
   "source": [
    "counter = 0\n",
    "presynth_dfs = []\n",
    "quality_dfs = []\n",
    "\n",
    "for room in rooms:\n",
    "    for from_listener in listeners:\n",
    "        for from_source in sources:\n",
    "            from_name = f\"{room}_{from_listener}_{from_source}SRC\"\n",
    "            from_path = main_path / from_name\n",
    "            print(from_path)\n",
    "            new_df = pl.read_parquet(from_path / \"runs.parquet\").with_row_index(\"index\").with_columns(room=pl.lit(room), from_listener=pl.lit(from_listener), from_source=pl.lit(from_source))\n",
    "            presynth_dfs.append(new_df)\n",
    "            for to_listener in listeners:\n",
    "                for to_source in sources:\n",
    "                    save_path = from_path / \"extrapolation_quality\"\n",
    "                    to_name = f\"{room}_{to_listener}_{to_source}SRC\"\n",
    "                    new_df = pl.read_parquet(save_path / to_name).with_columns(\n",
    "                        room=pl.lit(room), \n",
    "                        from_listener=pl.lit(from_listener), \n",
    "                        from_source=pl.lit(from_source), \n",
    "                        to_listener=pl.lit(to_listener), \n",
    "                        to_source=pl.lit(to_source)\n",
    "                    ).with_columns(\n",
    "                        xcorr_inv_add = 1 - pl.col(\"xcorr\"),\n",
    "                        rmse_lin = 10 ** (pl.col(\"rmse\")/20),\n",
    "                    ).select(pl.exclude(\"rmse\", \"xcorr_inv\"))\n",
    "                    quality_dfs.append(new_df)\n",
    "                    counter += 1\n",
    "presynth = pl.concat(presynth_dfs, how=\"diagonal\")\n",
    "quality = pl.concat(quality_dfs, how=\"diagonal\")\n",
    "print(counter)"
   ]
  },
  {
   "cell_type": "code",
   "execution_count": 24,
   "id": "1e66ea32-87c2-4565-a77c-1ebe185ca4be",
   "metadata": {
    "execution": {
     "iopub.execute_input": "2024-08-27T18:04:50.019132Z",
     "iopub.status.busy": "2024-08-27T18:04:50.018136Z",
     "iopub.status.idle": "2024-08-27T18:04:50.034512Z",
     "shell.execute_reply": "2024-08-27T18:04:50.034512Z",
     "shell.execute_reply.started": "2024-08-27T18:04:50.019132Z"
    }
   },
   "outputs": [
    {
     "data": {
      "text/html": [
       "<div><style>\n",
       ".dataframe > thead > tr,\n",
       ".dataframe > tbody > tr {\n",
       "  text-align: right;\n",
       "  white-space: pre-wrap;\n",
       "}\n",
       "</style>\n",
       "<small>shape: (825, 25)</small><table border=\"1\" class=\"dataframe\"><thead><tr><th>index</th><th>src</th><th>start</th><th>stop</th><th>m0</th><th>m1</th><th>m2</th><th>imsrc_sample</th><th>highest_peak_idx_in_peaks</th><th>doa_std</th><th>doa_nn</th><th>distance_boost</th><th>order</th><th>m0_hf</th><th>m1_hf</th><th>m2_hf</th><th>peak_prominence</th><th>doa_stability_1deg</th><th>doa_stability_5deg</th><th>relative_imsrc_time</th><th>directivity_boost</th><th>filter_energy</th><th>room</th><th>from_listener</th><th>from_source</th></tr><tr><td>u32</td><td>i64</td><td>i64</td><td>i64</td><td>f64</td><td>f64</td><td>f64</td><td>i32</td><td>i64</td><td>f64</td><td>f64</td><td>f64</td><td>i32</td><td>f64</td><td>f64</td><td>f64</td><td>f64</td><td>i64</td><td>i64</td><td>f64</td><td>f64</td><td>f64</td><td>str</td><td>str</td><td>i32</td></tr></thead><tbody><tr><td>0</td><td>0</td><td>0</td><td>1090</td><td>0.071105</td><td>23.424951</td><td>5.224281</td><td>1000</td><td>13</td><td>2.031673</td><td>0.775229</td><td>10.265093</td><td>0</td><td>0.032842</td><td>9.159371</td><td>3.614078</td><td>15.191556</td><td>10</td><td>54</td><td>0.917431</td><td>25.197006</td><td>0.0</td><td>&quot;HL05W&quot;</td><td>&quot;0.0X_0.0Y&quot;</td><td>0</td></tr><tr><td>1</td><td>1</td><td>1090</td><td>1182</td><td>0.071312</td><td>-10.139235</td><td>5.826576</td><td>1152</td><td>17</td><td>0.766935</td><td>0.913043</td><td>12.760934</td><td>1</td><td>0.032819</td><td>-13.588524</td><td>5.168121</td><td>13.075156</td><td>6</td><td>29</td><td>0.673913</td><td>24.376448</td><td>2.788308</td><td>&quot;HL05W&quot;</td><td>&quot;0.0X_0.0Y&quot;</td><td>0</td></tr><tr><td>2</td><td>2</td><td>1475</td><td>1543</td><td>0.092744</td><td>-6.631503</td><td>2.352815</td><td>1512</td><td>24</td><td>1.089485</td><td>0.882353</td><td>16.802765</td><td>1</td><td>0.081459</td><td>-7.582317</td><td>1.930367</td><td>84.343232</td><td>33</td><td>57</td><td>0.544118</td><td>4.117089</td><td>-1.899535</td><td>&quot;HL05W&quot;</td><td>&quot;0.0X_0.0Y&quot;</td><td>0</td></tr><tr><td>3</td><td>6</td><td>1182</td><td>1237</td><td>0.022534</td><td>-3.983457</td><td>4.521039</td><td>1209</td><td>19</td><td>1.165715</td><td>0.909091</td><td>13.541279</td><td>1</td><td>0.013935</td><td>-4.481781</td><td>4.737973</td><td>1.64649</td><td>3</td><td>3</td><td>0.490909</td><td>24.464293</td><td>-3.250034</td><td>&quot;HL05W&quot;</td><td>&quot;0.0X_0.0Y&quot;</td><td>0</td></tr><tr><td>4</td><td>8</td><td>1543</td><td>1615</td><td>0.088686</td><td>-9.524603</td><td>4.57512</td><td>1593</td><td>26</td><td>0.621013</td><td>0.930556</td><td>17.493347</td><td>2</td><td>0.075608</td><td>-10.54029</td><td>4.108845</td><td>13.632943</td><td>36</td><td>52</td><td>0.694444</td><td>7.02111</td><td>-0.702202</td><td>&quot;HL05W&quot;</td><td>&quot;0.0X_0.0Y&quot;</td><td>0</td></tr><tr><td>&hellip;</td><td>&hellip;</td><td>&hellip;</td><td>&hellip;</td><td>&hellip;</td><td>&hellip;</td><td>&hellip;</td><td>&hellip;</td><td>&hellip;</td><td>&hellip;</td><td>&hellip;</td><td>&hellip;</td><td>&hellip;</td><td>&hellip;</td><td>&hellip;</td><td>&hellip;</td><td>&hellip;</td><td>&hellip;</td><td>&hellip;</td><td>&hellip;</td><td>&hellip;</td><td>&hellip;</td><td>&hellip;</td><td>&hellip;</td><td>&hellip;</td></tr><tr><td>13</td><td>183</td><td>1702</td><td>1772</td><td>0.069725</td><td>-4.717887</td><td>6.431363</td><td>1738</td><td>32</td><td>5.303597</td><td>0.728571</td><td>17.087682</td><td>4</td><td>0.041144</td><td>-5.768154</td><td>5.060668</td><td>6.445522</td><td>8</td><td>16</td><td>0.514286</td><td>5.248962</td><td>-6.045544</td><td>&quot;HL06W&quot;</td><td>&quot;-1.25X_0.0Y&quot;</td><td>4</td></tr><tr><td>14</td><td>184</td><td>1793</td><td>1836</td><td>0.020998</td><td>152.238806</td><td>4.561326</td><td>1663</td><td>35</td><td>7.0573</td><td>0.27907</td><td>16.40967</td><td>4</td><td>0.019172</td><td>152.049747</td><td>4.669508</td><td>2.499006</td><td>2</td><td>2</td><td>-3.023256</td><td>4.071061</td><td>-11.782945</td><td>&quot;HL06W&quot;</td><td>&quot;-1.25X_0.0Y&quot;</td><td>4</td></tr><tr><td>15</td><td>215</td><td>2010</td><td>2054</td><td>0.025709</td><td>-15.8773</td><td>4.183936</td><td>2045</td><td>41</td><td>5.59564</td><td>0.272727</td><td>19.411317</td><td>4</td><td>0.023616</td><td>-16.04473</td><td>4.0855</td><td>9.163085</td><td>2</td><td>3</td><td>0.795455</td><td>24.309095</td><td>10.476384</td><td>&quot;HL06W&quot;</td><td>&quot;-1.25X_0.0Y&quot;</td><td>4</td></tr><tr><td>16</td><td>224</td><td>2237</td><td>2280</td><td>0.018851</td><td>-30.650835</td><td>4.785438</td><td>2290</td><td>49</td><td>2.286956</td><td>0.44186</td><td>20.90679</td><td>4</td><td>0.015387</td><td>-30.224614</td><td>4.295125</td><td>5.270921</td><td>4</td><td>7</td><td>1.232558</td><td>30.931013</td><td>11.305576</td><td>&quot;HL06W&quot;</td><td>&quot;-1.25X_0.0Y&quot;</td><td>4</td></tr><tr><td>17</td><td>312</td><td>2166</td><td>2220</td><td>0.025846</td><td>-250.379283</td><td>4.11227</td><td>2439</td><td>46</td><td>5.464948</td><td>0.5</td><td>21.699716</td><td>5</td><td>0.017243</td><td>-248.33621</td><td>4.603765</td><td>9.947045</td><td>0</td><td>6</td><td>5.055556</td><td>29.487712</td><td>-10.484446</td><td>&quot;HL06W&quot;</td><td>&quot;-1.25X_0.0Y&quot;</td><td>4</td></tr></tbody></table></div>"
      ],
      "text/plain": [
       "shape: (825, 25)\n",
       "┌───────┬─────┬───────┬──────┬───┬───────────────┬───────┬───────────────┬─────────────┐\n",
       "│ index ┆ src ┆ start ┆ stop ┆ … ┆ filter_energy ┆ room  ┆ from_listener ┆ from_source │\n",
       "│ ---   ┆ --- ┆ ---   ┆ ---  ┆   ┆ ---           ┆ ---   ┆ ---           ┆ ---         │\n",
       "│ u32   ┆ i64 ┆ i64   ┆ i64  ┆   ┆ f64           ┆ str   ┆ str           ┆ i32         │\n",
       "╞═══════╪═════╪═══════╪══════╪═══╪═══════════════╪═══════╪═══════════════╪═════════════╡\n",
       "│ 0     ┆ 0   ┆ 0     ┆ 1090 ┆ … ┆ 0.0           ┆ HL05W ┆ 0.0X_0.0Y     ┆ 0           │\n",
       "│ 1     ┆ 1   ┆ 1090  ┆ 1182 ┆ … ┆ 2.788308      ┆ HL05W ┆ 0.0X_0.0Y     ┆ 0           │\n",
       "│ 2     ┆ 2   ┆ 1475  ┆ 1543 ┆ … ┆ -1.899535     ┆ HL05W ┆ 0.0X_0.0Y     ┆ 0           │\n",
       "│ 3     ┆ 6   ┆ 1182  ┆ 1237 ┆ … ┆ -3.250034     ┆ HL05W ┆ 0.0X_0.0Y     ┆ 0           │\n",
       "│ 4     ┆ 8   ┆ 1543  ┆ 1615 ┆ … ┆ -0.702202     ┆ HL05W ┆ 0.0X_0.0Y     ┆ 0           │\n",
       "│ …     ┆ …   ┆ …     ┆ …    ┆ … ┆ …             ┆ …     ┆ …             ┆ …           │\n",
       "│ 13    ┆ 183 ┆ 1702  ┆ 1772 ┆ … ┆ -6.045544     ┆ HL06W ┆ -1.25X_0.0Y   ┆ 4           │\n",
       "│ 14    ┆ 184 ┆ 1793  ┆ 1836 ┆ … ┆ -11.782945    ┆ HL06W ┆ -1.25X_0.0Y   ┆ 4           │\n",
       "│ 15    ┆ 215 ┆ 2010  ┆ 2054 ┆ … ┆ 10.476384     ┆ HL06W ┆ -1.25X_0.0Y   ┆ 4           │\n",
       "│ 16    ┆ 224 ┆ 2237  ┆ 2280 ┆ … ┆ 11.305576     ┆ HL06W ┆ -1.25X_0.0Y   ┆ 4           │\n",
       "│ 17    ┆ 312 ┆ 2166  ┆ 2220 ┆ … ┆ -10.484446    ┆ HL06W ┆ -1.25X_0.0Y   ┆ 4           │\n",
       "└───────┴─────┴───────┴──────┴───┴───────────────┴───────┴───────────────┴─────────────┘"
      ]
     },
     "execution_count": 24,
     "metadata": {},
     "output_type": "execute_result"
    }
   ],
   "source": [
    "presynth"
   ]
  },
  {
   "cell_type": "code",
   "execution_count": 25,
   "id": "8ab75a98-68c1-4885-8658-48eeaaee122b",
   "metadata": {
    "execution": {
     "iopub.execute_input": "2024-08-27T18:04:51.702721Z",
     "iopub.status.busy": "2024-08-27T18:04:51.702721Z",
     "iopub.status.idle": "2024-08-27T18:04:51.718960Z",
     "shell.execute_reply": "2024-08-27T18:04:51.718960Z",
     "shell.execute_reply.started": "2024-08-27T18:04:51.702721Z"
    }
   },
   "outputs": [
    {
     "data": {
      "text/html": [
       "<div><style>\n",
       ".dataframe > thead > tr,\n",
       ".dataframe > tbody > tr {\n",
       "  text-align: right;\n",
       "  white-space: pre-wrap;\n",
       "}\n",
       "</style>\n",
       "<small>shape: (20_630, 27)</small><table border=\"1\" class=\"dataframe\"><thead><tr><th>lag</th><th>lag_std</th><th>lag_rms</th><th>xcorr</th><th>xcorr_std</th><th>level_delta</th><th>level_rms</th><th>misdistributed_energy</th><th>t30_rel_delta</th><th>t30_rel_rms</th><th>c20_delta</th><th>c20_rms</th><th>iacc_delta</th><th>iacc_rms</th><th>lag_iacc_delta</th><th>lag_iacc_rms</th><th>ild_delta</th><th>ild_rms</th><th>spectral_difference</th><th>dropped</th><th>room</th><th>from_listener</th><th>from_source</th><th>to_listener</th><th>to_source</th><th>xcorr_inv_add</th><th>rmse_lin</th></tr><tr><td>f64</td><td>f64</td><td>f64</td><td>f64</td><td>f64</td><td>f64</td><td>f64</td><td>f64</td><td>f64</td><td>f64</td><td>f64</td><td>f64</td><td>f64</td><td>f64</td><td>f64</td><td>f64</td><td>f64</td><td>f64</td><td>f64</td><td>i64</td><td>str</td><td>str</td><td>i32</td><td>str</td><td>i32</td><td>f64</td><td>f64</td></tr></thead><tbody><tr><td>0.0</td><td>0.5</td><td>0.5</td><td>0.685015</td><td>0.066863</td><td>0.143752</td><td>0.444134</td><td>0.027252</td><td>-0.010375</td><td>0.011302</td><td>0.172831</td><td>0.834144</td><td>0.00278</td><td>0.020349</td><td>-2.333333</td><td>9.617692</td><td>0.113591</td><td>0.678202</td><td>0.188265</td><td>null</td><td>&quot;HL05W&quot;</td><td>&quot;0.0X_0.0Y&quot;</td><td>0</td><td>&quot;0.0X_0.0Y&quot;</td><td>0</td><td>0.314985</td><td>0.847395</td></tr><tr><td>0.041667</td><td>0.538452</td><td>0.540062</td><td>0.669059</td><td>0.070174</td><td>0.029059</td><td>0.398049</td><td>0.03707</td><td>-0.009724</td><td>0.01062</td><td>-0.258614</td><td>1.02317</td><td>-0.007633</td><td>0.021892</td><td>-0.5</td><td>11.895377</td><td>0.119067</td><td>0.608876</td><td>0.251109</td><td>0</td><td>&quot;HL05W&quot;</td><td>&quot;0.0X_0.0Y&quot;</td><td>0</td><td>&quot;0.0X_0.0Y&quot;</td><td>0</td><td>0.330941</td><td>0.86276</td></tr><tr><td>0.0</td><td>0.5</td><td>0.5</td><td>0.664584</td><td>0.06993</td><td>-0.029632</td><td>0.403611</td><td>0.036893</td><td>-0.009336</td><td>0.010241</td><td>-0.609136</td><td>1.344889</td><td>-0.018629</td><td>0.027452</td><td>-0.75</td><td>11.905881</td><td>0.120967</td><td>0.614706</td><td>0.297969</td><td>1</td><td>&quot;HL05W&quot;</td><td>&quot;0.0X_0.0Y&quot;</td><td>0</td><td>&quot;0.0X_0.0Y&quot;</td><td>0</td><td>0.335416</td><td>0.864161</td></tr><tr><td>0.0</td><td>0.408248</td><td>0.408248</td><td>0.673669</td><td>0.058177</td><td>-0.504449</td><td>0.742119</td><td>0.04765</td><td>-0.006027</td><td>0.007669</td><td>-1.267474</td><td>1.353219</td><td>0.028079</td><td>0.039645</td><td>-0.583333</td><td>10.234745</td><td>0.001088</td><td>0.943257</td><td>0.200001</td><td>2</td><td>&quot;HL05W&quot;</td><td>&quot;0.0X_0.0Y&quot;</td><td>0</td><td>&quot;0.0X_0.0Y&quot;</td><td>0</td><td>0.326331</td><td>0.802749</td></tr><tr><td>0.0</td><td>0.5</td><td>0.5</td><td>0.683192</td><td>0.067177</td><td>0.131026</td><td>0.436326</td><td>0.027709</td><td>-0.010272</td><td>0.01119</td><td>0.124264</td><td>0.842877</td><td>0.003249</td><td>0.020154</td><td>-1.25</td><td>9.096703</td><td>0.114144</td><td>0.667367</td><td>0.189688</td><td>3</td><td>&quot;HL05W&quot;</td><td>&quot;0.0X_0.0Y&quot;</td><td>0</td><td>&quot;0.0X_0.0Y&quot;</td><td>0</td><td>0.316808</td><td>0.84903</td></tr><tr><td>&hellip;</td><td>&hellip;</td><td>&hellip;</td><td>&hellip;</td><td>&hellip;</td><td>&hellip;</td><td>&hellip;</td><td>&hellip;</td><td>&hellip;</td><td>&hellip;</td><td>&hellip;</td><td>&hellip;</td><td>&hellip;</td><td>&hellip;</td><td>&hellip;</td><td>&hellip;</td><td>&hellip;</td><td>&hellip;</td><td>&hellip;</td><td>&hellip;</td><td>&hellip;</td><td>&hellip;</td><td>&hellip;</td><td>&hellip;</td><td>&hellip;</td><td>&hellip;</td><td>&hellip;</td></tr><tr><td>0.0</td><td>0.0</td><td>0.0</td><td>0.819027</td><td>0.076034</td><td>-0.465129</td><td>0.56256</td><td>0.025812</td><td>0.009379</td><td>0.011647</td><td>0.322351</td><td>0.670006</td><td>-0.050061</td><td>0.05954</td><td>-1.833333</td><td>7.593857</td><td>-0.032233</td><td>0.380467</td><td>0.269548</td><td>13</td><td>&quot;HL06W&quot;</td><td>&quot;-1.25X_0.0Y&quot;</td><td>4</td><td>&quot;-1.25X_0.0Y&quot;</td><td>4</td><td>0.180973</td><td>0.590999</td></tr><tr><td>0.0</td><td>0.0</td><td>0.0</td><td>0.826898</td><td>0.068011</td><td>-0.352885</td><td>0.487518</td><td>0.020677</td><td>0.007298</td><td>0.009559</td><td>0.598836</td><td>0.988601</td><td>-0.05534</td><td>0.066409</td><td>-1.75</td><td>7.555351</td><td>-0.013144</td><td>0.41587</td><td>0.264439</td><td>14</td><td>&quot;HL06W&quot;</td><td>&quot;-1.25X_0.0Y&quot;</td><td>4</td><td>&quot;-1.25X_0.0Y&quot;</td><td>4</td><td>0.173102</td><td>0.581981</td></tr><tr><td>0.0</td><td>0.0</td><td>0.0</td><td>0.82499</td><td>0.069463</td><td>-0.321181</td><td>0.480915</td><td>0.020063</td><td>0.006832</td><td>0.009377</td><td>0.550239</td><td>0.931345</td><td>-0.05384</td><td>0.065644</td><td>-1.75</td><td>7.555351</td><td>-0.020014</td><td>0.463431</td><td>0.260238</td><td>15</td><td>&quot;HL06W&quot;</td><td>&quot;-1.25X_0.0Y&quot;</td><td>4</td><td>&quot;-1.25X_0.0Y&quot;</td><td>4</td><td>0.17501</td><td>0.586611</td></tr><tr><td>0.0</td><td>0.0</td><td>0.0</td><td>0.823964</td><td>0.070769</td><td>-0.332498</td><td>0.482075</td><td>0.020882</td><td>0.007065</td><td>0.009552</td><td>0.564328</td><td>0.958435</td><td>-0.051715</td><td>0.063989</td><td>-1.75</td><td>7.555351</td><td>-0.016986</td><td>0.448926</td><td>0.264748</td><td>16</td><td>&quot;HL06W&quot;</td><td>&quot;-1.25X_0.0Y&quot;</td><td>4</td><td>&quot;-1.25X_0.0Y&quot;</td><td>4</td><td>0.176036</td><td>0.587797</td></tr><tr><td>0.0</td><td>0.0</td><td>0.0</td><td>0.82479</td><td>0.069631</td><td>-0.311468</td><td>0.473841</td><td>0.019935</td><td>0.006705</td><td>0.009348</td><td>0.533942</td><td>0.922944</td><td>-0.054371</td><td>0.066163</td><td>-1.75</td><td>7.555351</td><td>-0.01889</td><td>0.464474</td><td>0.263045</td><td>17</td><td>&quot;HL06W&quot;</td><td>&quot;-1.25X_0.0Y&quot;</td><td>4</td><td>&quot;-1.25X_0.0Y&quot;</td><td>4</td><td>0.17521</td><td>0.58723</td></tr></tbody></table></div>"
      ],
      "text/plain": [
       "shape: (20_630, 27)\n",
       "┌──────────┬──────────┬──────────┬──────────┬───┬─────────────┬───────────┬──────────────┬──────────┐\n",
       "│ lag      ┆ lag_std  ┆ lag_rms  ┆ xcorr    ┆ … ┆ to_listener ┆ to_source ┆ xcorr_inv_ad ┆ rmse_lin │\n",
       "│ ---      ┆ ---      ┆ ---      ┆ ---      ┆   ┆ ---         ┆ ---       ┆ d            ┆ ---      │\n",
       "│ f64      ┆ f64      ┆ f64      ┆ f64      ┆   ┆ str         ┆ i32       ┆ ---          ┆ f64      │\n",
       "│          ┆          ┆          ┆          ┆   ┆             ┆           ┆ f64          ┆          │\n",
       "╞══════════╪══════════╪══════════╪══════════╪═══╪═════════════╪═══════════╪══════════════╪══════════╡\n",
       "│ 0.0      ┆ 0.5      ┆ 0.5      ┆ 0.685015 ┆ … ┆ 0.0X_0.0Y   ┆ 0         ┆ 0.314985     ┆ 0.847395 │\n",
       "│ 0.041667 ┆ 0.538452 ┆ 0.540062 ┆ 0.669059 ┆ … ┆ 0.0X_0.0Y   ┆ 0         ┆ 0.330941     ┆ 0.86276  │\n",
       "│ 0.0      ┆ 0.5      ┆ 0.5      ┆ 0.664584 ┆ … ┆ 0.0X_0.0Y   ┆ 0         ┆ 0.335416     ┆ 0.864161 │\n",
       "│ 0.0      ┆ 0.408248 ┆ 0.408248 ┆ 0.673669 ┆ … ┆ 0.0X_0.0Y   ┆ 0         ┆ 0.326331     ┆ 0.802749 │\n",
       "│ 0.0      ┆ 0.5      ┆ 0.5      ┆ 0.683192 ┆ … ┆ 0.0X_0.0Y   ┆ 0         ┆ 0.316808     ┆ 0.84903  │\n",
       "│ …        ┆ …        ┆ …        ┆ …        ┆ … ┆ …           ┆ …         ┆ …            ┆ …        │\n",
       "│ 0.0      ┆ 0.0      ┆ 0.0      ┆ 0.819027 ┆ … ┆ -1.25X_0.0Y ┆ 4         ┆ 0.180973     ┆ 0.590999 │\n",
       "│ 0.0      ┆ 0.0      ┆ 0.0      ┆ 0.826898 ┆ … ┆ -1.25X_0.0Y ┆ 4         ┆ 0.173102     ┆ 0.581981 │\n",
       "│ 0.0      ┆ 0.0      ┆ 0.0      ┆ 0.82499  ┆ … ┆ -1.25X_0.0Y ┆ 4         ┆ 0.17501      ┆ 0.586611 │\n",
       "│ 0.0      ┆ 0.0      ┆ 0.0      ┆ 0.823964 ┆ … ┆ -1.25X_0.0Y ┆ 4         ┆ 0.176036     ┆ 0.587797 │\n",
       "│ 0.0      ┆ 0.0      ┆ 0.0      ┆ 0.82479  ┆ … ┆ -1.25X_0.0Y ┆ 4         ┆ 0.17521      ┆ 0.58723  │\n",
       "└──────────┴──────────┴──────────┴──────────┴───┴─────────────┴───────────┴──────────────┴──────────┘"
      ]
     },
     "execution_count": 25,
     "metadata": {},
     "output_type": "execute_result"
    }
   ],
   "source": [
    "quality"
   ]
  },
  {
   "cell_type": "code",
   "execution_count": 26,
   "id": "2494231f-6d06-400d-9f40-de3e296e878c",
   "metadata": {
    "execution": {
     "iopub.execute_input": "2024-08-27T18:04:51.732535Z",
     "iopub.status.busy": "2024-08-27T18:04:51.731528Z",
     "iopub.status.idle": "2024-08-27T18:04:51.741565Z",
     "shell.execute_reply": "2024-08-27T18:04:51.741565Z",
     "shell.execute_reply.started": "2024-08-27T18:04:51.732535Z"
    }
   },
   "outputs": [
    {
     "data": {
      "text/html": [
       "<div><style>\n",
       ".dataframe > thead > tr,\n",
       ".dataframe > tbody > tr {\n",
       "  text-align: right;\n",
       "  white-space: pre-wrap;\n",
       "}\n",
       "</style>\n",
       "<small>shape: (1, 27)</small><table border=\"1\" class=\"dataframe\"><thead><tr><th>lag</th><th>lag_std</th><th>lag_rms</th><th>xcorr</th><th>xcorr_std</th><th>level_delta</th><th>level_rms</th><th>misdistributed_energy</th><th>t30_rel_delta</th><th>t30_rel_rms</th><th>c20_delta</th><th>c20_rms</th><th>iacc_delta</th><th>iacc_rms</th><th>lag_iacc_delta</th><th>lag_iacc_rms</th><th>ild_delta</th><th>ild_rms</th><th>spectral_difference</th><th>dropped</th><th>room</th><th>from_listener</th><th>from_source</th><th>to_listener</th><th>to_source</th><th>xcorr_inv_add</th><th>rmse_lin</th></tr><tr><td>u32</td><td>u32</td><td>u32</td><td>u32</td><td>u32</td><td>u32</td><td>u32</td><td>u32</td><td>u32</td><td>u32</td><td>u32</td><td>u32</td><td>u32</td><td>u32</td><td>u32</td><td>u32</td><td>u32</td><td>u32</td><td>u32</td><td>u32</td><td>u32</td><td>u32</td><td>u32</td><td>u32</td><td>u32</td><td>u32</td><td>u32</td></tr></thead><tbody><tr><td>1250</td><td>1250</td><td>1250</td><td>1250</td><td>1250</td><td>1250</td><td>1250</td><td>1250</td><td>1057</td><td>1057</td><td>1057</td><td>1057</td><td>1250</td><td>1250</td><td>1250</td><td>1250</td><td>1250</td><td>1250</td><td>1250</td><td>0</td><td>1250</td><td>1250</td><td>1250</td><td>1250</td><td>1250</td><td>1250</td><td>1250</td></tr></tbody></table></div>"
      ],
      "text/plain": [
       "shape: (1, 27)\n",
       "┌──────┬─────────┬─────────┬───────┬───┬─────────────┬───────────┬───────────────┬──────────┐\n",
       "│ lag  ┆ lag_std ┆ lag_rms ┆ xcorr ┆ … ┆ to_listener ┆ to_source ┆ xcorr_inv_add ┆ rmse_lin │\n",
       "│ ---  ┆ ---     ┆ ---     ┆ ---   ┆   ┆ ---         ┆ ---       ┆ ---           ┆ ---      │\n",
       "│ u32  ┆ u32     ┆ u32     ┆ u32   ┆   ┆ u32         ┆ u32       ┆ u32           ┆ u32      │\n",
       "╞══════╪═════════╪═════════╪═══════╪═══╪═════════════╪═══════════╪═══════════════╪══════════╡\n",
       "│ 1250 ┆ 1250    ┆ 1250    ┆ 1250  ┆ … ┆ 1250        ┆ 1250      ┆ 1250          ┆ 1250     │\n",
       "└──────┴─────────┴─────────┴───────┴───┴─────────────┴───────────┴───────────────┴──────────┘"
      ]
     },
     "execution_count": 26,
     "metadata": {},
     "output_type": "execute_result"
    }
   ],
   "source": [
    "quality.filter(pl.col(\"dropped\").is_null()).count()"
   ]
  },
  {
   "cell_type": "markdown",
   "id": "66bbf71f-6f2e-4810-ab22-92c248f9171d",
   "metadata": {},
   "source": [
    "Now change from absolute quality to quality difference when dropping a reflection:"
   ]
  },
  {
   "cell_type": "code",
   "execution_count": 27,
   "id": "cd16f9ef-dce0-4bae-8c94-22161035d18c",
   "metadata": {
    "execution": {
     "iopub.execute_input": "2024-08-27T18:04:54.378689Z",
     "iopub.status.busy": "2024-08-27T18:04:54.377669Z",
     "iopub.status.idle": "2024-08-27T18:04:54.389032Z",
     "shell.execute_reply": "2024-08-27T18:04:54.387492Z",
     "shell.execute_reply.started": "2024-08-27T18:04:54.378689Z"
    }
   },
   "outputs": [
    {
     "data": {
      "text/plain": [
       "['room', 'from_listener', 'from_source', 'to_listener', 'to_source']"
      ]
     },
     "execution_count": 27,
     "metadata": {},
     "output_type": "execute_result"
    }
   ],
   "source": [
    "key_columns = [\"room\", \"from_listener\", \"from_source\", \"to_listener\", \"to_source\"]"
   ]
  },
  {
   "cell_type": "code",
   "execution_count": 28,
   "id": "2d3c30aa-22dc-480e-b56f-0fc7b5c031a5",
   "metadata": {
    "execution": {
     "iopub.execute_input": "2024-08-27T18:04:55.721441Z",
     "iopub.status.busy": "2024-08-27T18:04:55.721441Z",
     "iopub.status.idle": "2024-08-27T18:04:55.731571Z",
     "shell.execute_reply": "2024-08-27T18:04:55.730975Z",
     "shell.execute_reply.started": "2024-08-27T18:04:55.721441Z"
    }
   },
   "outputs": [
    {
     "data": {
      "text/plain": [
       "['c20_rms',\n",
       " 'level_rms',\n",
       " 'dropped',\n",
       " 'misdistributed_energy',\n",
       " 'ild_rms',\n",
       " 'iacc_rms',\n",
       " 'ild_delta',\n",
       " 'lag_iacc_delta',\n",
       " 't30_rel_rms',\n",
       " 'xcorr_std',\n",
       " 'lag_iacc_rms',\n",
       " 'c20_delta',\n",
       " 'xcorr_inv_add',\n",
       " 'iacc_delta',\n",
       " 'lag_rms',\n",
       " 'spectral_difference',\n",
       " 'rmse_lin',\n",
       " 'lag',\n",
       " 'lag_std',\n",
       " 'level_delta',\n",
       " 't30_rel_delta',\n",
       " 'xcorr']"
      ]
     },
     "execution_count": 28,
     "metadata": {},
     "output_type": "execute_result"
    }
   ],
   "source": [
    "non_key_columns = list(set(quality.columns) - set(key_columns))"
   ]
  },
  {
   "cell_type": "code",
   "execution_count": 29,
   "id": "620e8b0d-eae4-4ebf-aaf4-31fafa15eee3",
   "metadata": {
    "execution": {
     "iopub.execute_input": "2024-08-27T18:05:02.450629Z",
     "iopub.status.busy": "2024-08-27T18:05:02.450629Z",
     "iopub.status.idle": "2024-08-27T18:05:02.457261Z",
     "shell.execute_reply": "2024-08-27T18:05:02.457261Z",
     "shell.execute_reply.started": "2024-08-27T18:05:02.450629Z"
    }
   },
   "outputs": [
    {
     "data": {
      "text/plain": [
       "['c20_rms',\n",
       " 'misdistributed_energy',\n",
       " 'ild_rms',\n",
       " 'iacc_rms',\n",
       " 'ild_delta',\n",
       " 'level_delta',\n",
       " 'lag_iacc_delta',\n",
       " 't30_rel_rms',\n",
       " 'xcorr_std',\n",
       " 'lag_iacc_rms',\n",
       " 'c20_delta',\n",
       " 'xcorr_inv_add',\n",
       " 'iacc_delta',\n",
       " 'lag_rms',\n",
       " 'spectral_difference',\n",
       " 'rmse_lin',\n",
       " 'lag',\n",
       " 'lag_std',\n",
       " 'level_rms',\n",
       " 't30_rel_delta',\n",
       " 'xcorr']"
      ]
     },
     "execution_count": 29,
     "metadata": {},
     "output_type": "execute_result"
    }
   ],
   "source": [
    "non_key_columns_no_dropped = list(set(quality.columns) - set(key_columns) - set([\"dropped\"]))"
   ]
  },
  {
   "cell_type": "code",
   "execution_count": 30,
   "id": "bcb8d7da-c9d0-41cb-9a6c-86e854d2a560",
   "metadata": {
    "execution": {
     "iopub.execute_input": "2024-08-27T18:05:04.721023Z",
     "iopub.status.busy": "2024-08-27T18:05:04.721023Z",
     "iopub.status.idle": "2024-08-27T18:05:04.732408Z",
     "shell.execute_reply": "2024-08-27T18:05:04.731371Z",
     "shell.execute_reply.started": "2024-08-27T18:05:04.721023Z"
    }
   },
   "outputs": [
    {
     "data": {
      "text/plain": [
       "['lag_iacc_rms',\n",
       " 'xcorr_inv_add',\n",
       " 'lag_std',\n",
       " 'misdistributed_energy',\n",
       " 'ild_rms',\n",
       " 'iacc_delta',\n",
       " 'lag_rms',\n",
       " 'spectral_difference',\n",
       " 'iacc_rms',\n",
       " 'ild_delta',\n",
       " 'level_delta',\n",
       " 'rmse_lin',\n",
       " 'lag_iacc_delta',\n",
       " 'lag',\n",
       " 'level_rms',\n",
       " 'xcorr_std',\n",
       " 'xcorr']"
      ]
     },
     "execution_count": 30,
     "metadata": {},
     "output_type": "execute_result"
    }
   ],
   "source": [
    "non_key_columns_no_dropped_no_reverb = list(set(quality.columns) - set(key_columns) - set([\"dropped\", \"t30_rel_delta\", 't30_rel_rms', 'c20_delta', 'c20_rms']))"
   ]
  },
  {
   "cell_type": "code",
   "execution_count": 33,
   "id": "39bdb429-eed2-4726-bd00-cd631fc3fe18",
   "metadata": {
    "execution": {
     "iopub.execute_input": "2024-08-27T18:07:24.068131Z",
     "iopub.status.busy": "2024-08-27T18:07:24.067131Z",
     "iopub.status.idle": "2024-08-27T18:07:25.230227Z",
     "shell.execute_reply": "2024-08-27T18:07:25.230227Z",
     "shell.execute_reply.started": "2024-08-27T18:07:24.068131Z"
    }
   },
   "outputs": [
    {
     "data": {
      "text/html": [
       "<div><style>\n",
       ".dataframe > thead > tr,\n",
       ".dataframe > tbody > tr {\n",
       "  text-align: right;\n",
       "  white-space: pre-wrap;\n",
       "}\n",
       "</style>\n",
       "<small>shape: (19_380, 28)</small><table border=\"1\" class=\"dataframe\"><thead><tr><th>c20_rms</th><th>misdistributed_energy</th><th>ild_rms</th><th>iacc_rms</th><th>ild_delta</th><th>level_delta</th><th>lag_iacc_delta</th><th>t30_rel_rms</th><th>xcorr_std</th><th>lag_iacc_rms</th><th>c20_delta</th><th>xcorr_inv_add</th><th>iacc_delta</th><th>lag_rms</th><th>spectral_difference</th><th>rmse_lin</th><th>lag</th><th>lag_std</th><th>level_rms</th><th>t30_rel_delta</th><th>xcorr</th><th>dropped</th><th>room</th><th>from_listener</th><th>from_source</th><th>to_listener</th><th>to_source</th><th>xcorr_inv</th></tr><tr><td>f64</td><td>f64</td><td>f64</td><td>f64</td><td>f64</td><td>f64</td><td>f64</td><td>f64</td><td>f64</td><td>f64</td><td>f64</td><td>f64</td><td>f64</td><td>f64</td><td>f64</td><td>f64</td><td>f64</td><td>f64</td><td>f64</td><td>f64</td><td>f64</td><td>i64</td><td>str</td><td>str</td><td>i32</td><td>str</td><td>i32</td><td>f64</td></tr></thead><tbody><tr><td>0.189026</td><td>0.009818</td><td>-0.069326</td><td>0.001544</td><td>0.005475</td><td>-0.114693</td><td>1.833333</td><td>-0.000681</td><td>0.00331</td><td>2.277685</td><td>-0.431446</td><td>0.015956</td><td>-0.010413</td><td>0.040062</td><td>0.062844</td><td>0.015365</td><td>0.041667</td><td>0.038452</td><td>-0.046085</td><td>0.000651</td><td>-0.015956</td><td>0</td><td>&quot;HL05W&quot;</td><td>&quot;0.0X_0.0Y&quot;</td><td>0</td><td>&quot;0.0X_0.0Y&quot;</td><td>0</td><td>0.015956</td></tr><tr><td>0.510745</td><td>0.009641</td><td>-0.063496</td><td>0.007104</td><td>0.007376</td><td>-0.173383</td><td>1.583333</td><td>-0.001061</td><td>0.003067</td><td>2.288189</td><td>-0.781968</td><td>0.020431</td><td>-0.021409</td><td>0.0</td><td>0.109704</td><td>0.016766</td><td>0.0</td><td>0.0</td><td>-0.040523</td><td>0.001039</td><td>-0.020431</td><td>1</td><td>&quot;HL05W&quot;</td><td>&quot;0.0X_0.0Y&quot;</td><td>0</td><td>&quot;0.0X_0.0Y&quot;</td><td>0</td><td>0.020431</td></tr><tr><td>0.519075</td><td>0.020398</td><td>0.265055</td><td>0.019296</td><td>-0.112503</td><td>-0.648201</td><td>1.75</td><td>-0.003633</td><td>-0.008686</td><td>0.617053</td><td>-1.440305</td><td>0.011345</td><td>0.025299</td><td>-0.091752</td><td>0.011736</td><td>-0.044646</td><td>0.0</td><td>-0.091752</td><td>0.297984</td><td>0.004348</td><td>-0.011345</td><td>2</td><td>&quot;HL05W&quot;</td><td>&quot;0.0X_0.0Y&quot;</td><td>0</td><td>&quot;0.0X_0.0Y&quot;</td><td>0</td><td>0.011345</td></tr><tr><td>0.008733</td><td>0.000458</td><td>-0.010835</td><td>-0.000195</td><td>0.000553</td><td>-0.012726</td><td>1.083333</td><td>-0.000112</td><td>0.000314</td><td>-0.520989</td><td>-0.048568</td><td>0.001823</td><td>0.000468</td><td>0.0</td><td>0.001423</td><td>0.001635</td><td>0.0</td><td>0.0</td><td>-0.007808</td><td>0.000102</td><td>-0.001823</td><td>3</td><td>&quot;HL05W&quot;</td><td>&quot;0.0X_0.0Y&quot;</td><td>0</td><td>&quot;0.0X_0.0Y&quot;</td><td>0</td><td>0.001823</td></tr><tr><td>0.263707</td><td>0.021157</td><td>-0.209622</td><td>0.012876</td><td>-0.019235</td><td>-0.43379</td><td>2.0</td><td>-0.002929</td><td>0.005082</td><td>1.268078</td><td>-1.095852</td><td>0.009926</td><td>0.014951</td><td>0.0</td><td>0.025677</td><td>-0.012679</td><td>0.083333</td><td>-0.006993</td><td>-0.020251</td><td>0.002779</td><td>-0.009926</td><td>4</td><td>&quot;HL05W&quot;</td><td>&quot;0.0X_0.0Y&quot;</td><td>0</td><td>&quot;0.0X_0.0Y&quot;</td><td>0</td><td>0.009926</td></tr><tr><td>&hellip;</td><td>&hellip;</td><td>&hellip;</td><td>&hellip;</td><td>&hellip;</td><td>&hellip;</td><td>&hellip;</td><td>&hellip;</td><td>&hellip;</td><td>&hellip;</td><td>&hellip;</td><td>&hellip;</td><td>&hellip;</td><td>&hellip;</td><td>&hellip;</td><td>&hellip;</td><td>&hellip;</td><td>&hellip;</td><td>&hellip;</td><td>&hellip;</td><td>&hellip;</td><td>&hellip;</td><td>&hellip;</td><td>&hellip;</td><td>&hellip;</td><td>&hellip;</td><td>&hellip;</td><td>&hellip;</td></tr><tr><td>-0.252701</td><td>0.005881</td><td>-0.08415</td><td>-0.006662</td><td>-0.013472</td><td>-0.153566</td><td>-0.083333</td><td>0.002295</td><td>0.006415</td><td>0.038506</td><td>-0.211714</td><td>0.005785</td><td>0.004373</td><td>0.0</td><td>0.00655</td><td>0.003801</td><td>0.0</td><td>0.0</td><td>0.088406</td><td>0.002673</td><td>-0.005785</td><td>13</td><td>&quot;HL06W&quot;</td><td>&quot;-1.25X_0.0Y&quot;</td><td>4</td><td>&quot;-1.25X_0.0Y&quot;</td><td>4</td><td>0.005785</td></tr><tr><td>0.065895</td><td>0.000746</td><td>-0.048747</td><td>0.000208</td><td>0.005617</td><td>-0.041322</td><td>0.0</td><td>0.000207</td><td>-0.001608</td><td>0.0</td><td>0.064771</td><td>-0.002087</td><td>-0.000906</td><td>0.0</td><td>0.001442</td><td>-0.005217</td><td>0.0</td><td>0.0</td><td>0.013364</td><td>0.000592</td><td>0.002087</td><td>14</td><td>&quot;HL06W&quot;</td><td>&quot;-1.25X_0.0Y&quot;</td><td>4</td><td>&quot;-1.25X_0.0Y&quot;</td><td>4</td><td>-0.002087</td></tr><tr><td>0.008639</td><td>0.000132</td><td>-0.001185</td><td>-0.000558</td><td>-0.001253</td><td>-0.009618</td><td>0.0</td><td>0.000025</td><td>-0.000155</td><td>0.0</td><td>0.016174</td><td>-0.000178</td><td>0.000594</td><td>0.0</td><td>-0.002759</td><td>-0.000586</td><td>0.0</td><td>0.0</td><td>0.006761</td><td>0.000126</td><td>0.000178</td><td>15</td><td>&quot;HL06W&quot;</td><td>&quot;-1.25X_0.0Y&quot;</td><td>4</td><td>&quot;-1.25X_0.0Y&quot;</td><td>4</td><td>-0.000178</td></tr><tr><td>0.035728</td><td>0.00095</td><td>-0.015691</td><td>-0.002213</td><td>0.001775</td><td>-0.020935</td><td>0.0</td><td>0.000201</td><td>0.00115</td><td>0.0</td><td>0.030263</td><td>0.000848</td><td>0.002718</td><td>0.0</td><td>0.00175</td><td>0.000599</td><td>0.0</td><td>0.0</td><td>0.007921</td><td>0.000359</td><td>-0.000848</td><td>16</td><td>&quot;HL06W&quot;</td><td>&quot;-1.25X_0.0Y&quot;</td><td>4</td><td>&quot;-1.25X_0.0Y&quot;</td><td>4</td><td>0.000848</td></tr><tr><td>0.000238</td><td>0.000004</td><td>-0.000143</td><td>-0.000039</td><td>-0.000129</td><td>0.000095</td><td>0.0</td><td>-0.000003</td><td>0.000013</td><td>0.0</td><td>-0.000123</td><td>0.000021</td><td>0.000063</td><td>0.0</td><td>0.000047</td><td>0.000033</td><td>0.0</td><td>0.0</td><td>-0.000313</td><td>-0.000001</td><td>-0.000021</td><td>17</td><td>&quot;HL06W&quot;</td><td>&quot;-1.25X_0.0Y&quot;</td><td>4</td><td>&quot;-1.25X_0.0Y&quot;</td><td>4</td><td>0.000021</td></tr></tbody></table></div>"
      ],
      "text/plain": [
       "shape: (19_380, 28)\n",
       "┌───────────┬───────────┬───────────┬───────────┬───┬───────────┬───────────┬───────────┬───────────┐\n",
       "│ c20_rms   ┆ misdistri ┆ ild_rms   ┆ iacc_rms  ┆ … ┆ from_sour ┆ to_listen ┆ to_source ┆ xcorr_inv │\n",
       "│ ---       ┆ buted_ene ┆ ---       ┆ ---       ┆   ┆ ce        ┆ er        ┆ ---       ┆ ---       │\n",
       "│ f64       ┆ rgy       ┆ f64       ┆ f64       ┆   ┆ ---       ┆ ---       ┆ i32       ┆ f64       │\n",
       "│           ┆ ---       ┆           ┆           ┆   ┆ i32       ┆ str       ┆           ┆           │\n",
       "│           ┆ f64       ┆           ┆           ┆   ┆           ┆           ┆           ┆           │\n",
       "╞═══════════╪═══════════╪═══════════╪═══════════╪═══╪═══════════╪═══════════╪═══════════╪═══════════╡\n",
       "│ 0.189026  ┆ 0.009818  ┆ -0.069326 ┆ 0.001544  ┆ … ┆ 0         ┆ 0.0X_0.0Y ┆ 0         ┆ 0.015956  │\n",
       "│ 0.510745  ┆ 0.009641  ┆ -0.063496 ┆ 0.007104  ┆ … ┆ 0         ┆ 0.0X_0.0Y ┆ 0         ┆ 0.020431  │\n",
       "│ 0.519075  ┆ 0.020398  ┆ 0.265055  ┆ 0.019296  ┆ … ┆ 0         ┆ 0.0X_0.0Y ┆ 0         ┆ 0.011345  │\n",
       "│ 0.008733  ┆ 0.000458  ┆ -0.010835 ┆ -0.000195 ┆ … ┆ 0         ┆ 0.0X_0.0Y ┆ 0         ┆ 0.001823  │\n",
       "│ 0.263707  ┆ 0.021157  ┆ -0.209622 ┆ 0.012876  ┆ … ┆ 0         ┆ 0.0X_0.0Y ┆ 0         ┆ 0.009926  │\n",
       "│ …         ┆ …         ┆ …         ┆ …         ┆ … ┆ …         ┆ …         ┆ …         ┆ …         │\n",
       "│ -0.252701 ┆ 0.005881  ┆ -0.08415  ┆ -0.006662 ┆ … ┆ 4         ┆ -1.25X_0. ┆ 4         ┆ 0.005785  │\n",
       "│           ┆           ┆           ┆           ┆   ┆           ┆ 0Y        ┆           ┆           │\n",
       "│ 0.065895  ┆ 0.000746  ┆ -0.048747 ┆ 0.000208  ┆ … ┆ 4         ┆ -1.25X_0. ┆ 4         ┆ -0.002087 │\n",
       "│           ┆           ┆           ┆           ┆   ┆           ┆ 0Y        ┆           ┆           │\n",
       "│ 0.008639  ┆ 0.000132  ┆ -0.001185 ┆ -0.000558 ┆ … ┆ 4         ┆ -1.25X_0. ┆ 4         ┆ -0.000178 │\n",
       "│           ┆           ┆           ┆           ┆   ┆           ┆ 0Y        ┆           ┆           │\n",
       "│ 0.035728  ┆ 0.00095   ┆ -0.015691 ┆ -0.002213 ┆ … ┆ 4         ┆ -1.25X_0. ┆ 4         ┆ 0.000848  │\n",
       "│           ┆           ┆           ┆           ┆   ┆           ┆ 0Y        ┆           ┆           │\n",
       "│ 0.000238  ┆ 0.000004  ┆ -0.000143 ┆ -0.000039 ┆ … ┆ 4         ┆ -1.25X_0. ┆ 4         ┆ 0.000021  │\n",
       "│           ┆           ┆           ┆           ┆   ┆           ┆ 0Y        ┆           ┆           │\n",
       "└───────────┴───────────┴───────────┴───────────┴───┴───────────┴───────────┴───────────┴───────────┘"
      ]
     },
     "execution_count": 33,
     "metadata": {},
     "output_type": "execute_result"
    }
   ],
   "source": [
    "# subtract the quality metrics without dropout from all values, remove the non-dropout value\n",
    "delta_quality_dfs = []\n",
    "for i in range(len(quality_dfs)):\n",
    "    if \"t30_rel_delta\" in quality_dfs[i].columns:\n",
    "        cols = non_key_columns_no_dropped\n",
    "    else:\n",
    "        cols = non_key_columns_no_dropped_no_reverb\n",
    "    delta_quality_dfs.append(\n",
    "        quality_dfs[i].filter(pl.col(\"dropped\").is_not_null()).select(\n",
    "            pl.struct(cols).alias(\"struct\") - quality_dfs[i].filter(pl.col(\"dropped\").is_null()).select(cols).to_struct(),\n",
    "            pl.col(\"dropped\", *key_columns),\n",
    "        ).unnest(\"struct\").with_columns(xcorr_inv = -pl.col(\"xcorr\"))\n",
    "    )\n",
    "delta_quality = pl.concat(delta_quality_dfs, how=\"diagonal\")"
   ]
  },
  {
   "cell_type": "code",
   "execution_count": 34,
   "id": "e1afecd5-6e88-49c5-b5b0-2cdfb4f1b00f",
   "metadata": {
    "execution": {
     "iopub.execute_input": "2024-08-27T18:07:27.441421Z",
     "iopub.status.busy": "2024-08-27T18:07:27.441421Z",
     "iopub.status.idle": "2024-08-27T18:07:27.447439Z",
     "shell.execute_reply": "2024-08-27T18:07:27.447439Z",
     "shell.execute_reply.started": "2024-08-27T18:07:27.441421Z"
    }
   },
   "outputs": [
    {
     "data": {
      "text/plain": [
       "(19380, 28)"
      ]
     },
     "execution_count": 34,
     "metadata": {},
     "output_type": "execute_result"
    }
   ],
   "source": [
    "delta_quality.shape"
   ]
  },
  {
   "cell_type": "code",
   "execution_count": 35,
   "id": "4cbed262-8dd7-4d5b-874e-b3f1299e8843",
   "metadata": {
    "execution": {
     "iopub.execute_input": "2024-08-27T18:07:28.614271Z",
     "iopub.status.busy": "2024-08-27T18:07:28.614271Z",
     "iopub.status.idle": "2024-08-27T18:07:28.641373Z",
     "shell.execute_reply": "2024-08-27T18:07:28.640855Z",
     "shell.execute_reply.started": "2024-08-27T18:07:28.614271Z"
    }
   },
   "outputs": [
    {
     "data": {
      "text/html": [
       "<div><style>\n",
       ".dataframe > thead > tr,\n",
       ".dataframe > tbody > tr {\n",
       "  text-align: right;\n",
       "  white-space: pre-wrap;\n",
       "}\n",
       "</style>\n",
       "<small>shape: (19_380, 51)</small><table border=\"1\" class=\"dataframe\"><thead><tr><th>c20_rms</th><th>misdistributed_energy</th><th>ild_rms</th><th>iacc_rms</th><th>ild_delta</th><th>level_delta</th><th>lag_iacc_delta</th><th>t30_rel_rms</th><th>xcorr_std</th><th>lag_iacc_rms</th><th>c20_delta</th><th>xcorr_inv_add</th><th>iacc_delta</th><th>lag_rms</th><th>spectral_difference</th><th>rmse_lin</th><th>lag</th><th>lag_std</th><th>level_rms</th><th>t30_rel_delta</th><th>xcorr</th><th>dropped</th><th>room</th><th>from_listener</th><th>from_source</th><th>to_listener</th><th>to_source</th><th>xcorr_inv</th><th>index</th><th>src</th><th>start</th><th>stop</th><th>m0</th><th>m1</th><th>m2</th><th>imsrc_sample</th><th>highest_peak_idx_in_peaks</th><th>doa_std</th><th>doa_nn</th><th>distance_boost</th><th>order</th><th>m0_hf</th><th>m1_hf</th><th>m2_hf</th><th>peak_prominence</th><th>doa_stability_1deg</th><th>doa_stability_5deg</th><th>relative_imsrc_time</th><th>directivity_boost</th><th>filter_energy</th><th>length</th></tr><tr><td>f64</td><td>f64</td><td>f64</td><td>f64</td><td>f64</td><td>f64</td><td>f64</td><td>f64</td><td>f64</td><td>f64</td><td>f64</td><td>f64</td><td>f64</td><td>f64</td><td>f64</td><td>f64</td><td>f64</td><td>f64</td><td>f64</td><td>f64</td><td>f64</td><td>i64</td><td>str</td><td>str</td><td>i32</td><td>str</td><td>i32</td><td>f64</td><td>u32</td><td>i64</td><td>i64</td><td>i64</td><td>f64</td><td>f64</td><td>f64</td><td>i32</td><td>i64</td><td>f64</td><td>f64</td><td>f64</td><td>i32</td><td>f64</td><td>f64</td><td>f64</td><td>f64</td><td>i64</td><td>i64</td><td>f64</td><td>f64</td><td>f64</td><td>i64</td></tr></thead><tbody><tr><td>0.189026</td><td>0.009818</td><td>-0.069326</td><td>0.001544</td><td>0.005475</td><td>-0.114693</td><td>1.833333</td><td>-0.000681</td><td>0.00331</td><td>2.277685</td><td>-0.431446</td><td>0.015956</td><td>-0.010413</td><td>0.040062</td><td>0.062844</td><td>0.015365</td><td>0.041667</td><td>0.038452</td><td>-0.046085</td><td>0.000651</td><td>-0.015956</td><td>0</td><td>&quot;HL05W&quot;</td><td>&quot;0.0X_0.0Y&quot;</td><td>0</td><td>&quot;0.0X_0.0Y&quot;</td><td>0</td><td>0.015956</td><td>0</td><td>0</td><td>0</td><td>1090</td><td>0.071105</td><td>23.424951</td><td>5.224281</td><td>1000</td><td>13</td><td>2.031673</td><td>0.775229</td><td>10.265093</td><td>0</td><td>0.032842</td><td>9.159371</td><td>3.614078</td><td>15.191556</td><td>10</td><td>54</td><td>0.917431</td><td>25.197006</td><td>0.0</td><td>1090</td></tr><tr><td>0.510745</td><td>0.009641</td><td>-0.063496</td><td>0.007104</td><td>0.007376</td><td>-0.173383</td><td>1.583333</td><td>-0.001061</td><td>0.003067</td><td>2.288189</td><td>-0.781968</td><td>0.020431</td><td>-0.021409</td><td>0.0</td><td>0.109704</td><td>0.016766</td><td>0.0</td><td>0.0</td><td>-0.040523</td><td>0.001039</td><td>-0.020431</td><td>1</td><td>&quot;HL05W&quot;</td><td>&quot;0.0X_0.0Y&quot;</td><td>0</td><td>&quot;0.0X_0.0Y&quot;</td><td>0</td><td>0.020431</td><td>1</td><td>1</td><td>1090</td><td>1182</td><td>0.071312</td><td>-10.139235</td><td>5.826576</td><td>1152</td><td>17</td><td>0.766935</td><td>0.913043</td><td>12.760934</td><td>1</td><td>0.032819</td><td>-13.588524</td><td>5.168121</td><td>13.075156</td><td>6</td><td>29</td><td>0.673913</td><td>24.376448</td><td>2.788308</td><td>92</td></tr><tr><td>0.519075</td><td>0.020398</td><td>0.265055</td><td>0.019296</td><td>-0.112503</td><td>-0.648201</td><td>1.75</td><td>-0.003633</td><td>-0.008686</td><td>0.617053</td><td>-1.440305</td><td>0.011345</td><td>0.025299</td><td>-0.091752</td><td>0.011736</td><td>-0.044646</td><td>0.0</td><td>-0.091752</td><td>0.297984</td><td>0.004348</td><td>-0.011345</td><td>2</td><td>&quot;HL05W&quot;</td><td>&quot;0.0X_0.0Y&quot;</td><td>0</td><td>&quot;0.0X_0.0Y&quot;</td><td>0</td><td>0.011345</td><td>2</td><td>2</td><td>1475</td><td>1543</td><td>0.092744</td><td>-6.631503</td><td>2.352815</td><td>1512</td><td>24</td><td>1.089485</td><td>0.882353</td><td>16.802765</td><td>1</td><td>0.081459</td><td>-7.582317</td><td>1.930367</td><td>84.343232</td><td>33</td><td>57</td><td>0.544118</td><td>4.117089</td><td>-1.899535</td><td>68</td></tr><tr><td>0.008733</td><td>0.000458</td><td>-0.010835</td><td>-0.000195</td><td>0.000553</td><td>-0.012726</td><td>1.083333</td><td>-0.000112</td><td>0.000314</td><td>-0.520989</td><td>-0.048568</td><td>0.001823</td><td>0.000468</td><td>0.0</td><td>0.001423</td><td>0.001635</td><td>0.0</td><td>0.0</td><td>-0.007808</td><td>0.000102</td><td>-0.001823</td><td>3</td><td>&quot;HL05W&quot;</td><td>&quot;0.0X_0.0Y&quot;</td><td>0</td><td>&quot;0.0X_0.0Y&quot;</td><td>0</td><td>0.001823</td><td>3</td><td>6</td><td>1182</td><td>1237</td><td>0.022534</td><td>-3.983457</td><td>4.521039</td><td>1209</td><td>19</td><td>1.165715</td><td>0.909091</td><td>13.541279</td><td>1</td><td>0.013935</td><td>-4.481781</td><td>4.737973</td><td>1.64649</td><td>3</td><td>3</td><td>0.490909</td><td>24.464293</td><td>-3.250034</td><td>55</td></tr><tr><td>0.263707</td><td>0.021157</td><td>-0.209622</td><td>0.012876</td><td>-0.019235</td><td>-0.43379</td><td>2.0</td><td>-0.002929</td><td>0.005082</td><td>1.268078</td><td>-1.095852</td><td>0.009926</td><td>0.014951</td><td>0.0</td><td>0.025677</td><td>-0.012679</td><td>0.083333</td><td>-0.006993</td><td>-0.020251</td><td>0.002779</td><td>-0.009926</td><td>4</td><td>&quot;HL05W&quot;</td><td>&quot;0.0X_0.0Y&quot;</td><td>0</td><td>&quot;0.0X_0.0Y&quot;</td><td>0</td><td>0.009926</td><td>4</td><td>8</td><td>1543</td><td>1615</td><td>0.088686</td><td>-9.524603</td><td>4.57512</td><td>1593</td><td>26</td><td>0.621013</td><td>0.930556</td><td>17.493347</td><td>2</td><td>0.075608</td><td>-10.54029</td><td>4.108845</td><td>13.632943</td><td>36</td><td>52</td><td>0.694444</td><td>7.02111</td><td>-0.702202</td><td>72</td></tr><tr><td>&hellip;</td><td>&hellip;</td><td>&hellip;</td><td>&hellip;</td><td>&hellip;</td><td>&hellip;</td><td>&hellip;</td><td>&hellip;</td><td>&hellip;</td><td>&hellip;</td><td>&hellip;</td><td>&hellip;</td><td>&hellip;</td><td>&hellip;</td><td>&hellip;</td><td>&hellip;</td><td>&hellip;</td><td>&hellip;</td><td>&hellip;</td><td>&hellip;</td><td>&hellip;</td><td>&hellip;</td><td>&hellip;</td><td>&hellip;</td><td>&hellip;</td><td>&hellip;</td><td>&hellip;</td><td>&hellip;</td><td>&hellip;</td><td>&hellip;</td><td>&hellip;</td><td>&hellip;</td><td>&hellip;</td><td>&hellip;</td><td>&hellip;</td><td>&hellip;</td><td>&hellip;</td><td>&hellip;</td><td>&hellip;</td><td>&hellip;</td><td>&hellip;</td><td>&hellip;</td><td>&hellip;</td><td>&hellip;</td><td>&hellip;</td><td>&hellip;</td><td>&hellip;</td><td>&hellip;</td><td>&hellip;</td><td>&hellip;</td><td>&hellip;</td></tr><tr><td>-0.252701</td><td>0.005881</td><td>-0.08415</td><td>-0.006662</td><td>-0.013472</td><td>-0.153566</td><td>-0.083333</td><td>0.002295</td><td>0.006415</td><td>0.038506</td><td>-0.211714</td><td>0.005785</td><td>0.004373</td><td>0.0</td><td>0.00655</td><td>0.003801</td><td>0.0</td><td>0.0</td><td>0.088406</td><td>0.002673</td><td>-0.005785</td><td>13</td><td>&quot;HL06W&quot;</td><td>&quot;-1.25X_0.0Y&quot;</td><td>4</td><td>&quot;-1.25X_0.0Y&quot;</td><td>4</td><td>0.005785</td><td>13</td><td>183</td><td>1702</td><td>1772</td><td>0.069725</td><td>-4.717887</td><td>6.431363</td><td>1738</td><td>32</td><td>5.303597</td><td>0.728571</td><td>17.087682</td><td>4</td><td>0.041144</td><td>-5.768154</td><td>5.060668</td><td>6.445522</td><td>8</td><td>16</td><td>0.514286</td><td>5.248962</td><td>-6.045544</td><td>70</td></tr><tr><td>0.065895</td><td>0.000746</td><td>-0.048747</td><td>0.000208</td><td>0.005617</td><td>-0.041322</td><td>0.0</td><td>0.000207</td><td>-0.001608</td><td>0.0</td><td>0.064771</td><td>-0.002087</td><td>-0.000906</td><td>0.0</td><td>0.001442</td><td>-0.005217</td><td>0.0</td><td>0.0</td><td>0.013364</td><td>0.000592</td><td>0.002087</td><td>14</td><td>&quot;HL06W&quot;</td><td>&quot;-1.25X_0.0Y&quot;</td><td>4</td><td>&quot;-1.25X_0.0Y&quot;</td><td>4</td><td>-0.002087</td><td>14</td><td>184</td><td>1793</td><td>1836</td><td>0.020998</td><td>152.238806</td><td>4.561326</td><td>1663</td><td>35</td><td>7.0573</td><td>0.27907</td><td>16.40967</td><td>4</td><td>0.019172</td><td>152.049747</td><td>4.669508</td><td>2.499006</td><td>2</td><td>2</td><td>-3.023256</td><td>4.071061</td><td>-11.782945</td><td>43</td></tr><tr><td>0.008639</td><td>0.000132</td><td>-0.001185</td><td>-0.000558</td><td>-0.001253</td><td>-0.009618</td><td>0.0</td><td>0.000025</td><td>-0.000155</td><td>0.0</td><td>0.016174</td><td>-0.000178</td><td>0.000594</td><td>0.0</td><td>-0.002759</td><td>-0.000586</td><td>0.0</td><td>0.0</td><td>0.006761</td><td>0.000126</td><td>0.000178</td><td>15</td><td>&quot;HL06W&quot;</td><td>&quot;-1.25X_0.0Y&quot;</td><td>4</td><td>&quot;-1.25X_0.0Y&quot;</td><td>4</td><td>-0.000178</td><td>15</td><td>215</td><td>2010</td><td>2054</td><td>0.025709</td><td>-15.8773</td><td>4.183936</td><td>2045</td><td>41</td><td>5.59564</td><td>0.272727</td><td>19.411317</td><td>4</td><td>0.023616</td><td>-16.04473</td><td>4.0855</td><td>9.163085</td><td>2</td><td>3</td><td>0.795455</td><td>24.309095</td><td>10.476384</td><td>44</td></tr><tr><td>0.035728</td><td>0.00095</td><td>-0.015691</td><td>-0.002213</td><td>0.001775</td><td>-0.020935</td><td>0.0</td><td>0.000201</td><td>0.00115</td><td>0.0</td><td>0.030263</td><td>0.000848</td><td>0.002718</td><td>0.0</td><td>0.00175</td><td>0.000599</td><td>0.0</td><td>0.0</td><td>0.007921</td><td>0.000359</td><td>-0.000848</td><td>16</td><td>&quot;HL06W&quot;</td><td>&quot;-1.25X_0.0Y&quot;</td><td>4</td><td>&quot;-1.25X_0.0Y&quot;</td><td>4</td><td>0.000848</td><td>16</td><td>224</td><td>2237</td><td>2280</td><td>0.018851</td><td>-30.650835</td><td>4.785438</td><td>2290</td><td>49</td><td>2.286956</td><td>0.44186</td><td>20.90679</td><td>4</td><td>0.015387</td><td>-30.224614</td><td>4.295125</td><td>5.270921</td><td>4</td><td>7</td><td>1.232558</td><td>30.931013</td><td>11.305576</td><td>43</td></tr><tr><td>0.000238</td><td>0.000004</td><td>-0.000143</td><td>-0.000039</td><td>-0.000129</td><td>0.000095</td><td>0.0</td><td>-0.000003</td><td>0.000013</td><td>0.0</td><td>-0.000123</td><td>0.000021</td><td>0.000063</td><td>0.0</td><td>0.000047</td><td>0.000033</td><td>0.0</td><td>0.0</td><td>-0.000313</td><td>-0.000001</td><td>-0.000021</td><td>17</td><td>&quot;HL06W&quot;</td><td>&quot;-1.25X_0.0Y&quot;</td><td>4</td><td>&quot;-1.25X_0.0Y&quot;</td><td>4</td><td>0.000021</td><td>17</td><td>312</td><td>2166</td><td>2220</td><td>0.025846</td><td>-250.379283</td><td>4.11227</td><td>2439</td><td>46</td><td>5.464948</td><td>0.5</td><td>21.699716</td><td>5</td><td>0.017243</td><td>-248.33621</td><td>4.603765</td><td>9.947045</td><td>0</td><td>6</td><td>5.055556</td><td>29.487712</td><td>-10.484446</td><td>54</td></tr></tbody></table></div>"
      ],
      "text/plain": [
       "shape: (19_380, 51)\n",
       "┌───────────┬────────────┬───────────┬───────────┬───┬────────────┬────────────┬───────────┬────────┐\n",
       "│ c20_rms   ┆ misdistrib ┆ ild_rms   ┆ iacc_rms  ┆ … ┆ relative_i ┆ directivit ┆ filter_en ┆ length │\n",
       "│ ---       ┆ uted_energ ┆ ---       ┆ ---       ┆   ┆ msrc_time  ┆ y_boost    ┆ ergy      ┆ ---    │\n",
       "│ f64       ┆ y          ┆ f64       ┆ f64       ┆   ┆ ---        ┆ ---        ┆ ---       ┆ i64    │\n",
       "│           ┆ ---        ┆           ┆           ┆   ┆ f64        ┆ f64        ┆ f64       ┆        │\n",
       "│           ┆ f64        ┆           ┆           ┆   ┆            ┆            ┆           ┆        │\n",
       "╞═══════════╪════════════╪═══════════╪═══════════╪═══╪════════════╪════════════╪═══════════╪════════╡\n",
       "│ 0.189026  ┆ 0.009818   ┆ -0.069326 ┆ 0.001544  ┆ … ┆ 0.917431   ┆ 25.197006  ┆ 0.0       ┆ 1090   │\n",
       "│ 0.510745  ┆ 0.009641   ┆ -0.063496 ┆ 0.007104  ┆ … ┆ 0.673913   ┆ 24.376448  ┆ 2.788308  ┆ 92     │\n",
       "│ 0.519075  ┆ 0.020398   ┆ 0.265055  ┆ 0.019296  ┆ … ┆ 0.544118   ┆ 4.117089   ┆ -1.899535 ┆ 68     │\n",
       "│ 0.008733  ┆ 0.000458   ┆ -0.010835 ┆ -0.000195 ┆ … ┆ 0.490909   ┆ 24.464293  ┆ -3.250034 ┆ 55     │\n",
       "│ 0.263707  ┆ 0.021157   ┆ -0.209622 ┆ 0.012876  ┆ … ┆ 0.694444   ┆ 7.02111    ┆ -0.702202 ┆ 72     │\n",
       "│ …         ┆ …          ┆ …         ┆ …         ┆ … ┆ …          ┆ …          ┆ …         ┆ …      │\n",
       "│ -0.252701 ┆ 0.005881   ┆ -0.08415  ┆ -0.006662 ┆ … ┆ 0.514286   ┆ 5.248962   ┆ -6.045544 ┆ 70     │\n",
       "│ 0.065895  ┆ 0.000746   ┆ -0.048747 ┆ 0.000208  ┆ … ┆ -3.023256  ┆ 4.071061   ┆ -11.78294 ┆ 43     │\n",
       "│           ┆            ┆           ┆           ┆   ┆            ┆            ┆ 5         ┆        │\n",
       "│ 0.008639  ┆ 0.000132   ┆ -0.001185 ┆ -0.000558 ┆ … ┆ 0.795455   ┆ 24.309095  ┆ 10.476384 ┆ 44     │\n",
       "│ 0.035728  ┆ 0.00095    ┆ -0.015691 ┆ -0.002213 ┆ … ┆ 1.232558   ┆ 30.931013  ┆ 11.305576 ┆ 43     │\n",
       "│ 0.000238  ┆ 0.000004   ┆ -0.000143 ┆ -0.000039 ┆ … ┆ 5.055556   ┆ 29.487712  ┆ -10.48444 ┆ 54     │\n",
       "│           ┆            ┆           ┆           ┆   ┆            ┆            ┆ 6         ┆        │\n",
       "└───────────┴────────────┴───────────┴───────────┴───┴────────────┴────────────┴───────────┴────────┘"
      ]
     },
     "execution_count": 35,
     "metadata": {},
     "output_type": "execute_result"
    }
   ],
   "source": [
    "delta_joined = delta_quality.with_columns(\n",
    "    index = pl.col(\"dropped\").cast(pl.UInt32)\n",
    ").join(\n",
    "    presynth,\n",
    "     [\"room\", \"from_listener\", \"from_source\", \"index\"],\n",
    "    #validate=\"m:1\",\n",
    ").with_columns(\n",
    "    length = pl.col(\"stop\") - pl.col(\"start\")\n",
    ")"
   ]
  },
  {
   "cell_type": "markdown",
   "id": "60ca39fd-bbe0-4e9f-abf5-2fa68339515e",
   "metadata": {},
   "source": [
    "Little check that differencing worked out:"
   ]
  },
  {
   "cell_type": "code",
   "execution_count": 36,
   "id": "5f299b3f-8aab-49ff-b557-4cf0671403b2",
   "metadata": {
    "execution": {
     "iopub.execute_input": "2024-08-27T18:07:31.481151Z",
     "iopub.status.busy": "2024-08-27T18:07:31.480137Z",
     "iopub.status.idle": "2024-08-27T18:07:31.490604Z",
     "shell.execute_reply": "2024-08-27T18:07:31.490604Z",
     "shell.execute_reply.started": "2024-08-27T18:07:31.480137Z"
    }
   },
   "outputs": [
    {
     "data": {
      "text/html": [
       "<div><style>\n",
       ".dataframe > thead > tr,\n",
       ".dataframe > tbody > tr {\n",
       "  text-align: right;\n",
       "  white-space: pre-wrap;\n",
       "}\n",
       "</style>\n",
       "<small>shape: (1, 51)</small><table border=\"1\" class=\"dataframe\"><thead><tr><th>c20_rms</th><th>misdistributed_energy</th><th>ild_rms</th><th>iacc_rms</th><th>ild_delta</th><th>level_delta</th><th>lag_iacc_delta</th><th>t30_rel_rms</th><th>xcorr_std</th><th>lag_iacc_rms</th><th>c20_delta</th><th>xcorr_inv_add</th><th>iacc_delta</th><th>lag_rms</th><th>spectral_difference</th><th>rmse_lin</th><th>lag</th><th>lag_std</th><th>level_rms</th><th>t30_rel_delta</th><th>xcorr</th><th>dropped</th><th>room</th><th>from_listener</th><th>from_source</th><th>to_listener</th><th>to_source</th><th>xcorr_inv</th><th>index</th><th>src</th><th>start</th><th>stop</th><th>m0</th><th>m1</th><th>m2</th><th>imsrc_sample</th><th>highest_peak_idx_in_peaks</th><th>doa_std</th><th>doa_nn</th><th>distance_boost</th><th>order</th><th>m0_hf</th><th>m1_hf</th><th>m2_hf</th><th>peak_prominence</th><th>doa_stability_1deg</th><th>doa_stability_5deg</th><th>relative_imsrc_time</th><th>directivity_boost</th><th>filter_energy</th><th>length</th></tr><tr><td>f64</td><td>f64</td><td>f64</td><td>f64</td><td>f64</td><td>f64</td><td>f64</td><td>f64</td><td>f64</td><td>f64</td><td>f64</td><td>f64</td><td>f64</td><td>f64</td><td>f64</td><td>f64</td><td>f64</td><td>f64</td><td>f64</td><td>f64</td><td>f64</td><td>i64</td><td>str</td><td>str</td><td>i32</td><td>str</td><td>i32</td><td>f64</td><td>u32</td><td>i64</td><td>i64</td><td>i64</td><td>f64</td><td>f64</td><td>f64</td><td>i32</td><td>i64</td><td>f64</td><td>f64</td><td>f64</td><td>i32</td><td>f64</td><td>f64</td><td>f64</td><td>f64</td><td>i64</td><td>i64</td><td>f64</td><td>f64</td><td>f64</td><td>i64</td></tr></thead><tbody><tr><td>-0.028853</td><td>0.000728</td><td>0.057344</td><td>-0.003976</td><td>-0.014463</td><td>-0.074025</td><td>-1.416667</td><td>-0.000427</td><td>-0.017147</td><td>0.716139</td><td>-0.053194</td><td>-0.011155</td><td>-0.005231</td><td>-2.696206</td><td>-0.008086</td><td>-0.006807</td><td>-3.083333</td><td>-3.842084</td><td>0.059886</td><td>0.000454</td><td>0.011155</td><td>9</td><td>&quot;HL05W&quot;</td><td>&quot;0.0X_0.0Y&quot;</td><td>0</td><td>&quot;-1.25X_0.0Y&quot;</td><td>0</td><td>-0.011155</td><td>9</td><td>36</td><td>1686</td><td>1737</td><td>0.038272</td><td>11.465864</td><td>4.610896</td><td>1699</td><td>30</td><td>1.798942</td><td>0.470588</td><td>18.332724</td><td>3</td><td>0.027988</td><td>10.595933</td><td>4.890129</td><td>3.489145</td><td>3</td><td>15</td><td>0.254902</td><td>7.972278</td><td>-7.370097</td><td>51</td></tr></tbody></table></div>"
      ],
      "text/plain": [
       "shape: (1, 51)\n",
       "┌───────────┬────────────┬──────────┬───────────┬───┬────────────┬────────────┬────────────┬────────┐\n",
       "│ c20_rms   ┆ misdistrib ┆ ild_rms  ┆ iacc_rms  ┆ … ┆ relative_i ┆ directivit ┆ filter_ene ┆ length │\n",
       "│ ---       ┆ uted_energ ┆ ---      ┆ ---       ┆   ┆ msrc_time  ┆ y_boost    ┆ rgy        ┆ ---    │\n",
       "│ f64       ┆ y          ┆ f64      ┆ f64       ┆   ┆ ---        ┆ ---        ┆ ---        ┆ i64    │\n",
       "│           ┆ ---        ┆          ┆           ┆   ┆ f64        ┆ f64        ┆ f64        ┆        │\n",
       "│           ┆ f64        ┆          ┆           ┆   ┆            ┆            ┆            ┆        │\n",
       "╞═══════════╪════════════╪══════════╪═══════════╪═══╪════════════╪════════════╪════════════╪════════╡\n",
       "│ -0.028853 ┆ 0.000728   ┆ 0.057344 ┆ -0.003976 ┆ … ┆ 0.254902   ┆ 7.972278   ┆ -7.370097  ┆ 51     │\n",
       "└───────────┴────────────┴──────────┴───────────┴───┴────────────┴────────────┴────────────┴────────┘"
      ]
     },
     "execution_count": 36,
     "metadata": {},
     "output_type": "execute_result"
    }
   ],
   "source": [
    "delta_joined[333]"
   ]
  },
  {
   "cell_type": "code",
   "execution_count": 37,
   "id": "a3bef45d-aa30-404b-8120-c346c4018bb1",
   "metadata": {
    "execution": {
     "iopub.execute_input": "2024-08-27T18:07:31.509228Z",
     "iopub.status.busy": "2024-08-27T18:07:31.509228Z",
     "iopub.status.idle": "2024-08-27T18:07:31.520774Z",
     "shell.execute_reply": "2024-08-27T18:07:31.520774Z",
     "shell.execute_reply.started": "2024-08-27T18:07:31.509228Z"
    }
   },
   "outputs": [
    {
     "data": {
      "text/html": [
       "<div><style>\n",
       ".dataframe > thead > tr,\n",
       ".dataframe > tbody > tr {\n",
       "  text-align: right;\n",
       "  white-space: pre-wrap;\n",
       "}\n",
       "</style>\n",
       "<small>shape: (2, 27)</small><table border=\"1\" class=\"dataframe\"><thead><tr><th>lag</th><th>lag_std</th><th>lag_rms</th><th>xcorr</th><th>xcorr_std</th><th>level_delta</th><th>level_rms</th><th>misdistributed_energy</th><th>t30_rel_delta</th><th>t30_rel_rms</th><th>c20_delta</th><th>c20_rms</th><th>iacc_delta</th><th>iacc_rms</th><th>lag_iacc_delta</th><th>lag_iacc_rms</th><th>ild_delta</th><th>ild_rms</th><th>spectral_difference</th><th>dropped</th><th>room</th><th>from_listener</th><th>from_source</th><th>to_listener</th><th>to_source</th><th>xcorr_inv_add</th><th>rmse_lin</th></tr><tr><td>f64</td><td>f64</td><td>f64</td><td>f64</td><td>f64</td><td>f64</td><td>f64</td><td>f64</td><td>f64</td><td>f64</td><td>f64</td><td>f64</td><td>f64</td><td>f64</td><td>f64</td><td>f64</td><td>f64</td><td>f64</td><td>f64</td><td>i64</td><td>str</td><td>str</td><td>i32</td><td>str</td><td>i32</td><td>f64</td><td>f64</td></tr></thead><tbody><tr><td>-36.041667</td><td>117.148936</td><td>122.567838</td><td>0.202244</td><td>0.144333</td><td>-0.461759</td><td>0.731713</td><td>0.118741</td><td>-0.080085</td><td>0.080322</td><td>0.775307</td><td>1.670819</td><td>0.032718</td><td>0.087392</td><td>-2.166667</td><td>22.15852</td><td>0.304825</td><td>0.649476</td><td>0.401664</td><td>null</td><td>&quot;HL05W&quot;</td><td>&quot;0.0X_0.0Y&quot;</td><td>0</td><td>&quot;-1.25X_0.0Y&quot;</td><td>0</td><td>0.797756</td><td>1.377171</td></tr><tr><td>-39.125</td><td>113.306852</td><td>119.871633</td><td>0.213398</td><td>0.127186</td><td>-0.535784</td><td>0.791599</td><td>0.119469</td><td>-0.079631</td><td>0.079895</td><td>0.722114</td><td>1.641966</td><td>0.027488</td><td>0.083416</td><td>-3.583333</td><td>22.874658</td><td>0.290363</td><td>0.70682</td><td>0.393579</td><td>9</td><td>&quot;HL05W&quot;</td><td>&quot;0.0X_0.0Y&quot;</td><td>0</td><td>&quot;-1.25X_0.0Y&quot;</td><td>0</td><td>0.786602</td><td>1.370364</td></tr></tbody></table></div>"
      ],
      "text/plain": [
       "shape: (2, 27)\n",
       "┌────────────┬────────────┬───────────┬──────────┬───┬───────────┬───────────┬───────────┬──────────┐\n",
       "│ lag        ┆ lag_std    ┆ lag_rms   ┆ xcorr    ┆ … ┆ to_listen ┆ to_source ┆ xcorr_inv ┆ rmse_lin │\n",
       "│ ---        ┆ ---        ┆ ---       ┆ ---      ┆   ┆ er        ┆ ---       ┆ _add      ┆ ---      │\n",
       "│ f64        ┆ f64        ┆ f64       ┆ f64      ┆   ┆ ---       ┆ i32       ┆ ---       ┆ f64      │\n",
       "│            ┆            ┆           ┆          ┆   ┆ str       ┆           ┆ f64       ┆          │\n",
       "╞════════════╪════════════╪═══════════╪══════════╪═══╪═══════════╪═══════════╪═══════════╪══════════╡\n",
       "│ -36.041667 ┆ 117.148936 ┆ 122.56783 ┆ 0.202244 ┆ … ┆ -1.25X_0. ┆ 0         ┆ 0.797756  ┆ 1.377171 │\n",
       "│            ┆            ┆ 8         ┆          ┆   ┆ 0Y        ┆           ┆           ┆          │\n",
       "│ -39.125    ┆ 113.306852 ┆ 119.87163 ┆ 0.213398 ┆ … ┆ -1.25X_0. ┆ 0         ┆ 0.786602  ┆ 1.370364 │\n",
       "│            ┆            ┆ 3         ┆          ┆   ┆ 0Y        ┆           ┆           ┆          │\n",
       "└────────────┴────────────┴───────────┴──────────┴───┴───────────┴───────────┴───────────┴──────────┘"
      ]
     },
     "execution_count": 37,
     "metadata": {},
     "output_type": "execute_result"
    }
   ],
   "source": [
    "# look for corresponding quality entries\n",
    "quality.filter(\n",
    "    pl.col(\"room\").eq(\"HL05W\"),\n",
    "    pl.col(\"from_listener\").eq(\"0.0X_0.0Y\"),\n",
    "    pl.col(\"from_source\").eq(0),\n",
    "    pl.col(\"to_listener\").eq(\"-1.25X_0.0Y\"),\n",
    "    pl.col(\"to_source\").eq(0),\n",
    "    pl.col(\"dropped\").is_null() | pl.col(\"dropped\").eq(9)\n",
    ")"
   ]
  },
  {
   "cell_type": "markdown",
   "id": "319682ba-acee-4ca3-b445-bf6a9b8f0b33",
   "metadata": {},
   "source": [
    "rmse, misdistributed_energy, ild_rms seem properly subtracted -> that one sample worked, that's good!"
   ]
  },
  {
   "cell_type": "code",
   "execution_count": 300,
   "id": "d4bbd413-8562-4337-bfee-3bc38de5082f",
   "metadata": {
    "execution": {
     "iopub.execute_input": "2024-08-28T20:03:54.846390Z",
     "iopub.status.busy": "2024-08-28T20:03:54.844388Z",
     "iopub.status.idle": "2024-08-28T20:03:54.931697Z",
     "shell.execute_reply": "2024-08-28T20:03:54.931697Z",
     "shell.execute_reply.started": "2024-08-28T20:03:54.846390Z"
    }
   },
   "outputs": [
    {
     "data": {
      "text/plain": [
       "['xcorr_inv_add',\n",
       " 'rmse_lin',\n",
       " 'lag_rms',\n",
       " 'level_rms',\n",
       " 'misdistributed_energy',\n",
       " 't30_rel_rms',\n",
       " 'c20_rms',\n",
       " 'iacc_rms',\n",
       " 'lag_iacc_rms',\n",
       " 'ild_rms',\n",
       " 'spectral_difference']"
      ]
     },
     "execution_count": 300,
     "metadata": {},
     "output_type": "execute_result"
    }
   ],
   "source": [
    "pre_metrics = [\n",
    "    \"start\", # could be interesting in the sense of later reflections being worse\n",
    "    \"length\", # maybe longer ones are more troubled? (with exception of direct sound)\n",
    "    \"m0\",\n",
    "    \"m1\",\n",
    "    \"m2\",\n",
    "    \"imsrc_sample\",\n",
    "    \"doa_std\",\n",
    "    \"doa_nn\",\n",
    "    \"distance_boost\",\n",
    "    \"order\",\n",
    "    \"m0_hf\",\n",
    "    \"m1_hf\",\n",
    "    \"m2_hf\",\n",
    "    \"peak_prominence\",\n",
    "    'doa_stability_1deg',\n",
    "    'doa_stability_5deg',\n",
    "    'relative_imsrc_time',\n",
    "    'directivity_boost',\n",
    "    'filter_energy',\n",
    "    #'room',\n",
    "]\n",
    "quality_metrics = [\n",
    "    \"xcorr_inv_add\",\n",
    "    \"rmse_lin\",\n",
    "    \"lag_rms\",\n",
    "    \"level_rms\",\n",
    "    'misdistributed_energy',\n",
    "    't30_rel_rms',\n",
    "    'c20_rms',\n",
    "    'iacc_rms',\n",
    "    'lag_iacc_rms',\n",
    "    'ild_rms',\n",
    "    'spectral_difference',\n",
    "]"
   ]
  },
  {
   "cell_type": "raw",
   "id": "6e4085a1-a5c9-46bd-92ac-1d3fe9b0fab1",
   "metadata": {
    "execution": {
     "iopub.execute_input": "2024-08-28T20:18:49.730146Z",
     "iopub.status.busy": "2024-08-28T20:18:49.730146Z",
     "iopub.status.idle": "2024-08-28T20:18:49.757190Z",
     "shell.execute_reply": "2024-08-28T20:18:49.757190Z",
     "shell.execute_reply.started": "2024-08-28T20:18:49.730146Z"
    }
   },
   "source": [
    "pyperclip.copy(pl.DataFrame(pre_metrics).to_pandas().to_latex(index=False,formatters=[\n",
    "    lambda s: f\"\"\"\\\\texttt{{{s}}}\"\"\"\n",
    "], escape=True))"
   ]
  },
  {
   "cell_type": "code",
   "execution_count": 42,
   "id": "71c6ed7f-e3df-4f25-a3e7-22d2aacfbf85",
   "metadata": {
    "execution": {
     "iopub.execute_input": "2024-08-27T18:07:55.127324Z",
     "iopub.status.busy": "2024-08-27T18:07:55.125810Z",
     "iopub.status.idle": "2024-08-27T18:07:55.136844Z",
     "shell.execute_reply": "2024-08-27T18:07:55.135829Z",
     "shell.execute_reply.started": "2024-08-27T18:07:55.127324Z"
    }
   },
   "outputs": [
    {
     "data": {
      "text/plain": [
       "19"
      ]
     },
     "execution_count": 42,
     "metadata": {},
     "output_type": "execute_result"
    }
   ],
   "source": [
    "len(pre_metrics)"
   ]
  },
  {
   "cell_type": "code",
   "execution_count": 43,
   "id": "48780cb7-4e1f-41e7-9944-471e92a93b39",
   "metadata": {
    "execution": {
     "iopub.execute_input": "2024-08-27T18:07:56.136282Z",
     "iopub.status.busy": "2024-08-27T18:07:56.135282Z",
     "iopub.status.idle": "2024-08-27T18:07:56.146452Z",
     "shell.execute_reply": "2024-08-27T18:07:56.145326Z",
     "shell.execute_reply.started": "2024-08-27T18:07:56.136282Z"
    }
   },
   "outputs": [
    {
     "data": {
      "text/plain": [
       "11"
      ]
     },
     "execution_count": 43,
     "metadata": {},
     "output_type": "execute_result"
    }
   ],
   "source": [
    "len(quality_metrics)"
   ]
  },
  {
   "cell_type": "code",
   "execution_count": 44,
   "id": "8912314a-d50f-4867-94bf-658323bbc675",
   "metadata": {
    "execution": {
     "iopub.execute_input": "2024-08-27T18:07:57.833891Z",
     "iopub.status.busy": "2024-08-27T18:07:57.833891Z",
     "iopub.status.idle": "2024-08-27T18:07:57.847318Z",
     "shell.execute_reply": "2024-08-27T18:07:57.847318Z",
     "shell.execute_reply.started": "2024-08-27T18:07:57.833891Z"
    }
   },
   "outputs": [
    {
     "data": {
      "text/html": [
       "<div><style>\n",
       ".dataframe > thead > tr,\n",
       ".dataframe > tbody > tr {\n",
       "  text-align: right;\n",
       "  white-space: pre-wrap;\n",
       "}\n",
       "</style>\n",
       "<small>shape: (1, 30)</small><table border=\"1\" class=\"dataframe\"><thead><tr><th>xcorr_inv_add</th><th>rmse_lin</th><th>lag_rms</th><th>level_rms</th><th>misdistributed_energy</th><th>t30_rel_rms</th><th>c20_rms</th><th>iacc_rms</th><th>lag_iacc_rms</th><th>ild_rms</th><th>spectral_difference</th><th>start</th><th>length</th><th>m0</th><th>m1</th><th>m2</th><th>imsrc_sample</th><th>doa_std</th><th>doa_nn</th><th>distance_boost</th><th>order</th><th>m0_hf</th><th>m1_hf</th><th>m2_hf</th><th>peak_prominence</th><th>doa_stability_1deg</th><th>doa_stability_5deg</th><th>relative_imsrc_time</th><th>directivity_boost</th><th>filter_energy</th></tr><tr><td>u32</td><td>u32</td><td>u32</td><td>u32</td><td>u32</td><td>u32</td><td>u32</td><td>u32</td><td>u32</td><td>u32</td><td>u32</td><td>u32</td><td>u32</td><td>u32</td><td>u32</td><td>u32</td><td>u32</td><td>u32</td><td>u32</td><td>u32</td><td>u32</td><td>u32</td><td>u32</td><td>u32</td><td>u32</td><td>u32</td><td>u32</td><td>u32</td><td>u32</td><td>u32</td></tr></thead><tbody><tr><td>0</td><td>0</td><td>0</td><td>0</td><td>0</td><td>6291</td><td>5235</td><td>0</td><td>0</td><td>0</td><td>0</td><td>0</td><td>0</td><td>0</td><td>0</td><td>0</td><td>0</td><td>0</td><td>0</td><td>0</td><td>0</td><td>0</td><td>0</td><td>0</td><td>490</td><td>0</td><td>0</td><td>0</td><td>0</td><td>870</td></tr></tbody></table></div>"
      ],
      "text/plain": [
       "shape: (1, 30)\n",
       "┌────────────┬──────────┬─────────┬───────────┬───┬────────────┬────────────┬───────────┬───────────┐\n",
       "│ xcorr_inv_ ┆ rmse_lin ┆ lag_rms ┆ level_rms ┆ … ┆ doa_stabil ┆ relative_i ┆ directivi ┆ filter_en │\n",
       "│ add        ┆ ---      ┆ ---     ┆ ---       ┆   ┆ ity_5deg   ┆ msrc_time  ┆ ty_boost  ┆ ergy      │\n",
       "│ ---        ┆ u32      ┆ u32     ┆ u32       ┆   ┆ ---        ┆ ---        ┆ ---       ┆ ---       │\n",
       "│ u32        ┆          ┆         ┆           ┆   ┆ u32        ┆ u32        ┆ u32       ┆ u32       │\n",
       "╞════════════╪══════════╪═════════╪═══════════╪═══╪════════════╪════════════╪═══════════╪═══════════╡\n",
       "│ 0          ┆ 0        ┆ 0       ┆ 0         ┆ … ┆ 0          ┆ 0          ┆ 0         ┆ 870       │\n",
       "└────────────┴──────────┴─────────┴───────────┴───┴────────────┴────────────┴───────────┴───────────┘"
      ]
     },
     "execution_count": 44,
     "metadata": {},
     "output_type": "execute_result"
    }
   ],
   "source": [
    "delta_joined.select(*quality_metrics, *pre_metrics).fill_nan(None).null_count()"
   ]
  },
  {
   "cell_type": "code",
   "execution_count": 45,
   "id": "63a2c692-93d6-4ce9-a12d-62791f8b2392",
   "metadata": {
    "execution": {
     "iopub.execute_input": "2024-08-27T18:08:00.779562Z",
     "iopub.status.busy": "2024-08-27T18:08:00.778564Z",
     "iopub.status.idle": "2024-08-27T18:08:00.794320Z",
     "shell.execute_reply": "2024-08-27T18:08:00.793306Z",
     "shell.execute_reply.started": "2024-08-27T18:08:00.779562Z"
    }
   },
   "outputs": [
    {
     "data": {
      "text/plain": [
       "(11428, 30)"
      ]
     },
     "execution_count": 45,
     "metadata": {},
     "output_type": "execute_result"
    }
   ],
   "source": [
    "delta_joined.select(*quality_metrics, *pre_metrics).fill_nan(None).drop_nulls().shape"
   ]
  },
  {
   "cell_type": "markdown",
   "id": "f99a76f3-0153-4c57-aaa5-2a2d6a841474",
   "metadata": {},
   "source": [
    "Ignoring all rows with some sort of NaN/null eliminates a lot of rows, only 11_428 of 19_380 remain...\n",
    "\n",
    "T30/C20 are probably often missing because of the LF oscillations at the back of some measurements. Why are they different in amount though?\n",
    "\n",
    "Filter energy seems to fail sometimes (why?), as does peak_prominence, when there is no peak in the run. \n",
    "\n",
    "Let's continue for now without those data points. "
   ]
  },
  {
   "cell_type": "markdown",
   "id": "7bebd566-1db6-474a-83ec-e92364ca0124",
   "metadata": {},
   "source": [
    "# Analysis Strategy\n",
    "\n",
    "**Goal**: Come up with a way to separate \"useful\" reflection from \"detrimental\" reflections depending only on presynthesis metrics\n",
    "\n",
    "**Steps**:\n",
    "- Validate that the number of presynth metrics makes sense. 825 presynth metrics in 50 analyses, that makes 16.5 reflections on average -> yes, makes sense. DONE\n",
    "- Validate that the delta_quality differencing worked as it should have\n",
    "  - Number of rows works out: 20_630 - 2*25**2 = 19_380\n",
    "  - one sample was right -> DONE\n",
    "- Validate that all delta_quality metrics are interesting\n",
    "  - idea: check how many values are close to zero when the variance is normalized -> T30 error should probably not be used\n",
    "  - maybe also drop c20_rms? It also has many null values though a bit less than t30.\n",
    "  - missing values in filter energy or peak prominence? -> no\n",
    "- Establish what it means to be a \"useful\" or \"detrimental\" reflection, in a single number\n",
    "  - idea: normalize variance in all remainng quality metrics. To judge each reflection, take the sum of all quality metric changes of dropping that reflection. If the value is << 0, it is a detrimental reflection, if the value is >> 0, it is a useful reflection.\n",
    "  - problem: any reflection might be useful or benign in some situations (e.g. when not extrapolating or in some metric) but a detrimental reflection is probably one which has very bad consequences in some extrapolations. Maybe the metric should be lowest or second lowest value or third lowest value, i.e. how bad of an effect can it have (in most cases)? Maybe 15th percentile? That seems reasonably supported (about 3-4 values from 25) yet gives a good indication of the bad performance part.\n",
    "  - But some metrics might just be not very useful at all. How do we aggregate over metrics, how do we aggregate over extrapolation positions? For extrapolation positions, the 15th percentile seems fine or the mean seems okayish.\n",
    "  - Maybe we should look at correlations between metrics and remove ones with high correlation? Then sum over variance-normalized metrics?\n",
    "  - What about using the percentage of cases below 0? -> That does not indicate then how BAD the reflection is but how OFTEN. I think this uses the available information less well. \n",
    "- Establish how one can measure the efficiency of a filter for bad reflections based on presynthesis metrics\n",
    "  - idea: How much does the mean quality of all reflections go up\n",
    "  - problem: the best result would be achieved by cherry picking only the very best reflections. But we can assume that if we remove most reflections, the quality of the overall extrapolation goes down. \n",
    "  - idea: Maybe the goal should be to reduce the number and badness of reflections with a quality metric below 0 (should probably be combined with summing aggregation in previous step). So one would measure the effectiveness of a filter strategy by the sum of reflection usefulnesses below 0 (or some small threshold based on usefulness distribution, maybe 1 % of std). \n",
    "- Try Puomios approach of filtering out bad reflections (peak prominence, doa stability, look for threshold from his papers, mostly the open access one about localizing image sources from multiple measurements)\n",
    "- Create a few different handcrafted filters for bad reflections based on my identified metrics (filter energy, relative_imsrc_time_error, m1**2, doa_std, direcitivty_boost)\n",
    "- Use the \"best\" filter method to re-synthesize and set up for a listening test"
   ]
  },
  {
   "cell_type": "markdown",
   "id": "79931c89-cd8c-43d8-a210-eb0f78ed00c7",
   "metadata": {},
   "source": [
    "# Data Cleaning"
   ]
  },
  {
   "cell_type": "code",
   "execution_count": 46,
   "id": "0418f58b-5a79-4cdd-aa1f-24d8cce92f93",
   "metadata": {
    "execution": {
     "iopub.execute_input": "2024-08-27T18:08:11.533884Z",
     "iopub.status.busy": "2024-08-27T18:08:11.532883Z",
     "iopub.status.idle": "2024-08-27T18:08:11.553835Z",
     "shell.execute_reply": "2024-08-27T18:08:11.552825Z",
     "shell.execute_reply.started": "2024-08-27T18:08:11.533884Z"
    }
   },
   "outputs": [
    {
     "data": {
      "text/html": [
       "<div><style>\n",
       ".dataframe > thead > tr,\n",
       ".dataframe > tbody > tr {\n",
       "  text-align: right;\n",
       "  white-space: pre-wrap;\n",
       "}\n",
       "</style>\n",
       "<small>shape: (19_380, 28)</small><table border=\"1\" class=\"dataframe\"><thead><tr><th>c20_rms</th><th>misdistributed_energy</th><th>ild_rms</th><th>iacc_rms</th><th>ild_delta</th><th>level_delta</th><th>lag_iacc_delta</th><th>t30_rel_rms</th><th>xcorr_std</th><th>lag_iacc_rms</th><th>c20_delta</th><th>xcorr_inv_add</th><th>iacc_delta</th><th>lag_rms</th><th>spectral_difference</th><th>rmse_lin</th><th>lag</th><th>lag_std</th><th>level_rms</th><th>t30_rel_delta</th><th>xcorr</th><th>dropped</th><th>room</th><th>from_listener</th><th>from_source</th><th>to_listener</th><th>to_source</th><th>xcorr_inv</th></tr><tr><td>f64</td><td>f64</td><td>f64</td><td>f64</td><td>f64</td><td>f64</td><td>f64</td><td>f64</td><td>f64</td><td>f64</td><td>f64</td><td>f64</td><td>f64</td><td>f64</td><td>f64</td><td>f64</td><td>f64</td><td>f64</td><td>f64</td><td>f64</td><td>f64</td><td>i64</td><td>str</td><td>str</td><td>i32</td><td>str</td><td>i32</td><td>f64</td></tr></thead><tbody><tr><td>0.189026</td><td>0.009818</td><td>-0.069326</td><td>0.001544</td><td>0.005475</td><td>-0.114693</td><td>1.833333</td><td>-0.000681</td><td>0.00331</td><td>2.277685</td><td>-0.431446</td><td>0.015956</td><td>-0.010413</td><td>0.040062</td><td>0.062844</td><td>0.015365</td><td>0.041667</td><td>0.038452</td><td>-0.046085</td><td>0.000651</td><td>-0.015956</td><td>0</td><td>&quot;HL05W&quot;</td><td>&quot;0.0X_0.0Y&quot;</td><td>0</td><td>&quot;0.0X_0.0Y&quot;</td><td>0</td><td>0.015956</td></tr><tr><td>0.510745</td><td>0.009641</td><td>-0.063496</td><td>0.007104</td><td>0.007376</td><td>-0.173383</td><td>1.583333</td><td>-0.001061</td><td>0.003067</td><td>2.288189</td><td>-0.781968</td><td>0.020431</td><td>-0.021409</td><td>0.0</td><td>0.109704</td><td>0.016766</td><td>0.0</td><td>0.0</td><td>-0.040523</td><td>0.001039</td><td>-0.020431</td><td>1</td><td>&quot;HL05W&quot;</td><td>&quot;0.0X_0.0Y&quot;</td><td>0</td><td>&quot;0.0X_0.0Y&quot;</td><td>0</td><td>0.020431</td></tr><tr><td>0.519075</td><td>0.020398</td><td>0.265055</td><td>0.019296</td><td>-0.112503</td><td>-0.648201</td><td>1.75</td><td>-0.003633</td><td>-0.008686</td><td>0.617053</td><td>-1.440305</td><td>0.011345</td><td>0.025299</td><td>-0.091752</td><td>0.011736</td><td>-0.044646</td><td>0.0</td><td>-0.091752</td><td>0.297984</td><td>0.004348</td><td>-0.011345</td><td>2</td><td>&quot;HL05W&quot;</td><td>&quot;0.0X_0.0Y&quot;</td><td>0</td><td>&quot;0.0X_0.0Y&quot;</td><td>0</td><td>0.011345</td></tr><tr><td>0.008733</td><td>0.000458</td><td>-0.010835</td><td>-0.000195</td><td>0.000553</td><td>-0.012726</td><td>1.083333</td><td>-0.000112</td><td>0.000314</td><td>-0.520989</td><td>-0.048568</td><td>0.001823</td><td>0.000468</td><td>0.0</td><td>0.001423</td><td>0.001635</td><td>0.0</td><td>0.0</td><td>-0.007808</td><td>0.000102</td><td>-0.001823</td><td>3</td><td>&quot;HL05W&quot;</td><td>&quot;0.0X_0.0Y&quot;</td><td>0</td><td>&quot;0.0X_0.0Y&quot;</td><td>0</td><td>0.001823</td></tr><tr><td>0.263707</td><td>0.021157</td><td>-0.209622</td><td>0.012876</td><td>-0.019235</td><td>-0.43379</td><td>2.0</td><td>-0.002929</td><td>0.005082</td><td>1.268078</td><td>-1.095852</td><td>0.009926</td><td>0.014951</td><td>0.0</td><td>0.025677</td><td>-0.012679</td><td>0.083333</td><td>-0.006993</td><td>-0.020251</td><td>0.002779</td><td>-0.009926</td><td>4</td><td>&quot;HL05W&quot;</td><td>&quot;0.0X_0.0Y&quot;</td><td>0</td><td>&quot;0.0X_0.0Y&quot;</td><td>0</td><td>0.009926</td></tr><tr><td>&hellip;</td><td>&hellip;</td><td>&hellip;</td><td>&hellip;</td><td>&hellip;</td><td>&hellip;</td><td>&hellip;</td><td>&hellip;</td><td>&hellip;</td><td>&hellip;</td><td>&hellip;</td><td>&hellip;</td><td>&hellip;</td><td>&hellip;</td><td>&hellip;</td><td>&hellip;</td><td>&hellip;</td><td>&hellip;</td><td>&hellip;</td><td>&hellip;</td><td>&hellip;</td><td>&hellip;</td><td>&hellip;</td><td>&hellip;</td><td>&hellip;</td><td>&hellip;</td><td>&hellip;</td><td>&hellip;</td></tr><tr><td>-0.252701</td><td>0.005881</td><td>-0.08415</td><td>-0.006662</td><td>-0.013472</td><td>-0.153566</td><td>-0.083333</td><td>0.002295</td><td>0.006415</td><td>0.038506</td><td>-0.211714</td><td>0.005785</td><td>0.004373</td><td>0.0</td><td>0.00655</td><td>0.003801</td><td>0.0</td><td>0.0</td><td>0.088406</td><td>0.002673</td><td>-0.005785</td><td>13</td><td>&quot;HL06W&quot;</td><td>&quot;-1.25X_0.0Y&quot;</td><td>4</td><td>&quot;-1.25X_0.0Y&quot;</td><td>4</td><td>0.005785</td></tr><tr><td>0.065895</td><td>0.000746</td><td>-0.048747</td><td>0.000208</td><td>0.005617</td><td>-0.041322</td><td>0.0</td><td>0.000207</td><td>-0.001608</td><td>0.0</td><td>0.064771</td><td>-0.002087</td><td>-0.000906</td><td>0.0</td><td>0.001442</td><td>-0.005217</td><td>0.0</td><td>0.0</td><td>0.013364</td><td>0.000592</td><td>0.002087</td><td>14</td><td>&quot;HL06W&quot;</td><td>&quot;-1.25X_0.0Y&quot;</td><td>4</td><td>&quot;-1.25X_0.0Y&quot;</td><td>4</td><td>-0.002087</td></tr><tr><td>0.008639</td><td>0.000132</td><td>-0.001185</td><td>-0.000558</td><td>-0.001253</td><td>-0.009618</td><td>0.0</td><td>0.000025</td><td>-0.000155</td><td>0.0</td><td>0.016174</td><td>-0.000178</td><td>0.000594</td><td>0.0</td><td>-0.002759</td><td>-0.000586</td><td>0.0</td><td>0.0</td><td>0.006761</td><td>0.000126</td><td>0.000178</td><td>15</td><td>&quot;HL06W&quot;</td><td>&quot;-1.25X_0.0Y&quot;</td><td>4</td><td>&quot;-1.25X_0.0Y&quot;</td><td>4</td><td>-0.000178</td></tr><tr><td>0.035728</td><td>0.00095</td><td>-0.015691</td><td>-0.002213</td><td>0.001775</td><td>-0.020935</td><td>0.0</td><td>0.000201</td><td>0.00115</td><td>0.0</td><td>0.030263</td><td>0.000848</td><td>0.002718</td><td>0.0</td><td>0.00175</td><td>0.000599</td><td>0.0</td><td>0.0</td><td>0.007921</td><td>0.000359</td><td>-0.000848</td><td>16</td><td>&quot;HL06W&quot;</td><td>&quot;-1.25X_0.0Y&quot;</td><td>4</td><td>&quot;-1.25X_0.0Y&quot;</td><td>4</td><td>0.000848</td></tr><tr><td>0.000238</td><td>0.000004</td><td>-0.000143</td><td>-0.000039</td><td>-0.000129</td><td>0.000095</td><td>0.0</td><td>-0.000003</td><td>0.000013</td><td>0.0</td><td>-0.000123</td><td>0.000021</td><td>0.000063</td><td>0.0</td><td>0.000047</td><td>0.000033</td><td>0.0</td><td>0.0</td><td>-0.000313</td><td>-0.000001</td><td>-0.000021</td><td>17</td><td>&quot;HL06W&quot;</td><td>&quot;-1.25X_0.0Y&quot;</td><td>4</td><td>&quot;-1.25X_0.0Y&quot;</td><td>4</td><td>0.000021</td></tr></tbody></table></div>"
      ],
      "text/plain": [
       "shape: (19_380, 28)\n",
       "┌───────────┬───────────┬───────────┬───────────┬───┬───────────┬───────────┬───────────┬───────────┐\n",
       "│ c20_rms   ┆ misdistri ┆ ild_rms   ┆ iacc_rms  ┆ … ┆ from_sour ┆ to_listen ┆ to_source ┆ xcorr_inv │\n",
       "│ ---       ┆ buted_ene ┆ ---       ┆ ---       ┆   ┆ ce        ┆ er        ┆ ---       ┆ ---       │\n",
       "│ f64       ┆ rgy       ┆ f64       ┆ f64       ┆   ┆ ---       ┆ ---       ┆ i32       ┆ f64       │\n",
       "│           ┆ ---       ┆           ┆           ┆   ┆ i32       ┆ str       ┆           ┆           │\n",
       "│           ┆ f64       ┆           ┆           ┆   ┆           ┆           ┆           ┆           │\n",
       "╞═══════════╪═══════════╪═══════════╪═══════════╪═══╪═══════════╪═══════════╪═══════════╪═══════════╡\n",
       "│ 0.189026  ┆ 0.009818  ┆ -0.069326 ┆ 0.001544  ┆ … ┆ 0         ┆ 0.0X_0.0Y ┆ 0         ┆ 0.015956  │\n",
       "│ 0.510745  ┆ 0.009641  ┆ -0.063496 ┆ 0.007104  ┆ … ┆ 0         ┆ 0.0X_0.0Y ┆ 0         ┆ 0.020431  │\n",
       "│ 0.519075  ┆ 0.020398  ┆ 0.265055  ┆ 0.019296  ┆ … ┆ 0         ┆ 0.0X_0.0Y ┆ 0         ┆ 0.011345  │\n",
       "│ 0.008733  ┆ 0.000458  ┆ -0.010835 ┆ -0.000195 ┆ … ┆ 0         ┆ 0.0X_0.0Y ┆ 0         ┆ 0.001823  │\n",
       "│ 0.263707  ┆ 0.021157  ┆ -0.209622 ┆ 0.012876  ┆ … ┆ 0         ┆ 0.0X_0.0Y ┆ 0         ┆ 0.009926  │\n",
       "│ …         ┆ …         ┆ …         ┆ …         ┆ … ┆ …         ┆ …         ┆ …         ┆ …         │\n",
       "│ -0.252701 ┆ 0.005881  ┆ -0.08415  ┆ -0.006662 ┆ … ┆ 4         ┆ -1.25X_0. ┆ 4         ┆ 0.005785  │\n",
       "│           ┆           ┆           ┆           ┆   ┆           ┆ 0Y        ┆           ┆           │\n",
       "│ 0.065895  ┆ 0.000746  ┆ -0.048747 ┆ 0.000208  ┆ … ┆ 4         ┆ -1.25X_0. ┆ 4         ┆ -0.002087 │\n",
       "│           ┆           ┆           ┆           ┆   ┆           ┆ 0Y        ┆           ┆           │\n",
       "│ 0.008639  ┆ 0.000132  ┆ -0.001185 ┆ -0.000558 ┆ … ┆ 4         ┆ -1.25X_0. ┆ 4         ┆ -0.000178 │\n",
       "│           ┆           ┆           ┆           ┆   ┆           ┆ 0Y        ┆           ┆           │\n",
       "│ 0.035728  ┆ 0.00095   ┆ -0.015691 ┆ -0.002213 ┆ … ┆ 4         ┆ -1.25X_0. ┆ 4         ┆ 0.000848  │\n",
       "│           ┆           ┆           ┆           ┆   ┆           ┆ 0Y        ┆           ┆           │\n",
       "│ 0.000238  ┆ 0.000004  ┆ -0.000143 ┆ -0.000039 ┆ … ┆ 4         ┆ -1.25X_0. ┆ 4         ┆ 0.000021  │\n",
       "│           ┆           ┆           ┆           ┆   ┆           ┆ 0Y        ┆           ┆           │\n",
       "└───────────┴───────────┴───────────┴───────────┴───┴───────────┴───────────┴───────────┴───────────┘"
      ]
     },
     "execution_count": 46,
     "metadata": {},
     "output_type": "execute_result"
    }
   ],
   "source": [
    "delta_quality"
   ]
  },
  {
   "cell_type": "code",
   "execution_count": 47,
   "id": "57098e32-7810-44fc-a544-f18a5052a3b4",
   "metadata": {
    "execution": {
     "iopub.execute_input": "2024-08-27T18:08:13.202547Z",
     "iopub.status.busy": "2024-08-27T18:08:13.202547Z",
     "iopub.status.idle": "2024-08-27T18:08:13.216349Z",
     "shell.execute_reply": "2024-08-27T18:08:13.216349Z",
     "shell.execute_reply.started": "2024-08-27T18:08:13.202547Z"
    }
   },
   "outputs": [
    {
     "data": {
      "text/html": [
       "<div><style>\n",
       ".dataframe > thead > tr,\n",
       ".dataframe > tbody > tr {\n",
       "  text-align: right;\n",
       "  white-space: pre-wrap;\n",
       "}\n",
       "</style>\n",
       "<small>shape: (1, 11)</small><table border=\"1\" class=\"dataframe\"><thead><tr><th>xcorr_inv_add</th><th>rmse_lin</th><th>lag_rms</th><th>level_rms</th><th>misdistributed_energy</th><th>t30_rel_rms</th><th>c20_rms</th><th>iacc_rms</th><th>lag_iacc_rms</th><th>ild_rms</th><th>spectral_difference</th></tr><tr><td>f64</td><td>f64</td><td>f64</td><td>f64</td><td>f64</td><td>f64</td><td>f64</td><td>f64</td><td>f64</td><td>f64</td><td>f64</td></tr></thead><tbody><tr><td>0.0</td><td>0.0</td><td>0.0</td><td>0.0</td><td>0.0</td><td>0.324613</td><td>0.270124</td><td>0.0</td><td>0.0</td><td>0.0</td><td>0.0</td></tr></tbody></table></div>"
      ],
      "text/plain": [
       "shape: (1, 11)\n",
       "┌─────────────┬──────────┬─────────┬───────────┬───┬──────────┬─────────────┬─────────┬─────────────┐\n",
       "│ xcorr_inv_a ┆ rmse_lin ┆ lag_rms ┆ level_rms ┆ … ┆ iacc_rms ┆ lag_iacc_rm ┆ ild_rms ┆ spectral_di │\n",
       "│ dd          ┆ ---      ┆ ---     ┆ ---       ┆   ┆ ---      ┆ s           ┆ ---     ┆ fference    │\n",
       "│ ---         ┆ f64      ┆ f64     ┆ f64       ┆   ┆ f64      ┆ ---         ┆ f64     ┆ ---         │\n",
       "│ f64         ┆          ┆         ┆           ┆   ┆          ┆ f64         ┆         ┆ f64         │\n",
       "╞═════════════╪══════════╪═════════╪═══════════╪═══╪══════════╪═════════════╪═════════╪═════════════╡\n",
       "│ 0.0         ┆ 0.0      ┆ 0.0     ┆ 0.0       ┆ … ┆ 0.0      ┆ 0.0         ┆ 0.0     ┆ 0.0         │\n",
       "└─────────────┴──────────┴─────────┴───────────┴───┴──────────┴─────────────┴─────────┴─────────────┘"
      ]
     },
     "execution_count": 47,
     "metadata": {},
     "output_type": "execute_result"
    }
   ],
   "source": [
    "delta_quality.fill_nan(None).null_count().select(quality_metrics) / delta_quality.shape[0]"
   ]
  },
  {
   "cell_type": "markdown",
   "id": "73a44fcf-fdab-4b53-8f24-ac24db105b51",
   "metadata": {},
   "source": [
    "- C20 can fail if the EDC calculation fails (in one example, it was due to the LF oscillations at the end of the diffuse part). This is the case for 27 % of studied cases. That's a lot. Do we just ignore them? Yes, I don't have time to re-do that data. \n",
    "- T30 is same as C20 but I guess it can fail even more often. Let's not look at these cases. "
   ]
  },
  {
   "cell_type": "markdown",
   "id": "2e1d4c18-6f93-4b3c-9686-e9797c028204",
   "metadata": {},
   "source": [
    "## Outliers\n",
    "\n",
    "I'd also want to remove the inf values in t30. "
   ]
  },
  {
   "cell_type": "code",
   "execution_count": 48,
   "id": "d0b40689-0f66-421c-8bbb-629e9c28cf3c",
   "metadata": {
    "execution": {
     "iopub.execute_input": "2024-08-27T18:08:15.808219Z",
     "iopub.status.busy": "2024-08-27T18:08:15.808219Z",
     "iopub.status.idle": "2024-08-27T18:08:15.828064Z",
     "shell.execute_reply": "2024-08-27T18:08:15.828064Z",
     "shell.execute_reply.started": "2024-08-27T18:08:15.808219Z"
    }
   },
   "outputs": [
    {
     "data": {
      "text/html": [
       "<div><style>\n",
       ".dataframe > thead > tr,\n",
       ".dataframe > tbody > tr {\n",
       "  text-align: right;\n",
       "  white-space: pre-wrap;\n",
       "}\n",
       "</style>\n",
       "<small>shape: (9, 12)</small><table border=\"1\" class=\"dataframe\"><thead><tr><th>statistic</th><th>xcorr_inv_add</th><th>rmse_lin</th><th>lag_rms</th><th>level_rms</th><th>misdistributed_energy</th><th>t30_rel_rms</th><th>c20_rms</th><th>iacc_rms</th><th>lag_iacc_rms</th><th>ild_rms</th><th>spectral_difference</th></tr><tr><td>str</td><td>f64</td><td>f64</td><td>f64</td><td>f64</td><td>f64</td><td>f64</td><td>f64</td><td>f64</td><td>f64</td><td>f64</td><td>f64</td></tr></thead><tbody><tr><td>&quot;count&quot;</td><td>19380.0</td><td>19380.0</td><td>19380.0</td><td>19380.0</td><td>19380.0</td><td>16521.0</td><td>16521.0</td><td>19380.0</td><td>19380.0</td><td>19380.0</td><td>19380.0</td></tr><tr><td>&quot;null_count&quot;</td><td>0.0</td><td>0.0</td><td>0.0</td><td>0.0</td><td>0.0</td><td>2859.0</td><td>2859.0</td><td>0.0</td><td>0.0</td><td>0.0</td><td>0.0</td></tr><tr><td>&quot;mean&quot;</td><td>0.007528</td><td>-0.018808</td><td>16.350154</td><td>0.07633</td><td>0.005048</td><td>NaN</td><td>NaN</td><td>0.001536</td><td>0.29097</td><td>0.07972</td><td>0.004889</td></tr><tr><td>&quot;std&quot;</td><td>0.047267</td><td>0.092205</td><td>122.918803</td><td>0.695271</td><td>0.032938</td><td>NaN</td><td>NaN</td><td>0.019751</td><td>4.412177</td><td>0.850024</td><td>0.043804</td></tr><tr><td>&quot;min&quot;</td><td>-0.20769</td><td>-2.848101</td><td>-1265.957814</td><td>-9.512641</td><td>-0.416188</td><td>-inf</td><td>-8.458939</td><td>-0.266304</td><td>-43.998452</td><td>-12.153157</td><td>-0.857928</td></tr><tr><td>&quot;25%&quot;</td><td>-0.001795</td><td>-0.008264</td><td>-0.009905</td><td>-0.00713</td><td>-0.000009</td><td>-0.000083</td><td>-0.008883</td><td>-0.000759</td><td>0.0</td><td>-0.008932</td><td>-0.002992</td></tr><tr><td>&quot;50%&quot;</td><td>0.0</td><td>-0.001587</td><td>0.0</td><td>0.000231</td><td>0.000268</td><td>0.000063</td><td>0.007291</td><td>0.000009</td><td>0.0</td><td>0.001443</td><td>0.000337</td></tr><tr><td>&quot;75%&quot;</td><td>0.003041</td><td>-0.000012</td><td>2.541583</td><td>0.033214</td><td>0.002019</td><td>0.010144</td><td>0.24423</td><td>0.001661</td><td>0.0</td><td>0.036244</td><td>0.007363</td></tr><tr><td>&quot;max&quot;</td><td>0.655849</td><td>0.343568</td><td>1755.737902</td><td>12.471115</td><td>0.423608</td><td>inf</td><td>19.253927</td><td>0.266369</td><td>45.387167</td><td>13.305593</td><td>0.684616</td></tr></tbody></table></div>"
      ],
      "text/plain": [
       "shape: (9, 12)\n",
       "┌───────────┬───────────┬───────────┬───────────┬───┬───────────┬───────────┬───────────┬───────────┐\n",
       "│ statistic ┆ xcorr_inv ┆ rmse_lin  ┆ lag_rms   ┆ … ┆ iacc_rms  ┆ lag_iacc_ ┆ ild_rms   ┆ spectral_ │\n",
       "│ ---       ┆ _add      ┆ ---       ┆ ---       ┆   ┆ ---       ┆ rms       ┆ ---       ┆ differenc │\n",
       "│ str       ┆ ---       ┆ f64       ┆ f64       ┆   ┆ f64       ┆ ---       ┆ f64       ┆ e         │\n",
       "│           ┆ f64       ┆           ┆           ┆   ┆           ┆ f64       ┆           ┆ ---       │\n",
       "│           ┆           ┆           ┆           ┆   ┆           ┆           ┆           ┆ f64       │\n",
       "╞═══════════╪═══════════╪═══════════╪═══════════╪═══╪═══════════╪═══════════╪═══════════╪═══════════╡\n",
       "│ count     ┆ 19380.0   ┆ 19380.0   ┆ 19380.0   ┆ … ┆ 19380.0   ┆ 19380.0   ┆ 19380.0   ┆ 19380.0   │\n",
       "│ null_coun ┆ 0.0       ┆ 0.0       ┆ 0.0       ┆ … ┆ 0.0       ┆ 0.0       ┆ 0.0       ┆ 0.0       │\n",
       "│ t         ┆           ┆           ┆           ┆   ┆           ┆           ┆           ┆           │\n",
       "│ mean      ┆ 0.007528  ┆ -0.018808 ┆ 16.350154 ┆ … ┆ 0.001536  ┆ 0.29097   ┆ 0.07972   ┆ 0.004889  │\n",
       "│ std       ┆ 0.047267  ┆ 0.092205  ┆ 122.91880 ┆ … ┆ 0.019751  ┆ 4.412177  ┆ 0.850024  ┆ 0.043804  │\n",
       "│           ┆           ┆           ┆ 3         ┆   ┆           ┆           ┆           ┆           │\n",
       "│ min       ┆ -0.20769  ┆ -2.848101 ┆ -1265.957 ┆ … ┆ -0.266304 ┆ -43.99845 ┆ -12.15315 ┆ -0.857928 │\n",
       "│           ┆           ┆           ┆ 814       ┆   ┆           ┆ 2         ┆ 7         ┆           │\n",
       "│ 25%       ┆ -0.001795 ┆ -0.008264 ┆ -0.009905 ┆ … ┆ -0.000759 ┆ 0.0       ┆ -0.008932 ┆ -0.002992 │\n",
       "│ 50%       ┆ 0.0       ┆ -0.001587 ┆ 0.0       ┆ … ┆ 0.000009  ┆ 0.0       ┆ 0.001443  ┆ 0.000337  │\n",
       "│ 75%       ┆ 0.003041  ┆ -0.000012 ┆ 2.541583  ┆ … ┆ 0.001661  ┆ 0.0       ┆ 0.036244  ┆ 0.007363  │\n",
       "│ max       ┆ 0.655849  ┆ 0.343568  ┆ 1755.7379 ┆ … ┆ 0.266369  ┆ 45.387167 ┆ 13.305593 ┆ 0.684616  │\n",
       "│           ┆           ┆           ┆ 02        ┆   ┆           ┆           ┆           ┆           │\n",
       "└───────────┴───────────┴───────────┴───────────┴───┴───────────┴───────────┴───────────┴───────────┘"
      ]
     },
     "execution_count": 48,
     "metadata": {},
     "output_type": "execute_result"
    }
   ],
   "source": [
    "delta_quality.select(quality_metrics).describe()"
   ]
  },
  {
   "cell_type": "code",
   "execution_count": 49,
   "id": "6fd938ff-b0a2-4ea4-8c9a-4f2ca87cd125",
   "metadata": {
    "execution": {
     "iopub.execute_input": "2024-08-27T18:08:15.904406Z",
     "iopub.status.busy": "2024-08-27T18:08:15.904406Z",
     "iopub.status.idle": "2024-08-27T18:08:15.925051Z",
     "shell.execute_reply": "2024-08-27T18:08:15.925051Z",
     "shell.execute_reply.started": "2024-08-27T18:08:15.904406Z"
    }
   },
   "outputs": [
    {
     "data": {
      "text/html": [
       "<div><style>\n",
       ".dataframe > thead > tr,\n",
       ".dataframe > tbody > tr {\n",
       "  text-align: right;\n",
       "  white-space: pre-wrap;\n",
       "}\n",
       "</style>\n",
       "<small>shape: (12_361, 28)</small><table border=\"1\" class=\"dataframe\"><thead><tr><th>c20_rms</th><th>misdistributed_energy</th><th>ild_rms</th><th>iacc_rms</th><th>ild_delta</th><th>level_delta</th><th>lag_iacc_delta</th><th>t30_rel_rms</th><th>xcorr_std</th><th>lag_iacc_rms</th><th>c20_delta</th><th>xcorr_inv_add</th><th>iacc_delta</th><th>lag_rms</th><th>spectral_difference</th><th>rmse_lin</th><th>lag</th><th>lag_std</th><th>level_rms</th><th>t30_rel_delta</th><th>xcorr</th><th>dropped</th><th>room</th><th>from_listener</th><th>from_source</th><th>to_listener</th><th>to_source</th><th>xcorr_inv</th></tr><tr><td>f64</td><td>f64</td><td>f64</td><td>f64</td><td>f64</td><td>f64</td><td>f64</td><td>f64</td><td>f64</td><td>f64</td><td>f64</td><td>f64</td><td>f64</td><td>f64</td><td>f64</td><td>f64</td><td>f64</td><td>f64</td><td>f64</td><td>f64</td><td>f64</td><td>i64</td><td>str</td><td>str</td><td>i32</td><td>str</td><td>i32</td><td>f64</td></tr></thead><tbody><tr><td>0.189026</td><td>0.009818</td><td>-0.069326</td><td>0.001544</td><td>0.005475</td><td>-0.114693</td><td>1.833333</td><td>-0.000681</td><td>0.00331</td><td>2.277685</td><td>-0.431446</td><td>0.015956</td><td>-0.010413</td><td>0.040062</td><td>0.062844</td><td>0.015365</td><td>0.041667</td><td>0.038452</td><td>-0.046085</td><td>0.000651</td><td>-0.015956</td><td>0</td><td>&quot;HL05W&quot;</td><td>&quot;0.0X_0.0Y&quot;</td><td>0</td><td>&quot;0.0X_0.0Y&quot;</td><td>0</td><td>0.015956</td></tr><tr><td>0.510745</td><td>0.009641</td><td>-0.063496</td><td>0.007104</td><td>0.007376</td><td>-0.173383</td><td>1.583333</td><td>-0.001061</td><td>0.003067</td><td>2.288189</td><td>-0.781968</td><td>0.020431</td><td>-0.021409</td><td>0.0</td><td>0.109704</td><td>0.016766</td><td>0.0</td><td>0.0</td><td>-0.040523</td><td>0.001039</td><td>-0.020431</td><td>1</td><td>&quot;HL05W&quot;</td><td>&quot;0.0X_0.0Y&quot;</td><td>0</td><td>&quot;0.0X_0.0Y&quot;</td><td>0</td><td>0.020431</td></tr><tr><td>0.519075</td><td>0.020398</td><td>0.265055</td><td>0.019296</td><td>-0.112503</td><td>-0.648201</td><td>1.75</td><td>-0.003633</td><td>-0.008686</td><td>0.617053</td><td>-1.440305</td><td>0.011345</td><td>0.025299</td><td>-0.091752</td><td>0.011736</td><td>-0.044646</td><td>0.0</td><td>-0.091752</td><td>0.297984</td><td>0.004348</td><td>-0.011345</td><td>2</td><td>&quot;HL05W&quot;</td><td>&quot;0.0X_0.0Y&quot;</td><td>0</td><td>&quot;0.0X_0.0Y&quot;</td><td>0</td><td>0.011345</td></tr><tr><td>0.008733</td><td>0.000458</td><td>-0.010835</td><td>-0.000195</td><td>0.000553</td><td>-0.012726</td><td>1.083333</td><td>-0.000112</td><td>0.000314</td><td>-0.520989</td><td>-0.048568</td><td>0.001823</td><td>0.000468</td><td>0.0</td><td>0.001423</td><td>0.001635</td><td>0.0</td><td>0.0</td><td>-0.007808</td><td>0.000102</td><td>-0.001823</td><td>3</td><td>&quot;HL05W&quot;</td><td>&quot;0.0X_0.0Y&quot;</td><td>0</td><td>&quot;0.0X_0.0Y&quot;</td><td>0</td><td>0.001823</td></tr><tr><td>0.263707</td><td>0.021157</td><td>-0.209622</td><td>0.012876</td><td>-0.019235</td><td>-0.43379</td><td>2.0</td><td>-0.002929</td><td>0.005082</td><td>1.268078</td><td>-1.095852</td><td>0.009926</td><td>0.014951</td><td>0.0</td><td>0.025677</td><td>-0.012679</td><td>0.083333</td><td>-0.006993</td><td>-0.020251</td><td>0.002779</td><td>-0.009926</td><td>4</td><td>&quot;HL05W&quot;</td><td>&quot;0.0X_0.0Y&quot;</td><td>0</td><td>&quot;0.0X_0.0Y&quot;</td><td>0</td><td>0.009926</td></tr><tr><td>&hellip;</td><td>&hellip;</td><td>&hellip;</td><td>&hellip;</td><td>&hellip;</td><td>&hellip;</td><td>&hellip;</td><td>&hellip;</td><td>&hellip;</td><td>&hellip;</td><td>&hellip;</td><td>&hellip;</td><td>&hellip;</td><td>&hellip;</td><td>&hellip;</td><td>&hellip;</td><td>&hellip;</td><td>&hellip;</td><td>&hellip;</td><td>&hellip;</td><td>&hellip;</td><td>&hellip;</td><td>&hellip;</td><td>&hellip;</td><td>&hellip;</td><td>&hellip;</td><td>&hellip;</td><td>&hellip;</td></tr><tr><td>-0.252701</td><td>0.005881</td><td>-0.08415</td><td>-0.006662</td><td>-0.013472</td><td>-0.153566</td><td>-0.083333</td><td>0.002295</td><td>0.006415</td><td>0.038506</td><td>-0.211714</td><td>0.005785</td><td>0.004373</td><td>0.0</td><td>0.00655</td><td>0.003801</td><td>0.0</td><td>0.0</td><td>0.088406</td><td>0.002673</td><td>-0.005785</td><td>13</td><td>&quot;HL06W&quot;</td><td>&quot;-1.25X_0.0Y&quot;</td><td>4</td><td>&quot;-1.25X_0.0Y&quot;</td><td>4</td><td>0.005785</td></tr><tr><td>0.065895</td><td>0.000746</td><td>-0.048747</td><td>0.000208</td><td>0.005617</td><td>-0.041322</td><td>0.0</td><td>0.000207</td><td>-0.001608</td><td>0.0</td><td>0.064771</td><td>-0.002087</td><td>-0.000906</td><td>0.0</td><td>0.001442</td><td>-0.005217</td><td>0.0</td><td>0.0</td><td>0.013364</td><td>0.000592</td><td>0.002087</td><td>14</td><td>&quot;HL06W&quot;</td><td>&quot;-1.25X_0.0Y&quot;</td><td>4</td><td>&quot;-1.25X_0.0Y&quot;</td><td>4</td><td>-0.002087</td></tr><tr><td>0.008639</td><td>0.000132</td><td>-0.001185</td><td>-0.000558</td><td>-0.001253</td><td>-0.009618</td><td>0.0</td><td>0.000025</td><td>-0.000155</td><td>0.0</td><td>0.016174</td><td>-0.000178</td><td>0.000594</td><td>0.0</td><td>-0.002759</td><td>-0.000586</td><td>0.0</td><td>0.0</td><td>0.006761</td><td>0.000126</td><td>0.000178</td><td>15</td><td>&quot;HL06W&quot;</td><td>&quot;-1.25X_0.0Y&quot;</td><td>4</td><td>&quot;-1.25X_0.0Y&quot;</td><td>4</td><td>-0.000178</td></tr><tr><td>0.035728</td><td>0.00095</td><td>-0.015691</td><td>-0.002213</td><td>0.001775</td><td>-0.020935</td><td>0.0</td><td>0.000201</td><td>0.00115</td><td>0.0</td><td>0.030263</td><td>0.000848</td><td>0.002718</td><td>0.0</td><td>0.00175</td><td>0.000599</td><td>0.0</td><td>0.0</td><td>0.007921</td><td>0.000359</td><td>-0.000848</td><td>16</td><td>&quot;HL06W&quot;</td><td>&quot;-1.25X_0.0Y&quot;</td><td>4</td><td>&quot;-1.25X_0.0Y&quot;</td><td>4</td><td>0.000848</td></tr><tr><td>0.000238</td><td>0.000004</td><td>-0.000143</td><td>-0.000039</td><td>-0.000129</td><td>0.000095</td><td>0.0</td><td>-0.000003</td><td>0.000013</td><td>0.0</td><td>-0.000123</td><td>0.000021</td><td>0.000063</td><td>0.0</td><td>0.000047</td><td>0.000033</td><td>0.0</td><td>0.0</td><td>-0.000313</td><td>-0.000001</td><td>-0.000021</td><td>17</td><td>&quot;HL06W&quot;</td><td>&quot;-1.25X_0.0Y&quot;</td><td>4</td><td>&quot;-1.25X_0.0Y&quot;</td><td>4</td><td>0.000021</td></tr></tbody></table></div>"
      ],
      "text/plain": [
       "shape: (12_361, 28)\n",
       "┌───────────┬───────────┬───────────┬───────────┬───┬───────────┬───────────┬───────────┬───────────┐\n",
       "│ c20_rms   ┆ misdistri ┆ ild_rms   ┆ iacc_rms  ┆ … ┆ from_sour ┆ to_listen ┆ to_source ┆ xcorr_inv │\n",
       "│ ---       ┆ buted_ene ┆ ---       ┆ ---       ┆   ┆ ce        ┆ er        ┆ ---       ┆ ---       │\n",
       "│ f64       ┆ rgy       ┆ f64       ┆ f64       ┆   ┆ ---       ┆ ---       ┆ i32       ┆ f64       │\n",
       "│           ┆ ---       ┆           ┆           ┆   ┆ i32       ┆ str       ┆           ┆           │\n",
       "│           ┆ f64       ┆           ┆           ┆   ┆           ┆           ┆           ┆           │\n",
       "╞═══════════╪═══════════╪═══════════╪═══════════╪═══╪═══════════╪═══════════╪═══════════╪═══════════╡\n",
       "│ 0.189026  ┆ 0.009818  ┆ -0.069326 ┆ 0.001544  ┆ … ┆ 0         ┆ 0.0X_0.0Y ┆ 0         ┆ 0.015956  │\n",
       "│ 0.510745  ┆ 0.009641  ┆ -0.063496 ┆ 0.007104  ┆ … ┆ 0         ┆ 0.0X_0.0Y ┆ 0         ┆ 0.020431  │\n",
       "│ 0.519075  ┆ 0.020398  ┆ 0.265055  ┆ 0.019296  ┆ … ┆ 0         ┆ 0.0X_0.0Y ┆ 0         ┆ 0.011345  │\n",
       "│ 0.008733  ┆ 0.000458  ┆ -0.010835 ┆ -0.000195 ┆ … ┆ 0         ┆ 0.0X_0.0Y ┆ 0         ┆ 0.001823  │\n",
       "│ 0.263707  ┆ 0.021157  ┆ -0.209622 ┆ 0.012876  ┆ … ┆ 0         ┆ 0.0X_0.0Y ┆ 0         ┆ 0.009926  │\n",
       "│ …         ┆ …         ┆ …         ┆ …         ┆ … ┆ …         ┆ …         ┆ …         ┆ …         │\n",
       "│ -0.252701 ┆ 0.005881  ┆ -0.08415  ┆ -0.006662 ┆ … ┆ 4         ┆ -1.25X_0. ┆ 4         ┆ 0.005785  │\n",
       "│           ┆           ┆           ┆           ┆   ┆           ┆ 0Y        ┆           ┆           │\n",
       "│ 0.065895  ┆ 0.000746  ┆ -0.048747 ┆ 0.000208  ┆ … ┆ 4         ┆ -1.25X_0. ┆ 4         ┆ -0.002087 │\n",
       "│           ┆           ┆           ┆           ┆   ┆           ┆ 0Y        ┆           ┆           │\n",
       "│ 0.008639  ┆ 0.000132  ┆ -0.001185 ┆ -0.000558 ┆ … ┆ 4         ┆ -1.25X_0. ┆ 4         ┆ -0.000178 │\n",
       "│           ┆           ┆           ┆           ┆   ┆           ┆ 0Y        ┆           ┆           │\n",
       "│ 0.035728  ┆ 0.00095   ┆ -0.015691 ┆ -0.002213 ┆ … ┆ 4         ┆ -1.25X_0. ┆ 4         ┆ 0.000848  │\n",
       "│           ┆           ┆           ┆           ┆   ┆           ┆ 0Y        ┆           ┆           │\n",
       "│ 0.000238  ┆ 0.000004  ┆ -0.000143 ┆ -0.000039 ┆ … ┆ 4         ┆ -1.25X_0. ┆ 4         ┆ 0.000021  │\n",
       "│           ┆           ┆           ┆           ┆   ┆           ┆ 0Y        ┆           ┆           │\n",
       "└───────────┴───────────┴───────────┴───────────┴───┴───────────┴───────────┴───────────┴───────────┘"
      ]
     },
     "execution_count": 49,
     "metadata": {},
     "output_type": "execute_result"
    }
   ],
   "source": [
    "cleaned = delta_quality.fill_nan(None).drop_nulls().filter(pl.col(\"t30_rel_rms\").is_finite())"
   ]
  },
  {
   "cell_type": "code",
   "execution_count": 50,
   "id": "a8211e18-7f52-4d43-8847-aeb9157bb794",
   "metadata": {
    "execution": {
     "iopub.execute_input": "2024-08-27T18:08:17.553670Z",
     "iopub.status.busy": "2024-08-27T18:08:17.553161Z",
     "iopub.status.idle": "2024-08-27T18:08:17.560375Z",
     "shell.execute_reply": "2024-08-27T18:08:17.559801Z",
     "shell.execute_reply.started": "2024-08-27T18:08:17.553670Z"
    }
   },
   "outputs": [
    {
     "data": {
      "text/plain": [
       "0.6378224974200206"
      ]
     },
     "execution_count": 50,
     "metadata": {},
     "output_type": "execute_result"
    }
   ],
   "source": [
    "cleaned.shape[0] / delta_quality.shape[0]"
   ]
  },
  {
   "cell_type": "code",
   "execution_count": 51,
   "id": "8de091ee-cfcc-48fe-b505-42a3e86ae982",
   "metadata": {
    "execution": {
     "iopub.execute_input": "2024-08-27T18:08:17.788791Z",
     "iopub.status.busy": "2024-08-27T18:08:17.788245Z",
     "iopub.status.idle": "2024-08-27T18:08:17.797299Z",
     "shell.execute_reply": "2024-08-27T18:08:17.797299Z",
     "shell.execute_reply.started": "2024-08-27T18:08:17.788791Z"
    }
   },
   "outputs": [
    {
     "data": {
      "text/plain": [
       "0.3621775025799794"
      ]
     },
     "execution_count": 51,
     "metadata": {},
     "output_type": "execute_result"
    }
   ],
   "source": [
    "1 - cleaned.shape[0] / delta_quality.shape[0]"
   ]
  },
  {
   "cell_type": "markdown",
   "id": "effa4001-0256-4d69-b26a-af5e39b49054",
   "metadata": {},
   "source": [
    "Wow, we eliminated more than a third of all data!"
   ]
  },
  {
   "cell_type": "markdown",
   "id": "849ffd70-be60-4d78-9eeb-8aa480321ef2",
   "metadata": {},
   "source": [
    "## Don't Drop Direct Sound\n",
    "\n",
    "Removing direct sound is very different from removing other reflections. Proof:"
   ]
  },
  {
   "cell_type": "code",
   "execution_count": 52,
   "id": "eba1b155-2406-4c10-a870-8782840cebe9",
   "metadata": {
    "execution": {
     "iopub.execute_input": "2024-08-27T18:08:19.386814Z",
     "iopub.status.busy": "2024-08-27T18:08:19.385814Z",
     "iopub.status.idle": "2024-08-27T18:08:19.406108Z",
     "shell.execute_reply": "2024-08-27T18:08:19.406108Z",
     "shell.execute_reply.started": "2024-08-27T18:08:19.386814Z"
    }
   },
   "outputs": [
    {
     "data": {
      "text/html": [
       "<div><style>\n",
       ".dataframe > thead > tr,\n",
       ".dataframe > tbody > tr {\n",
       "  text-align: right;\n",
       "  white-space: pre-wrap;\n",
       "}\n",
       "</style>\n",
       "<small>shape: (9, 12)</small><table border=\"1\" class=\"dataframe\"><thead><tr><th>statistic</th><th>xcorr_inv_add</th><th>rmse_lin</th><th>lag_rms</th><th>level_rms</th><th>misdistributed_energy</th><th>t30_rel_rms</th><th>c20_rms</th><th>iacc_rms</th><th>lag_iacc_rms</th><th>ild_rms</th><th>spectral_difference</th></tr><tr><td>str</td><td>f64</td><td>f64</td><td>f64</td><td>f64</td><td>f64</td><td>f64</td><td>f64</td><td>f64</td><td>f64</td><td>f64</td><td>f64</td></tr></thead><tbody><tr><td>&quot;count&quot;</td><td>756.0</td><td>756.0</td><td>756.0</td><td>756.0</td><td>756.0</td><td>756.0</td><td>756.0</td><td>756.0</td><td>756.0</td><td>756.0</td><td>756.0</td></tr><tr><td>&quot;null_count&quot;</td><td>0.0</td><td>0.0</td><td>0.0</td><td>0.0</td><td>0.0</td><td>0.0</td><td>0.0</td><td>0.0</td><td>0.0</td><td>0.0</td><td>0.0</td></tr><tr><td>&quot;mean&quot;</td><td>0.123504</td><td>-0.023839</td><td>249.663691</td><td>1.304057</td><td>0.094042</td><td>0.021282</td><td>2.119588</td><td>0.026495</td><td>6.461263</td><td>1.268642</td><td>0.075137</td></tr><tr><td>&quot;std&quot;</td><td>0.135456</td><td>0.081514</td><td>336.438692</td><td>2.002152</td><td>0.102286</td><td>0.129798</td><td>2.760496</td><td>0.050305</td><td>10.780539</td><td>2.392662</td><td>0.109087</td></tr><tr><td>&quot;min&quot;</td><td>-0.102481</td><td>-0.306461</td><td>-232.911865</td><td>-0.661879</td><td>-0.026417</td><td>-0.138496</td><td>-1.948532</td><td>-0.120018</td><td>-26.359466</td><td>-3.575768</td><td>-0.148619</td></tr><tr><td>&quot;25%&quot;</td><td>0.010672</td><td>-0.053335</td><td>2.801522</td><td>-0.004981</td><td>0.012666</td><td>-0.000673</td><td>0.074613</td><td>0.000085</td><td>0.0</td><td>0.006785</td><td>0.006884</td></tr><tr><td>&quot;50%&quot;</td><td>0.081764</td><td>-0.009093</td><td>105.448429</td><td>0.449985</td><td>0.050651</td><td>0.00068</td><td>1.11303</td><td>0.009953</td><td>2.275594</td><td>0.258781</td><td>0.037153</td></tr><tr><td>&quot;75%&quot;</td><td>0.199931</td><td>0.001935</td><td>381.846004</td><td>1.833783</td><td>0.150954</td><td>0.005956</td><td>3.412555</td><td>0.040283</td><td>10.593852</td><td>1.880335</td><td>0.103307</td></tr><tr><td>&quot;max&quot;</td><td>0.655849</td><td>0.329432</td><td>1755.737902</td><td>12.471115</td><td>0.423608</td><td>2.198449</td><td>19.253927</td><td>0.266369</td><td>45.387167</td><td>13.305593</td><td>0.684616</td></tr></tbody></table></div>"
      ],
      "text/plain": [
       "shape: (9, 12)\n",
       "┌───────────┬───────────┬───────────┬───────────┬───┬───────────┬───────────┬───────────┬───────────┐\n",
       "│ statistic ┆ xcorr_inv ┆ rmse_lin  ┆ lag_rms   ┆ … ┆ iacc_rms  ┆ lag_iacc_ ┆ ild_rms   ┆ spectral_ │\n",
       "│ ---       ┆ _add      ┆ ---       ┆ ---       ┆   ┆ ---       ┆ rms       ┆ ---       ┆ differenc │\n",
       "│ str       ┆ ---       ┆ f64       ┆ f64       ┆   ┆ f64       ┆ ---       ┆ f64       ┆ e         │\n",
       "│           ┆ f64       ┆           ┆           ┆   ┆           ┆ f64       ┆           ┆ ---       │\n",
       "│           ┆           ┆           ┆           ┆   ┆           ┆           ┆           ┆ f64       │\n",
       "╞═══════════╪═══════════╪═══════════╪═══════════╪═══╪═══════════╪═══════════╪═══════════╪═══════════╡\n",
       "│ count     ┆ 756.0     ┆ 756.0     ┆ 756.0     ┆ … ┆ 756.0     ┆ 756.0     ┆ 756.0     ┆ 756.0     │\n",
       "│ null_coun ┆ 0.0       ┆ 0.0       ┆ 0.0       ┆ … ┆ 0.0       ┆ 0.0       ┆ 0.0       ┆ 0.0       │\n",
       "│ t         ┆           ┆           ┆           ┆   ┆           ┆           ┆           ┆           │\n",
       "│ mean      ┆ 0.123504  ┆ -0.023839 ┆ 249.66369 ┆ … ┆ 0.026495  ┆ 6.461263  ┆ 1.268642  ┆ 0.075137  │\n",
       "│           ┆           ┆           ┆ 1         ┆   ┆           ┆           ┆           ┆           │\n",
       "│ std       ┆ 0.135456  ┆ 0.081514  ┆ 336.43869 ┆ … ┆ 0.050305  ┆ 10.780539 ┆ 2.392662  ┆ 0.109087  │\n",
       "│           ┆           ┆           ┆ 2         ┆   ┆           ┆           ┆           ┆           │\n",
       "│ min       ┆ -0.102481 ┆ -0.306461 ┆ -232.9118 ┆ … ┆ -0.120018 ┆ -26.35946 ┆ -3.575768 ┆ -0.148619 │\n",
       "│           ┆           ┆           ┆ 65        ┆   ┆           ┆ 6         ┆           ┆           │\n",
       "│ 25%       ┆ 0.010672  ┆ -0.053335 ┆ 2.801522  ┆ … ┆ 0.000085  ┆ 0.0       ┆ 0.006785  ┆ 0.006884  │\n",
       "│ 50%       ┆ 0.081764  ┆ -0.009093 ┆ 105.44842 ┆ … ┆ 0.009953  ┆ 2.275594  ┆ 0.258781  ┆ 0.037153  │\n",
       "│           ┆           ┆           ┆ 9         ┆   ┆           ┆           ┆           ┆           │\n",
       "│ 75%       ┆ 0.199931  ┆ 0.001935  ┆ 381.84600 ┆ … ┆ 0.040283  ┆ 10.593852 ┆ 1.880335  ┆ 0.103307  │\n",
       "│           ┆           ┆           ┆ 4         ┆   ┆           ┆           ┆           ┆           │\n",
       "│ max       ┆ 0.655849  ┆ 0.329432  ┆ 1755.7379 ┆ … ┆ 0.266369  ┆ 45.387167 ┆ 13.305593 ┆ 0.684616  │\n",
       "│           ┆           ┆           ┆ 02        ┆   ┆           ┆           ┆           ┆           │\n",
       "└───────────┴───────────┴───────────┴───────────┴───┴───────────┴───────────┴───────────┴───────────┘"
      ]
     },
     "execution_count": 52,
     "metadata": {},
     "output_type": "execute_result"
    }
   ],
   "source": [
    "# direct sound dropout\n",
    "cleaned.filter(pl.col(\"dropped\").eq(0)).select(quality_metrics).describe()"
   ]
  },
  {
   "cell_type": "code",
   "execution_count": 53,
   "id": "748d3465-b010-426a-b3fb-5124fc876194",
   "metadata": {
    "execution": {
     "iopub.execute_input": "2024-08-27T18:08:19.951647Z",
     "iopub.status.busy": "2024-08-27T18:08:19.950385Z",
     "iopub.status.idle": "2024-08-27T18:08:19.971977Z",
     "shell.execute_reply": "2024-08-27T18:08:19.970970Z",
     "shell.execute_reply.started": "2024-08-27T18:08:19.951647Z"
    }
   },
   "outputs": [
    {
     "data": {
      "text/html": [
       "<div><style>\n",
       ".dataframe > thead > tr,\n",
       ".dataframe > tbody > tr {\n",
       "  text-align: right;\n",
       "  white-space: pre-wrap;\n",
       "}\n",
       "</style>\n",
       "<small>shape: (9, 12)</small><table border=\"1\" class=\"dataframe\"><thead><tr><th>statistic</th><th>xcorr_inv_add</th><th>rmse_lin</th><th>lag_rms</th><th>level_rms</th><th>misdistributed_energy</th><th>t30_rel_rms</th><th>c20_rms</th><th>iacc_rms</th><th>lag_iacc_rms</th><th>ild_rms</th><th>spectral_difference</th></tr><tr><td>str</td><td>f64</td><td>f64</td><td>f64</td><td>f64</td><td>f64</td><td>f64</td><td>f64</td><td>f64</td><td>f64</td><td>f64</td><td>f64</td></tr></thead><tbody><tr><td>&quot;count&quot;</td><td>11605.0</td><td>11605.0</td><td>11605.0</td><td>11605.0</td><td>11605.0</td><td>11605.0</td><td>11605.0</td><td>11605.0</td><td>11605.0</td><td>11605.0</td><td>11605.0</td></tr><tr><td>&quot;null_count&quot;</td><td>0.0</td><td>0.0</td><td>0.0</td><td>0.0</td><td>0.0</td><td>0.0</td><td>0.0</td><td>0.0</td><td>0.0</td><td>0.0</td><td>0.0</td></tr><tr><td>&quot;mean&quot;</td><td>0.000109</td><td>-0.017965</td><td>0.562839</td><td>-0.001529</td><td>0.000063</td><td>0.001559</td><td>0.017316</td><td>-0.000249</td><td>-0.0961</td><td>-0.00186</td><td>-0.000011</td></tr><tr><td>&quot;std&quot;</td><td>0.018724</td><td>0.090547</td><td>71.53541</td><td>0.412449</td><td>0.015637</td><td>0.028767</td><td>0.537121</td><td>0.014885</td><td>3.133736</td><td>0.552686</td><td>0.029963</td></tr><tr><td>&quot;min&quot;</td><td>-0.196098</td><td>-2.453134</td><td>-1265.957814</td><td>-8.296341</td><td>-0.416188</td><td>-0.18768</td><td>-8.189651</td><td>-0.266304</td><td>-34.576535</td><td>-8.859404</td><td>-0.857928</td></tr><tr><td>&quot;25%&quot;</td><td>-0.001956</td><td>-0.007011</td><td>-0.027457</td><td>-0.006058</td><td>-0.000039</td><td>-0.000161</td><td>-0.015465</td><td>-0.000809</td><td>0.0</td><td>-0.008969</td><td>-0.003075</td></tr><tr><td>&quot;50%&quot;</td><td>-0.000002</td><td>-0.001483</td><td>0.0</td><td>0.00007</td><td>0.000334</td><td>0.0</td><td>0.000117</td><td>1.2417e-8</td><td>0.0</td><td>0.000711</td><td>0.000086</td></tr><tr><td>&quot;75%&quot;</td><td>0.001436</td><td>-0.00001</td><td>0.435223</td><td>0.02665</td><td>0.001898</td><td>0.000235</td><td>0.040383</td><td>0.001101</td><td>0.0</td><td>0.027215</td><td>0.005649</td></tr><tr><td>&quot;max&quot;</td><td>0.2933</td><td>0.296189</td><td>889.483317</td><td>4.643784</td><td>0.162264</td><td>2.525235</td><td>7.33547</td><td>0.196475</td><td>43.071568</td><td>8.487773</td><td>0.291901</td></tr></tbody></table></div>"
      ],
      "text/plain": [
       "shape: (9, 12)\n",
       "┌───────────┬───────────┬───────────┬───────────┬───┬───────────┬───────────┬───────────┬───────────┐\n",
       "│ statistic ┆ xcorr_inv ┆ rmse_lin  ┆ lag_rms   ┆ … ┆ iacc_rms  ┆ lag_iacc_ ┆ ild_rms   ┆ spectral_ │\n",
       "│ ---       ┆ _add      ┆ ---       ┆ ---       ┆   ┆ ---       ┆ rms       ┆ ---       ┆ differenc │\n",
       "│ str       ┆ ---       ┆ f64       ┆ f64       ┆   ┆ f64       ┆ ---       ┆ f64       ┆ e         │\n",
       "│           ┆ f64       ┆           ┆           ┆   ┆           ┆ f64       ┆           ┆ ---       │\n",
       "│           ┆           ┆           ┆           ┆   ┆           ┆           ┆           ┆ f64       │\n",
       "╞═══════════╪═══════════╪═══════════╪═══════════╪═══╪═══════════╪═══════════╪═══════════╪═══════════╡\n",
       "│ count     ┆ 11605.0   ┆ 11605.0   ┆ 11605.0   ┆ … ┆ 11605.0   ┆ 11605.0   ┆ 11605.0   ┆ 11605.0   │\n",
       "│ null_coun ┆ 0.0       ┆ 0.0       ┆ 0.0       ┆ … ┆ 0.0       ┆ 0.0       ┆ 0.0       ┆ 0.0       │\n",
       "│ t         ┆           ┆           ┆           ┆   ┆           ┆           ┆           ┆           │\n",
       "│ mean      ┆ 0.000109  ┆ -0.017965 ┆ 0.562839  ┆ … ┆ -0.000249 ┆ -0.0961   ┆ -0.00186  ┆ -0.000011 │\n",
       "│ std       ┆ 0.018724  ┆ 0.090547  ┆ 71.53541  ┆ … ┆ 0.014885  ┆ 3.133736  ┆ 0.552686  ┆ 0.029963  │\n",
       "│ min       ┆ -0.196098 ┆ -2.453134 ┆ -1265.957 ┆ … ┆ -0.266304 ┆ -34.57653 ┆ -8.859404 ┆ -0.857928 │\n",
       "│           ┆           ┆           ┆ 814       ┆   ┆           ┆ 5         ┆           ┆           │\n",
       "│ 25%       ┆ -0.001956 ┆ -0.007011 ┆ -0.027457 ┆ … ┆ -0.000809 ┆ 0.0       ┆ -0.008969 ┆ -0.003075 │\n",
       "│ 50%       ┆ -0.000002 ┆ -0.001483 ┆ 0.0       ┆ … ┆ 1.2417e-8 ┆ 0.0       ┆ 0.000711  ┆ 0.000086  │\n",
       "│ 75%       ┆ 0.001436  ┆ -0.00001  ┆ 0.435223  ┆ … ┆ 0.001101  ┆ 0.0       ┆ 0.027215  ┆ 0.005649  │\n",
       "│ max       ┆ 0.2933    ┆ 0.296189  ┆ 889.48331 ┆ … ┆ 0.196475  ┆ 43.071568 ┆ 8.487773  ┆ 0.291901  │\n",
       "│           ┆           ┆           ┆ 7         ┆   ┆           ┆           ┆           ┆           │\n",
       "└───────────┴───────────┴───────────┴───────────┴───┴───────────┴───────────┴───────────┴───────────┘"
      ]
     },
     "execution_count": 53,
     "metadata": {},
     "output_type": "execute_result"
    }
   ],
   "source": [
    "# Non-direct sound dropout\n",
    "cleaned.filter(pl.col(\"dropped\")>0).select(quality_metrics).describe()"
   ]
  },
  {
   "cell_type": "markdown",
   "id": "0cb22b71-293e-4050-8e5f-5a524c8b5ee2",
   "metadata": {},
   "source": [
    "Vast differences in the mean values and std's of xcorr_inv, lag_rms, level_rms, misdistributed_energy, t30_rel_rms, c20_rms, iacc_rms, lag_iacc_rms, ild_rms, spectral_difference. \n",
    "\n",
    "Basically, for every case but RMSE, dropping the direct sound tends to increase errors a lot. This is as expected. "
   ]
  },
  {
   "cell_type": "code",
   "execution_count": 54,
   "id": "38403d6a-9a22-413b-a7c3-21fd8e4f3661",
   "metadata": {
    "execution": {
     "iopub.execute_input": "2024-08-27T18:08:21.011311Z",
     "iopub.status.busy": "2024-08-27T18:08:21.010369Z",
     "iopub.status.idle": "2024-08-27T18:08:21.030911Z",
     "shell.execute_reply": "2024-08-27T18:08:21.030911Z",
     "shell.execute_reply.started": "2024-08-27T18:08:21.011311Z"
    }
   },
   "outputs": [
    {
     "data": {
      "text/html": [
       "<div><style>\n",
       ".dataframe > thead > tr,\n",
       ".dataframe > tbody > tr {\n",
       "  text-align: right;\n",
       "  white-space: pre-wrap;\n",
       "}\n",
       "</style>\n",
       "<small>shape: (11_605, 28)</small><table border=\"1\" class=\"dataframe\"><thead><tr><th>c20_rms</th><th>misdistributed_energy</th><th>ild_rms</th><th>iacc_rms</th><th>ild_delta</th><th>level_delta</th><th>lag_iacc_delta</th><th>t30_rel_rms</th><th>xcorr_std</th><th>lag_iacc_rms</th><th>c20_delta</th><th>xcorr_inv_add</th><th>iacc_delta</th><th>lag_rms</th><th>spectral_difference</th><th>rmse_lin</th><th>lag</th><th>lag_std</th><th>level_rms</th><th>t30_rel_delta</th><th>xcorr</th><th>dropped</th><th>room</th><th>from_listener</th><th>from_source</th><th>to_listener</th><th>to_source</th><th>xcorr_inv</th></tr><tr><td>f64</td><td>f64</td><td>f64</td><td>f64</td><td>f64</td><td>f64</td><td>f64</td><td>f64</td><td>f64</td><td>f64</td><td>f64</td><td>f64</td><td>f64</td><td>f64</td><td>f64</td><td>f64</td><td>f64</td><td>f64</td><td>f64</td><td>f64</td><td>f64</td><td>i64</td><td>str</td><td>str</td><td>i32</td><td>str</td><td>i32</td><td>f64</td></tr></thead><tbody><tr><td>0.510745</td><td>0.009641</td><td>-0.063496</td><td>0.007104</td><td>0.007376</td><td>-0.173383</td><td>1.583333</td><td>-0.001061</td><td>0.003067</td><td>2.288189</td><td>-0.781968</td><td>0.020431</td><td>-0.021409</td><td>0.0</td><td>0.109704</td><td>0.016766</td><td>0.0</td><td>0.0</td><td>-0.040523</td><td>0.001039</td><td>-0.020431</td><td>1</td><td>&quot;HL05W&quot;</td><td>&quot;0.0X_0.0Y&quot;</td><td>0</td><td>&quot;0.0X_0.0Y&quot;</td><td>0</td><td>0.020431</td></tr><tr><td>0.519075</td><td>0.020398</td><td>0.265055</td><td>0.019296</td><td>-0.112503</td><td>-0.648201</td><td>1.75</td><td>-0.003633</td><td>-0.008686</td><td>0.617053</td><td>-1.440305</td><td>0.011345</td><td>0.025299</td><td>-0.091752</td><td>0.011736</td><td>-0.044646</td><td>0.0</td><td>-0.091752</td><td>0.297984</td><td>0.004348</td><td>-0.011345</td><td>2</td><td>&quot;HL05W&quot;</td><td>&quot;0.0X_0.0Y&quot;</td><td>0</td><td>&quot;0.0X_0.0Y&quot;</td><td>0</td><td>0.011345</td></tr><tr><td>0.008733</td><td>0.000458</td><td>-0.010835</td><td>-0.000195</td><td>0.000553</td><td>-0.012726</td><td>1.083333</td><td>-0.000112</td><td>0.000314</td><td>-0.520989</td><td>-0.048568</td><td>0.001823</td><td>0.000468</td><td>0.0</td><td>0.001423</td><td>0.001635</td><td>0.0</td><td>0.0</td><td>-0.007808</td><td>0.000102</td><td>-0.001823</td><td>3</td><td>&quot;HL05W&quot;</td><td>&quot;0.0X_0.0Y&quot;</td><td>0</td><td>&quot;0.0X_0.0Y&quot;</td><td>0</td><td>0.001823</td></tr><tr><td>0.263707</td><td>0.021157</td><td>-0.209622</td><td>0.012876</td><td>-0.019235</td><td>-0.43379</td><td>2.0</td><td>-0.002929</td><td>0.005082</td><td>1.268078</td><td>-1.095852</td><td>0.009926</td><td>0.014951</td><td>0.0</td><td>0.025677</td><td>-0.012679</td><td>0.083333</td><td>-0.006993</td><td>-0.020251</td><td>0.002779</td><td>-0.009926</td><td>4</td><td>&quot;HL05W&quot;</td><td>&quot;0.0X_0.0Y&quot;</td><td>0</td><td>&quot;0.0X_0.0Y&quot;</td><td>0</td><td>0.009926</td></tr><tr><td>0.240636</td><td>0.004949</td><td>-0.019651</td><td>0.001876</td><td>0.006315</td><td>-0.103491</td><td>2.0</td><td>-0.000636</td><td>0.002419</td><td>2.235578</td><td>-0.453672</td><td>0.013227</td><td>-0.013531</td><td>0.0</td><td>0.051199</td><td>0.010991</td><td>0.0</td><td>0.0</td><td>-0.024284</td><td>0.000617</td><td>-0.013227</td><td>5</td><td>&quot;HL05W&quot;</td><td>&quot;0.0X_0.0Y&quot;</td><td>0</td><td>&quot;0.0X_0.0Y&quot;</td><td>0</td><td>0.013227</td></tr><tr><td>&hellip;</td><td>&hellip;</td><td>&hellip;</td><td>&hellip;</td><td>&hellip;</td><td>&hellip;</td><td>&hellip;</td><td>&hellip;</td><td>&hellip;</td><td>&hellip;</td><td>&hellip;</td><td>&hellip;</td><td>&hellip;</td><td>&hellip;</td><td>&hellip;</td><td>&hellip;</td><td>&hellip;</td><td>&hellip;</td><td>&hellip;</td><td>&hellip;</td><td>&hellip;</td><td>&hellip;</td><td>&hellip;</td><td>&hellip;</td><td>&hellip;</td><td>&hellip;</td><td>&hellip;</td><td>&hellip;</td></tr><tr><td>-0.252701</td><td>0.005881</td><td>-0.08415</td><td>-0.006662</td><td>-0.013472</td><td>-0.153566</td><td>-0.083333</td><td>0.002295</td><td>0.006415</td><td>0.038506</td><td>-0.211714</td><td>0.005785</td><td>0.004373</td><td>0.0</td><td>0.00655</td><td>0.003801</td><td>0.0</td><td>0.0</td><td>0.088406</td><td>0.002673</td><td>-0.005785</td><td>13</td><td>&quot;HL06W&quot;</td><td>&quot;-1.25X_0.0Y&quot;</td><td>4</td><td>&quot;-1.25X_0.0Y&quot;</td><td>4</td><td>0.005785</td></tr><tr><td>0.065895</td><td>0.000746</td><td>-0.048747</td><td>0.000208</td><td>0.005617</td><td>-0.041322</td><td>0.0</td><td>0.000207</td><td>-0.001608</td><td>0.0</td><td>0.064771</td><td>-0.002087</td><td>-0.000906</td><td>0.0</td><td>0.001442</td><td>-0.005217</td><td>0.0</td><td>0.0</td><td>0.013364</td><td>0.000592</td><td>0.002087</td><td>14</td><td>&quot;HL06W&quot;</td><td>&quot;-1.25X_0.0Y&quot;</td><td>4</td><td>&quot;-1.25X_0.0Y&quot;</td><td>4</td><td>-0.002087</td></tr><tr><td>0.008639</td><td>0.000132</td><td>-0.001185</td><td>-0.000558</td><td>-0.001253</td><td>-0.009618</td><td>0.0</td><td>0.000025</td><td>-0.000155</td><td>0.0</td><td>0.016174</td><td>-0.000178</td><td>0.000594</td><td>0.0</td><td>-0.002759</td><td>-0.000586</td><td>0.0</td><td>0.0</td><td>0.006761</td><td>0.000126</td><td>0.000178</td><td>15</td><td>&quot;HL06W&quot;</td><td>&quot;-1.25X_0.0Y&quot;</td><td>4</td><td>&quot;-1.25X_0.0Y&quot;</td><td>4</td><td>-0.000178</td></tr><tr><td>0.035728</td><td>0.00095</td><td>-0.015691</td><td>-0.002213</td><td>0.001775</td><td>-0.020935</td><td>0.0</td><td>0.000201</td><td>0.00115</td><td>0.0</td><td>0.030263</td><td>0.000848</td><td>0.002718</td><td>0.0</td><td>0.00175</td><td>0.000599</td><td>0.0</td><td>0.0</td><td>0.007921</td><td>0.000359</td><td>-0.000848</td><td>16</td><td>&quot;HL06W&quot;</td><td>&quot;-1.25X_0.0Y&quot;</td><td>4</td><td>&quot;-1.25X_0.0Y&quot;</td><td>4</td><td>0.000848</td></tr><tr><td>0.000238</td><td>0.000004</td><td>-0.000143</td><td>-0.000039</td><td>-0.000129</td><td>0.000095</td><td>0.0</td><td>-0.000003</td><td>0.000013</td><td>0.0</td><td>-0.000123</td><td>0.000021</td><td>0.000063</td><td>0.0</td><td>0.000047</td><td>0.000033</td><td>0.0</td><td>0.0</td><td>-0.000313</td><td>-0.000001</td><td>-0.000021</td><td>17</td><td>&quot;HL06W&quot;</td><td>&quot;-1.25X_0.0Y&quot;</td><td>4</td><td>&quot;-1.25X_0.0Y&quot;</td><td>4</td><td>0.000021</td></tr></tbody></table></div>"
      ],
      "text/plain": [
       "shape: (11_605, 28)\n",
       "┌───────────┬───────────┬───────────┬───────────┬───┬───────────┬───────────┬───────────┬───────────┐\n",
       "│ c20_rms   ┆ misdistri ┆ ild_rms   ┆ iacc_rms  ┆ … ┆ from_sour ┆ to_listen ┆ to_source ┆ xcorr_inv │\n",
       "│ ---       ┆ buted_ene ┆ ---       ┆ ---       ┆   ┆ ce        ┆ er        ┆ ---       ┆ ---       │\n",
       "│ f64       ┆ rgy       ┆ f64       ┆ f64       ┆   ┆ ---       ┆ ---       ┆ i32       ┆ f64       │\n",
       "│           ┆ ---       ┆           ┆           ┆   ┆ i32       ┆ str       ┆           ┆           │\n",
       "│           ┆ f64       ┆           ┆           ┆   ┆           ┆           ┆           ┆           │\n",
       "╞═══════════╪═══════════╪═══════════╪═══════════╪═══╪═══════════╪═══════════╪═══════════╪═══════════╡\n",
       "│ 0.510745  ┆ 0.009641  ┆ -0.063496 ┆ 0.007104  ┆ … ┆ 0         ┆ 0.0X_0.0Y ┆ 0         ┆ 0.020431  │\n",
       "│ 0.519075  ┆ 0.020398  ┆ 0.265055  ┆ 0.019296  ┆ … ┆ 0         ┆ 0.0X_0.0Y ┆ 0         ┆ 0.011345  │\n",
       "│ 0.008733  ┆ 0.000458  ┆ -0.010835 ┆ -0.000195 ┆ … ┆ 0         ┆ 0.0X_0.0Y ┆ 0         ┆ 0.001823  │\n",
       "│ 0.263707  ┆ 0.021157  ┆ -0.209622 ┆ 0.012876  ┆ … ┆ 0         ┆ 0.0X_0.0Y ┆ 0         ┆ 0.009926  │\n",
       "│ 0.240636  ┆ 0.004949  ┆ -0.019651 ┆ 0.001876  ┆ … ┆ 0         ┆ 0.0X_0.0Y ┆ 0         ┆ 0.013227  │\n",
       "│ …         ┆ …         ┆ …         ┆ …         ┆ … ┆ …         ┆ …         ┆ …         ┆ …         │\n",
       "│ -0.252701 ┆ 0.005881  ┆ -0.08415  ┆ -0.006662 ┆ … ┆ 4         ┆ -1.25X_0. ┆ 4         ┆ 0.005785  │\n",
       "│           ┆           ┆           ┆           ┆   ┆           ┆ 0Y        ┆           ┆           │\n",
       "│ 0.065895  ┆ 0.000746  ┆ -0.048747 ┆ 0.000208  ┆ … ┆ 4         ┆ -1.25X_0. ┆ 4         ┆ -0.002087 │\n",
       "│           ┆           ┆           ┆           ┆   ┆           ┆ 0Y        ┆           ┆           │\n",
       "│ 0.008639  ┆ 0.000132  ┆ -0.001185 ┆ -0.000558 ┆ … ┆ 4         ┆ -1.25X_0. ┆ 4         ┆ -0.000178 │\n",
       "│           ┆           ┆           ┆           ┆   ┆           ┆ 0Y        ┆           ┆           │\n",
       "│ 0.035728  ┆ 0.00095   ┆ -0.015691 ┆ -0.002213 ┆ … ┆ 4         ┆ -1.25X_0. ┆ 4         ┆ 0.000848  │\n",
       "│           ┆           ┆           ┆           ┆   ┆           ┆ 0Y        ┆           ┆           │\n",
       "│ 0.000238  ┆ 0.000004  ┆ -0.000143 ┆ -0.000039 ┆ … ┆ 4         ┆ -1.25X_0. ┆ 4         ┆ 0.000021  │\n",
       "│           ┆           ┆           ┆           ┆   ┆           ┆ 0Y        ┆           ┆           │\n",
       "└───────────┴───────────┴───────────┴───────────┴───┴───────────┴───────────┴───────────┴───────────┘"
      ]
     },
     "execution_count": 54,
     "metadata": {},
     "output_type": "execute_result"
    }
   ],
   "source": [
    "no_ds = cleaned.filter(pl.col(\"dropped\")>0)"
   ]
  },
  {
   "cell_type": "code",
   "execution_count": 55,
   "id": "374cd50f-567b-4e54-bde4-a26ce635fdf7",
   "metadata": {
    "execution": {
     "iopub.execute_input": "2024-08-27T18:08:21.590588Z",
     "iopub.status.busy": "2024-08-27T18:08:21.590588Z",
     "iopub.status.idle": "2024-08-27T18:08:21.600372Z",
     "shell.execute_reply": "2024-08-27T18:08:21.599269Z",
     "shell.execute_reply.started": "2024-08-27T18:08:21.590588Z"
    }
   },
   "outputs": [
    {
     "data": {
      "text/plain": [
       "0.03900928792569659"
      ]
     },
     "execution_count": 55,
     "metadata": {},
     "output_type": "execute_result"
    }
   ],
   "source": [
    "(- no_ds.shape[0] + cleaned.shape[0]) / delta_quality.shape[0]"
   ]
  },
  {
   "cell_type": "markdown",
   "id": "0c2f02fa-0693-4e82-9416-63ed0d8008ac",
   "metadata": {},
   "source": [
    "## RMS Normalization\n",
    "\n",
    "The goal is to have all quality metrics have the same rms, i.e. average influence over a sum. "
   ]
  },
  {
   "cell_type": "code",
   "execution_count": 56,
   "id": "c8bdd933-58db-402f-9d8b-868898110776",
   "metadata": {
    "execution": {
     "iopub.execute_input": "2024-08-27T18:08:23.898562Z",
     "iopub.status.busy": "2024-08-27T18:08:23.898562Z",
     "iopub.status.idle": "2024-08-27T18:08:23.910455Z",
     "shell.execute_reply": "2024-08-27T18:08:23.909939Z",
     "shell.execute_reply.started": "2024-08-27T18:08:23.898562Z"
    }
   },
   "outputs": [
    {
     "data": {
      "text/html": [
       "<div><style>\n",
       ".dataframe > thead > tr,\n",
       ".dataframe > tbody > tr {\n",
       "  text-align: right;\n",
       "  white-space: pre-wrap;\n",
       "}\n",
       "</style>\n",
       "<small>shape: (1, 11)</small><table border=\"1\" class=\"dataframe\"><thead><tr><th>xcorr_inv_add</th><th>rmse_lin</th><th>lag_rms</th><th>level_rms</th><th>misdistributed_energy</th><th>t30_rel_rms</th><th>c20_rms</th><th>iacc_rms</th><th>lag_iacc_rms</th><th>ild_rms</th><th>spectral_difference</th></tr><tr><td>f64</td><td>f64</td><td>f64</td><td>f64</td><td>f64</td><td>f64</td><td>f64</td><td>f64</td><td>f64</td><td>f64</td><td>f64</td></tr></thead><tbody><tr><td>0.018724</td><td>0.092308</td><td>71.534542</td><td>0.412434</td><td>0.015637</td><td>0.028808</td><td>0.537377</td><td>0.014887</td><td>3.135074</td><td>0.552666</td><td>0.029962</td></tr></tbody></table></div>"
      ],
      "text/plain": [
       "shape: (1, 11)\n",
       "┌────────────┬──────────┬───────────┬───────────┬───┬──────────┬────────────┬──────────┬────────────┐\n",
       "│ xcorr_inv_ ┆ rmse_lin ┆ lag_rms   ┆ level_rms ┆ … ┆ iacc_rms ┆ lag_iacc_r ┆ ild_rms  ┆ spectral_d │\n",
       "│ add        ┆ ---      ┆ ---       ┆ ---       ┆   ┆ ---      ┆ ms         ┆ ---      ┆ ifference  │\n",
       "│ ---        ┆ f64      ┆ f64       ┆ f64       ┆   ┆ f64      ┆ ---        ┆ f64      ┆ ---        │\n",
       "│ f64        ┆          ┆           ┆           ┆   ┆          ┆ f64        ┆          ┆ f64        │\n",
       "╞════════════╪══════════╪═══════════╪═══════════╪═══╪══════════╪════════════╪══════════╪════════════╡\n",
       "│ 0.018724   ┆ 0.092308 ┆ 71.534542 ┆ 0.412434  ┆ … ┆ 0.014887 ┆ 3.135074   ┆ 0.552666 ┆ 0.029962   │\n",
       "└────────────┴──────────┴───────────┴───────────┴───┴──────────┴────────────┴──────────┴────────────┘"
      ]
     },
     "execution_count": 56,
     "metadata": {},
     "output_type": "execute_result"
    }
   ],
   "source": [
    "cleaned_rms = no_ds.select(pl.col(quality_metrics) ** 2).mean().select(pl.all().sqrt())"
   ]
  },
  {
   "cell_type": "code",
   "execution_count": 62,
   "id": "8ad9ba08-26f3-40c8-a7d4-965e39589989",
   "metadata": {
    "execution": {
     "iopub.execute_input": "2024-08-27T18:23:58.812041Z",
     "iopub.status.busy": "2024-08-27T18:23:58.812041Z",
     "iopub.status.idle": "2024-08-27T18:23:58.831922Z",
     "shell.execute_reply": "2024-08-27T18:23:58.831922Z",
     "shell.execute_reply.started": "2024-08-27T18:23:58.812041Z"
    }
   },
   "outputs": [
    {
     "data": {
      "text/html": [
       "<div><style>\n",
       ".dataframe > thead > tr,\n",
       ".dataframe > tbody > tr {\n",
       "  text-align: right;\n",
       "  white-space: pre-wrap;\n",
       "}\n",
       "</style>\n",
       "<small>shape: (11_605, 17)</small><table border=\"1\" class=\"dataframe\"><thead><tr><th>xcorr_inv_add</th><th>rmse_lin</th><th>lag_rms</th><th>level_rms</th><th>misdistributed_energy</th><th>t30_rel_rms</th><th>c20_rms</th><th>iacc_rms</th><th>lag_iacc_rms</th><th>ild_rms</th><th>spectral_difference</th><th>room</th><th>from_listener</th><th>from_source</th><th>to_listener</th><th>to_source</th><th>dropped</th></tr><tr><td>f64</td><td>f64</td><td>f64</td><td>f64</td><td>f64</td><td>f64</td><td>f64</td><td>f64</td><td>f64</td><td>f64</td><td>f64</td><td>str</td><td>str</td><td>i32</td><td>str</td><td>i32</td><td>i64</td></tr></thead><tbody><tr><td>1.091164</td><td>0.181629</td><td>0.0</td><td>-0.098254</td><td>0.616546</td><td>-0.036825</td><td>0.95044</td><td>0.47718</td><td>0.729867</td><td>-0.114891</td><td>3.661435</td><td>&quot;HL05W&quot;</td><td>&quot;0.0X_0.0Y&quot;</td><td>0</td><td>&quot;0.0X_0.0Y&quot;</td><td>0</td><td>1</td></tr><tr><td>0.605931</td><td>-0.483657</td><td>-0.001283</td><td>0.722502</td><td>1.304506</td><td>-0.126099</td><td>0.965941</td><td>1.296227</td><td>0.196822</td><td>0.479593</td><td>0.391694</td><td>&quot;HL05W&quot;</td><td>&quot;0.0X_0.0Y&quot;</td><td>0</td><td>&quot;0.0X_0.0Y&quot;</td><td>0</td><td>2</td></tr><tr><td>0.097339</td><td>0.017712</td><td>0.0</td><td>-0.018932</td><td>0.029259</td><td>-0.003891</td><td>0.016251</td><td>-0.013091</td><td>-0.166181</td><td>-0.019605</td><td>0.047498</td><td>&quot;HL05W&quot;</td><td>&quot;0.0X_0.0Y&quot;</td><td>0</td><td>&quot;0.0X_0.0Y&quot;</td><td>0</td><td>3</td></tr><tr><td>0.530121</td><td>-0.137354</td><td>0.0</td><td>-0.049102</td><td>1.353011</td><td>-0.101663</td><td>0.490731</td><td>0.864919</td><td>0.404481</td><td>-0.379293</td><td>0.857</td><td>&quot;HL05W&quot;</td><td>&quot;0.0X_0.0Y&quot;</td><td>0</td><td>&quot;0.0X_0.0Y&quot;</td><td>0</td><td>4</td></tr><tr><td>0.706437</td><td>0.119073</td><td>0.0</td><td>-0.058879</td><td>0.316515</td><td>-0.022088</td><td>0.447797</td><td>0.126042</td><td>0.713086</td><td>-0.035557</td><td>1.708785</td><td>&quot;HL05W&quot;</td><td>&quot;0.0X_0.0Y&quot;</td><td>0</td><td>&quot;0.0X_0.0Y&quot;</td><td>0</td><td>5</td></tr><tr><td>&hellip;</td><td>&hellip;</td><td>&hellip;</td><td>&hellip;</td><td>&hellip;</td><td>&hellip;</td><td>&hellip;</td><td>&hellip;</td><td>&hellip;</td><td>&hellip;</td><td>&hellip;</td><td>&hellip;</td><td>&hellip;</td><td>&hellip;</td><td>&hellip;</td><td>&hellip;</td><td>&hellip;</td></tr><tr><td>0.308955</td><td>0.041181</td><td>0.0</td><td>0.214351</td><td>0.376076</td><td>0.079677</td><td>-0.470248</td><td>-0.447527</td><td>0.012282</td><td>-0.152262</td><td>0.218614</td><td>&quot;HL06W&quot;</td><td>&quot;-1.25X_0.0Y&quot;</td><td>4</td><td>&quot;-1.25X_0.0Y&quot;</td><td>4</td><td>13</td></tr><tr><td>-0.111456</td><td>-0.056512</td><td>0.0</td><td>0.032404</td><td>0.0477</td><td>0.007185</td><td>0.122623</td><td>0.013946</td><td>0.0</td><td>-0.088203</td><td>0.048121</td><td>&quot;HL06W&quot;</td><td>&quot;-1.25X_0.0Y&quot;</td><td>4</td><td>&quot;-1.25X_0.0Y&quot;</td><td>4</td><td>14</td></tr><tr><td>-0.009522</td><td>-0.006348</td><td>0.0</td><td>0.016393</td><td>0.008422</td><td>0.000871</td><td>0.016076</td><td>-0.037497</td><td>0.0</td><td>-0.002144</td><td>-0.092089</td><td>&quot;HL06W&quot;</td><td>&quot;-1.25X_0.0Y&quot;</td><td>4</td><td>&quot;-1.25X_0.0Y&quot;</td><td>4</td><td>15</td></tr><tr><td>0.045282</td><td>0.006492</td><td>0.0</td><td>0.019205</td><td>0.060769</td><td>0.006964</td><td>0.066487</td><td>-0.148673</td><td>0.0</td><td>-0.028391</td><td>0.05842</td><td>&quot;HL06W&quot;</td><td>&quot;-1.25X_0.0Y&quot;</td><td>4</td><td>&quot;-1.25X_0.0Y&quot;</td><td>4</td><td>16</td></tr><tr><td>0.001133</td><td>0.000354</td><td>0.0</td><td>-0.000759</td><td>0.00026</td><td>-0.000113</td><td>0.000443</td><td>-0.002602</td><td>0.0</td><td>-0.000258</td><td>0.001584</td><td>&quot;HL06W&quot;</td><td>&quot;-1.25X_0.0Y&quot;</td><td>4</td><td>&quot;-1.25X_0.0Y&quot;</td><td>4</td><td>17</td></tr></tbody></table></div>"
      ],
      "text/plain": [
       "shape: (11_605, 17)\n",
       "┌────────────┬───────────┬───────────┬───────────┬───┬────────────┬───────────┬───────────┬─────────┐\n",
       "│ xcorr_inv_ ┆ rmse_lin  ┆ lag_rms   ┆ level_rms ┆ … ┆ from_sourc ┆ to_listen ┆ to_source ┆ dropped │\n",
       "│ add        ┆ ---       ┆ ---       ┆ ---       ┆   ┆ e          ┆ er        ┆ ---       ┆ ---     │\n",
       "│ ---        ┆ f64       ┆ f64       ┆ f64       ┆   ┆ ---        ┆ ---       ┆ i32       ┆ i64     │\n",
       "│ f64        ┆           ┆           ┆           ┆   ┆ i32        ┆ str       ┆           ┆         │\n",
       "╞════════════╪═══════════╪═══════════╪═══════════╪═══╪════════════╪═══════════╪═══════════╪═════════╡\n",
       "│ 1.091164   ┆ 0.181629  ┆ 0.0       ┆ -0.098254 ┆ … ┆ 0          ┆ 0.0X_0.0Y ┆ 0         ┆ 1       │\n",
       "│ 0.605931   ┆ -0.483657 ┆ -0.001283 ┆ 0.722502  ┆ … ┆ 0          ┆ 0.0X_0.0Y ┆ 0         ┆ 2       │\n",
       "│ 0.097339   ┆ 0.017712  ┆ 0.0       ┆ -0.018932 ┆ … ┆ 0          ┆ 0.0X_0.0Y ┆ 0         ┆ 3       │\n",
       "│ 0.530121   ┆ -0.137354 ┆ 0.0       ┆ -0.049102 ┆ … ┆ 0          ┆ 0.0X_0.0Y ┆ 0         ┆ 4       │\n",
       "│ 0.706437   ┆ 0.119073  ┆ 0.0       ┆ -0.058879 ┆ … ┆ 0          ┆ 0.0X_0.0Y ┆ 0         ┆ 5       │\n",
       "│ …          ┆ …         ┆ …         ┆ …         ┆ … ┆ …          ┆ …         ┆ …         ┆ …       │\n",
       "│ 0.308955   ┆ 0.041181  ┆ 0.0       ┆ 0.214351  ┆ … ┆ 4          ┆ -1.25X_0. ┆ 4         ┆ 13      │\n",
       "│            ┆           ┆           ┆           ┆   ┆            ┆ 0Y        ┆           ┆         │\n",
       "│ -0.111456  ┆ -0.056512 ┆ 0.0       ┆ 0.032404  ┆ … ┆ 4          ┆ -1.25X_0. ┆ 4         ┆ 14      │\n",
       "│            ┆           ┆           ┆           ┆   ┆            ┆ 0Y        ┆           ┆         │\n",
       "│ -0.009522  ┆ -0.006348 ┆ 0.0       ┆ 0.016393  ┆ … ┆ 4          ┆ -1.25X_0. ┆ 4         ┆ 15      │\n",
       "│            ┆           ┆           ┆           ┆   ┆            ┆ 0Y        ┆           ┆         │\n",
       "│ 0.045282   ┆ 0.006492  ┆ 0.0       ┆ 0.019205  ┆ … ┆ 4          ┆ -1.25X_0. ┆ 4         ┆ 16      │\n",
       "│            ┆           ┆           ┆           ┆   ┆            ┆ 0Y        ┆           ┆         │\n",
       "│ 0.001133   ┆ 0.000354  ┆ 0.0       ┆ -0.000759 ┆ … ┆ 4          ┆ -1.25X_0. ┆ 4         ┆ 17      │\n",
       "│            ┆           ┆           ┆           ┆   ┆            ┆ 0Y        ┆           ┆         │\n",
       "└────────────┴───────────┴───────────┴───────────┴───┴────────────┴───────────┴───────────┴─────────┘"
      ]
     },
     "execution_count": 62,
     "metadata": {},
     "output_type": "execute_result"
    }
   ],
   "source": [
    "normalized = no_ds.select(\n",
    "    pl.struct(pl.col(quality_metrics)).alias(\"struct\") / cleaned_rms.to_struct(),\n",
    "    *key_columns, \"dropped\"\n",
    ").unnest(\"struct\")"
   ]
  },
  {
   "cell_type": "code",
   "execution_count": 63,
   "id": "c62d1996-1761-4c86-a2d4-f747394cbfda",
   "metadata": {
    "execution": {
     "iopub.execute_input": "2024-08-27T18:24:00.546680Z",
     "iopub.status.busy": "2024-08-27T18:24:00.546680Z",
     "iopub.status.idle": "2024-08-27T18:24:00.566543Z",
     "shell.execute_reply": "2024-08-27T18:24:00.566543Z",
     "shell.execute_reply.started": "2024-08-27T18:24:00.546680Z"
    }
   },
   "outputs": [
    {
     "data": {
      "text/html": [
       "<div><style>\n",
       ".dataframe > thead > tr,\n",
       ".dataframe > tbody > tr {\n",
       "  text-align: right;\n",
       "  white-space: pre-wrap;\n",
       "}\n",
       "</style>\n",
       "<small>shape: (9, 12)</small><table border=\"1\" class=\"dataframe\"><thead><tr><th>statistic</th><th>xcorr_inv_add</th><th>rmse_lin</th><th>lag_rms</th><th>level_rms</th><th>misdistributed_energy</th><th>t30_rel_rms</th><th>c20_rms</th><th>iacc_rms</th><th>lag_iacc_rms</th><th>ild_rms</th><th>spectral_difference</th></tr><tr><td>str</td><td>f64</td><td>f64</td><td>f64</td><td>f64</td><td>f64</td><td>f64</td><td>f64</td><td>f64</td><td>f64</td><td>f64</td><td>f64</td></tr></thead><tbody><tr><td>&quot;count&quot;</td><td>11605.0</td><td>11605.0</td><td>11605.0</td><td>11605.0</td><td>11605.0</td><td>11605.0</td><td>11605.0</td><td>11605.0</td><td>11605.0</td><td>11605.0</td><td>11605.0</td></tr><tr><td>&quot;null_count&quot;</td><td>0.0</td><td>0.0</td><td>0.0</td><td>0.0</td><td>0.0</td><td>0.0</td><td>0.0</td><td>0.0</td><td>0.0</td><td>0.0</td><td>0.0</td></tr><tr><td>&quot;mean&quot;</td><td>0.005806</td><td>-0.194624</td><td>0.007868</td><td>-0.003706</td><td>0.004033</td><td>0.0541</td><td>0.032222</td><td>-0.016729</td><td>-0.030653</td><td>-0.003366</td><td>-0.000378</td></tr><tr><td>&quot;std&quot;</td><td>1.000026</td><td>0.98092</td><td>1.000012</td><td>1.000036</td><td>1.000035</td><td>0.998579</td><td>0.999524</td><td>0.999903</td><td>0.999573</td><td>1.000037</td><td>1.000043</td></tr><tr><td>&quot;min&quot;</td><td>-10.473078</td><td>-26.575433</td><td>-17.697154</td><td>-20.115581</td><td>-26.616023</td><td>-6.514776</td><td>-15.240042</td><td>-17.888853</td><td>-11.028936</td><td>-16.030314</td><td>-28.633835</td></tr><tr><td>&quot;25%&quot;</td><td>-0.10447</td><td>-0.075957</td><td>-0.000384</td><td>-0.014689</td><td>-0.002526</td><td>-0.005591</td><td>-0.028779</td><td>-0.054333</td><td>0.0</td><td>-0.016229</td><td>-0.102613</td></tr><tr><td>&quot;50%&quot;</td><td>-0.000106</td><td>-0.016068</td><td>0.0</td><td>0.000169</td><td>0.02135</td><td>0.0</td><td>0.000217</td><td>8.3413e-7</td><td>0.0</td><td>0.001287</td><td>0.002868</td></tr><tr><td>&quot;75%&quot;</td><td>0.076692</td><td>-0.000105</td><td>0.006084</td><td>0.064617</td><td>0.121396</td><td>0.008171</td><td>0.075148</td><td>0.07399</td><td>0.0</td><td>0.049243</td><td>0.188536</td></tr><tr><td>&quot;max&quot;</td><td>15.664439</td><td>3.208691</td><td>12.434319</td><td>11.259471</td><td>10.377089</td><td>87.656133</td><td>13.650505</td><td>13.198159</td><td>13.738611</td><td>15.357881</td><td>9.742357</td></tr></tbody></table></div>"
      ],
      "text/plain": [
       "shape: (9, 12)\n",
       "┌───────────┬───────────┬───────────┬───────────┬───┬───────────┬───────────┬───────────┬───────────┐\n",
       "│ statistic ┆ xcorr_inv ┆ rmse_lin  ┆ lag_rms   ┆ … ┆ iacc_rms  ┆ lag_iacc_ ┆ ild_rms   ┆ spectral_ │\n",
       "│ ---       ┆ _add      ┆ ---       ┆ ---       ┆   ┆ ---       ┆ rms       ┆ ---       ┆ differenc │\n",
       "│ str       ┆ ---       ┆ f64       ┆ f64       ┆   ┆ f64       ┆ ---       ┆ f64       ┆ e         │\n",
       "│           ┆ f64       ┆           ┆           ┆   ┆           ┆ f64       ┆           ┆ ---       │\n",
       "│           ┆           ┆           ┆           ┆   ┆           ┆           ┆           ┆ f64       │\n",
       "╞═══════════╪═══════════╪═══════════╪═══════════╪═══╪═══════════╪═══════════╪═══════════╪═══════════╡\n",
       "│ count     ┆ 11605.0   ┆ 11605.0   ┆ 11605.0   ┆ … ┆ 11605.0   ┆ 11605.0   ┆ 11605.0   ┆ 11605.0   │\n",
       "│ null_coun ┆ 0.0       ┆ 0.0       ┆ 0.0       ┆ … ┆ 0.0       ┆ 0.0       ┆ 0.0       ┆ 0.0       │\n",
       "│ t         ┆           ┆           ┆           ┆   ┆           ┆           ┆           ┆           │\n",
       "│ mean      ┆ 0.005806  ┆ -0.194624 ┆ 0.007868  ┆ … ┆ -0.016729 ┆ -0.030653 ┆ -0.003366 ┆ -0.000378 │\n",
       "│ std       ┆ 1.000026  ┆ 0.98092   ┆ 1.000012  ┆ … ┆ 0.999903  ┆ 0.999573  ┆ 1.000037  ┆ 1.000043  │\n",
       "│ min       ┆ -10.47307 ┆ -26.57543 ┆ -17.69715 ┆ … ┆ -17.88885 ┆ -11.02893 ┆ -16.03031 ┆ -28.63383 │\n",
       "│           ┆ 8         ┆ 3         ┆ 4         ┆   ┆ 3         ┆ 6         ┆ 4         ┆ 5         │\n",
       "│ 25%       ┆ -0.10447  ┆ -0.075957 ┆ -0.000384 ┆ … ┆ -0.054333 ┆ 0.0       ┆ -0.016229 ┆ -0.102613 │\n",
       "│ 50%       ┆ -0.000106 ┆ -0.016068 ┆ 0.0       ┆ … ┆ 8.3413e-7 ┆ 0.0       ┆ 0.001287  ┆ 0.002868  │\n",
       "│ 75%       ┆ 0.076692  ┆ -0.000105 ┆ 0.006084  ┆ … ┆ 0.07399   ┆ 0.0       ┆ 0.049243  ┆ 0.188536  │\n",
       "│ max       ┆ 15.664439 ┆ 3.208691  ┆ 12.434319 ┆ … ┆ 13.198159 ┆ 13.738611 ┆ 15.357881 ┆ 9.742357  │\n",
       "└───────────┴───────────┴───────────┴───────────┴───┴───────────┴───────────┴───────────┴───────────┘"
      ]
     },
     "execution_count": 63,
     "metadata": {},
     "output_type": "execute_result"
    }
   ],
   "source": [
    "normalized.select(quality_metrics).describe()"
   ]
  },
  {
   "cell_type": "markdown",
   "id": "181a9dca-bf9e-4c7d-a7e1-14db4d2e1e01",
   "metadata": {},
   "source": [
    "All now have an std around 1, perfect!"
   ]
  },
  {
   "cell_type": "markdown",
   "id": "0cdadd18-e411-44af-a9d8-2cd2490309be",
   "metadata": {},
   "source": [
    "## Reflection Quality Aggregation\n",
    "\n",
    "Most basic idea: group by from-keys and dropped, mean over quality columns and extrapolation positions (number of positions might be different)"
   ]
  },
  {
   "cell_type": "code",
   "execution_count": 64,
   "id": "62ae994c-884d-4218-ba21-12e4f531f957",
   "metadata": {
    "execution": {
     "iopub.execute_input": "2024-08-27T18:24:06.553813Z",
     "iopub.status.busy": "2024-08-27T18:24:06.552235Z",
     "iopub.status.idle": "2024-08-27T18:24:06.566377Z",
     "shell.execute_reply": "2024-08-27T18:24:06.565858Z",
     "shell.execute_reply.started": "2024-08-27T18:24:06.553813Z"
    }
   },
   "outputs": [
    {
     "name": "stderr",
     "output_type": "stream",
     "text": [
      "C:\\Users\\jcmfs\\AppData\\Local\\Temp\\ipykernel_9092\\1678228490.py:2: DeprecationWarning: `count` is deprecated. It has been renamed to `len`.\n",
      "  grouped.count()\n"
     ]
    },
    {
     "data": {
      "text/html": [
       "<div><style>\n",
       ".dataframe > thead > tr,\n",
       ".dataframe > tbody > tr {\n",
       "  text-align: right;\n",
       "  white-space: pre-wrap;\n",
       "}\n",
       "</style>\n",
       "<small>shape: (670, 5)</small><table border=\"1\" class=\"dataframe\"><thead><tr><th>room</th><th>from_listener</th><th>from_source</th><th>dropped</th><th>count</th></tr><tr><td>str</td><td>str</td><td>i32</td><td>i64</td><td>u32</td></tr></thead><tbody><tr><td>&quot;HL06W&quot;</td><td>&quot;1.75X_-2.0Y&quot;</td><td>4</td><td>14</td><td>16</td></tr><tr><td>&quot;HL05W&quot;</td><td>&quot;1.75X_-2.0Y&quot;</td><td>3</td><td>2</td><td>23</td></tr><tr><td>&quot;HL05W&quot;</td><td>&quot;1.75X_-2.0Y&quot;</td><td>0</td><td>4</td><td>23</td></tr><tr><td>&quot;HL06W&quot;</td><td>&quot;3.0X_2.0Y&quot;</td><td>4</td><td>10</td><td>16</td></tr><tr><td>&quot;HL06W&quot;</td><td>&quot;0.0X_0.0Y&quot;</td><td>0</td><td>5</td><td>16</td></tr><tr><td>&hellip;</td><td>&hellip;</td><td>&hellip;</td><td>&hellip;</td><td>&hellip;</td></tr><tr><td>&quot;HL05W&quot;</td><td>&quot;3.0X_2.0Y&quot;</td><td>2</td><td>2</td><td>23</td></tr><tr><td>&quot;HL05W&quot;</td><td>&quot;-1.25X_0.0Y&quot;</td><td>3</td><td>6</td><td>3</td></tr><tr><td>&quot;HL05W&quot;</td><td>&quot;-1.25X_0.0Y&quot;</td><td>1</td><td>10</td><td>23</td></tr><tr><td>&quot;HL06W&quot;</td><td>&quot;1.75X_-2.0Y&quot;</td><td>3</td><td>15</td><td>14</td></tr><tr><td>&quot;HL05W&quot;</td><td>&quot;0.0X_0.0Y&quot;</td><td>2</td><td>5</td><td>23</td></tr></tbody></table></div>"
      ],
      "text/plain": [
       "shape: (670, 5)\n",
       "┌───────┬───────────────┬─────────────┬─────────┬───────┐\n",
       "│ room  ┆ from_listener ┆ from_source ┆ dropped ┆ count │\n",
       "│ ---   ┆ ---           ┆ ---         ┆ ---     ┆ ---   │\n",
       "│ str   ┆ str           ┆ i32         ┆ i64     ┆ u32   │\n",
       "╞═══════╪═══════════════╪═════════════╪═════════╪═══════╡\n",
       "│ HL06W ┆ 1.75X_-2.0Y   ┆ 4           ┆ 14      ┆ 16    │\n",
       "│ HL05W ┆ 1.75X_-2.0Y   ┆ 3           ┆ 2       ┆ 23    │\n",
       "│ HL05W ┆ 1.75X_-2.0Y   ┆ 0           ┆ 4       ┆ 23    │\n",
       "│ HL06W ┆ 3.0X_2.0Y     ┆ 4           ┆ 10      ┆ 16    │\n",
       "│ HL06W ┆ 0.0X_0.0Y     ┆ 0           ┆ 5       ┆ 16    │\n",
       "│ …     ┆ …             ┆ …           ┆ …       ┆ …     │\n",
       "│ HL05W ┆ 3.0X_2.0Y     ┆ 2           ┆ 2       ┆ 23    │\n",
       "│ HL05W ┆ -1.25X_0.0Y   ┆ 3           ┆ 6       ┆ 3     │\n",
       "│ HL05W ┆ -1.25X_0.0Y   ┆ 1           ┆ 10      ┆ 23    │\n",
       "│ HL06W ┆ 1.75X_-2.0Y   ┆ 3           ┆ 15      ┆ 14    │\n",
       "│ HL05W ┆ 0.0X_0.0Y     ┆ 2           ┆ 5       ┆ 23    │\n",
       "└───────┴───────────────┴─────────────┴─────────┴───────┘"
      ]
     },
     "execution_count": 64,
     "metadata": {},
     "output_type": "execute_result"
    }
   ],
   "source": [
    "grouped = normalized.group_by(\"room\", \"from_listener\", \"from_source\", \"dropped\")\n",
    "grouped.count()"
   ]
  },
  {
   "cell_type": "code",
   "execution_count": 65,
   "id": "740c92f7-7c40-414a-9ee7-057ec151afe9",
   "metadata": {
    "execution": {
     "iopub.execute_input": "2024-08-27T18:24:08.078096Z",
     "iopub.status.busy": "2024-08-27T18:24:08.078096Z",
     "iopub.status.idle": "2024-08-27T18:24:08.104732Z",
     "shell.execute_reply": "2024-08-27T18:24:08.103595Z",
     "shell.execute_reply.started": "2024-08-27T18:24:08.078096Z"
    }
   },
   "outputs": [
    {
     "data": {
      "text/html": [
       "<div><style>\n",
       ".dataframe > thead > tr,\n",
       ".dataframe > tbody > tr {\n",
       "  text-align: right;\n",
       "  white-space: pre-wrap;\n",
       "}\n",
       "</style>\n",
       "<small>shape: (616, 24)</small><table border=\"1\" class=\"dataframe\"><thead><tr><th>room</th><th>from_listener</th><th>from_source</th><th>score</th><th>index</th><th>start</th><th>length</th><th>m0</th><th>m1</th><th>m2</th><th>imsrc_sample</th><th>doa_std</th><th>doa_nn</th><th>distance_boost</th><th>order</th><th>m0_hf</th><th>m1_hf</th><th>m2_hf</th><th>peak_prominence</th><th>doa_stability_1deg</th><th>doa_stability_5deg</th><th>relative_imsrc_time</th><th>directivity_boost</th><th>filter_energy</th></tr><tr><td>str</td><td>str</td><td>i32</td><td>f64</td><td>u32</td><td>i64</td><td>i64</td><td>f64</td><td>f64</td><td>f64</td><td>i32</td><td>f64</td><td>f64</td><td>f64</td><td>i32</td><td>f64</td><td>f64</td><td>f64</td><td>f64</td><td>i64</td><td>i64</td><td>f64</td><td>f64</td><td>f64</td></tr></thead><tbody><tr><td>&quot;HL05W&quot;</td><td>&quot;0.0X_0.0Y&quot;</td><td>0</td><td>0.035737</td><td>1</td><td>1090</td><td>92</td><td>0.071312</td><td>-10.139235</td><td>5.826576</td><td>1152</td><td>0.766935</td><td>0.913043</td><td>12.760934</td><td>1</td><td>0.032819</td><td>-13.588524</td><td>5.168121</td><td>13.075156</td><td>6</td><td>29</td><td>0.673913</td><td>24.376448</td><td>2.788308</td></tr><tr><td>&quot;HL05W&quot;</td><td>&quot;0.0X_0.0Y&quot;</td><td>0</td><td>0.297647</td><td>2</td><td>1475</td><td>68</td><td>0.092744</td><td>-6.631503</td><td>2.352815</td><td>1512</td><td>1.089485</td><td>0.882353</td><td>16.802765</td><td>1</td><td>0.081459</td><td>-7.582317</td><td>1.930367</td><td>84.343232</td><td>33</td><td>57</td><td>0.544118</td><td>4.117089</td><td>-1.899535</td></tr><tr><td>&quot;HL05W&quot;</td><td>&quot;0.0X_0.0Y&quot;</td><td>0</td><td>0.14806</td><td>3</td><td>1182</td><td>55</td><td>0.022534</td><td>-3.983457</td><td>4.521039</td><td>1209</td><td>1.165715</td><td>0.909091</td><td>13.541279</td><td>1</td><td>0.013935</td><td>-4.481781</td><td>4.737973</td><td>1.64649</td><td>3</td><td>3</td><td>0.490909</td><td>24.464293</td><td>-3.250034</td></tr><tr><td>&quot;HL05W&quot;</td><td>&quot;0.0X_0.0Y&quot;</td><td>0</td><td>0.143246</td><td>4</td><td>1543</td><td>72</td><td>0.088686</td><td>-9.524603</td><td>4.57512</td><td>1593</td><td>0.621013</td><td>0.930556</td><td>17.493347</td><td>2</td><td>0.075608</td><td>-10.54029</td><td>4.108845</td><td>13.632943</td><td>36</td><td>52</td><td>0.694444</td><td>7.02111</td><td>-0.702202</td></tr><tr><td>&quot;HL05W&quot;</td><td>&quot;0.0X_0.0Y&quot;</td><td>0</td><td>0.037412</td><td>5</td><td>1269</td><td>115</td><td>0.067538</td><td>0.711602</td><td>6.365214</td><td>1321</td><td>1.365498</td><td>0.73913</td><td>14.893336</td><td>2</td><td>0.034791</td><td>-1.816918</td><td>7.775398</td><td>13.324489</td><td>2</td><td>18</td><td>0.452174</td><td>23.19334</td><td>1.861431</td></tr><tr><td>&hellip;</td><td>&hellip;</td><td>&hellip;</td><td>&hellip;</td><td>&hellip;</td><td>&hellip;</td><td>&hellip;</td><td>&hellip;</td><td>&hellip;</td><td>&hellip;</td><td>&hellip;</td><td>&hellip;</td><td>&hellip;</td><td>&hellip;</td><td>&hellip;</td><td>&hellip;</td><td>&hellip;</td><td>&hellip;</td><td>&hellip;</td><td>&hellip;</td><td>&hellip;</td><td>&hellip;</td><td>&hellip;</td><td>&hellip;</td></tr><tr><td>&quot;HL06W&quot;</td><td>&quot;-1.25X_0.0Y&quot;</td><td>4</td><td>-0.012001</td><td>13</td><td>1702</td><td>70</td><td>0.069725</td><td>-4.717887</td><td>6.431363</td><td>1738</td><td>5.303597</td><td>0.728571</td><td>17.087682</td><td>4</td><td>0.041144</td><td>-5.768154</td><td>5.060668</td><td>6.445522</td><td>8</td><td>16</td><td>0.514286</td><td>5.248962</td><td>-6.045544</td></tr><tr><td>&quot;HL06W&quot;</td><td>&quot;-1.25X_0.0Y&quot;</td><td>4</td><td>0.004353</td><td>14</td><td>1793</td><td>43</td><td>0.020998</td><td>152.238806</td><td>4.561326</td><td>1663</td><td>7.0573</td><td>0.27907</td><td>16.40967</td><td>4</td><td>0.019172</td><td>152.049747</td><td>4.669508</td><td>2.499006</td><td>2</td><td>2</td><td>-3.023256</td><td>4.071061</td><td>-11.782945</td></tr><tr><td>&quot;HL06W&quot;</td><td>&quot;-1.25X_0.0Y&quot;</td><td>4</td><td>-0.039498</td><td>15</td><td>2010</td><td>44</td><td>0.025709</td><td>-15.8773</td><td>4.183936</td><td>2045</td><td>5.59564</td><td>0.272727</td><td>19.411317</td><td>4</td><td>0.023616</td><td>-16.04473</td><td>4.0855</td><td>9.163085</td><td>2</td><td>3</td><td>0.795455</td><td>24.309095</td><td>10.476384</td></tr><tr><td>&quot;HL06W&quot;</td><td>&quot;-1.25X_0.0Y&quot;</td><td>4</td><td>-0.834637</td><td>16</td><td>2237</td><td>43</td><td>0.018851</td><td>-30.650835</td><td>4.785438</td><td>2290</td><td>2.286956</td><td>0.44186</td><td>20.90679</td><td>4</td><td>0.015387</td><td>-30.224614</td><td>4.295125</td><td>5.270921</td><td>4</td><td>7</td><td>1.232558</td><td>30.931013</td><td>11.305576</td></tr><tr><td>&quot;HL06W&quot;</td><td>&quot;-1.25X_0.0Y&quot;</td><td>4</td><td>0.008463</td><td>17</td><td>2166</td><td>54</td><td>0.025846</td><td>-250.379283</td><td>4.11227</td><td>2439</td><td>5.464948</td><td>0.5</td><td>21.699716</td><td>5</td><td>0.017243</td><td>-248.33621</td><td>4.603765</td><td>9.947045</td><td>0</td><td>6</td><td>5.055556</td><td>29.487712</td><td>-10.484446</td></tr></tbody></table></div>"
      ],
      "text/plain": [
       "shape: (616, 24)\n",
       "┌───────┬────────────┬────────────┬───────────┬───┬────────────┬────────────┬───────────┬───────────┐\n",
       "│ room  ┆ from_liste ┆ from_sourc ┆ score     ┆ … ┆ doa_stabil ┆ relative_i ┆ directivi ┆ filter_en │\n",
       "│ ---   ┆ ner        ┆ e          ┆ ---       ┆   ┆ ity_5deg   ┆ msrc_time  ┆ ty_boost  ┆ ergy      │\n",
       "│ str   ┆ ---        ┆ ---        ┆ f64       ┆   ┆ ---        ┆ ---        ┆ ---       ┆ ---       │\n",
       "│       ┆ str        ┆ i32        ┆           ┆   ┆ i64        ┆ f64        ┆ f64       ┆ f64       │\n",
       "╞═══════╪════════════╪════════════╪═══════════╪═══╪════════════╪════════════╪═══════════╪═══════════╡\n",
       "│ HL05W ┆ 0.0X_0.0Y  ┆ 0          ┆ 0.035737  ┆ … ┆ 29         ┆ 0.673913   ┆ 24.376448 ┆ 2.788308  │\n",
       "│ HL05W ┆ 0.0X_0.0Y  ┆ 0          ┆ 0.297647  ┆ … ┆ 57         ┆ 0.544118   ┆ 4.117089  ┆ -1.899535 │\n",
       "│ HL05W ┆ 0.0X_0.0Y  ┆ 0          ┆ 0.14806   ┆ … ┆ 3          ┆ 0.490909   ┆ 24.464293 ┆ -3.250034 │\n",
       "│ HL05W ┆ 0.0X_0.0Y  ┆ 0          ┆ 0.143246  ┆ … ┆ 52         ┆ 0.694444   ┆ 7.02111   ┆ -0.702202 │\n",
       "│ HL05W ┆ 0.0X_0.0Y  ┆ 0          ┆ 0.037412  ┆ … ┆ 18         ┆ 0.452174   ┆ 23.19334  ┆ 1.861431  │\n",
       "│ …     ┆ …          ┆ …          ┆ …         ┆ … ┆ …          ┆ …          ┆ …         ┆ …         │\n",
       "│ HL06W ┆ -1.25X_0.0 ┆ 4          ┆ -0.012001 ┆ … ┆ 16         ┆ 0.514286   ┆ 5.248962  ┆ -6.045544 │\n",
       "│       ┆ Y          ┆            ┆           ┆   ┆            ┆            ┆           ┆           │\n",
       "│ HL06W ┆ -1.25X_0.0 ┆ 4          ┆ 0.004353  ┆ … ┆ 2          ┆ -3.023256  ┆ 4.071061  ┆ -11.78294 │\n",
       "│       ┆ Y          ┆            ┆           ┆   ┆            ┆            ┆           ┆ 5         │\n",
       "│ HL06W ┆ -1.25X_0.0 ┆ 4          ┆ -0.039498 ┆ … ┆ 3          ┆ 0.795455   ┆ 24.309095 ┆ 10.476384 │\n",
       "│       ┆ Y          ┆            ┆           ┆   ┆            ┆            ┆           ┆           │\n",
       "│ HL06W ┆ -1.25X_0.0 ┆ 4          ┆ -0.834637 ┆ … ┆ 7          ┆ 1.232558   ┆ 30.931013 ┆ 11.305576 │\n",
       "│       ┆ Y          ┆            ┆           ┆   ┆            ┆            ┆           ┆           │\n",
       "│ HL06W ┆ -1.25X_0.0 ┆ 4          ┆ 0.008463  ┆ … ┆ 6          ┆ 5.055556   ┆ 29.487712 ┆ -10.48444 │\n",
       "│       ┆ Y          ┆            ┆           ┆   ┆            ┆            ┆           ┆ 6         │\n",
       "└───────┴────────────┴────────────┴───────────┴───┴────────────┴────────────┴───────────┴───────────┘"
      ]
     },
     "execution_count": 65,
     "metadata": {},
     "output_type": "execute_result"
    }
   ],
   "source": [
    "scores = grouped.agg(\n",
    "    pl.col(quality_metrics).mean()\n",
    ").select(\n",
    "    \"room\", \"from_listener\", \"from_source\", \"dropped\", \n",
    "    score=pl.concat_list(quality_metrics).list.mean()\n",
    ").with_columns(\n",
    "    index = pl.col(\"dropped\").cast(pl.UInt32)\n",
    ").select(pl.exclude(\n",
    "    \"dropped\"\n",
    ")).join(\n",
    "    presynth.with_columns(\n",
    "        length = pl.col(\"stop\") - pl.col(\"start\")\n",
    "    ).select(\n",
    "        \"room\", \"from_listener\", \"from_source\", \"index\", *pre_metrics # drop some non-useful entries here\n",
    "    ),\n",
    "     [\"room\", \"from_listener\", \"from_source\", \"index\"],\n",
    ").fill_nan(None).drop_nulls() # drops 54 rows with missing peak_prominence or filter_energy"
   ]
  },
  {
   "cell_type": "markdown",
   "id": "1ddb62ec-4823-4a1a-9a57-462b6a68ccc1",
   "metadata": {},
   "source": [
    "Just to check this is right:"
   ]
  },
  {
   "cell_type": "code",
   "execution_count": 68,
   "id": "5a34a5f7-2c19-4a38-b08c-34e14e41adf5",
   "metadata": {
    "execution": {
     "iopub.execute_input": "2024-08-27T18:27:12.729448Z",
     "iopub.status.busy": "2024-08-27T18:27:12.728432Z",
     "iopub.status.idle": "2024-08-27T18:27:12.740776Z",
     "shell.execute_reply": "2024-08-27T18:27:12.739764Z",
     "shell.execute_reply.started": "2024-08-27T18:27:12.729448Z"
    }
   },
   "outputs": [
    {
     "data": {
      "text/html": [
       "<div><style>\n",
       ".dataframe > thead > tr,\n",
       ".dataframe > tbody > tr {\n",
       "  text-align: right;\n",
       "  white-space: pre-wrap;\n",
       "}\n",
       "</style>\n",
       "<small>shape: (1, 24)</small><table border=\"1\" class=\"dataframe\"><thead><tr><th>room</th><th>from_listener</th><th>from_source</th><th>score</th><th>index</th><th>start</th><th>length</th><th>m0</th><th>m1</th><th>m2</th><th>imsrc_sample</th><th>doa_std</th><th>doa_nn</th><th>distance_boost</th><th>order</th><th>m0_hf</th><th>m1_hf</th><th>m2_hf</th><th>peak_prominence</th><th>doa_stability_1deg</th><th>doa_stability_5deg</th><th>relative_imsrc_time</th><th>directivity_boost</th><th>filter_energy</th></tr><tr><td>str</td><td>str</td><td>i32</td><td>f64</td><td>u32</td><td>i64</td><td>i64</td><td>f64</td><td>f64</td><td>f64</td><td>i32</td><td>f64</td><td>f64</td><td>f64</td><td>i32</td><td>f64</td><td>f64</td><td>f64</td><td>f64</td><td>i64</td><td>i64</td><td>f64</td><td>f64</td><td>f64</td></tr></thead><tbody><tr><td>&quot;HL05W&quot;</td><td>&quot;0.0X_0.0Y&quot;</td><td>3</td><td>-0.216071</td><td>14</td><td>2561</td><td>53</td><td>0.042749</td><td>-52.453886</td><td>3.761923</td><td>2633</td><td>6.17035</td><td>0.471698</td><td>23.268888</td><td>3</td><td>0.024593</td><td>-48.888622</td><td>4.783168</td><td>5.590902</td><td>4</td><td>36</td><td>1.358491</td><td>31.286098</td><td>15.193081</td></tr></tbody></table></div>"
      ],
      "text/plain": [
       "shape: (1, 24)\n",
       "┌───────┬────────────┬────────────┬───────────┬───┬────────────┬────────────┬───────────┬───────────┐\n",
       "│ room  ┆ from_liste ┆ from_sourc ┆ score     ┆ … ┆ doa_stabil ┆ relative_i ┆ directivi ┆ filter_en │\n",
       "│ ---   ┆ ner        ┆ e          ┆ ---       ┆   ┆ ity_5deg   ┆ msrc_time  ┆ ty_boost  ┆ ergy      │\n",
       "│ str   ┆ ---        ┆ ---        ┆ f64       ┆   ┆ ---        ┆ ---        ┆ ---       ┆ ---       │\n",
       "│       ┆ str        ┆ i32        ┆           ┆   ┆ i64        ┆ f64        ┆ f64       ┆ f64       │\n",
       "╞═══════╪════════════╪════════════╪═══════════╪═══╪════════════╪════════════╪═══════════╪═══════════╡\n",
       "│ HL05W ┆ 0.0X_0.0Y  ┆ 3          ┆ -0.216071 ┆ … ┆ 36         ┆ 1.358491   ┆ 31.286098 ┆ 15.193081 │\n",
       "└───────┴────────────┴────────────┴───────────┴───┴────────────┴────────────┴───────────┴───────────┘"
      ]
     },
     "execution_count": 68,
     "metadata": {},
     "output_type": "execute_result"
    }
   ],
   "source": [
    "scores.filter(\n",
    "    pl.col(\"room\") == \"HL05W\",\n",
    "    pl.col(\"from_listener\") == \"0.0X_0.0Y\",\n",
    "    pl.col(\"from_source\") == 3,\n",
    "    pl.col(\"index\") == 14,\n",
    ")"
   ]
  },
  {
   "cell_type": "code",
   "execution_count": 69,
   "id": "2529d1cc-ac02-42f0-a99b-666e7f6add6e",
   "metadata": {
    "execution": {
     "iopub.execute_input": "2024-08-27T18:27:14.931236Z",
     "iopub.status.busy": "2024-08-27T18:27:14.930235Z",
     "iopub.status.idle": "2024-08-27T18:27:14.948456Z",
     "shell.execute_reply": "2024-08-27T18:27:14.948456Z",
     "shell.execute_reply.started": "2024-08-27T18:27:14.931236Z"
    }
   },
   "outputs": [
    {
     "data": {
      "text/html": [
       "<div><style>\n",
       ".dataframe > thead > tr,\n",
       ".dataframe > tbody > tr {\n",
       "  text-align: right;\n",
       "  white-space: pre-wrap;\n",
       "}\n",
       "</style>\n",
       "<small>shape: (23, 11)</small><table border=\"1\" class=\"dataframe\"><thead><tr><th>xcorr_inv_add</th><th>rmse_lin</th><th>lag_rms</th><th>level_rms</th><th>misdistributed_energy</th><th>t30_rel_rms</th><th>c20_rms</th><th>iacc_rms</th><th>lag_iacc_rms</th><th>ild_rms</th><th>spectral_difference</th></tr><tr><td>f64</td><td>f64</td><td>f64</td><td>f64</td><td>f64</td><td>f64</td><td>f64</td><td>f64</td><td>f64</td><td>f64</td><td>f64</td></tr></thead><tbody><tr><td>0.538681</td><td>-0.028094</td><td>0.119597</td><td>0.016365</td><td>-0.051554</td><td>0.010384</td><td>0.096229</td><td>0.126449</td><td>0.102674</td><td>-0.095459</td><td>-0.138193</td></tr><tr><td>-0.319042</td><td>-0.124609</td><td>-1.205006</td><td>-0.153189</td><td>-0.10831</td><td>0.047884</td><td>0.077979</td><td>0.169427</td><td>0.0</td><td>0.128881</td><td>-0.053584</td></tr><tr><td>-0.141012</td><td>-0.059513</td><td>0.601009</td><td>-0.048295</td><td>0.065493</td><td>-0.022012</td><td>-0.033115</td><td>0.010596</td><td>0.0</td><td>0.019075</td><td>-0.127405</td></tr><tr><td>0.048</td><td>-0.000412</td><td>0.0</td><td>0.068388</td><td>0.035701</td><td>-0.023067</td><td>0.088018</td><td>0.008538</td><td>0.0</td><td>0.107176</td><td>0.283233</td></tr><tr><td>-0.13347</td><td>-0.051432</td><td>0.0</td><td>0.159968</td><td>-0.169469</td><td>0.119124</td><td>-0.500379</td><td>0.062975</td><td>0.0</td><td>0.192552</td><td>0.125514</td></tr><tr><td>&hellip;</td><td>&hellip;</td><td>&hellip;</td><td>&hellip;</td><td>&hellip;</td><td>&hellip;</td><td>&hellip;</td><td>&hellip;</td><td>&hellip;</td><td>&hellip;</td><td>&hellip;</td></tr><tr><td>-0.509846</td><td>-0.289123</td><td>0.0</td><td>-0.261425</td><td>-0.643483</td><td>-0.859686</td><td>-0.182305</td><td>0.093228</td><td>-2.335073</td><td>0.354113</td><td>-0.21519</td></tr><tr><td>-0.009106</td><td>-0.007498</td><td>-0.306276</td><td>0.017442</td><td>-0.108389</td><td>-0.009505</td><td>-0.030465</td><td>0.054428</td><td>-0.002753</td><td>-0.023474</td><td>0.038366</td></tr><tr><td>-0.082376</td><td>-0.058226</td><td>0.0</td><td>0.032057</td><td>0.011903</td><td>-0.021008</td><td>-0.058386</td><td>0.061265</td><td>-0.117368</td><td>0.040451</td><td>-0.27727</td></tr><tr><td>-0.014305</td><td>-0.023699</td><td>0.0</td><td>0.050427</td><td>-0.038523</td><td>-0.016194</td><td>0.023612</td><td>0.157745</td><td>0.0</td><td>-0.075132</td><td>0.042914</td></tr><tr><td>0.454956</td><td>-3.125066</td><td>-0.941775</td><td>-1.660173</td><td>-0.011462</td><td>-0.59026</td><td>-0.262759</td><td>-3.68104</td><td>3.70133</td><td>0.143821</td><td>-1.334386</td></tr></tbody></table></div>"
      ],
      "text/plain": [
       "shape: (23, 11)\n",
       "┌────────────┬───────────┬───────────┬───────────┬───┬──────────┬───────────┬───────────┬───────────┐\n",
       "│ xcorr_inv_ ┆ rmse_lin  ┆ lag_rms   ┆ level_rms ┆ … ┆ iacc_rms ┆ lag_iacc_ ┆ ild_rms   ┆ spectral_ │\n",
       "│ add        ┆ ---       ┆ ---       ┆ ---       ┆   ┆ ---      ┆ rms       ┆ ---       ┆ differenc │\n",
       "│ ---        ┆ f64       ┆ f64       ┆ f64       ┆   ┆ f64      ┆ ---       ┆ f64       ┆ e         │\n",
       "│ f64        ┆           ┆           ┆           ┆   ┆          ┆ f64       ┆           ┆ ---       │\n",
       "│            ┆           ┆           ┆           ┆   ┆          ┆           ┆           ┆ f64       │\n",
       "╞════════════╪═══════════╪═══════════╪═══════════╪═══╪══════════╪═══════════╪═══════════╪═══════════╡\n",
       "│ 0.538681   ┆ -0.028094 ┆ 0.119597  ┆ 0.016365  ┆ … ┆ 0.126449 ┆ 0.102674  ┆ -0.095459 ┆ -0.138193 │\n",
       "│ -0.319042  ┆ -0.124609 ┆ -1.205006 ┆ -0.153189 ┆ … ┆ 0.169427 ┆ 0.0       ┆ 0.128881  ┆ -0.053584 │\n",
       "│ -0.141012  ┆ -0.059513 ┆ 0.601009  ┆ -0.048295 ┆ … ┆ 0.010596 ┆ 0.0       ┆ 0.019075  ┆ -0.127405 │\n",
       "│ 0.048      ┆ -0.000412 ┆ 0.0       ┆ 0.068388  ┆ … ┆ 0.008538 ┆ 0.0       ┆ 0.107176  ┆ 0.283233  │\n",
       "│ -0.13347   ┆ -0.051432 ┆ 0.0       ┆ 0.159968  ┆ … ┆ 0.062975 ┆ 0.0       ┆ 0.192552  ┆ 0.125514  │\n",
       "│ …          ┆ …         ┆ …         ┆ …         ┆ … ┆ …        ┆ …         ┆ …         ┆ …         │\n",
       "│ -0.509846  ┆ -0.289123 ┆ 0.0       ┆ -0.261425 ┆ … ┆ 0.093228 ┆ -2.335073 ┆ 0.354113  ┆ -0.21519  │\n",
       "│ -0.009106  ┆ -0.007498 ┆ -0.306276 ┆ 0.017442  ┆ … ┆ 0.054428 ┆ -0.002753 ┆ -0.023474 ┆ 0.038366  │\n",
       "│ -0.082376  ┆ -0.058226 ┆ 0.0       ┆ 0.032057  ┆ … ┆ 0.061265 ┆ -0.117368 ┆ 0.040451  ┆ -0.27727  │\n",
       "│ -0.014305  ┆ -0.023699 ┆ 0.0       ┆ 0.050427  ┆ … ┆ 0.157745 ┆ 0.0       ┆ -0.075132 ┆ 0.042914  │\n",
       "│ 0.454956   ┆ -3.125066 ┆ -0.941775 ┆ -1.660173 ┆ … ┆ -3.68104 ┆ 3.70133   ┆ 0.143821  ┆ -1.334386 │\n",
       "└────────────┴───────────┴───────────┴───────────┴───┴──────────┴───────────┴───────────┴───────────┘"
      ]
     },
     "execution_count": 69,
     "metadata": {},
     "output_type": "execute_result"
    }
   ],
   "source": [
    "test_out_mean_score = normalized.filter(\n",
    "    pl.col(\"room\") == \"HL05W\",\n",
    "    pl.col(\"from_listener\") == \"0.0X_0.0Y\",\n",
    "    pl.col(\"from_source\") == 3,\n",
    "    pl.col(\"dropped\") == 14,\n",
    ").select(quality_metrics)"
   ]
  },
  {
   "cell_type": "code",
   "execution_count": 70,
   "id": "9636aa42-398e-4f18-9e75-d8c05b3df5aa",
   "metadata": {
    "execution": {
     "iopub.execute_input": "2024-08-27T18:27:15.031793Z",
     "iopub.status.busy": "2024-08-27T18:27:15.031793Z",
     "iopub.status.idle": "2024-08-27T18:27:15.040446Z",
     "shell.execute_reply": "2024-08-27T18:27:15.039435Z",
     "shell.execute_reply.started": "2024-08-27T18:27:15.031793Z"
    }
   },
   "outputs": [
    {
     "data": {
      "text/plain": [
       "-0.21607077208155584"
      ]
     },
     "execution_count": 70,
     "metadata": {},
     "output_type": "execute_result"
    }
   ],
   "source": [
    "np.mean(test_out_mean_score.to_numpy())"
   ]
  },
  {
   "cell_type": "markdown",
   "id": "9cac3652-e7cb-46a6-90b4-6911d9e9f002",
   "metadata": {},
   "source": [
    "That matches the calculation in the dataframe above. Great!\n",
    "\n",
    "What's the distribution of the score now?"
   ]
  },
  {
   "cell_type": "code",
   "execution_count": 71,
   "id": "86122f11-a053-45d6-984d-d2b1b4a36b21",
   "metadata": {
    "execution": {
     "iopub.execute_input": "2024-08-27T18:27:21.527229Z",
     "iopub.status.busy": "2024-08-27T18:27:21.527229Z",
     "iopub.status.idle": "2024-08-27T18:27:21.772687Z",
     "shell.execute_reply": "2024-08-27T18:27:21.772687Z",
     "shell.execute_reply.started": "2024-08-27T18:27:21.527229Z"
    }
   },
   "outputs": [
    {
     "data": {
      "text/plain": [
       "<seaborn.axisgrid.FacetGrid at 0x17b4af5fdd0>"
      ]
     },
     "execution_count": 71,
     "metadata": {},
     "output_type": "execute_result"
    },
    {
     "data": {
      "image/png": "[encoded data removed]",
      "text/plain": [
       "<Figure size 500x500 with 1 Axes>"
      ]
     },
     "metadata": {},
     "output_type": "display_data"
    }
   ],
   "source": [
    "sns.displot(scores[\"score\"], kind=\"kde\")"
   ]
  },
  {
   "cell_type": "code",
   "execution_count": 299,
   "id": "56cd3675-5d5d-4a9c-990d-7131a24ade43",
   "metadata": {
    "execution": {
     "iopub.execute_input": "2024-08-28T12:24:09.209888Z",
     "iopub.status.busy": "2024-08-28T12:24:09.209888Z",
     "iopub.status.idle": "2024-08-28T12:24:09.908056Z",
     "shell.execute_reply": "2024-08-28T12:24:09.907047Z",
     "shell.execute_reply.started": "2024-08-28T12:24:09.209888Z"
    }
   },
   "outputs": [
    {
     "data": {
      "image/png": "[encoded data removed]",
      "text/plain": [
       "<Figure size 500x500 with 1 Axes>"
      ]
     },
     "metadata": {},
     "output_type": "display_data"
    }
   ],
   "source": [
    "sns.displot(scores, x=\"score\", kind=\"ecdf\", stat=\"count\")\n",
    "src.utils.mygrid()\n",
    "savefig(\"../reports/figures/score_distribution.pdf\")"
   ]
  },
  {
   "cell_type": "markdown",
   "id": "2d78680c-a321-4dad-859b-e9244e0f31be",
   "metadata": {},
   "source": [
    "Okay, that is nearly normally distributed around 0, but with a long left tail in the negative values. So there they are: The particularly bad reflections I keep noticing!"
   ]
  },
  {
   "cell_type": "markdown",
   "id": "166edecf-3826-4ac3-bb9a-1b4f4176d06e",
   "metadata": {},
   "source": [
    "# Automated tests for all presynth-metrics"
   ]
  },
  {
   "cell_type": "code",
   "execution_count": 126,
   "id": "a87cbef7-7227-4c7e-adfa-3d0939283ce6",
   "metadata": {
    "execution": {
     "iopub.execute_input": "2024-08-27T20:14:15.660794Z",
     "iopub.status.busy": "2024-08-27T20:14:15.659678Z",
     "iopub.status.idle": "2024-08-27T20:14:15.667854Z",
     "shell.execute_reply": "2024-08-27T20:14:15.666847Z",
     "shell.execute_reply.started": "2024-08-27T20:14:15.660794Z"
    }
   },
   "outputs": [],
   "source": [
    "def get_quantiles(column):\n",
    "    return (\n",
    "        scores.select(column).quantile(.05)[0,0], \n",
    "        scores.select(column).quantile(.95)[0,0],\n",
    "    )"
   ]
  },
  {
   "cell_type": "code",
   "execution_count": 260,
   "id": "3a765aaa-6fa7-4492-ab47-812c30eb17e8",
   "metadata": {
    "execution": {
     "iopub.execute_input": "2024-08-28T07:54:09.385439Z",
     "iopub.status.busy": "2024-08-28T07:54:09.383924Z",
     "iopub.status.idle": "2024-08-28T07:54:09.737795Z",
     "shell.execute_reply": "2024-08-28T07:54:09.737795Z",
     "shell.execute_reply.started": "2024-08-28T07:54:09.385439Z"
    }
   },
   "outputs": [
    {
     "data": {
      "text/plain": [
       "58"
      ]
     },
     "execution_count": 260,
     "metadata": {},
     "output_type": "execute_result"
    }
   ],
   "source": [
    "filter_arr = []\n",
    "# smaller than threshold\n",
    "filter_arr.extend([\n",
    "    {\n",
    "        \"rule\": lambda t, pre_metric=pre_metric: pl.col(pre_metric) < t, \n",
    "        \"description_proto\": f\"{pre_metric} < $0\",\n",
    "        \"params\": np.linspace(*get_quantiles(pre_metric), num=1000),\n",
    "    } for pre_metric in pre_metrics\n",
    "])\n",
    "filter_arr.extend([\n",
    "    {\n",
    "        \"rule\": lambda t, pre_metric=pre_metric: pl.col(pre_metric) > t, \n",
    "        \"description_proto\": f\"{pre_metric} > $0\",\n",
    "        \"params\": np.linspace(*get_quantiles(pre_metric), num=1000),\n",
    "    } for pre_metric in pre_metrics\n",
    "])\n",
    "filter_arr.extend([\n",
    "    {\n",
    "        \"rule\": lambda t, pre_metric=pre_metric: pl.col(pre_metric).abs() < t, \n",
    "        \"description_proto\": f\"|{pre_metric}| < $0\",\n",
    "        \"params\": np.linspace(*get_quantiles(pl.col(pre_metric).abs()), num=1000),\n",
    "    } for pre_metric in [\"m1\", \"m1_hf\"]\n",
    "])\n",
    "filter_arr.append(\n",
    "    {\n",
    "        \"rule\": lambda t: [\n",
    "            pl.col(\"filter_energy\") < t[0],\n",
    "            pl.col(\"directivity_boost\") < t[1]\n",
    "        ], \n",
    "        \"description_proto\": f\"filter_energy < $0 & directivity_boost < $1\",\n",
    "        \"params\": np.array([[\n",
    "            (t,u) for t in np.linspace(*get_quantiles(\"filter_energy\"), 100)\n",
    "        ] for u in np.linspace(*get_quantiles(\"directivity_boost\"), 100)]).reshape((-1, 2))\n",
    "    }\n",
    ")\n",
    "for main_criterion in [\"filter_energy\", \"directivity_boost\"]:\n",
    "    filter_arr.append(\n",
    "        {\n",
    "            \"rule\": lambda t, main_criterion=main_criterion: [\n",
    "                pl.col(main_criterion) < t[0],\n",
    "                pl.col(\"relative_imsrc_time\").sub(.55).abs() < t[1]\n",
    "            ], \n",
    "            \"description_proto\": f\"{main_criterion} < $0 & |relative_imsrc_time - c(0.55)| < $1\",\n",
    "            \"params\": np.array([[\n",
    "                (t,u) for t in np.linspace(*get_quantiles(main_criterion), 100)\n",
    "            ] for u in np.linspace(*get_quantiles(pl.col(\"relative_imsrc_time\").abs()), 100)]).reshape((-1, 2))\n",
    "        }\n",
    "    )\n",
    "    filter_arr.append(\n",
    "        {\n",
    "            \"rule\": lambda t, main_criterion=main_criterion: [\n",
    "                pl.col(main_criterion) < t[0],\n",
    "                pl.col(\"m1\") > t[1]\n",
    "            ], \n",
    "            \"description_proto\": f\"{main_criterion} < $0 & m1 > $1\",\n",
    "            \"params\": np.array([[\n",
    "                (t,u) for t in np.linspace(*get_quantiles(main_criterion), 100)\n",
    "            ] for u in np.linspace(*get_quantiles(\"m1\"), 100)]).reshape((-1, 2))\n",
    "        }\n",
    "    )\n",
    "    filter_arr.append(\n",
    "        {\n",
    "            \"rule\": lambda t, main_criterion=main_criterion: [\n",
    "                pl.col(main_criterion) < t[0],\n",
    "                pl.col(\"m1\") < t[1]\n",
    "            ], \n",
    "            \"description_proto\": f\"{main_criterion} < $0 & m1 < $1\",\n",
    "            \"params\": np.array([[\n",
    "                (t,u) for t in np.linspace(*get_quantiles(main_criterion), 100)\n",
    "            ] for u in np.linspace(*get_quantiles(\"m1\"), 100)]).reshape((-1, 2))\n",
    "        }\n",
    "    )\n",
    "    filter_arr.append(\n",
    "        {\n",
    "            \"rule\": lambda t, main_criterion=main_criterion: [\n",
    "                pl.col(main_criterion) < t[0],\n",
    "                pl.col(\"m1\").abs() < t[1]\n",
    "            ], \n",
    "            \"description_proto\": f\"{main_criterion} < $0 & |m1| < $1\",\n",
    "            \"params\": np.array([[\n",
    "                (t,u) for t in np.linspace(*get_quantiles(main_criterion), 100)\n",
    "            ] for u in np.linspace(*get_quantiles(pl.col(\"m1\").abs()), 100)]).reshape((-1, 2))\n",
    "        }\n",
    "    )\n",
    "    filter_arr.append(\n",
    "        {\n",
    "            \"rule\": lambda t, main_criterion=main_criterion: [\n",
    "                pl.col(main_criterion) < t[0],\n",
    "                pl.col(\"m2\") < t[1]\n",
    "            ], \n",
    "            \"description_proto\": f\"{main_criterion} < $0 & m2 < $1\",\n",
    "            \"params\": np.array([[\n",
    "                (t,u) for t in np.linspace(*get_quantiles(main_criterion), 100)\n",
    "            ] for u in np.linspace(*get_quantiles(\"m2\"), 100)]).reshape((-1, 2))\n",
    "        }\n",
    "    )\n",
    "    filter_arr.append(\n",
    "        {\n",
    "            \"rule\": lambda t, main_criterion=main_criterion: [\n",
    "                pl.col(main_criterion) < t[0],\n",
    "                pl.col(\"m2_hf\") < t[1]\n",
    "            ], \n",
    "            \"description_proto\": f\"{main_criterion} < $0 & m2_hf < $1\",\n",
    "            \"params\": np.array([[\n",
    "                (t,u) for t in np.linspace(*get_quantiles(main_criterion), 100)\n",
    "            ] for u in np.linspace(*get_quantiles(\"m2_hf\"), 100)]).reshape((-1, 2))\n",
    "        }\n",
    "    )\n",
    "filter_arr.append(\n",
    "    {\n",
    "        \"rule\": lambda t: [\n",
    "            pl.col(\"peak_prominence\") > t[0],\n",
    "            pl.col(\"doa_stability_1deg\") > t[1]\n",
    "        ], \n",
    "        \"description_proto\": f\"peak_prominence > $0 & doa_stability_1deg > $1\",\n",
    "        \"params\": np.array([[\n",
    "            (t,u) for t in np.linspace(*get_quantiles(\"peak_prominence\"), 100)\n",
    "        ] for u in np.linspace(*get_quantiles(\"doa_stability_1deg\"), 100)]).reshape((-1, 2))\n",
    "    }\n",
    ")\n",
    "filter_arr.append(\n",
    "    {\n",
    "        \"rule\": lambda t: [\n",
    "            pl.col(\"relative_imsrc_time\").sub(t[0]).abs() < t[1],\n",
    "        ], \n",
    "        \"description_proto\": f\"|relative_imsrc_time - $0| < $1\",\n",
    "        \"params\": np.array([[\n",
    "            (t,u) for t in np.linspace(0, 1, 100)\n",
    "        ] for u in np.linspace(*get_quantiles(pl.col(\"relative_imsrc_time\").abs()), 100)]).reshape((-1, 2))\n",
    "    }\n",
    ")\n",
    "filter_arr.append(\n",
    "    {\n",
    "        \"rule\": lambda t: [\n",
    "            pl.col(\"score\") > t,\n",
    "        ], \n",
    "        \"description_proto\": f\"score > $0\",\n",
    "        \"params\": [0],\n",
    "    }\n",
    ")\n",
    "filter_arr.append(\n",
    "    {\n",
    "        \"rule\": lambda t: [\n",
    "            pl.col(\"filter_energy\") < t,\n",
    "        ], \n",
    "        \"description_proto\": f\"filter_energy < c($0)\",\n",
    "        \"params\": [5.5],\n",
    "    }\n",
    ")\n",
    "filter_arr.append(\n",
    "    {\n",
    "        \"rule\": lambda t: t,\n",
    "        \"description_proto\": f\"no filter\",\n",
    "        \"params\": [True],\n",
    "    }\n",
    ")\n",
    "len(filter_arr)"
   ]
  },
  {
   "cell_type": "code",
   "execution_count": 321,
   "id": "98314ce5-d82c-4b9e-ae08-033c1295726f",
   "metadata": {
    "execution": {
     "iopub.execute_input": "2024-08-29T08:00:38.604647Z",
     "iopub.status.busy": "2024-08-29T08:00:38.604647Z",
     "iopub.status.idle": "2024-08-29T08:00:38.614366Z",
     "shell.execute_reply": "2024-08-29T08:00:38.614366Z",
     "shell.execute_reply.started": "2024-08-29T08:00:38.604647Z"
    }
   },
   "outputs": [
    {
     "data": {
      "text/html": [
       "<div><style>\n",
       ".dataframe > thead > tr,\n",
       ".dataframe > tbody > tr {\n",
       "  text-align: right;\n",
       "  white-space: pre-wrap;\n",
       "}\n",
       "</style>\n",
       "<small>shape: (4, 2)</small><table border=\"1\" class=\"dataframe\"><thead><tr><th>a</th><th>b</th></tr><tr><td>f64</td><td>f64</td></tr></thead><tbody><tr><td>0.0</td><td>0.0</td></tr><tr><td>0.0</td><td>0.0</td></tr><tr><td>0.0</td><td>0.0</td></tr><tr><td>0.0</td><td>0.0</td></tr></tbody></table></div>"
      ],
      "text/plain": [
       "shape: (4, 2)\n",
       "┌─────┬─────┐\n",
       "│ a   ┆ b   │\n",
       "│ --- ┆ --- │\n",
       "│ f64 ┆ f64 │\n",
       "╞═════╪═════╡\n",
       "│ 0.0 ┆ 0.0 │\n",
       "│ 0.0 ┆ 0.0 │\n",
       "│ 0.0 ┆ 0.0 │\n",
       "│ 0.0 ┆ 0.0 │\n",
       "└─────┴─────┘"
      ]
     },
     "execution_count": 321,
     "metadata": {},
     "output_type": "execute_result"
    }
   ],
   "source": [
    "pl.DataFrame(np.zeros((4,2)), [\"a\", \"b\"])"
   ]
  },
  {
   "cell_type": "code",
   "execution_count": 467,
   "id": "b7e24c33-10f2-49fc-a6cc-3cf0db9b27c8",
   "metadata": {
    "execution": {
     "iopub.execute_input": "2024-08-29T09:08:46.592315Z",
     "iopub.status.busy": "2024-08-29T09:08:46.592315Z",
     "iopub.status.idle": "2024-08-29T09:08:46.599226Z",
     "shell.execute_reply": "2024-08-29T09:08:46.598708Z",
     "shell.execute_reply.started": "2024-08-29T09:08:46.592315Z"
    }
   },
   "outputs": [],
   "source": [
    "def evaluate_bootstrapped_array(*data_columns, original_df, filter_rule):\n",
    "    df = pl.LazyFrame(data_columns, original_df.columns) # might be very slightly faster, I don't know...\n",
    "    return df.filter(filter_rule).select(\"score\").sum().collect()[0,0] / df.filter(pl.col(\"score\") > 0).select(\"score\").sum().collect()[0,0]"
   ]
  },
  {
   "cell_type": "code",
   "execution_count": 463,
   "id": "fb53a2d9-3366-4877-9e12-212d30da7f43",
   "metadata": {
    "execution": {
     "iopub.execute_input": "2024-08-29T09:06:19.245435Z",
     "iopub.status.busy": "2024-08-29T09:06:19.245435Z",
     "iopub.status.idle": "2024-08-29T09:06:27.111205Z",
     "shell.execute_reply": "2024-08-29T09:06:27.110162Z",
     "shell.execute_reply.started": "2024-08-29T09:06:19.245435Z"
    }
   },
   "outputs": [
    {
     "name": "stdout",
     "output_type": "stream",
     "text": [
      "999 µs ± 123 µs per loop (mean ± std. dev. of 7 runs, 1,000 loops each)\n"
     ]
    }
   ],
   "source": [
    "%timeit evaluate_bootstrapped_array(*df_here.to_numpy().T, original_df=df_here, filter_rule=pl.col(\"filter_energy\") < 5.5)"
   ]
  },
  {
   "cell_type": "code",
   "execution_count": 478,
   "id": "bfff456a-45b4-4369-bbc6-db753b0da9d7",
   "metadata": {
    "execution": {
     "iopub.execute_input": "2024-08-29T10:12:17.961009Z",
     "iopub.status.busy": "2024-08-29T10:12:17.960007Z",
     "iopub.status.idle": "2024-08-29T10:12:17.973734Z",
     "shell.execute_reply": "2024-08-29T10:12:17.973734Z",
     "shell.execute_reply.started": "2024-08-29T10:12:17.961009Z"
    }
   },
   "outputs": [],
   "source": [
    "def evaluate_filter_rule(filter_rule, params, df=scores, do_plot=True):\n",
    "    \"\"\"filter_rule is a lambda taking one of params\"\"\"\n",
    "    #print(filter_rule)\n",
    "    #print(params)\n",
    "    score_sums_for_params = np.array(\n",
    "        [\n",
    "            df.filter(\n",
    "                 filter_rule(p)\n",
    "            ).select(\"score\").sum()[0,0] for p in params\n",
    "        ]\n",
    "    )\n",
    "    #print(score_sums_for_params)\n",
    "    if do_plot:\n",
    "        plot(params, score_sums_for_params)\n",
    "        mygrid()\n",
    "\n",
    "    max_idx = np.argmax(score_sums_for_params)\n",
    "\n",
    "    optimal_filter_rule = filter_rule(params[max_idx])\n",
    "    optimal_filtered = df.filter(optimal_filter_rule)\n",
    "\n",
    "    n_filtered = optimal_filtered.shape[0]\n",
    "    n_unfiltered = df.shape[0]\n",
    "\n",
    "    n_filtered_positive = optimal_filtered.filter(pl.col(\"score\") > 0).shape[0]\n",
    "    n_unfiltered_positive = df.filter(pl.col(\"score\") > 0).shape[0]\n",
    "\n",
    "    n_filtered_negative = optimal_filtered.filter(pl.col(\"score\") < 0).shape[0]\n",
    "    n_unfiltered_negative = df.filter(pl.col(\"score\") < 0).shape[0]\n",
    "\n",
    "    filtered_positive = np.float64(1 - n_filtered_positive/n_unfiltered_positive)\n",
    "    filtered_negative = np.float64(1 - n_filtered_negative/n_unfiltered_negative)\n",
    "\n",
    "    if optimal_filtered.shape[0] > 0:\n",
    "        bootstrap_array = optimal_filtered.select(\"score\").to_numpy().T\n",
    "        #print(bootstrap_array.shape)\n",
    "        r = scipy.stats.bootstrap(\n",
    "            optimal_filtered.select(\"score\").to_numpy().T,\n",
    "            np.sum\n",
    "        )\n",
    "        # second kind of booststrap\n",
    "        # bootstrap whole data, then filter each bootstrapped sample, calculate sum relative to bootstrapped sample\n",
    "        # df_here = scores.select(pl.exclude(\"room\", \"from_listener\")) # remove string columns\n",
    "        # r2 = scipy.stats.bootstrap(\n",
    "        #     df_here.to_numpy().T,\n",
    "        #     functools.partial(evaluate_bootstrapped_array, original_df=df_here, filter_rule=optimal_filter_rule),\n",
    "        #     paired=True,\n",
    "        #     vectorized=False,\n",
    "        # )\n",
    "        # validated to have same results\n",
    "    else:\n",
    "        r = Mock(\n",
    "            confidence_interval=Mock(\n",
    "                low=-np.inf,\n",
    "                high=+np.inf,\n",
    "            )\n",
    "        )\n",
    "        # r2 = Mock(\n",
    "        #     confidence_interval=Mock(\n",
    "        #         low=-np.inf,\n",
    "        #         high=+np.inf,\n",
    "        #     )\n",
    "        # )\n",
    "\n",
    "    return {\n",
    "        \"optimal_param\": params[max_idx],\n",
    "        \"max_score\": score_sums_for_params[max_idx],\n",
    "        \"max_score_low\": r.confidence_interval.low,\n",
    "        \"max_score_high\": r.confidence_interval.high,\n",
    "        # \"max_score_low2\": r2.confidence_interval.low,\n",
    "        # \"max_score_high2\": r2.confidence_interval.high,\n",
    "        \"filtered\": 1 - n_filtered/n_unfiltered,\n",
    "        \"filtered_positive\": filtered_positive,\n",
    "        \"filtered_negative\": filtered_negative,\n",
    "        \"negative_ratio\": filtered_negative/filtered_positive,\n",
    "    }"
   ]
  },
  {
   "cell_type": "code",
   "execution_count": 472,
   "id": "bf958a14-e334-4d0c-8518-86f7ecaf8bac",
   "metadata": {
    "execution": {
     "iopub.execute_input": "2024-08-29T09:09:53.633599Z",
     "iopub.status.busy": "2024-08-29T09:09:53.632595Z",
     "iopub.status.idle": "2024-08-29T09:19:02.102458Z",
     "shell.execute_reply": "2024-08-29T09:19:02.099448Z",
     "shell.execute_reply.started": "2024-08-29T09:09:53.633599Z"
    },
    "scrolled": true
   },
   "outputs": [
    {
     "name": "stderr",
     "output_type": "stream",
     "text": [
      "C:\\Users\\jcmfs\\Documents\\MA\\e4-vis-dataset\\.venv\\Lib\\site-packages\\scipy\\stats\\_resampling.py:147: RuntimeWarning: invalid value encountered in scalar divide\n",
      "  a_hat = 1/6 * sum(nums) / sum(dens)**(3/2)\n",
      "C:\\Users\\jcmfs\\AppData\\Local\\Temp\\ipykernel_9092\\3946506242.py:44: DegenerateDataWarning: The BCa confidence interval cannot be calculated. This problem is known to occur when the distribution is degenerate or the statistic is np.min.\n",
      "  r2 = scipy.stats.bootstrap(\n",
      "C:\\Users\\jcmfs\\AppData\\Local\\Temp\\ipykernel_9092\\3946506242.py:74: RuntimeWarning: divide by zero encountered in scalar divide\n",
      "  \"negative_ratio\": filtered_negative/filtered_positive,\n",
      "C:\\Users\\jcmfs\\AppData\\Local\\Temp\\ipykernel_9092\\3946506242.py:74: RuntimeWarning: invalid value encountered in scalar divide\n",
      "  \"negative_ratio\": filtered_negative/filtered_positive,\n"
     ]
    },
    {
     "data": {
      "text/plain": [
       "[{'optimal_param': 1508.3123123123123,\n",
       "  'max_score': 3.5345753843327214,\n",
       "  'max_score_low': -5.270580706762989,\n",
       "  'max_score_high': 9.670492835672958,\n",
       "  'max_score_low2': -0.16103552469126584,\n",
       "  'max_score_high2': 0.2721631377705371,\n",
       "  'filtered': 0.6964285714285714,\n",
       "  'filtered_positive': 0.6683417085427136,\n",
       "  'filtered_negative': 0.7477064220183487,\n",
       "  'negative_ratio': 1.1187487066289579},\n",
       " {'optimal_param': 43.0,\n",
       "  'max_score': 0.0,\n",
       "  'max_score_low': -inf,\n",
       "  'max_score_high': inf,\n",
       "  'max_score_low2': -inf,\n",
       "  'max_score_high2': inf,\n",
       "  'filtered': 1.0,\n",
       "  'filtered_positive': 1.0,\n",
       "  'filtered_negative': 1.0,\n",
       "  'negative_ratio': 1.0},\n",
       " {'optimal_param': 0.021108505262768962,\n",
       "  'max_score': 1.3935916771711847,\n",
       "  'max_score_low': -1.6708202049686067,\n",
       "  'max_score_high': 4.191475276559031,\n",
       "  'max_score_low2': -0.05388399225295606,\n",
       "  'max_score_high2': 0.11749442250643582,\n",
       "  'filtered': 0.8327922077922079,\n",
       "  'filtered_positive': 0.8291457286432161,\n",
       "  'filtered_negative': 0.8394495412844036,\n",
       "  'negative_ratio': 1.0124270225187655},\n",
       " {'optimal_param': 18.177511271094573,\n",
       "  'max_score': 6.207365230492499,\n",
       "  'max_score_low': -7.132848649783162,\n",
       "  'max_score_high': 15.834453833756509,\n",
       "  'max_score_low2': -0.23201818919175743,\n",
       "  'max_score_high2': 0.43103158703488925,\n",
       "  'filtered': 0.29707792207792205,\n",
       "  'filtered_positive': 0.2185929648241206,\n",
       "  'filtered_negative': 0.44036697247706424,\n",
       "  'negative_ratio': 2.0145523568490984},\n",
       " {'optimal_param': 4.271326271752934,\n",
       "  'max_score': 2.415334998983487,\n",
       "  'max_score_low': -8.912945054769546,\n",
       "  'max_score_high': 8.954384706501125,\n",
       "  'max_score_low2': -0.2948441528436599,\n",
       "  'max_score_high2': 0.25475395451472443,\n",
       "  'filtered': 0.6428571428571428,\n",
       "  'filtered_positive': 0.6407035175879396,\n",
       "  'filtered_negative': 0.6467889908256881,\n",
       "  'negative_ratio': 1.0094981111710741},\n",
       " {'optimal_param': 1635.6666666666665,\n",
       "  'max_score': 4.062387565882355,\n",
       "  'max_score_low': -5.415388938520575,\n",
       "  'max_score_high': 11.058466050496795,\n",
       "  'max_score_low2': -0.16957302551460585,\n",
       "  'max_score_high2': 0.3073892674671494,\n",
       "  'filtered': 0.650974025974026,\n",
       "  'filtered_positive': 0.620603015075377,\n",
       "  'filtered_negative': 0.7064220183486238,\n",
       "  'negative_ratio': 1.1382832522378634},\n",
       " {'optimal_param': 5.653307179216956,\n",
       "  'max_score': 4.220993229344793,\n",
       "  'max_score_low': -6.654764183478492,\n",
       "  'max_score_high': 13.021633493982845,\n",
       "  'max_score_low2': -0.2076675394071814,\n",
       "  'max_score_high2': 0.3560613862399191,\n",
       "  'filtered': 0.38636363636363635,\n",
       "  'filtered_positive': 0.35678391959798994,\n",
       "  'filtered_negative': 0.44036697247706424,\n",
       "  'negative_ratio': 1.2342679932807856},\n",
       " {'optimal_param': 0.26542778331440964,\n",
       "  'max_score': -2.5862872675709068,\n",
       "  'max_score_low': -8.336332495628978,\n",
       "  'max_score_high': -0.2958911719956007,\n",
       "  'max_score_low2': -0.27484484182682667,\n",
       "  'max_score_high2': -0.007966299371603636,\n",
       "  'filtered': 0.9464285714285714,\n",
       "  'filtered_positive': 0.964824120603015,\n",
       "  'filtered_negative': 0.9128440366972477,\n",
       "  'negative_ratio': 0.9461248088685016},\n",
       " {'optimal_param': 20.719294183481836,\n",
       "  'max_score': 3.645568729933963,\n",
       "  'max_score_low': -7.297862948378893,\n",
       "  'max_score_high': 12.739648092986949,\n",
       "  'max_score_low2': -0.24744753302184108,\n",
       "  'max_score_high2': 0.3374089535202911,\n",
       "  'filtered': 0.4383116883116883,\n",
       "  'filtered_positive': 0.42211055276381915,\n",
       "  'filtered_negative': 0.4678899082568807,\n",
       "  'negative_ratio': 1.108453473132372},\n",
       " {'optimal_param': 2.001001001001001,\n",
       "  'max_score': 10.258665667849243,\n",
       "  'max_score_low': -0.15441829073020527,\n",
       "  'max_score_high': 18.23767837290579,\n",
       "  'max_score_low2': -0.012343068450434537,\n",
       "  'max_score_high2': 0.5043712334368875,\n",
       "  'filtered': 0.577922077922078,\n",
       "  'filtered_positive': 0.5100502512562815,\n",
       "  'filtered_negative': 0.7018348623853211,\n",
       "  'negative_ratio': 1.376011208026393},\n",
       " {'optimal_param': 0.012578120700981573,\n",
       "  'max_score': 1.5957934947566492,\n",
       "  'max_score_low': 0.14523721329090794,\n",
       "  'max_score_high': 3.7742860603730284,\n",
       "  'max_score_low2': 0.0025849575261279343,\n",
       "  'max_score_high2': 0.11094875112125432,\n",
       "  'filtered': 0.887987012987013,\n",
       "  'filtered_positive': 0.8844221105527639,\n",
       "  'filtered_negative': 0.8944954128440367,\n",
       "  'negative_ratio': 1.0113896997497913},\n",
       " {'optimal_param': 19.15767712009628,\n",
       "  'max_score': 6.4503311200593,\n",
       "  'max_score_low': -7.5188262868986975,\n",
       "  'max_score_high': 15.844187196244459,\n",
       "  'max_score_low2': -0.2369617647736579,\n",
       "  'max_score_high2': 0.4359886397471212,\n",
       "  'filtered': 0.2808441558441559,\n",
       "  'filtered_positive': 0.19849246231155782,\n",
       "  'filtered_negative': 0.4311926605504587,\n",
       "  'negative_ratio': 2.1723377075833232},\n",
       " {'optimal_param': 4.2181768669746385,\n",
       "  'max_score': 7.222515108205327,\n",
       "  'max_score_low': 0.44167707772355297,\n",
       "  'max_score_high': 12.021428693934219,\n",
       "  'max_score_low2': 0.020473314081215194,\n",
       "  'max_score_high2': 0.34805046058689637,\n",
       "  'filtered': 0.7159090909090908,\n",
       "  'filtered_positive': 0.6884422110552764,\n",
       "  'filtered_negative': 0.7660550458715596,\n",
       "  'negative_ratio': 1.1127368914484699},\n",
       " {'optimal_param': 0.5820437854212535,\n",
       "  'max_score': -1.5255870305909907,\n",
       "  'max_score_low': -7.25210524584308,\n",
       "  'max_score_high': 0.931407369523412,\n",
       "  'max_score_low2': -0.2321621208908509,\n",
       "  'max_score_high2': 0.025714400927964363,\n",
       "  'filtered': 0.9383116883116883,\n",
       "  'filtered_positive': 0.9422110552763819,\n",
       "  'filtered_negative': 0.9311926605504587,\n",
       "  'negative_ratio': 0.9883058103975535},\n",
       " {'optimal_param': 0.0,\n",
       "  'max_score': 0.0,\n",
       "  'max_score_low': -inf,\n",
       "  'max_score_high': inf,\n",
       "  'max_score_low2': -inf,\n",
       "  'max_score_high2': inf,\n",
       "  'filtered': 1.0,\n",
       "  'filtered_positive': 1.0,\n",
       "  'filtered_negative': 1.0,\n",
       "  'negative_ratio': 1.0},\n",
       " {'optimal_param': 0.0,\n",
       "  'max_score': 0.0,\n",
       "  'max_score_low': -inf,\n",
       "  'max_score_high': inf,\n",
       "  'max_score_low2': -inf,\n",
       "  'max_score_high2': inf,\n",
       "  'filtered': 1.0,\n",
       "  'filtered_positive': 1.0,\n",
       "  'filtered_negative': 1.0,\n",
       "  'negative_ratio': 1.0},\n",
       " {'optimal_param': 0.927843227843228,\n",
       "  'max_score': 5.141396245451244,\n",
       "  'max_score_low': -6.982657221476705,\n",
       "  'max_score_high': 14.295820101321562,\n",
       "  'max_score_low2': -0.21797959580648169,\n",
       "  'max_score_high2': 0.39302465527337666,\n",
       "  'filtered': 0.2597402597402597,\n",
       "  'filtered_positive': 0.22864321608040206,\n",
       "  'filtered_negative': 0.3165137614678899,\n",
       "  'negative_ratio': 1.38431293477165},\n",
       " {'optimal_param': 16.53144909266577,\n",
       "  'max_score': 22.928444217846064,\n",
       "  'max_score_low': 17.5324105997868,\n",
       "  'max_score_high': 27.964766108671558,\n",
       "  'max_score_low2': 0.5305363767570493,\n",
       "  'max_score_high2': 0.7545452412564391,\n",
       "  'filtered': 0.2808441558441559,\n",
       "  'filtered_positive': 0.15829145728643212,\n",
       "  'filtered_negative': 0.5045871559633027,\n",
       "  'negative_ratio': 3.187709334498326},\n",
       " {'optimal_param': 6.027237485895785,\n",
       "  'max_score': 23.960920972338865,\n",
       "  'max_score_low': 16.419200773346475,\n",
       "  'max_score_high': 30.00433622453306,\n",
       "  'max_score_low2': 0.47863035098506596,\n",
       "  'max_score_high2': 0.805059896026015,\n",
       "  'filtered': 0.18993506493506496,\n",
       "  'filtered_positive': 0.0653266331658291,\n",
       "  'filtered_negative': 0.4174311926605505,\n",
       "  'negative_ratio': 6.38990825688074},\n",
       " {'optimal_param': 2567.1111111111113,\n",
       "  'max_score': -1.311140945170121,\n",
       "  'max_score_low': -5.328307460045406,\n",
       "  'max_score_high': 0.40664458840609335,\n",
       "  'max_score_low2': -0.1591116380492038,\n",
       "  'max_score_high2': 0.011694489234504188,\n",
       "  'filtered': 0.8441558441558441,\n",
       "  'filtered_positive': 0.8567839195979899,\n",
       "  'filtered_negative': 0.8211009174311926,\n",
       "  'negative_ratio': 0.9583523904328876},\n",
       " {'optimal_param': 60.03603603603604,\n",
       "  'max_score': 4.079329135277819,\n",
       "  'max_score_low': -5.504828387659255,\n",
       "  'max_score_high': 10.657884626162481,\n",
       "  'max_score_low2': -0.18245110103080595,\n",
       "  'max_score_high2': 0.3003931289929551,\n",
       "  'filtered': 0.6753246753246753,\n",
       "  'filtered_positive': 0.6407035175879396,\n",
       "  'filtered_negative': 0.7385321100917431,\n",
       "  'negative_ratio': 1.1526893326137795},\n",
       " {'optimal_param': 0.06130193408558659,\n",
       "  'max_score': 5.597715663890501,\n",
       "  'max_score_low': -1.3374481866013517,\n",
       "  'max_score_high': 10.806790407117102,\n",
       "  'max_score_low2': -0.043923758066587215,\n",
       "  'max_score_high2': 0.3048171257532383,\n",
       "  'filtered': 0.75,\n",
       "  'filtered_positive': 0.7135678391959799,\n",
       "  'filtered_negative': 0.8165137614678899,\n",
       "  'negative_ratio': 1.144269285437395},\n",
       " {'optimal_param': -30.229686015607257,\n",
       "  'max_score': 5.374900982287731,\n",
       "  'max_score_low': -6.598934426029531,\n",
       "  'max_score_high': 14.44335881654419,\n",
       "  'max_score_low2': -0.22249271690348424,\n",
       "  'max_score_high2': 0.3985376479607226,\n",
       "  'filtered': 0.24837662337662336,\n",
       "  'filtered_positive': 0.21105527638190957,\n",
       "  'filtered_negative': 0.3165137614678899,\n",
       "  'negative_ratio': 1.499672346002621},\n",
       " {'optimal_param': 6.762839436798391,\n",
       "  'max_score': 2.209868012403296,\n",
       "  'max_score_low': 0.45677669617989664,\n",
       "  'max_score_high': 4.252012418287912,\n",
       "  'max_score_low2': 0.015509206797443538,\n",
       "  'max_score_high2': 0.1325477297232297,\n",
       "  'filtered': 0.9318181818181819,\n",
       "  'filtered_positive': 0.9170854271356784,\n",
       "  'filtered_negative': 0.9587155963302753,\n",
       "  'negative_ratio': 1.0453939927108207},\n",
       " {'optimal_param': 2515.927927927928,\n",
       "  'max_score': -0.21793549568708762,\n",
       "  'max_score_low': -4.014538925998019,\n",
       "  'max_score_high': 1.9106241847046348,\n",
       "  'max_score_low2': -0.1168356876343805,\n",
       "  'max_score_high2': 0.05650344213007672,\n",
       "  'filtered': 0.801948051948052,\n",
       "  'filtered_positive': 0.8065326633165829,\n",
       "  'filtered_negative': 0.7935779816513762,\n",
       "  'negative_ratio': 0.9839378090256938},\n",
       " {'optimal_param': 10.346505326745097,\n",
       "  'max_score': -0.6890762228417118,\n",
       "  'max_score_low': -3.9241007850706837,\n",
       "  'max_score_high': 0.8585356842604202,\n",
       "  'max_score_low2': -0.12220041201476997,\n",
       "  'max_score_high2': 0.02548222487647514,\n",
       "  'filtered': 0.9042207792207793,\n",
       "  'filtered_positive': 0.8994974874371859,\n",
       "  'filtered_negative': 0.9128440366972477,\n",
       "  'negative_ratio': 1.0148377838142586},\n",
       " {'optimal_param': 0.6496204514916677,\n",
       "  'max_score': 7.711537466189226,\n",
       "  'max_score_low': -0.3947927501746376,\n",
       "  'max_score_high': 13.844246682706753,\n",
       "  'max_score_low2': -0.023886150026128195,\n",
       "  'max_score_high2': 0.38060103551543906,\n",
       "  'filtered': 0.6785714285714286,\n",
       "  'filtered_positive': 0.6407035175879396,\n",
       "  'filtered_negative': 0.7477064220183487,\n",
       "  'negative_ratio': 1.1670084547580502},\n",
       " {'optimal_param': 25.21653339111383,\n",
       "  'max_score': -0.8810795794528083,\n",
       "  'max_score_low': -4.9612716354006,\n",
       "  'max_score_high': 0.21338797682508515,\n",
       "  'max_score_low2': -0.1683087487391614,\n",
       "  'max_score_high2': 0.005790003688489288,\n",
       "  'filtered': 0.9496753246753247,\n",
       "  'filtered_positive': 0.9547738693467337,\n",
       "  'filtered_negative': 0.9403669724770642,\n",
       "  'negative_ratio': 0.9849106711733462},\n",
       " {'optimal_param': 5.0,\n",
       "  'max_score': 0.0,\n",
       "  'max_score_low': -inf,\n",
       "  'max_score_high': inf,\n",
       "  'max_score_low2': -inf,\n",
       "  'max_score_high2': inf,\n",
       "  'filtered': 1.0,\n",
       "  'filtered_positive': 1.0,\n",
       "  'filtered_negative': 1.0,\n",
       "  'negative_ratio': 1.0},\n",
       " {'optimal_param': 0.060277994715866534,\n",
       "  'max_score': 4.5407438962359965,\n",
       "  'max_score_low': -1.6393257074428336,\n",
       "  'max_score_high': 8.884954473601137,\n",
       "  'max_score_low2': -0.04997159715457484,\n",
       "  'max_score_high2': 0.250761960253256,\n",
       "  'filtered': 0.8522727272727273,\n",
       "  'filtered_positive': 0.8190954773869347,\n",
       "  'filtered_negative': 0.9128440366972477,\n",
       "  'negative_ratio': 1.1144537625935724},\n",
       " {'optimal_param': -29.989319189278206,\n",
       "  'max_score': 5.323773079821196,\n",
       "  'max_score_low': -6.716868822385103,\n",
       "  'max_score_high': 14.439673582772967,\n",
       "  'max_score_low2': -0.21462009116847486,\n",
       "  'max_score_high2': 0.39598053080927914,\n",
       "  'filtered': 0.24675324675324672,\n",
       "  'filtered_positive': 0.21105527638190957,\n",
       "  'filtered_negative': 0.3119266055045872,\n",
       "  'negative_ratio': 1.4779379641764963},\n",
       " {'optimal_param': 6.899680849726286,\n",
       "  'max_score': 0.01849413043237355,\n",
       "  'max_score_low': -7.34076690518266,\n",
       "  'max_score_high': 2.779735311909815,\n",
       "  'max_score_low2': -0.21775337359723854,\n",
       "  'max_score_high2': 0.08092925498396808,\n",
       "  'filtered': 0.9253246753246753,\n",
       "  'filtered_positive': 0.9170854271356784,\n",
       "  'filtered_negative': 0.9403669724770642,\n",
       "  'negative_ratio': 1.02538645218047},\n",
       " {'optimal_param': 9.247031674097691,\n",
       "  'max_score': 7.959743156822864,\n",
       "  'max_score_low': -1.6423200044845279,\n",
       "  'max_score_high': 14.394809523289195,\n",
       "  'max_score_low2': -0.06428445868627984,\n",
       "  'max_score_high2': 0.4008754658394171,\n",
       "  'filtered': 0.6964285714285714,\n",
       "  'filtered_positive': 0.6482412060301508,\n",
       "  'filtered_negative': 0.7844036697247706,\n",
       "  'negative_ratio': 1.2100490719010026},\n",
       " {'optimal_param': 10.006006006006007,\n",
       "  'max_score': 7.747167215582751,\n",
       "  'max_score_low': 0.4354058327827517,\n",
       "  'max_score_high': 12.175902026386868,\n",
       "  'max_score_low2': 0.012767989836407362,\n",
       "  'max_score_high2': 0.3481875993753882,\n",
       "  'filtered': 0.823051948051948,\n",
       "  'filtered_positive': 0.7763819095477387,\n",
       "  'filtered_negative': 0.908256880733945,\n",
       "  'negative_ratio': 1.1698583771265698},\n",
       " {'optimal_param': 29.025025025025023,\n",
       "  'max_score': 12.238179440409704,\n",
       "  'max_score_low': 7.545529370464615,\n",
       "  'max_score_high': 16.131283610001738,\n",
       "  'max_score_low2': 0.22717703504377,\n",
       "  'max_score_high2': 0.46210544498752404,\n",
       "  'filtered': 0.775974025974026,\n",
       "  'filtered_positive': 0.7110552763819096,\n",
       "  'filtered_negative': 0.8944954128440367,\n",
       "  'negative_ratio': 1.2579829480986804},\n",
       " {'optimal_param': 0.1772649572649576,\n",
       "  'max_score': 6.599898007823807,\n",
       "  'max_score_low': -6.940627300115007,\n",
       "  'max_score_high': 15.989361313067196,\n",
       "  'max_score_low2': -0.2119916096565681,\n",
       "  'max_score_high2': 0.44725303820903334,\n",
       "  'filtered': 0.2987012987012987,\n",
       "  'filtered_positive': 0.2185929648241206,\n",
       "  'filtered_negative': 0.44495412844036697,\n",
       "  'negative_ratio': 2.035537277232943},\n",
       " {'optimal_param': 29.9019608681953,\n",
       "  'max_score': -9.643892032317364,\n",
       "  'max_score_low': -19.336751795298404,\n",
       "  'max_score_high': -4.708448952639083,\n",
       "  'max_score_low2': -0.6650301860296655,\n",
       "  'max_score_high2': -0.1250559460313865,\n",
       "  'filtered': 0.9496753246753247,\n",
       "  'filtered_positive': 0.9798994974874372,\n",
       "  'filtered_negative': 0.8944954128440367,\n",
       "  'negative_ratio': 0.9128440366972477},\n",
       " {'optimal_param': -11.435025667154042,\n",
       "  'max_score': -8.502397715783115,\n",
       "  'max_score_low': -24.74518272201684,\n",
       "  'max_score_high': 3.690073325354336,\n",
       "  'max_score_low2': -0.7821673413430288,\n",
       "  'max_score_high2': 0.11908457941664584,\n",
       "  'filtered': 0.06331168831168832,\n",
       "  'filtered_positive': 0.05276381909547734,\n",
       "  'filtered_negative': 0.08256880733944949,\n",
       "  'negative_ratio': 1.5648754914809966},\n",
       " {'optimal_param': 27.1109733851046,\n",
       "  'max_score': 19.35667880865155,\n",
       "  'max_score_low': 12.723633952784715,\n",
       "  'max_score_high': 25.268856309915577,\n",
       "  'max_score_low2': 0.40104015582882796,\n",
       "  'max_score_high2': 0.6788473295568119,\n",
       "  'filtered': 0.474025974025974,\n",
       "  'filtered_positive': 0.36180904522613067,\n",
       "  'filtered_negative': 0.6788990825688073,\n",
       "  'negative_ratio': 1.8764016309887868},\n",
       " {'optimal_param': 24.08897072592886,\n",
       "  'max_score': 19.104696224772702,\n",
       "  'max_score_low': 12.77430944348819,\n",
       "  'max_score_high': 24.706979246846753,\n",
       "  'max_score_low2': 0.3949208179463381,\n",
       "  'max_score_high2': 0.6736326613439797,\n",
       "  'filtered': 0.5097402597402597,\n",
       "  'filtered_positive': 0.39949748743718594,\n",
       "  'filtered_negative': 0.7110091743119267,\n",
       "  'negative_ratio': 1.779758813686458},\n",
       " {'optimal_param': array([ 5.56476422, 29.35572355]),\n",
       "  'max_score': 23.769113603382454,\n",
       "  'max_score_low': 16.012628930149972,\n",
       "  'max_score_high': 29.6680556510758,\n",
       "  'max_score_low2': 0.46517931671890117,\n",
       "  'max_score_high2': 0.8004464718030185,\n",
       "  'filtered': 0.22077922077922074,\n",
       "  'filtered_positive': 0.09296482412060303,\n",
       "  'filtered_negative': 0.45412844036697253,\n",
       "  'negative_ratio': 4.884949169352839},\n",
       " {'optimal_param': array([5.56476422, 2.85386473]),\n",
       "  'max_score': 24.053176396512317,\n",
       "  'max_score_low': 16.777783029948942,\n",
       "  'max_score_high': 30.055458344693744,\n",
       "  'max_score_low2': 0.4860432326076214,\n",
       "  'max_score_high2': 0.8080455389255933,\n",
       "  'filtered': 0.30194805194805197,\n",
       "  'filtered_positive': 0.1532663316582915,\n",
       "  'filtered_negative': 0.573394495412844,\n",
       "  'negative_ratio': 3.7411640848247845},\n",
       " {'optimal_param': array([   5.56476422, -144.87093495]),\n",
       "  'max_score': 23.718294054475187,\n",
       "  'max_score_low': 16.252110121146355,\n",
       "  'max_score_high': 29.608550326723943,\n",
       "  'max_score_low2': 0.4645157879990153,\n",
       "  'max_score_high2': 0.797702087716664,\n",
       "  'filtered': 0.2451298701298701,\n",
       "  'filtered_positive': 0.11557788944723613,\n",
       "  'filtered_negative': 0.481651376146789,\n",
       "  'negative_ratio': 4.167331471878741},\n",
       " {'optimal_param': array([ 5.56476422, 26.25004909]),\n",
       "  'max_score': 24.806035926526892,\n",
       "  'max_score_low': 19.3325285768483,\n",
       "  'max_score_high': 30.18950813857025,\n",
       "  'max_score_low2': 0.5873670054847115,\n",
       "  'max_score_high2': 0.8008056749165793,\n",
       "  'filtered': 0.3571428571428571,\n",
       "  'filtered_positive': 0.20854271356783916,\n",
       "  'filtered_negative': 0.6284403669724771,\n",
       "  'negative_ratio': 3.0134851331933246},\n",
       " {'optimal_param': array([  5.56476422, 183.09359277]),\n",
       "  'max_score': 23.948634237406413,\n",
       "  'max_score_low': 16.506243783119658,\n",
       "  'max_score_high': 29.80347899348758,\n",
       "  'max_score_low2': 0.4674510311540227,\n",
       "  'max_score_high2': 0.8021811894079267,\n",
       "  'filtered': 0.26623376623376627,\n",
       "  'filtered_positive': 0.12562814070351758,\n",
       "  'filtered_negative': 0.5229357798165137,\n",
       "  'negative_ratio': 4.16256880733945},\n",
       " {'optimal_param': array([6.42995297, 7.1130247 ]),\n",
       "  'max_score': 22.324483226999725,\n",
       "  'max_score_low': 14.96110188068512,\n",
       "  'max_score_high': 28.295921799869667,\n",
       "  'max_score_low2': 0.4217962988196421,\n",
       "  'max_score_high2': 0.7606709980004244,\n",
       "  'filtered': 0.22240259740259738,\n",
       "  'filtered_positive': 0.11306532663316582,\n",
       "  'filtered_negative': 0.42201834862385323,\n",
       "  'negative_ratio': 3.7325178389398577},\n",
       " {'optimal_param': array([6.42995297, 7.15695277]),\n",
       "  'max_score': 22.74560678127603,\n",
       "  'max_score_low': 15.415005925143404,\n",
       "  'max_score_high': 28.589711304137484,\n",
       "  'max_score_low2': 0.4499229197415365,\n",
       "  'max_score_high2': 0.7727544705761614,\n",
       "  'filtered': 0.22077922077922074,\n",
       "  'filtered_positive': 0.10552763819095479,\n",
       "  'filtered_negative': 0.4311926605504587,\n",
       "  'negative_ratio': 4.086063783311489},\n",
       " {'optimal_param': array([18.15785842,  4.02924169]),\n",
       "  'max_score': 22.92564723581847,\n",
       "  'max_score_low': 17.469177605485633,\n",
       "  'max_score_high': 27.981193453408117,\n",
       "  'max_score_low2': 0.5395370233876878,\n",
       "  'max_score_high2': 0.7539321632544729,\n",
       "  'filtered': 0.3003246753246753,\n",
       "  'filtered_positive': 0.17085427135678388,\n",
       "  'filtered_negative': 0.536697247706422,\n",
       "  'negative_ratio': 3.141257420399353},\n",
       " {'optimal_param': array([  18.15785842, -141.75964433]),\n",
       "  'max_score': 22.77588889431053,\n",
       "  'max_score_low': 17.40458944463916,\n",
       "  'max_score_high': 27.844204048420046,\n",
       "  'max_score_low2': 0.5316481387806645,\n",
       "  'max_score_high2': 0.7503506994175194,\n",
       "  'filtered': 0.3084415584415584,\n",
       "  'filtered_positive': 0.18090452261306533,\n",
       "  'filtered_negative': 0.5412844036697247,\n",
       "  'negative_ratio': 2.9920998980632008},\n",
       " {'optimal_param': array([ 18.15785842, 150.70167385]),\n",
       "  'max_score': 22.881561242698943,\n",
       "  'max_score_low': 17.59076156013361,\n",
       "  'max_score_high': 28.028069304919086,\n",
       "  'max_score_low2': 0.5333749956235168,\n",
       "  'max_score_high2': 0.7541292552044427,\n",
       "  'filtered': 0.3035714285714286,\n",
       "  'filtered_positive': 0.1758793969849246,\n",
       "  'filtered_negative': 0.536697247706422,\n",
       "  'negative_ratio': 3.0515072083879424},\n",
       " {'optimal_param': array([ 18.15785842, 183.09359277]),\n",
       "  'max_score': 22.90522969065909,\n",
       "  'max_score_low': 17.62746055737538,\n",
       "  'max_score_high': 27.930459885724513,\n",
       "  'max_score_low2': 0.5322661851023635,\n",
       "  'max_score_high2': 0.7533132433459422,\n",
       "  'filtered': 0.3084415584415584,\n",
       "  'filtered_positive': 0.17839195979899503,\n",
       "  'filtered_negative': 0.5458715596330275,\n",
       "  'negative_ratio': 3.05995606667528},\n",
       " {'optimal_param': array([18.15785842,  7.1130247 ]),\n",
       "  'max_score': 21.15258026205904,\n",
       "  'max_score_low': 16.002702113213154,\n",
       "  'max_score_high': 26.051302077614697,\n",
       "  'max_score_low2': 0.485454020407477,\n",
       "  'max_score_high2': 0.7060808580419609,\n",
       "  'filtered': 0.3133116883116883,\n",
       "  'filtered_positive': 0.20854271356783916,\n",
       "  'filtered_negative': 0.5045871559633027,\n",
       "  'negative_ratio': 2.4195866032939097},\n",
       " {'optimal_param': array([18.15785842,  7.15695277]),\n",
       "  'max_score': 21.288134634365893,\n",
       "  'max_score_low': 16.128277292441176,\n",
       "  'max_score_high': 26.17210516528152,\n",
       "  'max_score_low2': 0.48741159015982716,\n",
       "  'max_score_high2': 0.7082572090087742,\n",
       "  'filtered': 0.3084415584415584,\n",
       "  'filtered_positive': 0.19849246231155782,\n",
       "  'filtered_negative': 0.5091743119266054,\n",
       "  'negative_ratio': 2.565207292997328},\n",
       " {'optimal_param': array([8.82915255, 8.06060606]),\n",
       "  'max_score': 9.835351423157837,\n",
       "  'max_score_low': 6.42612243882482,\n",
       "  'max_score_high': 13.124259831051344,\n",
       "  'max_score_low2': 0.19280967668474733,\n",
       "  'max_score_high2': 0.3852179604997001,\n",
       "  'filtered': 0.8701298701298701,\n",
       "  'filtered_positive': 0.8241206030150754,\n",
       "  'filtered_negative': 0.9541284403669725,\n",
       "  'negative_ratio': 1.1577534123965094},\n",
       " {'optimal_param': array([0.55555556, 0.37717757]),\n",
       "  'max_score': 20.229732151098847,\n",
       "  'max_score_low': 14.127092626423241,\n",
       "  'max_score_high': 25.59201352135076,\n",
       "  'max_score_low2': 0.4347350662128869,\n",
       "  'max_score_high2': 0.6927496763627561,\n",
       "  'filtered': 0.5584415584415585,\n",
       "  'filtered_positive': 0.44723618090452266,\n",
       "  'filtered_negative': 0.7614678899082569,\n",
       "  'negative_ratio': 1.7026079785589112},\n",
       " {'optimal_param': 0,\n",
       "  'max_score': 34.02158697115731,\n",
       "  'max_score_low': 29.88965999144551,\n",
       "  'max_score_high': 39.14660320358955,\n",
       "  'max_score_low2': nan,\n",
       "  'max_score_high2': nan,\n",
       "  'filtered': 0.35389610389610393,\n",
       "  'filtered_positive': 0.0,\n",
       "  'filtered_negative': 1.0,\n",
       "  'negative_ratio': inf},\n",
       " {'optimal_param': 5.5,\n",
       "  'max_score': 23.87134348214097,\n",
       "  'max_score_low': 16.268574773536454,\n",
       "  'max_score_high': 29.78392190596238,\n",
       "  'max_score_low2': 0.47812697547344524,\n",
       "  'max_score_high2': 0.801323713194963,\n",
       "  'filtered': 0.20292207792207795,\n",
       "  'filtered_positive': 0.07537688442211055,\n",
       "  'filtered_negative': 0.4357798165137615,\n",
       "  'negative_ratio': 5.781345565749237},\n",
       " {'optimal_param': True,\n",
       "  'max_score': -8.488437897823797,\n",
       "  'max_score_low': -24.97067660151764,\n",
       "  'max_score_high': 3.937793039046374,\n",
       "  'max_score_low2': -0.7778449415256681,\n",
       "  'max_score_high2': 0.11714210107383911,\n",
       "  'filtered': 0.0,\n",
       "  'filtered_positive': 0.0,\n",
       "  'filtered_negative': 0.0,\n",
       "  'negative_ratio': nan}]"
      ]
     },
     "execution_count": 472,
     "metadata": {},
     "output_type": "execute_result"
    }
   ],
   "source": [
    "filter_results = [\n",
    "    evaluate_filter_rule(d[\"rule\"], d[\"params\"], do_plot=False) for d in filter_arr\n",
    "]"
   ]
  },
  {
   "cell_type": "code",
   "execution_count": 475,
   "id": "ec0a5224-cb72-4fb8-b576-90d04fd1315e",
   "metadata": {
    "execution": {
     "iopub.execute_input": "2024-08-29T10:08:46.508313Z",
     "iopub.status.busy": "2024-08-29T10:08:46.508313Z",
     "iopub.status.idle": "2024-08-29T10:08:46.524990Z",
     "shell.execute_reply": "2024-08-29T10:08:46.524990Z",
     "shell.execute_reply.started": "2024-08-29T10:08:46.508313Z"
    }
   },
   "outputs": [
    {
     "data": {
      "text/plain": [
       "['start < 1508',\n",
       " 'length < 43',\n",
       " 'm0 < 0.0211',\n",
       " 'm1 < 18.2',\n",
       " 'm2 < 4.27',\n",
       " 'imsrc_sample < 1636',\n",
       " 'doa_std < 5.65',\n",
       " 'doa_nn < 0.265',\n",
       " 'distance_boost < 20.7',\n",
       " 'order < 2',\n",
       " 'm0_hf < 0.0126',\n",
       " 'm1_hf < 19.2',\n",
       " 'm2_hf < 4.22',\n",
       " 'peak_prominence < 0.582',\n",
       " 'doa_stability_1deg < 0',\n",
       " 'doa_stability_5deg < 0',\n",
       " 'relative_imsrc_time < 0.928',\n",
       " 'directivity_boost < 16.5',\n",
       " 'filter_energy < 6.03',\n",
       " 'start > 2567',\n",
       " 'length > 60',\n",
       " 'm0 > 0.0613',\n",
       " 'm1 > -30.2',\n",
       " 'm2 > 6.76',\n",
       " 'imsrc_sample > 2516',\n",
       " 'doa_std > 10.3',\n",
       " 'doa_nn > 0.65',\n",
       " 'distance_boost > 25.2',\n",
       " 'order > 5',\n",
       " 'm0_hf > 0.0603',\n",
       " 'm1_hf > -30',\n",
       " 'm2_hf > 6.9',\n",
       " 'peak_prominence > 9.25',\n",
       " 'doa_stability_1deg > 10',\n",
       " 'doa_stability_5deg > 29',\n",
       " 'relative_imsrc_time > 0.177',\n",
       " 'directivity_boost > 29.9',\n",
       " 'filter_energy > -11.4',\n",
       " '|m1| < 27.1',\n",
       " '|m1_hf| < 24.1',\n",
       " 'filter_energy < 5.56 & directivity_boost < 29.4',\n",
       " 'filter_energy < 5.56 & |relative_imsrc_time - c(0.55)| < 2.85',\n",
       " 'filter_energy < 5.56 & m1 > -145',\n",
       " 'filter_energy < 5.56 & m1 < 26.3',\n",
       " 'filter_energy < 5.56 & |m1| < 183',\n",
       " 'filter_energy < 6.43 & m2 < 7.11',\n",
       " 'filter_energy < 6.43 & m2_hf < 7.16',\n",
       " 'directivity_boost < 18.2 & |relative_imsrc_time - c(0.55)| < 4.03',\n",
       " 'directivity_boost < 18.2 & m1 > -142',\n",
       " 'directivity_boost < 18.2 & m1 < 151',\n",
       " 'directivity_boost < 18.2 & |m1| < 183',\n",
       " 'directivity_boost < 18.2 & m2 < 7.11',\n",
       " 'directivity_boost < 18.2 & m2_hf < 7.16',\n",
       " 'peak_prominence > 8.83 & doa_stability_1deg > 8.06',\n",
       " '|relative_imsrc_time - 0.556| < 0.377',\n",
       " 'score > 0',\n",
       " 'filter_energy < c(5.5)',\n",
       " 'no filter']"
      ]
     },
     "execution_count": 475,
     "metadata": {},
     "output_type": "execute_result"
    }
   ],
   "source": [
    "description_arr = []\n",
    "def format_significant(x, sig_digits=3):\n",
    "    if x == 0:\n",
    "        return \"0\"\n",
    "    elif abs(x) >= 10**(sig_digits - 1):\n",
    "        return f\"{int(round(x, 0))}\"\n",
    "    else:\n",
    "        return f\"{x:.{sig_digits}g}\"\n",
    "\n",
    "for i in range(len(filter_arr)):\n",
    "    description_proto = filter_arr[i][\"description_proto\"]\n",
    "    optimal_param = np.atleast_1d(np.array(filter_results[i][\"optimal_param\"]))\n",
    "\n",
    "    expr = description_proto\n",
    "    values = optimal_param\n",
    "    for i, v in enumerate(values):\n",
    "        expr = expr.replace(f\"${i}\", format_significant(v))\n",
    "    description_arr.append(\n",
    "        expr\n",
    "    )\n",
    "description_arr"
   ]
  },
  {
   "cell_type": "code",
   "execution_count": 476,
   "id": "c9b28627-55ec-44dd-b60d-d7c1f29ed086",
   "metadata": {
    "execution": {
     "iopub.execute_input": "2024-08-29T10:08:47.672582Z",
     "iopub.status.busy": "2024-08-29T10:08:47.671144Z",
     "iopub.status.idle": "2024-08-29T10:08:47.731604Z",
     "shell.execute_reply": "2024-08-29T10:08:47.730596Z",
     "shell.execute_reply.started": "2024-08-29T10:08:47.672582Z"
    }
   },
   "outputs": [
    {
     "data": {
      "text/html": [
       "<div><style>\n",
       ".dataframe > thead > tr,\n",
       ".dataframe > tbody > tr {\n",
       "  text-align: right;\n",
       "  white-space: pre-wrap;\n",
       "}\n",
       "</style>\n",
       "<small>shape: (58, 8)</small><table border=\"1\" class=\"dataframe\"><thead><tr><th>description</th><th>score_sum</th><th>score_sum_low</th><th>score_sum_high</th><th>max_score_low2</th><th>max_score_high2</th><th>filtered</th><th>filtered_god_to_bad</th></tr><tr><td>str</td><td>f64</td><td>f64</td><td>f64</td><td>f64</td><td>f64</td><td>f64</td><td>f64</td></tr></thead><tbody><tr><td>&quot;score &gt; 0&quot;</td><td>34.021587</td><td>29.88966</td><td>39.146603</td><td>NaN</td><td>NaN</td><td>0.353896</td><td>0.0</td></tr><tr><td>&quot;filter_energy &lt; 5.56 &amp; m1 &lt; 26.3&quot;</td><td>24.806036</td><td>19.332529</td><td>30.189508</td><td>0.587367</td><td>0.800806</td><td>0.357143</td><td>0.331842</td></tr><tr><td>&quot;filter_energy &lt; 5.56 &amp; |relative_imsrc_time - c(0.55)| &lt; 2.85&quot;</td><td>24.053176</td><td>16.777783</td><td>30.055458</td><td>0.486043</td><td>0.808046</td><td>0.301948</td><td>0.267296</td></tr><tr><td>&quot;filter_energy &lt; 6.03&quot;</td><td>23.960921</td><td>16.419201</td><td>30.004336</td><td>0.47863</td><td>0.80506</td><td>0.189935</td><td>0.156497</td></tr><tr><td>&quot;filter_energy &lt; 5.56 &amp; |m1| &lt; 183&quot;</td><td>23.948634</td><td>16.506244</td><td>29.803479</td><td>0.467451</td><td>0.802181</td><td>0.266234</td><td>0.240236</td></tr><tr><td>&quot;filter_energy &lt; c(5.5)&quot;</td><td>23.871343</td><td>16.268575</td><td>29.783922</td><td>0.478127</td><td>0.801324</td><td>0.202922</td><td>0.17297</td></tr><tr><td>&quot;filter_energy &lt; 5.56 &amp; directivity_boost &lt; 29.4&quot;</td><td>23.769114</td><td>16.012629</td><td>29.668056</td><td>0.465179</td><td>0.800446</td><td>0.220779</td><td>0.20471</td></tr><tr><td>&quot;filter_energy &lt; 5.56 &amp; m1 &gt; -145&quot;</td><td>23.718294</td><td>16.25211</td><td>29.60855</td><td>0.464516</td><td>0.797702</td><td>0.24513</td><td>0.239962</td></tr><tr><td>&quot;directivity_boost &lt; 16.5&quot;</td><td>22.928444</td><td>17.532411</td><td>27.964766</td><td>0.530536</td><td>0.754545</td><td>0.280844</td><td>0.313705</td></tr><tr><td>&quot;directivity_boost &lt; 18.2 &amp; |relative_imsrc_time - c(0.55)| &lt; 4.03&quot;</td><td>22.925647</td><td>17.469178</td><td>27.981193</td><td>0.539537</td><td>0.753932</td><td>0.300325</td><td>0.318344</td></tr><tr><td>&quot;directivity_boost &lt; 18.2 &amp; |m1| &lt; 183&quot;</td><td>22.90523</td><td>17.627461</td><td>27.93046</td><td>0.532266</td><td>0.753313</td><td>0.308442</td><td>0.326802</td></tr><tr><td>&quot;directivity_boost &lt; 18.2 &amp; m1 &lt; 151&quot;</td><td>22.881561</td><td>17.590762</td><td>28.028069</td><td>0.533375</td><td>0.754129</td><td>0.303571</td><td>0.327707</td></tr><tr><td>&quot;directivity_boost &lt; 18.2 &amp; m1 &gt; -142&quot;</td><td>22.775889</td><td>17.404589</td><td>27.844204</td><td>0.531648</td><td>0.750351</td><td>0.308442</td><td>0.334213</td></tr><tr><td>&quot;filter_energy &lt; 6.43 &amp; m2_hf &lt; 7.16&quot;</td><td>22.745607</td><td>15.415006</td><td>28.589711</td><td>0.449923</td><td>0.772754</td><td>0.220779</td><td>0.244734</td></tr><tr><td>&quot;filter_energy &lt; 6.43 &amp; m2 &lt; 7.11&quot;</td><td>22.324483</td><td>14.961102</td><td>28.295922</td><td>0.421796</td><td>0.760671</td><td>0.222403</td><td>0.267916</td></tr><tr><td>&quot;directivity_boost &lt; 18.2 &amp; m2_hf &lt; 7.16&quot;</td><td>21.288135</td><td>16.128277</td><td>26.172105</td><td>0.487412</td><td>0.708257</td><td>0.308442</td><td>0.389832</td></tr><tr><td>&quot;directivity_boost &lt; 18.2 &amp; m2 &lt; 7.11&quot;</td><td>21.15258</td><td>16.002702</td><td>26.051302</td><td>0.485454</td><td>0.706081</td><td>0.313312</td><td>0.413294</td></tr><tr><td>&quot;|relative_imsrc_time - 0.556| &lt; 0.377&quot;</td><td>20.229732</td><td>14.127093</td><td>25.592014</td><td>0.434735</td><td>0.69275</td><td>0.558442</td><td>0.587334</td></tr><tr><td>&quot;|m1| &lt; 27.1&quot;</td><td>19.356679</td><td>12.723634</td><td>25.268856</td><td>0.40104</td><td>0.678847</td><td>0.474026</td><td>0.532935</td></tr><tr><td>&quot;|m1_hf| &lt; 24.1&quot;</td><td>19.104696</td><td>12.774309</td><td>24.706979</td><td>0.394921</td><td>0.673633</td><td>0.50974</td><td>0.561874</td></tr><tr><td>&quot;doa_stability_5deg &gt; 29&quot;</td><td>12.238179</td><td>7.545529</td><td>16.131284</td><td>0.227177</td><td>0.462105</td><td>0.775974</td><td>0.794923</td></tr><tr><td>&quot;order &lt; 2&quot;</td><td>10.258666</td><td>-0.154418</td><td>18.237678</td><td>-0.012343</td><td>0.504371</td><td>0.577922</td><td>0.726738</td></tr><tr><td>&quot;peak_prominence &gt; 8.83 &amp; doa_stability_1deg &gt; 8.06&quot;</td><td>9.835351</td><td>6.426122</td><td>13.12426</td><td>0.19281</td><td>0.385218</td><td>0.87013</td><td>0.863742</td></tr><tr><td>&quot;peak_prominence &gt; 9.25&quot;</td><td>7.959743</td><td>-1.64232</td><td>14.39481</td><td>-0.064284</td><td>0.400875</td><td>0.696429</td><td>0.826413</td></tr><tr><td>&quot;doa_stability_1deg &gt; 10&quot;</td><td>7.747167</td><td>0.435406</td><td>12.175902</td><td>0.012768</td><td>0.348188</td><td>0.823052</td><td>0.854804</td></tr><tr><td>&quot;doa_nn &gt; 0.65&quot;</td><td>7.711537</td><td>-0.394793</td><td>13.844247</td><td>-0.023886</td><td>0.380601</td><td>0.678571</td><td>0.856892</td></tr><tr><td>&quot;m2_hf &lt; 4.22&quot;</td><td>7.222515</td><td>0.441677</td><td>12.021429</td><td>0.020473</td><td>0.34805</td><td>0.715909</td><td>0.898685</td></tr><tr><td>&quot;relative_imsrc_time &gt; 0.177&quot;</td><td>6.599898</td><td>-6.940627</td><td>15.989361</td><td>-0.211992</td><td>0.447253</td><td>0.298701</td><td>0.491271</td></tr><tr><td>&quot;m1_hf &lt; 19.2&quot;</td><td>6.450331</td><td>-7.518826</td><td>15.844187</td><td>-0.236962</td><td>0.435989</td><td>0.280844</td><td>0.460334</td></tr><tr><td>&quot;m1 &lt; 18.2&quot;</td><td>6.207365</td><td>-7.132849</td><td>15.834454</td><td>-0.232018</td><td>0.431032</td><td>0.297078</td><td>0.496388</td></tr><tr><td>&quot;m0 &gt; 0.0613&quot;</td><td>5.597716</td><td>-1.337448</td><td>10.80679</td><td>-0.043924</td><td>0.304817</td><td>0.75</td><td>0.87392</td></tr><tr><td>&quot;m1 &gt; -30.2&quot;</td><td>5.374901</td><td>-6.598934</td><td>14.443359</td><td>-0.222493</td><td>0.398538</td><td>0.248377</td><td>0.666812</td></tr><tr><td>&quot;m1_hf &gt; -30&quot;</td><td>5.323773</td><td>-6.716869</td><td>14.439674</td><td>-0.21462</td><td>0.395981</td><td>0.246753</td><td>0.676618</td></tr><tr><td>&quot;relative_imsrc_time &lt; 0.928&quot;</td><td>5.141396</td><td>-6.982657</td><td>14.29582</td><td>-0.21798</td><td>0.393025</td><td>0.25974</td><td>0.72238</td></tr><tr><td>&quot;m0_hf &gt; 0.0603&quot;</td><td>4.540744</td><td>-1.639326</td><td>8.884954</td><td>-0.049972</td><td>0.250762</td><td>0.852273</td><td>0.897301</td></tr><tr><td>&quot;doa_std &lt; 5.65&quot;</td><td>4.220993</td><td>-6.654764</td><td>13.021633</td><td>-0.207668</td><td>0.356061</td><td>0.386364</td><td>0.810197</td></tr><tr><td>&quot;length &gt; 60&quot;</td><td>4.079329</td><td>-5.504828</td><td>10.657885</td><td>-0.182451</td><td>0.300393</td><td>0.675325</td><td>0.867536</td></tr><tr><td>&quot;imsrc_sample &lt; 1636&quot;</td><td>4.062388</td><td>-5.415389</td><td>11.058466</td><td>-0.169573</td><td>0.307389</td><td>0.650974</td><td>0.878516</td></tr><tr><td>&quot;distance_boost &lt; 20.7&quot;</td><td>3.645569</td><td>-7.297863</td><td>12.739648</td><td>-0.247448</td><td>0.337409</td><td>0.438312</td><td>0.902158</td></tr><tr><td>&quot;start &lt; 1508&quot;</td><td>3.534575</td><td>-5.270581</td><td>9.670493</td><td>-0.161036</td><td>0.272163</td><td>0.696429</td><td>0.893856</td></tr><tr><td>&quot;m2 &lt; 4.27&quot;</td><td>2.415335</td><td>-8.912945</td><td>8.954385</td><td>-0.294844</td><td>0.254754</td><td>0.642857</td><td>0.990591</td></tr><tr><td>&quot;m2 &gt; 6.76&quot;</td><td>2.209868</td><td>0.456777</td><td>4.252012</td><td>0.015509</td><td>0.132548</td><td>0.931818</td><td>0.956577</td></tr><tr><td>&quot;m0_hf &lt; 0.0126&quot;</td><td>1.595793</td><td>0.145237</td><td>3.774286</td><td>0.002585</td><td>0.110949</td><td>0.887987</td><td>0.988739</td></tr><tr><td>&quot;m0 &lt; 0.0211&quot;</td><td>1.393592</td><td>-1.67082</td><td>4.191475</td><td>-0.053884</td><td>0.117494</td><td>0.832792</td><td>0.987726</td></tr><tr><td>&quot;m2_hf &gt; 6.9&quot;</td><td>0.018494</td><td>-7.340767</td><td>2.779735</td><td>-0.217753</td><td>0.080929</td><td>0.925325</td><td>0.975242</td></tr><tr><td>&quot;length &lt; 43&quot;</td><td>0.0</td><td>-inf</td><td>inf</td><td>-inf</td><td>inf</td><td>1.0</td><td>1.0</td></tr><tr><td>&quot;doa_stability_1deg &lt; 0&quot;</td><td>0.0</td><td>-inf</td><td>inf</td><td>-inf</td><td>inf</td><td>1.0</td><td>1.0</td></tr><tr><td>&quot;doa_stability_5deg &lt; 0&quot;</td><td>0.0</td><td>-inf</td><td>inf</td><td>-inf</td><td>inf</td><td>1.0</td><td>1.0</td></tr><tr><td>&quot;order &gt; 5&quot;</td><td>0.0</td><td>-inf</td><td>inf</td><td>-inf</td><td>inf</td><td>1.0</td><td>1.0</td></tr><tr><td>&quot;imsrc_sample &gt; 2516&quot;</td><td>-0.217935</td><td>-4.014539</td><td>1.910624</td><td>-0.116836</td><td>0.056503</td><td>0.801948</td><td>1.016324</td></tr><tr><td>&quot;doa_std &gt; 10.3&quot;</td><td>-0.689076</td><td>-3.924101</td><td>0.858536</td><td>-0.1222</td><td>0.025482</td><td>0.904221</td><td>0.985379</td></tr><tr><td>&quot;distance_boost &gt; 25.2&quot;</td><td>-0.88108</td><td>-4.961272</td><td>0.213388</td><td>-0.168309</td><td>0.00579</td><td>0.949675</td><td>1.015321</td></tr><tr><td>&quot;start &gt; 2567&quot;</td><td>-1.311141</td><td>-5.328307</td><td>0.406645</td><td>-0.159112</td><td>0.011694</td><td>0.844156</td><td>1.043458</td></tr><tr><td>&quot;peak_prominence &lt; 0.582&quot;</td><td>-1.525587</td><td>-7.252105</td><td>0.931407</td><td>-0.232162</td><td>0.025714</td><td>0.938312</td><td>1.011833</td></tr><tr><td>&quot;doa_nn &lt; 0.265&quot;</td><td>-2.586287</td><td>-8.336332</td><td>-0.295891</td><td>-0.274845</td><td>-0.007966</td><td>0.946429</td><td>1.056943</td></tr><tr><td>&quot;no filter&quot;</td><td>-8.488438</td><td>-24.970677</td><td>3.937793</td><td>-0.777845</td><td>0.117142</td><td>0.0</td><td>NaN</td></tr><tr><td>&quot;filter_energy &gt; -11.4&quot;</td><td>-8.502398</td><td>-24.745183</td><td>3.690073</td><td>-0.782167</td><td>0.119085</td><td>0.063312</td><td>0.639028</td></tr><tr><td>&quot;directivity_boost &gt; 29.9&quot;</td><td>-9.643892</td><td>-19.336752</td><td>-4.708449</td><td>-0.66503</td><td>-0.125056</td><td>0.949675</td><td>1.095477</td></tr></tbody></table></div>"
      ],
      "text/plain": [
       "shape: (58, 8)\n",
       "┌────────────┬───────────┬────────────┬────────────┬────────────┬────────────┬──────────┬───────────┐\n",
       "│ descriptio ┆ score_sum ┆ score_sum_ ┆ score_sum_ ┆ max_score_ ┆ max_score_ ┆ filtered ┆ filtered_ │\n",
       "│ n          ┆ ---       ┆ low        ┆ high       ┆ low2       ┆ high2      ┆ ---      ┆ god_to_ba │\n",
       "│ ---        ┆ f64       ┆ ---        ┆ ---        ┆ ---        ┆ ---        ┆ f64      ┆ d         │\n",
       "│ str        ┆           ┆ f64        ┆ f64        ┆ f64        ┆ f64        ┆          ┆ ---       │\n",
       "│            ┆           ┆            ┆            ┆            ┆            ┆          ┆ f64       │\n",
       "╞════════════╪═══════════╪════════════╪════════════╪════════════╪════════════╪══════════╪═══════════╡\n",
       "│ score > 0  ┆ 34.021587 ┆ 29.88966   ┆ 39.146603  ┆ NaN        ┆ NaN        ┆ 0.353896 ┆ 0.0       │\n",
       "│ filter_ene ┆ 24.806036 ┆ 19.332529  ┆ 30.189508  ┆ 0.587367   ┆ 0.800806   ┆ 0.357143 ┆ 0.331842  │\n",
       "│ rgy < 5.56 ┆           ┆            ┆            ┆            ┆            ┆          ┆           │\n",
       "│ & m1 <     ┆           ┆            ┆            ┆            ┆            ┆          ┆           │\n",
       "│ 26.3       ┆           ┆            ┆            ┆            ┆            ┆          ┆           │\n",
       "│ filter_ene ┆ 24.053176 ┆ 16.777783  ┆ 30.055458  ┆ 0.486043   ┆ 0.808046   ┆ 0.301948 ┆ 0.267296  │\n",
       "│ rgy < 5.56 ┆           ┆            ┆            ┆            ┆            ┆          ┆           │\n",
       "│ & |relativ ┆           ┆            ┆            ┆            ┆            ┆          ┆           │\n",
       "│ e_imsrc_ti ┆           ┆            ┆            ┆            ┆            ┆          ┆           │\n",
       "│ me -       ┆           ┆            ┆            ┆            ┆            ┆          ┆           │\n",
       "│ c(0.55)| < ┆           ┆            ┆            ┆            ┆            ┆          ┆           │\n",
       "│ 2.85       ┆           ┆            ┆            ┆            ┆            ┆          ┆           │\n",
       "│ filter_ene ┆ 23.960921 ┆ 16.419201  ┆ 30.004336  ┆ 0.47863    ┆ 0.80506    ┆ 0.189935 ┆ 0.156497  │\n",
       "│ rgy < 6.03 ┆           ┆            ┆            ┆            ┆            ┆          ┆           │\n",
       "│ filter_ene ┆ 23.948634 ┆ 16.506244  ┆ 29.803479  ┆ 0.467451   ┆ 0.802181   ┆ 0.266234 ┆ 0.240236  │\n",
       "│ rgy < 5.56 ┆           ┆            ┆            ┆            ┆            ┆          ┆           │\n",
       "│ & |m1| <   ┆           ┆            ┆            ┆            ┆            ┆          ┆           │\n",
       "│ 183        ┆           ┆            ┆            ┆            ┆            ┆          ┆           │\n",
       "│ filter_ene ┆ 23.871343 ┆ 16.268575  ┆ 29.783922  ┆ 0.478127   ┆ 0.801324   ┆ 0.202922 ┆ 0.17297   │\n",
       "│ rgy <      ┆           ┆            ┆            ┆            ┆            ┆          ┆           │\n",
       "│ c(5.5)     ┆           ┆            ┆            ┆            ┆            ┆          ┆           │\n",
       "│ filter_ene ┆ 23.769114 ┆ 16.012629  ┆ 29.668056  ┆ 0.465179   ┆ 0.800446   ┆ 0.220779 ┆ 0.20471   │\n",
       "│ rgy < 5.56 ┆           ┆            ┆            ┆            ┆            ┆          ┆           │\n",
       "│ & directiv ┆           ┆            ┆            ┆            ┆            ┆          ┆           │\n",
       "│ ity_boost  ┆           ┆            ┆            ┆            ┆            ┆          ┆           │\n",
       "│ < 29.4     ┆           ┆            ┆            ┆            ┆            ┆          ┆           │\n",
       "│ filter_ene ┆ 23.718294 ┆ 16.25211   ┆ 29.60855   ┆ 0.464516   ┆ 0.797702   ┆ 0.24513  ┆ 0.239962  │\n",
       "│ rgy < 5.56 ┆           ┆            ┆            ┆            ┆            ┆          ┆           │\n",
       "│ & m1 >     ┆           ┆            ┆            ┆            ┆            ┆          ┆           │\n",
       "│ -145       ┆           ┆            ┆            ┆            ┆            ┆          ┆           │\n",
       "│ directivit ┆ 22.928444 ┆ 17.532411  ┆ 27.964766  ┆ 0.530536   ┆ 0.754545   ┆ 0.280844 ┆ 0.313705  │\n",
       "│ y_boost <  ┆           ┆            ┆            ┆            ┆            ┆          ┆           │\n",
       "│ 16.5       ┆           ┆            ┆            ┆            ┆            ┆          ┆           │\n",
       "│ directivit ┆ 22.925647 ┆ 17.469178  ┆ 27.981193  ┆ 0.539537   ┆ 0.753932   ┆ 0.300325 ┆ 0.318344  │\n",
       "│ y_boost <  ┆           ┆            ┆            ┆            ┆            ┆          ┆           │\n",
       "│ 18.2 & |re ┆           ┆            ┆            ┆            ┆            ┆          ┆           │\n",
       "│ lative_ims ┆           ┆            ┆            ┆            ┆            ┆          ┆           │\n",
       "│ rc_time -  ┆           ┆            ┆            ┆            ┆            ┆          ┆           │\n",
       "│ c(0.55)| < ┆           ┆            ┆            ┆            ┆            ┆          ┆           │\n",
       "│ 4.03       ┆           ┆            ┆            ┆            ┆            ┆          ┆           │\n",
       "│ directivit ┆ 22.90523  ┆ 17.627461  ┆ 27.93046   ┆ 0.532266   ┆ 0.753313   ┆ 0.308442 ┆ 0.326802  │\n",
       "│ y_boost <  ┆           ┆            ┆            ┆            ┆            ┆          ┆           │\n",
       "│ 18.2 &     ┆           ┆            ┆            ┆            ┆            ┆          ┆           │\n",
       "│ |m1| < 183 ┆           ┆            ┆            ┆            ┆            ┆          ┆           │\n",
       "│ directivit ┆ 22.881561 ┆ 17.590762  ┆ 28.028069  ┆ 0.533375   ┆ 0.754129   ┆ 0.303571 ┆ 0.327707  │\n",
       "│ y_boost <  ┆           ┆            ┆            ┆            ┆            ┆          ┆           │\n",
       "│ 18.2 & m1  ┆           ┆            ┆            ┆            ┆            ┆          ┆           │\n",
       "│ < 151      ┆           ┆            ┆            ┆            ┆            ┆          ┆           │\n",
       "│ directivit ┆ 22.775889 ┆ 17.404589  ┆ 27.844204  ┆ 0.531648   ┆ 0.750351   ┆ 0.308442 ┆ 0.334213  │\n",
       "│ y_boost <  ┆           ┆            ┆            ┆            ┆            ┆          ┆           │\n",
       "│ 18.2 & m1  ┆           ┆            ┆            ┆            ┆            ┆          ┆           │\n",
       "│ > -142     ┆           ┆            ┆            ┆            ┆            ┆          ┆           │\n",
       "│ filter_ene ┆ 22.745607 ┆ 15.415006  ┆ 28.589711  ┆ 0.449923   ┆ 0.772754   ┆ 0.220779 ┆ 0.244734  │\n",
       "│ rgy < 6.43 ┆           ┆            ┆            ┆            ┆            ┆          ┆           │\n",
       "│ & m2_hf <  ┆           ┆            ┆            ┆            ┆            ┆          ┆           │\n",
       "│ 7.16       ┆           ┆            ┆            ┆            ┆            ┆          ┆           │\n",
       "│ filter_ene ┆ 22.324483 ┆ 14.961102  ┆ 28.295922  ┆ 0.421796   ┆ 0.760671   ┆ 0.222403 ┆ 0.267916  │\n",
       "│ rgy < 6.43 ┆           ┆            ┆            ┆            ┆            ┆          ┆           │\n",
       "│ & m2 <     ┆           ┆            ┆            ┆            ┆            ┆          ┆           │\n",
       "│ 7.11       ┆           ┆            ┆            ┆            ┆            ┆          ┆           │\n",
       "│ directivit ┆ 21.288135 ┆ 16.128277  ┆ 26.172105  ┆ 0.487412   ┆ 0.708257   ┆ 0.308442 ┆ 0.389832  │\n",
       "│ y_boost <  ┆           ┆            ┆            ┆            ┆            ┆          ┆           │\n",
       "│ 18.2 &     ┆           ┆            ┆            ┆            ┆            ┆          ┆           │\n",
       "│ m2_hf <    ┆           ┆            ┆            ┆            ┆            ┆          ┆           │\n",
       "│ 7.16       ┆           ┆            ┆            ┆            ┆            ┆          ┆           │\n",
       "│ directivit ┆ 21.15258  ┆ 16.002702  ┆ 26.051302  ┆ 0.485454   ┆ 0.706081   ┆ 0.313312 ┆ 0.413294  │\n",
       "│ y_boost <  ┆           ┆            ┆            ┆            ┆            ┆          ┆           │\n",
       "│ 18.2 & m2  ┆           ┆            ┆            ┆            ┆            ┆          ┆           │\n",
       "│ < 7.11     ┆           ┆            ┆            ┆            ┆            ┆          ┆           │\n",
       "│ |relative_ ┆ 20.229732 ┆ 14.127093  ┆ 25.592014  ┆ 0.434735   ┆ 0.69275    ┆ 0.558442 ┆ 0.587334  │\n",
       "│ imsrc_time ┆           ┆            ┆            ┆            ┆            ┆          ┆           │\n",
       "│ - 0.556| < ┆           ┆            ┆            ┆            ┆            ┆          ┆           │\n",
       "│ 0.377      ┆           ┆            ┆            ┆            ┆            ┆          ┆           │\n",
       "│ |m1| <     ┆ 19.356679 ┆ 12.723634  ┆ 25.268856  ┆ 0.40104    ┆ 0.678847   ┆ 0.474026 ┆ 0.532935  │\n",
       "│ 27.1       ┆           ┆            ┆            ┆            ┆            ┆          ┆           │\n",
       "│ |m1_hf| <  ┆ 19.104696 ┆ 12.774309  ┆ 24.706979  ┆ 0.394921   ┆ 0.673633   ┆ 0.50974  ┆ 0.561874  │\n",
       "│ 24.1       ┆           ┆            ┆            ┆            ┆            ┆          ┆           │\n",
       "│ doa_stabil ┆ 12.238179 ┆ 7.545529   ┆ 16.131284  ┆ 0.227177   ┆ 0.462105   ┆ 0.775974 ┆ 0.794923  │\n",
       "│ ity_5deg > ┆           ┆            ┆            ┆            ┆            ┆          ┆           │\n",
       "│ 29         ┆           ┆            ┆            ┆            ┆            ┆          ┆           │\n",
       "│ order < 2  ┆ 10.258666 ┆ -0.154418  ┆ 18.237678  ┆ -0.012343  ┆ 0.504371   ┆ 0.577922 ┆ 0.726738  │\n",
       "│ peak_promi ┆ 9.835351  ┆ 6.426122   ┆ 13.12426   ┆ 0.19281    ┆ 0.385218   ┆ 0.87013  ┆ 0.863742  │\n",
       "│ nence >    ┆           ┆            ┆            ┆            ┆            ┆          ┆           │\n",
       "│ 8.83 & doa ┆           ┆            ┆            ┆            ┆            ┆          ┆           │\n",
       "│ _stability ┆           ┆            ┆            ┆            ┆            ┆          ┆           │\n",
       "│ _1deg >    ┆           ┆            ┆            ┆            ┆            ┆          ┆           │\n",
       "│ 8.06       ┆           ┆            ┆            ┆            ┆            ┆          ┆           │\n",
       "│ peak_promi ┆ 7.959743  ┆ -1.64232   ┆ 14.39481   ┆ -0.064284  ┆ 0.400875   ┆ 0.696429 ┆ 0.826413  │\n",
       "│ nence >    ┆           ┆            ┆            ┆            ┆            ┆          ┆           │\n",
       "│ 9.25       ┆           ┆            ┆            ┆            ┆            ┆          ┆           │\n",
       "│ doa_stabil ┆ 7.747167  ┆ 0.435406   ┆ 12.175902  ┆ 0.012768   ┆ 0.348188   ┆ 0.823052 ┆ 0.854804  │\n",
       "│ ity_1deg > ┆           ┆            ┆            ┆            ┆            ┆          ┆           │\n",
       "│ 10         ┆           ┆            ┆            ┆            ┆            ┆          ┆           │\n",
       "│ doa_nn >   ┆ 7.711537  ┆ -0.394793  ┆ 13.844247  ┆ -0.023886  ┆ 0.380601   ┆ 0.678571 ┆ 0.856892  │\n",
       "│ 0.65       ┆           ┆            ┆            ┆            ┆            ┆          ┆           │\n",
       "│ m2_hf <    ┆ 7.222515  ┆ 0.441677   ┆ 12.021429  ┆ 0.020473   ┆ 0.34805    ┆ 0.715909 ┆ 0.898685  │\n",
       "│ 4.22       ┆           ┆            ┆            ┆            ┆            ┆          ┆           │\n",
       "│ relative_i ┆ 6.599898  ┆ -6.940627  ┆ 15.989361  ┆ -0.211992  ┆ 0.447253   ┆ 0.298701 ┆ 0.491271  │\n",
       "│ msrc_time  ┆           ┆            ┆            ┆            ┆            ┆          ┆           │\n",
       "│ > 0.177    ┆           ┆            ┆            ┆            ┆            ┆          ┆           │\n",
       "│ m1_hf <    ┆ 6.450331  ┆ -7.518826  ┆ 15.844187  ┆ -0.236962  ┆ 0.435989   ┆ 0.280844 ┆ 0.460334  │\n",
       "│ 19.2       ┆           ┆            ┆            ┆            ┆            ┆          ┆           │\n",
       "│ m1 < 18.2  ┆ 6.207365  ┆ -7.132849  ┆ 15.834454  ┆ -0.232018  ┆ 0.431032   ┆ 0.297078 ┆ 0.496388  │\n",
       "│ m0 >       ┆ 5.597716  ┆ -1.337448  ┆ 10.80679   ┆ -0.043924  ┆ 0.304817   ┆ 0.75     ┆ 0.87392   │\n",
       "│ 0.0613     ┆           ┆            ┆            ┆            ┆            ┆          ┆           │\n",
       "│ m1 > -30.2 ┆ 5.374901  ┆ -6.598934  ┆ 14.443359  ┆ -0.222493  ┆ 0.398538   ┆ 0.248377 ┆ 0.666812  │\n",
       "│ m1_hf >    ┆ 5.323773  ┆ -6.716869  ┆ 14.439674  ┆ -0.21462   ┆ 0.395981   ┆ 0.246753 ┆ 0.676618  │\n",
       "│ -30        ┆           ┆            ┆            ┆            ┆            ┆          ┆           │\n",
       "│ relative_i ┆ 5.141396  ┆ -6.982657  ┆ 14.29582   ┆ -0.21798   ┆ 0.393025   ┆ 0.25974  ┆ 0.72238   │\n",
       "│ msrc_time  ┆           ┆            ┆            ┆            ┆            ┆          ┆           │\n",
       "│ < 0.928    ┆           ┆            ┆            ┆            ┆            ┆          ┆           │\n",
       "│ m0_hf >    ┆ 4.540744  ┆ -1.639326  ┆ 8.884954   ┆ -0.049972  ┆ 0.250762   ┆ 0.852273 ┆ 0.897301  │\n",
       "│ 0.0603     ┆           ┆            ┆            ┆            ┆            ┆          ┆           │\n",
       "│ doa_std <  ┆ 4.220993  ┆ -6.654764  ┆ 13.021633  ┆ -0.207668  ┆ 0.356061   ┆ 0.386364 ┆ 0.810197  │\n",
       "│ 5.65       ┆           ┆            ┆            ┆            ┆            ┆          ┆           │\n",
       "│ length >   ┆ 4.079329  ┆ -5.504828  ┆ 10.657885  ┆ -0.182451  ┆ 0.300393   ┆ 0.675325 ┆ 0.867536  │\n",
       "│ 60         ┆           ┆            ┆            ┆            ┆            ┆          ┆           │\n",
       "│ imsrc_samp ┆ 4.062388  ┆ -5.415389  ┆ 11.058466  ┆ -0.169573  ┆ 0.307389   ┆ 0.650974 ┆ 0.878516  │\n",
       "│ le < 1636  ┆           ┆            ┆            ┆            ┆            ┆          ┆           │\n",
       "│ distance_b ┆ 3.645569  ┆ -7.297863  ┆ 12.739648  ┆ -0.247448  ┆ 0.337409   ┆ 0.438312 ┆ 0.902158  │\n",
       "│ oost <     ┆           ┆            ┆            ┆            ┆            ┆          ┆           │\n",
       "│ 20.7       ┆           ┆            ┆            ┆            ┆            ┆          ┆           │\n",
       "│ start <    ┆ 3.534575  ┆ -5.270581  ┆ 9.670493   ┆ -0.161036  ┆ 0.272163   ┆ 0.696429 ┆ 0.893856  │\n",
       "│ 1508       ┆           ┆            ┆            ┆            ┆            ┆          ┆           │\n",
       "│ m2 < 4.27  ┆ 2.415335  ┆ -8.912945  ┆ 8.954385   ┆ -0.294844  ┆ 0.254754   ┆ 0.642857 ┆ 0.990591  │\n",
       "│ m2 > 6.76  ┆ 2.209868  ┆ 0.456777   ┆ 4.252012   ┆ 0.015509   ┆ 0.132548   ┆ 0.931818 ┆ 0.956577  │\n",
       "│ m0_hf <    ┆ 1.595793  ┆ 0.145237   ┆ 3.774286   ┆ 0.002585   ┆ 0.110949   ┆ 0.887987 ┆ 0.988739  │\n",
       "│ 0.0126     ┆           ┆            ┆            ┆            ┆            ┆          ┆           │\n",
       "│ m0 <       ┆ 1.393592  ┆ -1.67082   ┆ 4.191475   ┆ -0.053884  ┆ 0.117494   ┆ 0.832792 ┆ 0.987726  │\n",
       "│ 0.0211     ┆           ┆            ┆            ┆            ┆            ┆          ┆           │\n",
       "│ m2_hf >    ┆ 0.018494  ┆ -7.340767  ┆ 2.779735   ┆ -0.217753  ┆ 0.080929   ┆ 0.925325 ┆ 0.975242  │\n",
       "│ 6.9        ┆           ┆            ┆            ┆            ┆            ┆          ┆           │\n",
       "│ length <   ┆ 0.0       ┆ -inf       ┆ inf        ┆ -inf       ┆ inf        ┆ 1.0      ┆ 1.0       │\n",
       "│ 43         ┆           ┆            ┆            ┆            ┆            ┆          ┆           │\n",
       "│ doa_stabil ┆ 0.0       ┆ -inf       ┆ inf        ┆ -inf       ┆ inf        ┆ 1.0      ┆ 1.0       │\n",
       "│ ity_1deg < ┆           ┆            ┆            ┆            ┆            ┆          ┆           │\n",
       "│ 0          ┆           ┆            ┆            ┆            ┆            ┆          ┆           │\n",
       "│ doa_stabil ┆ 0.0       ┆ -inf       ┆ inf        ┆ -inf       ┆ inf        ┆ 1.0      ┆ 1.0       │\n",
       "│ ity_5deg < ┆           ┆            ┆            ┆            ┆            ┆          ┆           │\n",
       "│ 0          ┆           ┆            ┆            ┆            ┆            ┆          ┆           │\n",
       "│ order > 5  ┆ 0.0       ┆ -inf       ┆ inf        ┆ -inf       ┆ inf        ┆ 1.0      ┆ 1.0       │\n",
       "│ imsrc_samp ┆ -0.217935 ┆ -4.014539  ┆ 1.910624   ┆ -0.116836  ┆ 0.056503   ┆ 0.801948 ┆ 1.016324  │\n",
       "│ le > 2516  ┆           ┆            ┆            ┆            ┆            ┆          ┆           │\n",
       "│ doa_std >  ┆ -0.689076 ┆ -3.924101  ┆ 0.858536   ┆ -0.1222    ┆ 0.025482   ┆ 0.904221 ┆ 0.985379  │\n",
       "│ 10.3       ┆           ┆            ┆            ┆            ┆            ┆          ┆           │\n",
       "│ distance_b ┆ -0.88108  ┆ -4.961272  ┆ 0.213388   ┆ -0.168309  ┆ 0.00579    ┆ 0.949675 ┆ 1.015321  │\n",
       "│ oost >     ┆           ┆            ┆            ┆            ┆            ┆          ┆           │\n",
       "│ 25.2       ┆           ┆            ┆            ┆            ┆            ┆          ┆           │\n",
       "│ start >    ┆ -1.311141 ┆ -5.328307  ┆ 0.406645   ┆ -0.159112  ┆ 0.011694   ┆ 0.844156 ┆ 1.043458  │\n",
       "│ 2567       ┆           ┆            ┆            ┆            ┆            ┆          ┆           │\n",
       "│ peak_promi ┆ -1.525587 ┆ -7.252105  ┆ 0.931407   ┆ -0.232162  ┆ 0.025714   ┆ 0.938312 ┆ 1.011833  │\n",
       "│ nence <    ┆           ┆            ┆            ┆            ┆            ┆          ┆           │\n",
       "│ 0.582      ┆           ┆            ┆            ┆            ┆            ┆          ┆           │\n",
       "│ doa_nn <   ┆ -2.586287 ┆ -8.336332  ┆ -0.295891  ┆ -0.274845  ┆ -0.007966  ┆ 0.946429 ┆ 1.056943  │\n",
       "│ 0.265      ┆           ┆            ┆            ┆            ┆            ┆          ┆           │\n",
       "│ no filter  ┆ -8.488438 ┆ -24.970677 ┆ 3.937793   ┆ -0.777845  ┆ 0.117142   ┆ 0.0      ┆ NaN       │\n",
       "│ filter_ene ┆ -8.502398 ┆ -24.745183 ┆ 3.690073   ┆ -0.782167  ┆ 0.119085   ┆ 0.063312 ┆ 0.639028  │\n",
       "│ rgy >      ┆           ┆            ┆            ┆            ┆            ┆          ┆           │\n",
       "│ -11.4      ┆           ┆            ┆            ┆            ┆            ┆          ┆           │\n",
       "│ directivit ┆ -9.643892 ┆ -19.336752 ┆ -4.708449  ┆ -0.66503   ┆ -0.125056  ┆ 0.949675 ┆ 1.095477  │\n",
       "│ y_boost >  ┆           ┆            ┆            ┆            ┆            ┆          ┆           │\n",
       "│ 29.9       ┆           ┆            ┆            ┆            ┆            ┆          ┆           │\n",
       "└────────────┴───────────┴────────────┴────────────┴────────────┴────────────┴──────────┴───────────┘"
      ]
     },
     "metadata": {},
     "output_type": "display_data"
    }
   ],
   "source": [
    "filter_df = pl.DataFrame(\n",
    "    [{k: v for k, v in d.items() if k != \"optimal_param\"} for d in filter_results]\n",
    ").with_columns(\n",
    "    description = np.array(description_arr)\n",
    ").sort(\"max_score\", descending=True).select(\n",
    "    \"description\",\n",
    "    \"max_score\",\n",
    "    \"max_score_low\",\n",
    "    \"max_score_high\",\n",
    "    \"max_score_low2\",\n",
    "    \"max_score_high2\",\n",
    "    \"filtered\",\n",
    "    filtered_god_to_bad = pl.col(\"filtered_positive\") / pl.col(\"filtered_negative\")\n",
    ").rename(\n",
    "    dict(max_score = \"score_sum\", max_score_low = \"score_sum_low\", max_score_high = \"score_sum_high\"),\n",
    ")\n",
    "with pl.Config(set_fmt_str_lengths = 100, set_tbl_rows=100):\n",
    "    display(filter_df)"
   ]
  },
  {
   "cell_type": "code",
   "execution_count": 477,
   "id": "113d8921-22ab-497b-aec3-cf8036f408c2",
   "metadata": {
    "execution": {
     "iopub.execute_input": "2024-08-29T10:08:49.113049Z",
     "iopub.status.busy": "2024-08-29T10:08:49.113049Z",
     "iopub.status.idle": "2024-08-29T10:08:49.160687Z",
     "shell.execute_reply": "2024-08-29T10:08:49.159405Z",
     "shell.execute_reply.started": "2024-08-29T10:08:49.113049Z"
    }
   },
   "outputs": [
    {
     "data": {
      "text/html": [
       "<div><style>\n",
       ".dataframe > thead > tr,\n",
       ".dataframe > tbody > tr {\n",
       "  text-align: right;\n",
       "  white-space: pre-wrap;\n",
       "}\n",
       "</style>\n",
       "<small>shape: (23, 8)</small><table border=\"1\" class=\"dataframe\"><thead><tr><th>description</th><th>score_sum</th><th>score_sum_low</th><th>score_sum_high</th><th>max_score_low2</th><th>max_score_high2</th><th>filtered</th><th>filtered_god_to_bad</th></tr><tr><td>str</td><td>f64</td><td>f64</td><td>f64</td><td>f64</td><td>f64</td><td>f64</td><td>f64</td></tr></thead><tbody><tr><td>&quot;score &gt; 0&quot;</td><td>1.0</td><td>0.87855</td><td>1.15064</td><td>NaN</td><td>NaN</td><td>0.353896</td><td>0.0</td></tr><tr><td>&quot;filter_energy &lt; 5.56 &amp; m1 &lt; 26.3&quot;</td><td>0.729126</td><td>0.568243</td><td>0.887363</td><td>0.587367</td><td>0.800806</td><td>0.357143</td><td>0.331842</td></tr><tr><td>&quot;filter_energy &lt; 5.56 &amp; |relative_imsrc_time - c(0.55)| &lt; 2.85&quot;</td><td>0.706997</td><td>0.493151</td><td>0.883423</td><td>0.486043</td><td>0.808046</td><td>0.301948</td><td>0.267296</td></tr><tr><td>&quot;filter_energy &lt; 6.03&quot;</td><td>0.704286</td><td>0.482611</td><td>0.881921</td><td>0.47863</td><td>0.80506</td><td>0.189935</td><td>0.156497</td></tr><tr><td>&quot;filter_energy &lt; 5.56 &amp; |m1| &lt; 183&quot;</td><td>0.703925</td><td>0.48517</td><td>0.876017</td><td>0.467451</td><td>0.802181</td><td>0.266234</td><td>0.240236</td></tr><tr><td>&quot;filter_energy &lt; c(5.5)&quot;</td><td>0.701653</td><td>0.478184</td><td>0.875442</td><td>0.478127</td><td>0.801324</td><td>0.202922</td><td>0.17297</td></tr><tr><td>&quot;filter_energy &lt; 5.56 &amp; directivity_boost &lt; 29.4&quot;</td><td>0.698648</td><td>0.470661</td><td>0.872036</td><td>0.465179</td><td>0.800446</td><td>0.220779</td><td>0.20471</td></tr><tr><td>&quot;filter_energy &lt; 5.56 &amp; m1 &gt; -145&quot;</td><td>0.697154</td><td>0.4777</td><td>0.870287</td><td>0.464516</td><td>0.797702</td><td>0.24513</td><td>0.239962</td></tr><tr><td>&quot;directivity_boost &lt; 16.5&quot;</td><td>0.673938</td><td>0.515332</td><td>0.821971</td><td>0.530536</td><td>0.754545</td><td>0.280844</td><td>0.313705</td></tr><tr><td>&quot;directivity_boost &lt; 18.2 &amp; |relative_imsrc_time - c(0.55)| &lt; 4.03&quot;</td><td>0.673856</td><td>0.513473</td><td>0.822454</td><td>0.539537</td><td>0.753932</td><td>0.300325</td><td>0.318344</td></tr><tr><td>&quot;directivity_boost &lt; 18.2 &amp; |m1| &lt; 183&quot;</td><td>0.673256</td><td>0.518126</td><td>0.820963</td><td>0.532266</td><td>0.753313</td><td>0.308442</td><td>0.326802</td></tr><tr><td>&quot;directivity_boost &lt; 18.2 &amp; m1 &lt; 151&quot;</td><td>0.67256</td><td>0.517047</td><td>0.823832</td><td>0.533375</td><td>0.754129</td><td>0.303571</td><td>0.327707</td></tr><tr><td>&quot;directivity_boost &lt; 18.2 &amp; m1 &gt; -142&quot;</td><td>0.669454</td><td>0.511575</td><td>0.818428</td><td>0.531648</td><td>0.750351</td><td>0.308442</td><td>0.334213</td></tr><tr><td>&quot;filter_energy &lt; 6.43 &amp; m2_hf &lt; 7.16&quot;</td><td>0.668564</td><td>0.453095</td><td>0.84034</td><td>0.449923</td><td>0.772754</td><td>0.220779</td><td>0.244734</td></tr><tr><td>&quot;filter_energy &lt; 6.43 &amp; m2 &lt; 7.11&quot;</td><td>0.656186</td><td>0.439753</td><td>0.831705</td><td>0.421796</td><td>0.760671</td><td>0.222403</td><td>0.267916</td></tr><tr><td>&quot;directivity_boost &lt; 18.2 &amp; m2_hf &lt; 7.16&quot;</td><td>0.625724</td><td>0.47406</td><td>0.769279</td><td>0.487412</td><td>0.708257</td><td>0.308442</td><td>0.389832</td></tr><tr><td>&quot;directivity_boost &lt; 18.2 &amp; m2 &lt; 7.11&quot;</td><td>0.62174</td><td>0.470369</td><td>0.765729</td><td>0.485454</td><td>0.706081</td><td>0.313312</td><td>0.413294</td></tr><tr><td>&quot;|relative_imsrc_time - 0.556| &lt; 0.377&quot;</td><td>0.594615</td><td>0.415239</td><td>0.752229</td><td>0.434735</td><td>0.69275</td><td>0.558442</td><td>0.587334</td></tr><tr><td>&quot;|m1| &lt; 27.1&quot;</td><td>0.568953</td><td>0.373987</td><td>0.74273</td><td>0.40104</td><td>0.678847</td><td>0.474026</td><td>0.532935</td></tr><tr><td>&quot;|m1_hf| &lt; 24.1&quot;</td><td>0.561546</td><td>0.375477</td><td>0.726215</td><td>0.394921</td><td>0.673633</td><td>0.50974</td><td>0.561874</td></tr><tr><td>&quot;doa_stability_5deg &gt; 29&quot;</td><td>0.359718</td><td>0.221787</td><td>0.474148</td><td>0.227177</td><td>0.462105</td><td>0.775974</td><td>0.794923</td></tr><tr><td>&quot;peak_prominence &gt; 8.83 &amp; doa_stability_1deg &gt; 8.06&quot;</td><td>0.289091</td><td>0.188884</td><td>0.385763</td><td>0.19281</td><td>0.385218</td><td>0.87013</td><td>0.863742</td></tr><tr><td>&quot;no filter&quot;</td><td>-0.249502</td><td>-0.733966</td><td>0.115744</td><td>-0.777845</td><td>0.117142</td><td>0.0</td><td>NaN</td></tr></tbody></table></div>"
      ],
      "text/plain": [
       "shape: (23, 8)\n",
       "┌────────────┬───────────┬────────────┬────────────┬────────────┬────────────┬──────────┬───────────┐\n",
       "│ descriptio ┆ score_sum ┆ score_sum_ ┆ score_sum_ ┆ max_score_ ┆ max_score_ ┆ filtered ┆ filtered_ │\n",
       "│ n          ┆ ---       ┆ low        ┆ high       ┆ low2       ┆ high2      ┆ ---      ┆ god_to_ba │\n",
       "│ ---        ┆ f64       ┆ ---        ┆ ---        ┆ ---        ┆ ---        ┆ f64      ┆ d         │\n",
       "│ str        ┆           ┆ f64        ┆ f64        ┆ f64        ┆ f64        ┆          ┆ ---       │\n",
       "│            ┆           ┆            ┆            ┆            ┆            ┆          ┆ f64       │\n",
       "╞════════════╪═══════════╪════════════╪════════════╪════════════╪════════════╪══════════╪═══════════╡\n",
       "│ score > 0  ┆ 1.0       ┆ 0.87855    ┆ 1.15064    ┆ NaN        ┆ NaN        ┆ 0.353896 ┆ 0.0       │\n",
       "│ filter_ene ┆ 0.729126  ┆ 0.568243   ┆ 0.887363   ┆ 0.587367   ┆ 0.800806   ┆ 0.357143 ┆ 0.331842  │\n",
       "│ rgy < 5.56 ┆           ┆            ┆            ┆            ┆            ┆          ┆           │\n",
       "│ & m1 <     ┆           ┆            ┆            ┆            ┆            ┆          ┆           │\n",
       "│ 26.3       ┆           ┆            ┆            ┆            ┆            ┆          ┆           │\n",
       "│ filter_ene ┆ 0.706997  ┆ 0.493151   ┆ 0.883423   ┆ 0.486043   ┆ 0.808046   ┆ 0.301948 ┆ 0.267296  │\n",
       "│ rgy < 5.56 ┆           ┆            ┆            ┆            ┆            ┆          ┆           │\n",
       "│ & |relativ ┆           ┆            ┆            ┆            ┆            ┆          ┆           │\n",
       "│ e_imsrc_ti ┆           ┆            ┆            ┆            ┆            ┆          ┆           │\n",
       "│ me -       ┆           ┆            ┆            ┆            ┆            ┆          ┆           │\n",
       "│ c(0.55)| < ┆           ┆            ┆            ┆            ┆            ┆          ┆           │\n",
       "│ 2.85       ┆           ┆            ┆            ┆            ┆            ┆          ┆           │\n",
       "│ filter_ene ┆ 0.704286  ┆ 0.482611   ┆ 0.881921   ┆ 0.47863    ┆ 0.80506    ┆ 0.189935 ┆ 0.156497  │\n",
       "│ rgy < 6.03 ┆           ┆            ┆            ┆            ┆            ┆          ┆           │\n",
       "│ filter_ene ┆ 0.703925  ┆ 0.48517    ┆ 0.876017   ┆ 0.467451   ┆ 0.802181   ┆ 0.266234 ┆ 0.240236  │\n",
       "│ rgy < 5.56 ┆           ┆            ┆            ┆            ┆            ┆          ┆           │\n",
       "│ & |m1| <   ┆           ┆            ┆            ┆            ┆            ┆          ┆           │\n",
       "│ 183        ┆           ┆            ┆            ┆            ┆            ┆          ┆           │\n",
       "│ filter_ene ┆ 0.701653  ┆ 0.478184   ┆ 0.875442   ┆ 0.478127   ┆ 0.801324   ┆ 0.202922 ┆ 0.17297   │\n",
       "│ rgy <      ┆           ┆            ┆            ┆            ┆            ┆          ┆           │\n",
       "│ c(5.5)     ┆           ┆            ┆            ┆            ┆            ┆          ┆           │\n",
       "│ filter_ene ┆ 0.698648  ┆ 0.470661   ┆ 0.872036   ┆ 0.465179   ┆ 0.800446   ┆ 0.220779 ┆ 0.20471   │\n",
       "│ rgy < 5.56 ┆           ┆            ┆            ┆            ┆            ┆          ┆           │\n",
       "│ & directiv ┆           ┆            ┆            ┆            ┆            ┆          ┆           │\n",
       "│ ity_boost  ┆           ┆            ┆            ┆            ┆            ┆          ┆           │\n",
       "│ < 29.4     ┆           ┆            ┆            ┆            ┆            ┆          ┆           │\n",
       "│ filter_ene ┆ 0.697154  ┆ 0.4777     ┆ 0.870287   ┆ 0.464516   ┆ 0.797702   ┆ 0.24513  ┆ 0.239962  │\n",
       "│ rgy < 5.56 ┆           ┆            ┆            ┆            ┆            ┆          ┆           │\n",
       "│ & m1 >     ┆           ┆            ┆            ┆            ┆            ┆          ┆           │\n",
       "│ -145       ┆           ┆            ┆            ┆            ┆            ┆          ┆           │\n",
       "│ directivit ┆ 0.673938  ┆ 0.515332   ┆ 0.821971   ┆ 0.530536   ┆ 0.754545   ┆ 0.280844 ┆ 0.313705  │\n",
       "│ y_boost <  ┆           ┆            ┆            ┆            ┆            ┆          ┆           │\n",
       "│ 16.5       ┆           ┆            ┆            ┆            ┆            ┆          ┆           │\n",
       "│ directivit ┆ 0.673856  ┆ 0.513473   ┆ 0.822454   ┆ 0.539537   ┆ 0.753932   ┆ 0.300325 ┆ 0.318344  │\n",
       "│ y_boost <  ┆           ┆            ┆            ┆            ┆            ┆          ┆           │\n",
       "│ 18.2 & |re ┆           ┆            ┆            ┆            ┆            ┆          ┆           │\n",
       "│ lative_ims ┆           ┆            ┆            ┆            ┆            ┆          ┆           │\n",
       "│ rc_time -  ┆           ┆            ┆            ┆            ┆            ┆          ┆           │\n",
       "│ c(0.55)| < ┆           ┆            ┆            ┆            ┆            ┆          ┆           │\n",
       "│ 4.03       ┆           ┆            ┆            ┆            ┆            ┆          ┆           │\n",
       "│ directivit ┆ 0.673256  ┆ 0.518126   ┆ 0.820963   ┆ 0.532266   ┆ 0.753313   ┆ 0.308442 ┆ 0.326802  │\n",
       "│ y_boost <  ┆           ┆            ┆            ┆            ┆            ┆          ┆           │\n",
       "│ 18.2 &     ┆           ┆            ┆            ┆            ┆            ┆          ┆           │\n",
       "│ |m1| < 183 ┆           ┆            ┆            ┆            ┆            ┆          ┆           │\n",
       "│ directivit ┆ 0.67256   ┆ 0.517047   ┆ 0.823832   ┆ 0.533375   ┆ 0.754129   ┆ 0.303571 ┆ 0.327707  │\n",
       "│ y_boost <  ┆           ┆            ┆            ┆            ┆            ┆          ┆           │\n",
       "│ 18.2 & m1  ┆           ┆            ┆            ┆            ┆            ┆          ┆           │\n",
       "│ < 151      ┆           ┆            ┆            ┆            ┆            ┆          ┆           │\n",
       "│ directivit ┆ 0.669454  ┆ 0.511575   ┆ 0.818428   ┆ 0.531648   ┆ 0.750351   ┆ 0.308442 ┆ 0.334213  │\n",
       "│ y_boost <  ┆           ┆            ┆            ┆            ┆            ┆          ┆           │\n",
       "│ 18.2 & m1  ┆           ┆            ┆            ┆            ┆            ┆          ┆           │\n",
       "│ > -142     ┆           ┆            ┆            ┆            ┆            ┆          ┆           │\n",
       "│ filter_ene ┆ 0.668564  ┆ 0.453095   ┆ 0.84034    ┆ 0.449923   ┆ 0.772754   ┆ 0.220779 ┆ 0.244734  │\n",
       "│ rgy < 6.43 ┆           ┆            ┆            ┆            ┆            ┆          ┆           │\n",
       "│ & m2_hf <  ┆           ┆            ┆            ┆            ┆            ┆          ┆           │\n",
       "│ 7.16       ┆           ┆            ┆            ┆            ┆            ┆          ┆           │\n",
       "│ filter_ene ┆ 0.656186  ┆ 0.439753   ┆ 0.831705   ┆ 0.421796   ┆ 0.760671   ┆ 0.222403 ┆ 0.267916  │\n",
       "│ rgy < 6.43 ┆           ┆            ┆            ┆            ┆            ┆          ┆           │\n",
       "│ & m2 <     ┆           ┆            ┆            ┆            ┆            ┆          ┆           │\n",
       "│ 7.11       ┆           ┆            ┆            ┆            ┆            ┆          ┆           │\n",
       "│ directivit ┆ 0.625724  ┆ 0.47406    ┆ 0.769279   ┆ 0.487412   ┆ 0.708257   ┆ 0.308442 ┆ 0.389832  │\n",
       "│ y_boost <  ┆           ┆            ┆            ┆            ┆            ┆          ┆           │\n",
       "│ 18.2 &     ┆           ┆            ┆            ┆            ┆            ┆          ┆           │\n",
       "│ m2_hf <    ┆           ┆            ┆            ┆            ┆            ┆          ┆           │\n",
       "│ 7.16       ┆           ┆            ┆            ┆            ┆            ┆          ┆           │\n",
       "│ directivit ┆ 0.62174   ┆ 0.470369   ┆ 0.765729   ┆ 0.485454   ┆ 0.706081   ┆ 0.313312 ┆ 0.413294  │\n",
       "│ y_boost <  ┆           ┆            ┆            ┆            ┆            ┆          ┆           │\n",
       "│ 18.2 & m2  ┆           ┆            ┆            ┆            ┆            ┆          ┆           │\n",
       "│ < 7.11     ┆           ┆            ┆            ┆            ┆            ┆          ┆           │\n",
       "│ |relative_ ┆ 0.594615  ┆ 0.415239   ┆ 0.752229   ┆ 0.434735   ┆ 0.69275    ┆ 0.558442 ┆ 0.587334  │\n",
       "│ imsrc_time ┆           ┆            ┆            ┆            ┆            ┆          ┆           │\n",
       "│ - 0.556| < ┆           ┆            ┆            ┆            ┆            ┆          ┆           │\n",
       "│ 0.377      ┆           ┆            ┆            ┆            ┆            ┆          ┆           │\n",
       "│ |m1| <     ┆ 0.568953  ┆ 0.373987   ┆ 0.74273    ┆ 0.40104    ┆ 0.678847   ┆ 0.474026 ┆ 0.532935  │\n",
       "│ 27.1       ┆           ┆            ┆            ┆            ┆            ┆          ┆           │\n",
       "│ |m1_hf| <  ┆ 0.561546  ┆ 0.375477   ┆ 0.726215   ┆ 0.394921   ┆ 0.673633   ┆ 0.50974  ┆ 0.561874  │\n",
       "│ 24.1       ┆           ┆            ┆            ┆            ┆            ┆          ┆           │\n",
       "│ doa_stabil ┆ 0.359718  ┆ 0.221787   ┆ 0.474148   ┆ 0.227177   ┆ 0.462105   ┆ 0.775974 ┆ 0.794923  │\n",
       "│ ity_5deg > ┆           ┆            ┆            ┆            ┆            ┆          ┆           │\n",
       "│ 29         ┆           ┆            ┆            ┆            ┆            ┆          ┆           │\n",
       "│ peak_promi ┆ 0.289091  ┆ 0.188884   ┆ 0.385763   ┆ 0.19281    ┆ 0.385218   ┆ 0.87013  ┆ 0.863742  │\n",
       "│ nence >    ┆           ┆            ┆            ┆            ┆            ┆          ┆           │\n",
       "│ 8.83 & doa ┆           ┆            ┆            ┆            ┆            ┆          ┆           │\n",
       "│ _stability ┆           ┆            ┆            ┆            ┆            ┆          ┆           │\n",
       "│ _1deg >    ┆           ┆            ┆            ┆            ┆            ┆          ┆           │\n",
       "│ 8.06       ┆           ┆            ┆            ┆            ┆            ┆          ┆           │\n",
       "│ no filter  ┆ -0.249502 ┆ -0.733966  ┆ 0.115744   ┆ -0.777845  ┆ 0.117142   ┆ 0.0      ┆ NaN       │\n",
       "└────────────┴───────────┴────────────┴────────────┴────────────┴────────────┴──────────┴───────────┘"
      ]
     },
     "metadata": {},
     "output_type": "display_data"
    }
   ],
   "source": [
    "significant = filter_df.with_columns(\n",
    "    pl.col(\"score_sum\") / pl.col(\"score_sum\").max(),\n",
    "    pl.col(\"score_sum_high\") / pl.col(\"score_sum\").max(),\n",
    "    pl.col(\"score_sum_low\") / pl.col(\"score_sum\").max(),\n",
    ").filter(\n",
    "    (\n",
    "        pl.col(\"score_sum_low\") >= pl.col(\"score_sum_high\").filter(pl.col(\"description\") == \"no filter\")\n",
    "    ) | (\n",
    "        pl.col(\"description\").is_in([\"no filter\"]) # inclusion list even though non-significant\n",
    "    )\n",
    ")\n",
    "with pl.Config(set_fmt_str_lengths = 100, set_tbl_rows=100):\n",
    "    display(significant)"
   ]
  },
  {
   "cell_type": "raw",
   "id": "2fce5047-fa62-4d87-86fc-41df2f3408ef",
   "metadata": {
    "execution": {
     "iopub.execute_input": "2024-08-29T07:39:18.395321Z",
     "iopub.status.busy": "2024-08-29T07:39:18.394003Z",
     "iopub.status.idle": "2024-08-29T07:39:18.550647Z",
     "shell.execute_reply": "2024-08-29T07:39:18.550647Z",
     "shell.execute_reply.started": "2024-08-29T07:39:18.395321Z"
    }
   },
   "source": [
    "pyperclip.copy(significant.to_pandas().to_latex(index=False,float_format=\"%.2f\", escape=True))"
   ]
  }
 ],
 "metadata": {
  "kernelspec": {
   "display_name": "Python (local .venv)",
   "language": "python",
   "name": "python-localvenv"
  },
  "language_info": {
   "codemirror_mode": {
    "name": "ipython",
    "version": 3
   },
   "file_extension": ".py",
   "mimetype": "text/x-python",
   "name": "python",
   "nbconvert_exporter": "python",
   "pygments_lexer": "ipython3",
   "version": "3.11.8"
  }
 },
 "nbformat": 4,
 "nbformat_minor": 5
}
