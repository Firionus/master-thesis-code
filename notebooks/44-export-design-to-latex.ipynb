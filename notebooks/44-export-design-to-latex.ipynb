{
 "cells": [
  {
   "cell_type": "code",
   "execution_count": 10,
   "id": "8c65ef58-caab-454f-aefb-bf56667412ff",
   "metadata": {
    "execution": {
     "iopub.execute_input": "2024-08-30T17:29:00.418470Z",
     "iopub.status.busy": "2024-08-30T17:29:00.417141Z",
     "iopub.status.idle": "2024-08-30T17:29:00.437064Z",
     "shell.execute_reply": "2024-08-30T17:29:00.436052Z",
     "shell.execute_reply.started": "2024-08-30T17:29:00.418470Z"
    }
   },
   "outputs": [
    {
     "name": "stdout",
     "output_type": "stream",
     "text": [
      "The autoreload extension is already loaded. To reload it, use:\n",
      "  %reload_ext autoreload\n"
     ]
    }
   ],
   "source": [
    "%load_ext autoreload\n",
    "%autoreload 1\n",
    "%aimport src\n",
    "%aimport src.utils\n",
    "%aimport src.SdmIsmAnalysis\n",
    "%aimport src.SimpleSynthesis\n",
    "\n",
    "# display last assigned variable automatically\n",
    "from IPython.core.interactiveshell import InteractiveShell\n",
    "InteractiveShell.ast_node_interactivity = \"last_expr_or_assign\"\n",
    "\n",
    "\n",
    "\n",
    "%matplotlib inline\n",
    "from matplotlib.pyplot import *\n",
    "\n",
    "import polars as pl\n",
    "\n",
    "from src.utils import mygrid\n",
    "from pathlib import Path\n",
    "\n",
    "import pyperclip"
   ]
  },
  {
   "cell_type": "code",
   "execution_count": 2,
   "id": "4ce3a127-f265-4d98-9460-14d3f07190d7",
   "metadata": {
    "execution": {
     "iopub.execute_input": "2024-08-30T17:26:37.452261Z",
     "iopub.status.busy": "2024-08-30T17:26:37.451252Z",
     "iopub.status.idle": "2024-08-30T17:26:37.543476Z",
     "shell.execute_reply": "2024-08-30T17:26:37.541464Z",
     "shell.execute_reply.started": "2024-08-30T17:26:37.452261Z"
    }
   },
   "outputs": [
    {
     "data": {
      "text/html": [
       "<div><style>\n",
       ".dataframe > thead > tr,\n",
       ".dataframe > tbody > tr {\n",
       "  text-align: right;\n",
       "  white-space: pre-wrap;\n",
       "}\n",
       "</style>\n",
       "<small>shape: (20, 10)</small><table border=\"1\" class=\"dataframe\"><thead><tr><th>index</th><th>to_listener</th><th>to_source</th><th>room</th><th>from_listener_good</th><th>from_source_good</th><th>from_listener_bad</th><th>from_source_bad</th><th>az</th><th>az_idx</th></tr><tr><td>u32</td><td>str</td><td>i32</td><td>str</td><td>str</td><td>i32</td><td>str</td><td>i32</td><td>i32</td><td>u32</td></tr></thead><tbody><tr><td>0</td><td>&quot;0.0X_0.0Y&quot;</td><td>1</td><td>&quot;HL05W&quot;</td><td>&quot;1.75X_-2.0Y&quot;</td><td>1</td><td>&quot;3.0X_2.0Y&quot;</td><td>1</td><td>0</td><td>6</td></tr><tr><td>1</td><td>&quot;3.0X_2.0Y&quot;</td><td>4</td><td>&quot;HL06W&quot;</td><td>&quot;3.0X_2.0Y&quot;</td><td>1</td><td>&quot;3.0X_2.0Y&quot;</td><td>3</td><td>-150</td><td>1</td></tr><tr><td>2</td><td>&quot;1.75X_-2.0Y&quot;</td><td>2</td><td>&quot;HL05W&quot;</td><td>&quot;1.75X_-2.0Y&quot;</td><td>0</td><td>&quot;3.0X_2.0Y&quot;</td><td>1</td><td>-30</td><td>5</td></tr><tr><td>3</td><td>&quot;1.75X_-2.0Y&quot;</td><td>0</td><td>&quot;HL06W&quot;</td><td>&quot;3.0X_2.0Y&quot;</td><td>0</td><td>&quot;3.0X_2.0Y&quot;</td><td>3</td><td>120</td><td>10</td></tr><tr><td>4</td><td>&quot;1.75X_-2.0Y&quot;</td><td>1</td><td>&quot;HL05W&quot;</td><td>&quot;1.75X_-2.0Y&quot;</td><td>0</td><td>&quot;3.0X_2.0Y&quot;</td><td>3</td><td>60</td><td>8</td></tr><tr><td>&hellip;</td><td>&hellip;</td><td>&hellip;</td><td>&hellip;</td><td>&hellip;</td><td>&hellip;</td><td>&hellip;</td><td>&hellip;</td><td>&hellip;</td><td>&hellip;</td></tr><tr><td>15</td><td>&quot;-1.25X_0.0Y&quot;</td><td>3</td><td>&quot;HL06W&quot;</td><td>&quot;3.0X_2.0Y&quot;</td><td>0</td><td>&quot;3.0X_2.0Y&quot;</td><td>4</td><td>-60</td><td>4</td></tr><tr><td>16</td><td>&quot;1.75X_-2.0Y&quot;</td><td>2</td><td>&quot;HL06W&quot;</td><td>&quot;3.0X_2.0Y&quot;</td><td>0</td><td>&quot;0.0X_0.0Y&quot;</td><td>4</td><td>-30</td><td>5</td></tr><tr><td>17</td><td>&quot;3.0X_2.0Y&quot;</td><td>3</td><td>&quot;HL05W&quot;</td><td>&quot;0.0X_0.0Y&quot;</td><td>3</td><td>&quot;1.75X_-2.0Y&quot;</td><td>4</td><td>-90</td><td>3</td></tr><tr><td>18</td><td>&quot;-1.25X_0.0Y&quot;</td><td>4</td><td>&quot;HL05W&quot;</td><td>&quot;3.0X_2.0Y&quot;</td><td>0</td><td>&quot;3.0X_2.0Y&quot;</td><td>3</td><td>-60</td><td>4</td></tr><tr><td>19</td><td>&quot;-1.25X_0.0Y&quot;</td><td>0</td><td>&quot;HL05W&quot;</td><td>&quot;0.0X_0.0Y&quot;</td><td>3</td><td>&quot;-1.75X_-3.0Y&quot;</td><td>2</td><td>0</td><td>6</td></tr></tbody></table></div>"
      ],
      "text/plain": [
       "shape: (20, 10)\n",
       "┌───────┬─────────────┬───────────┬───────┬───┬───────────────────┬─────────────────┬──────┬────────┐\n",
       "│ index ┆ to_listener ┆ to_source ┆ room  ┆ … ┆ from_listener_bad ┆ from_source_bad ┆ az   ┆ az_idx │\n",
       "│ ---   ┆ ---         ┆ ---       ┆ ---   ┆   ┆ ---               ┆ ---             ┆ ---  ┆ ---    │\n",
       "│ u32   ┆ str         ┆ i32       ┆ str   ┆   ┆ str               ┆ i32             ┆ i32  ┆ u32    │\n",
       "╞═══════╪═════════════╪═══════════╪═══════╪═══╪═══════════════════╪═════════════════╪══════╪════════╡\n",
       "│ 0     ┆ 0.0X_0.0Y   ┆ 1         ┆ HL05W ┆ … ┆ 3.0X_2.0Y         ┆ 1               ┆ 0    ┆ 6      │\n",
       "│ 1     ┆ 3.0X_2.0Y   ┆ 4         ┆ HL06W ┆ … ┆ 3.0X_2.0Y         ┆ 3               ┆ -150 ┆ 1      │\n",
       "│ 2     ┆ 1.75X_-2.0Y ┆ 2         ┆ HL05W ┆ … ┆ 3.0X_2.0Y         ┆ 1               ┆ -30  ┆ 5      │\n",
       "│ 3     ┆ 1.75X_-2.0Y ┆ 0         ┆ HL06W ┆ … ┆ 3.0X_2.0Y         ┆ 3               ┆ 120  ┆ 10     │\n",
       "│ 4     ┆ 1.75X_-2.0Y ┆ 1         ┆ HL05W ┆ … ┆ 3.0X_2.0Y         ┆ 3               ┆ 60   ┆ 8      │\n",
       "│ …     ┆ …           ┆ …         ┆ …     ┆ … ┆ …                 ┆ …               ┆ …    ┆ …      │\n",
       "│ 15    ┆ -1.25X_0.0Y ┆ 3         ┆ HL06W ┆ … ┆ 3.0X_2.0Y         ┆ 4               ┆ -60  ┆ 4      │\n",
       "│ 16    ┆ 1.75X_-2.0Y ┆ 2         ┆ HL06W ┆ … ┆ 0.0X_0.0Y         ┆ 4               ┆ -30  ┆ 5      │\n",
       "│ 17    ┆ 3.0X_2.0Y   ┆ 3         ┆ HL05W ┆ … ┆ 1.75X_-2.0Y       ┆ 4               ┆ -90  ┆ 3      │\n",
       "│ 18    ┆ -1.25X_0.0Y ┆ 4         ┆ HL05W ┆ … ┆ 3.0X_2.0Y         ┆ 3               ┆ -60  ┆ 4      │\n",
       "│ 19    ┆ -1.25X_0.0Y ┆ 0         ┆ HL05W ┆ … ┆ -1.75X_-3.0Y      ┆ 2               ┆ 0    ┆ 6      │\n",
       "└───────┴─────────────┴───────────┴───────┴───┴───────────────────┴─────────────────┴──────┴────────┘"
      ]
     },
     "execution_count": 2,
     "metadata": {},
     "output_type": "execute_result"
    }
   ],
   "source": [
    "df = pl.read_parquet(\"listening_test_design.parquet\")"
   ]
  },
  {
   "cell_type": "code",
   "execution_count": 4,
   "id": "2fb2c485-e8c3-4e8d-b6cd-932fe679cef2",
   "metadata": {
    "execution": {
     "iopub.execute_input": "2024-08-30T17:27:08.381272Z",
     "iopub.status.busy": "2024-08-30T17:27:08.381272Z",
     "iopub.status.idle": "2024-08-30T17:27:08.389742Z",
     "shell.execute_reply": "2024-08-30T17:27:08.388716Z",
     "shell.execute_reply.started": "2024-08-30T17:27:08.381272Z"
    }
   },
   "outputs": [
    {
     "data": {
      "text/plain": [
       "['index',\n",
       " 'to_listener',\n",
       " 'to_source',\n",
       " 'room',\n",
       " 'from_listener_good',\n",
       " 'from_source_good',\n",
       " 'from_listener_bad',\n",
       " 'from_source_bad',\n",
       " 'az',\n",
       " 'az_idx']"
      ]
     },
     "execution_count": 4,
     "metadata": {},
     "output_type": "execute_result"
    }
   ],
   "source": [
    "df.columns"
   ]
  },
  {
   "cell_type": "code",
   "execution_count": 16,
   "id": "e3453096-eb72-4ed4-aedb-afe5f7023188",
   "metadata": {
    "execution": {
     "iopub.execute_input": "2024-08-30T17:34:58.528814Z",
     "iopub.status.busy": "2024-08-30T17:34:58.528814Z",
     "iopub.status.idle": "2024-08-30T17:34:58.547505Z",
     "shell.execute_reply": "2024-08-30T17:34:58.546494Z",
     "shell.execute_reply.started": "2024-08-30T17:34:58.528814Z"
    }
   },
   "outputs": [
    {
     "data": {
      "text/html": [
       "<div><style>\n",
       ".dataframe > thead > tr,\n",
       ".dataframe > tbody > tr {\n",
       "  text-align: right;\n",
       "  white-space: pre-wrap;\n",
       "}\n",
       "</style>\n",
       "<small>shape: (20, 7)</small><table border=\"1\" class=\"dataframe\"><thead><tr><th>trial</th><th>room</th><th>from_listener</th><th>from_source</th><th>to_listener</th><th>to_source</th><th>azimuth</th></tr><tr><td>u32</td><td>str</td><td>str</td><td>i32</td><td>str</td><td>i32</td><td>i32</td></tr></thead><tbody><tr><td>0</td><td>&quot;HL05W&quot;</td><td>&quot;3.0X_2.0Y&quot;</td><td>1</td><td>&quot;0.0X_0.0Y&quot;</td><td>1</td><td>0</td></tr><tr><td>1</td><td>&quot;HL06W&quot;</td><td>&quot;3.0X_2.0Y&quot;</td><td>3</td><td>&quot;3.0X_2.0Y&quot;</td><td>4</td><td>-150</td></tr><tr><td>2</td><td>&quot;HL05W&quot;</td><td>&quot;3.0X_2.0Y&quot;</td><td>1</td><td>&quot;1.75X_-2.0Y&quot;</td><td>2</td><td>-30</td></tr><tr><td>3</td><td>&quot;HL06W&quot;</td><td>&quot;3.0X_2.0Y&quot;</td><td>3</td><td>&quot;1.75X_-2.0Y&quot;</td><td>0</td><td>120</td></tr><tr><td>4</td><td>&quot;HL05W&quot;</td><td>&quot;3.0X_2.0Y&quot;</td><td>3</td><td>&quot;1.75X_-2.0Y&quot;</td><td>1</td><td>60</td></tr><tr><td>&hellip;</td><td>&hellip;</td><td>&hellip;</td><td>&hellip;</td><td>&hellip;</td><td>&hellip;</td><td>&hellip;</td></tr><tr><td>15</td><td>&quot;HL06W&quot;</td><td>&quot;3.0X_2.0Y&quot;</td><td>4</td><td>&quot;-1.25X_0.0Y&quot;</td><td>3</td><td>-60</td></tr><tr><td>16</td><td>&quot;HL06W&quot;</td><td>&quot;0.0X_0.0Y&quot;</td><td>4</td><td>&quot;1.75X_-2.0Y&quot;</td><td>2</td><td>-30</td></tr><tr><td>17</td><td>&quot;HL05W&quot;</td><td>&quot;1.75X_-2.0Y&quot;</td><td>4</td><td>&quot;3.0X_2.0Y&quot;</td><td>3</td><td>-90</td></tr><tr><td>18</td><td>&quot;HL05W&quot;</td><td>&quot;3.0X_2.0Y&quot;</td><td>3</td><td>&quot;-1.25X_0.0Y&quot;</td><td>4</td><td>-60</td></tr><tr><td>19</td><td>&quot;HL05W&quot;</td><td>&quot;-1.75X_-3.0Y&quot;</td><td>2</td><td>&quot;-1.25X_0.0Y&quot;</td><td>0</td><td>0</td></tr></tbody></table></div>"
      ],
      "text/plain": [
       "shape: (20, 7)\n",
       "┌───────┬───────┬───────────────┬─────────────┬─────────────┬───────────┬─────────┐\n",
       "│ trial ┆ room  ┆ from_listener ┆ from_source ┆ to_listener ┆ to_source ┆ azimuth │\n",
       "│ ---   ┆ ---   ┆ ---           ┆ ---         ┆ ---         ┆ ---       ┆ ---     │\n",
       "│ u32   ┆ str   ┆ str           ┆ i32         ┆ str         ┆ i32       ┆ i32     │\n",
       "╞═══════╪═══════╪═══════════════╪═════════════╪═════════════╪═══════════╪═════════╡\n",
       "│ 0     ┆ HL05W ┆ 3.0X_2.0Y     ┆ 1           ┆ 0.0X_0.0Y   ┆ 1         ┆ 0       │\n",
       "│ 1     ┆ HL06W ┆ 3.0X_2.0Y     ┆ 3           ┆ 3.0X_2.0Y   ┆ 4         ┆ -150    │\n",
       "│ 2     ┆ HL05W ┆ 3.0X_2.0Y     ┆ 1           ┆ 1.75X_-2.0Y ┆ 2         ┆ -30     │\n",
       "│ 3     ┆ HL06W ┆ 3.0X_2.0Y     ┆ 3           ┆ 1.75X_-2.0Y ┆ 0         ┆ 120     │\n",
       "│ 4     ┆ HL05W ┆ 3.0X_2.0Y     ┆ 3           ┆ 1.75X_-2.0Y ┆ 1         ┆ 60      │\n",
       "│ …     ┆ …     ┆ …             ┆ …           ┆ …           ┆ …         ┆ …       │\n",
       "│ 15    ┆ HL06W ┆ 3.0X_2.0Y     ┆ 4           ┆ -1.25X_0.0Y ┆ 3         ┆ -60     │\n",
       "│ 16    ┆ HL06W ┆ 0.0X_0.0Y     ┆ 4           ┆ 1.75X_-2.0Y ┆ 2         ┆ -30     │\n",
       "│ 17    ┆ HL05W ┆ 1.75X_-2.0Y   ┆ 4           ┆ 3.0X_2.0Y   ┆ 3         ┆ -90     │\n",
       "│ 18    ┆ HL05W ┆ 3.0X_2.0Y     ┆ 3           ┆ -1.25X_0.0Y ┆ 4         ┆ -60     │\n",
       "│ 19    ┆ HL05W ┆ -1.75X_-3.0Y  ┆ 2           ┆ -1.25X_0.0Y ┆ 0         ┆ 0       │\n",
       "└───────┴───────┴───────────────┴─────────────┴─────────────┴───────────┴─────────┘"
      ]
     },
     "execution_count": 16,
     "metadata": {},
     "output_type": "execute_result"
    }
   ],
   "source": [
    "df_sel = df.select([\n",
    "    'index',\n",
    "    'room',\n",
    "    'from_listener_bad',\n",
    "    'from_source_bad',\n",
    "    'to_listener',\n",
    "    'to_source',\n",
    "    'az',\n",
    "]).rename(\n",
    "    dict(\n",
    "        index=\"trial\",\n",
    "        from_listener_bad=\"from_listener\",\n",
    "        from_source_bad=\"from_source\",\n",
    "        az=\"azimuth\",\n",
    "    )\n",
    ")"
   ]
  },
  {
   "cell_type": "code",
   "execution_count": 18,
   "id": "b4690b4b-3bec-4787-b50a-e5477a155343",
   "metadata": {
    "execution": {
     "iopub.execute_input": "2024-08-31T07:22:22.825064Z",
     "iopub.status.busy": "2024-08-31T07:22:22.823549Z",
     "iopub.status.idle": "2024-08-31T07:22:22.978894Z",
     "shell.execute_reply": "2024-08-31T07:22:22.977367Z",
     "shell.execute_reply.started": "2024-08-31T07:22:22.825064Z"
    }
   },
   "outputs": [
    {
     "data": {
      "text/plain": [
       "[14, 11, 0, 1, 2, 3, 4, 5, 6, 7, 8, 9, 10, 13, 12, 15, 16, 17, 18, 19]"
      ]
     },
     "execution_count": 18,
     "metadata": {},
     "output_type": "execute_result"
    }
   ],
   "source": [
    "trials_exp_order = [14, 11, 0, 1, 2, 3, 4, 5, 6, 7, 8, 9, 10, 13, 12, 15, 16, 17, 18, 19]"
   ]
  },
  {
   "cell_type": "code",
   "execution_count": 19,
   "id": "1982f86b-6317-4490-a03f-2cf7fa7ccffd",
   "metadata": {
    "execution": {
     "iopub.execute_input": "2024-08-31T07:22:29.683259Z",
     "iopub.status.busy": "2024-08-31T07:22:29.683259Z",
     "iopub.status.idle": "2024-08-31T07:22:29.885903Z",
     "shell.execute_reply": "2024-08-31T07:22:29.883689Z",
     "shell.execute_reply.started": "2024-08-31T07:22:29.683259Z"
    }
   },
   "outputs": [],
   "source": [
    "pyperclip.copy(df_sel[trials_exp_order].to_pandas().to_latex(escape=True, index=False))"
   ]
  },
  {
   "cell_type": "code",
   "execution_count": null,
   "id": "fa32d778-1056-4dbf-997b-0b2ff31b131f",
   "metadata": {},
   "outputs": [],
   "source": []
  }
 ],
 "metadata": {
  "kernelspec": {
   "display_name": "Python (local .venv)",
   "language": "python",
   "name": "python-localvenv"
  },
  "language_info": {
   "codemirror_mode": {
    "name": "ipython",
    "version": 3
   },
   "file_extension": ".py",
   "mimetype": "text/x-python",
   "name": "python",
   "nbconvert_exporter": "python",
   "pygments_lexer": "ipython3",
   "version": "3.11.8"
  }
 },
 "nbformat": 4,
 "nbformat_minor": 5
}
